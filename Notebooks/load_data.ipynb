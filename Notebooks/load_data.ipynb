{
 "cells": [
  {
   "cell_type": "markdown",
   "id": "f2a31b36-95b5-49dc-b963-3acc8816d78e",
   "metadata": {},
   "source": [
    "- **Author:** [Dace Apšvalka](https://www.mrc-cbu.cam.ac.uk/people/dace.apsvalka/) with very minor edits by [Rik Henson](https://www.mrc-cbu.cam.ac.uk/people/rik.henson/) and Mohamed Abdelhack\n",
    "- **Edited:**  October 2025\n",
    "- **conda environment**: This uses the [mri environment]"
   ]
  },
  {
   "cell_type": "markdown",
   "id": "fd1b56ac-8046-416f-b48f-c859367413a2",
   "metadata": {},
   "source": [
    "## Downloading BIDS repository from OpenNeuro\n",
    "\n",
    "For later notebooks, we are going to use the public BIDS dataset on face recognition available on [OpenNeuro as dataset \"ds000117\"](https://openneuro.org/datasets/ds000117)\n",
    "\n",
    "To download the fMRI and sMRI data from this repository, we use the [openneuro-py/](https://github.com/hoechenberger/openneuro-py/) tool below. In fact, we use it to download the \"mri\" BIDS session for each of 16 subjects, which will require nearly 9 GB of diskspace. To reduce diskspace, you can delete the FLASH images in the anat directory, which we do not use in this course, which will save ~3 GB.\n",
    "\n",
    "We will just download sub-15, who we will use to demonstrate preprocessing, and then later you can download the statistical results for all subjects (needed for group analysis in Notebook nb05) from the ``results`` directory here: [https://cloud.mrc-cbu.cam.ac.uk/index.php/s/3AFA0yF7QK9qIaO](https://cloud.mrc-cbu.cam.ac.uk/index.php/s/3AFA0yF7QK9qIaO).\n"
   ]
  },
  {
   "cell_type": "code",
   "execution_count": 2,
   "id": "2ee637bb-9225-4b17-86ea-3d61a5966b86",
   "metadata": {},
   "outputs": [
    {
     "name": "stdout",
     "output_type": "stream",
     "text": [
      "\n",
      "👋 Hello! This is openneuro-py 2024.2.0. Great to see you! 🤗\n",
      "\n",
      "   👉 Please report problems 🤯 and bugs 🪲 at\n",
      "      https://github.com/hoechenberger/openneuro-py/issues\n",
      "\n",
      "🌍 Preparing to download ds000117 …\n",
      "  Request timed out while fetching metadata, retrying …\n"
     ]
    },
    {
     "name": "stderr",
     "output_type": "stream",
     "text": [
      "/home/mohamed/anaconda3/envs/mri/lib/python3.11/site-packages/openneuro/_download.py:197: RuntimeWarning: coroutine 'sleep' was never awaited\n",
      "  asyncio.sleep(retry_backoff)  # pyright: ignore[reportUnusedCoroutine]\n",
      "RuntimeWarning: Enable tracemalloc to get the object allocation traceback\n"
     ]
    },
    {
     "name": "stdout",
     "output_type": "stream",
     "text": [
      "  Request timed out while fetching metadata, retrying …\n"
     ]
    },
    {
     "data": {
      "application/vnd.jupyter.widget-view+json": {
       "model_id": "3ab03e9f19a3453d99e4c167451de6bc",
       "version_major": 2,
       "version_minor": 0
      },
      "text/plain": [
       "📁 Traversing directories for ds000117 : 0 entities [00:00, ? entities/s]"
      ]
     },
     "metadata": {},
     "output_type": "display_data"
    },
    {
     "name": "stdout",
     "output_type": "stream",
     "text": [
      "📥 Retrieving up to 58 files (5 concurrent downloads). \n",
      "✅ Finished downloading ds000117.\n",
      " \n",
      "🧠 Please enjoy your brains.\n",
      " \n",
      "\n",
      "👋 Hello! This is openneuro-py 2024.2.0. Great to see you! 🤗\n",
      "\n",
      "   👉 Please report problems 🤯 and bugs 🪲 at\n",
      "      https://github.com/hoechenberger/openneuro-py/issues\n",
      "\n",
      "🌍 Preparing to download ds000117 …\n"
     ]
    },
    {
     "data": {
      "application/vnd.jupyter.widget-view+json": {
       "model_id": "ff1b26804b81405c9a2fa82ea66885c0",
       "version_major": 2,
       "version_minor": 0
      },
      "text/plain": [
       "📁 Traversing directories for ds000117 : 0 entities [00:00, ? entities/s]"
      ]
     },
     "metadata": {},
     "output_type": "display_data"
    },
    {
     "name": "stderr",
     "output_type": "stream",
     "text": [
      "Exception ignored in: <finalize object at 0x7bf6d0ba6ca0; dead>\n",
      "Traceback (most recent call last):\n",
      "  File \"/home/mohamed/anaconda3/envs/mri/lib/python3.11/weakref.py\", line 590, in __call__\n",
      "    return info.func(*info.args, **(info.kwargs or {}))\n",
      "           ^^^^^^^^^^^^^^^^^^^^^^^^^^^^^^^^^^^^^^^^^^^^\n",
      "  File \"/home/mohamed/anaconda3/envs/mri/lib/python3.11/site-packages/urllib3/connectionpool.py\", line 1177, in _close_pool_connections\n",
      "    while True:\n",
      "KeyboardInterrupt: \n"
     ]
    },
    {
     "name": "stdout",
     "output_type": "stream",
     "text": [
      "📥 Retrieving up to 58 files (5 concurrent downloads). \n",
      "✅ Finished downloading ds000117.\n",
      " \n",
      "🧠 Please enjoy your brains.\n",
      " \n",
      "\n",
      "👋 Hello! This is openneuro-py 2024.2.0. Great to see you! 🤗\n",
      "\n",
      "   👉 Please report problems 🤯 and bugs 🪲 at\n",
      "      https://github.com/hoechenberger/openneuro-py/issues\n",
      "\n",
      "🌍 Preparing to download ds000117 …\n"
     ]
    },
    {
     "data": {
      "application/vnd.jupyter.widget-view+json": {
       "model_id": "19273f6286ff4645b2dc21983336c7d4",
       "version_major": 2,
       "version_minor": 0
      },
      "text/plain": [
       "📁 Traversing directories for ds000117 : 0 entities [00:00, ? entities/s]"
      ]
     },
     "metadata": {},
     "output_type": "display_data"
    },
    {
     "name": "stdout",
     "output_type": "stream",
     "text": [
      "📥 Retrieving up to 58 files (5 concurrent downloads). \n",
      "✅ Finished downloading ds000117.\n",
      " \n",
      "🧠 Please enjoy your brains.\n",
      " \n",
      "\n",
      "👋 Hello! This is openneuro-py 2024.2.0. Great to see you! 🤗\n",
      "\n",
      "   👉 Please report problems 🤯 and bugs 🪲 at\n",
      "      https://github.com/hoechenberger/openneuro-py/issues\n",
      "\n",
      "🌍 Preparing to download ds000117 …\n"
     ]
    },
    {
     "data": {
      "application/vnd.jupyter.widget-view+json": {
       "model_id": "f80b0e5370364fef9638a2583fe0671d",
       "version_major": 2,
       "version_minor": 0
      },
      "text/plain": [
       "📁 Traversing directories for ds000117 : 0 entities [00:00, ? entities/s]"
      ]
     },
     "metadata": {},
     "output_type": "display_data"
    },
    {
     "name": "stdout",
     "output_type": "stream",
     "text": [
      "📥 Retrieving up to 58 files (5 concurrent downloads). \n",
      "✅ Finished downloading ds000117.\n",
      " \n",
      "🧠 Please enjoy your brains.\n",
      " \n",
      "\n",
      "👋 Hello! This is openneuro-py 2024.2.0. Great to see you! 🤗\n",
      "\n",
      "   👉 Please report problems 🤯 and bugs 🪲 at\n",
      "      https://github.com/hoechenberger/openneuro-py/issues\n",
      "\n",
      "🌍 Preparing to download ds000117 …\n"
     ]
    },
    {
     "data": {
      "application/vnd.jupyter.widget-view+json": {
       "model_id": "51f46dd174ae4a22a0b38d793af954fa",
       "version_major": 2,
       "version_minor": 0
      },
      "text/plain": [
       "📁 Traversing directories for ds000117 : 0 entities [00:00, ? entities/s]"
      ]
     },
     "metadata": {},
     "output_type": "display_data"
    },
    {
     "name": "stdout",
     "output_type": "stream",
     "text": [
      "📥 Retrieving up to 58 files (5 concurrent downloads). \n",
      "✅ Finished downloading ds000117.\n",
      " \n",
      "🧠 Please enjoy your brains.\n",
      " \n",
      "\n",
      "👋 Hello! This is openneuro-py 2024.2.0. Great to see you! 🤗\n",
      "\n",
      "   👉 Please report problems 🤯 and bugs 🪲 at\n",
      "      https://github.com/hoechenberger/openneuro-py/issues\n",
      "\n",
      "🌍 Preparing to download ds000117 …\n"
     ]
    },
    {
     "data": {
      "application/vnd.jupyter.widget-view+json": {
       "model_id": "ef36dcdc237342a4bfe241cce683e627",
       "version_major": 2,
       "version_minor": 0
      },
      "text/plain": [
       "📁 Traversing directories for ds000117 : 0 entities [00:00, ? entities/s]"
      ]
     },
     "metadata": {},
     "output_type": "display_data"
    },
    {
     "name": "stdout",
     "output_type": "stream",
     "text": [
      "📥 Retrieving up to 58 files (5 concurrent downloads). \n",
      "✅ Finished downloading ds000117.\n",
      " \n",
      "🧠 Please enjoy your brains.\n",
      " \n",
      "\n",
      "👋 Hello! This is openneuro-py 2024.2.0. Great to see you! 🤗\n",
      "\n",
      "   👉 Please report problems 🤯 and bugs 🪲 at\n",
      "      https://github.com/hoechenberger/openneuro-py/issues\n",
      "\n",
      "🌍 Preparing to download ds000117 …\n"
     ]
    },
    {
     "data": {
      "application/vnd.jupyter.widget-view+json": {
       "model_id": "e80db7f9038e4916b02e98d227d95c9f",
       "version_major": 2,
       "version_minor": 0
      },
      "text/plain": [
       "📁 Traversing directories for ds000117 : 0 entities [00:00, ? entities/s]"
      ]
     },
     "metadata": {},
     "output_type": "display_data"
    },
    {
     "name": "stdout",
     "output_type": "stream",
     "text": [
      "📥 Retrieving up to 54 files (5 concurrent downloads). \n",
      "✅ Finished downloading ds000117.\n",
      " \n",
      "🧠 Please enjoy your brains.\n",
      " \n",
      "\n",
      "👋 Hello! This is openneuro-py 2024.2.0. Great to see you! 🤗\n",
      "\n",
      "   👉 Please report problems 🤯 and bugs 🪲 at\n",
      "      https://github.com/hoechenberger/openneuro-py/issues\n",
      "\n",
      "🌍 Preparing to download ds000117 …\n"
     ]
    },
    {
     "data": {
      "application/vnd.jupyter.widget-view+json": {
       "model_id": "bdc12b6ea85a48da85b89df3f46357c3",
       "version_major": 2,
       "version_minor": 0
      },
      "text/plain": [
       "📁 Traversing directories for ds000117 : 0 entities [00:00, ? entities/s]"
      ]
     },
     "metadata": {},
     "output_type": "display_data"
    },
    {
     "name": "stdout",
     "output_type": "stream",
     "text": [
      "📥 Retrieving up to 54 files (5 concurrent downloads). \n",
      "✅ Finished downloading ds000117.\n",
      " \n",
      "🧠 Please enjoy your brains.\n",
      " \n",
      "\n",
      "👋 Hello! This is openneuro-py 2024.2.0. Great to see you! 🤗\n",
      "\n",
      "   👉 Please report problems 🤯 and bugs 🪲 at\n",
      "      https://github.com/hoechenberger/openneuro-py/issues\n",
      "\n",
      "🌍 Preparing to download ds000117 …\n"
     ]
    },
    {
     "data": {
      "application/vnd.jupyter.widget-view+json": {
       "model_id": "8f08a44a6fbd463e9ce232a705067187",
       "version_major": 2,
       "version_minor": 0
      },
      "text/plain": [
       "📁 Traversing directories for ds000117 : 0 entities [00:00, ? entities/s]"
      ]
     },
     "metadata": {},
     "output_type": "display_data"
    },
    {
     "name": "stdout",
     "output_type": "stream",
     "text": [
      "📥 Retrieving up to 58 files (5 concurrent downloads). \n",
      "✅ Finished downloading ds000117.\n",
      " \n",
      "🧠 Please enjoy your brains.\n",
      " \n",
      "\n",
      "👋 Hello! This is openneuro-py 2024.2.0. Great to see you! 🤗\n",
      "\n",
      "   👉 Please report problems 🤯 and bugs 🪲 at\n",
      "      https://github.com/hoechenberger/openneuro-py/issues\n",
      "\n",
      "🌍 Preparing to download ds000117 …\n"
     ]
    },
    {
     "data": {
      "application/vnd.jupyter.widget-view+json": {
       "model_id": "dbb21772458a4c58a7332cedd49be39d",
       "version_major": 2,
       "version_minor": 0
      },
      "text/plain": [
       "📁 Traversing directories for ds000117 : 0 entities [00:00, ? entities/s]"
      ]
     },
     "metadata": {},
     "output_type": "display_data"
    },
    {
     "name": "stdout",
     "output_type": "stream",
     "text": [
      "📥 Retrieving up to 54 files (5 concurrent downloads). \n",
      "✅ Finished downloading ds000117.\n",
      " \n",
      "🧠 Please enjoy your brains.\n",
      " \n",
      "\n",
      "👋 Hello! This is openneuro-py 2024.2.0. Great to see you! 🤗\n",
      "\n",
      "   👉 Please report problems 🤯 and bugs 🪲 at\n",
      "      https://github.com/hoechenberger/openneuro-py/issues\n",
      "\n",
      "🌍 Preparing to download ds000117 …\n"
     ]
    },
    {
     "data": {
      "application/vnd.jupyter.widget-view+json": {
       "model_id": "ac7c75f908cb46e8b9401dcf837be78e",
       "version_major": 2,
       "version_minor": 0
      },
      "text/plain": [
       "📁 Traversing directories for ds000117 : 0 entities [00:00, ? entities/s]"
      ]
     },
     "metadata": {},
     "output_type": "display_data"
    },
    {
     "name": "stdout",
     "output_type": "stream",
     "text": [
      "📥 Retrieving up to 54 files (5 concurrent downloads). \n",
      "✅ Finished downloading ds000117.\n",
      " \n",
      "🧠 Please enjoy your brains.\n",
      " \n",
      "\n",
      "👋 Hello! This is openneuro-py 2024.2.0. Great to see you! 🤗\n",
      "\n",
      "   👉 Please report problems 🤯 and bugs 🪲 at\n",
      "      https://github.com/hoechenberger/openneuro-py/issues\n",
      "\n",
      "🌍 Preparing to download ds000117 …\n"
     ]
    },
    {
     "data": {
      "application/vnd.jupyter.widget-view+json": {
       "model_id": "5c4bb29de5a6448b859ee2413aa1a1dd",
       "version_major": 2,
       "version_minor": 0
      },
      "text/plain": [
       "📁 Traversing directories for ds000117 : 0 entities [00:00, ? entities/s]"
      ]
     },
     "metadata": {},
     "output_type": "display_data"
    },
    {
     "name": "stdout",
     "output_type": "stream",
     "text": [
      "📥 Retrieving up to 58 files (5 concurrent downloads). \n",
      "✅ Finished downloading ds000117.\n",
      " \n",
      "🧠 Please enjoy your brains.\n",
      " \n",
      "\n",
      "👋 Hello! This is openneuro-py 2024.2.0. Great to see you! 🤗\n",
      "\n",
      "   👉 Please report problems 🤯 and bugs 🪲 at\n",
      "      https://github.com/hoechenberger/openneuro-py/issues\n",
      "\n",
      "🌍 Preparing to download ds000117 …\n"
     ]
    },
    {
     "data": {
      "application/vnd.jupyter.widget-view+json": {
       "model_id": "a2573025f65643a6b13751a6105572a4",
       "version_major": 2,
       "version_minor": 0
      },
      "text/plain": [
       "📁 Traversing directories for ds000117 : 0 entities [00:00, ? entities/s]"
      ]
     },
     "metadata": {},
     "output_type": "display_data"
    },
    {
     "name": "stdout",
     "output_type": "stream",
     "text": [
      "📥 Retrieving up to 58 files (5 concurrent downloads). \n",
      "✅ Finished downloading ds000117.\n",
      " \n",
      "🧠 Please enjoy your brains.\n",
      " \n",
      "\n",
      "👋 Hello! This is openneuro-py 2024.2.0. Great to see you! 🤗\n",
      "\n",
      "   👉 Please report problems 🤯 and bugs 🪲 at\n",
      "      https://github.com/hoechenberger/openneuro-py/issues\n",
      "\n",
      "🌍 Preparing to download ds000117 …\n"
     ]
    },
    {
     "data": {
      "application/vnd.jupyter.widget-view+json": {
       "model_id": "87d2db65ca4c4777a889a035aa733af8",
       "version_major": 2,
       "version_minor": 0
      },
      "text/plain": [
       "📁 Traversing directories for ds000117 : 0 entities [00:00, ? entities/s]"
      ]
     },
     "metadata": {},
     "output_type": "display_data"
    },
    {
     "name": "stdout",
     "output_type": "stream",
     "text": [
      "📥 Retrieving up to 58 files (5 concurrent downloads). \n",
      "✅ Finished downloading ds000117.\n",
      " \n",
      "🧠 Please enjoy your brains.\n",
      " \n",
      "\n",
      "👋 Hello! This is openneuro-py 2024.2.0. Great to see you! 🤗\n",
      "\n",
      "   👉 Please report problems 🤯 and bugs 🪲 at\n",
      "      https://github.com/hoechenberger/openneuro-py/issues\n",
      "\n",
      "🌍 Preparing to download ds000117 …\n"
     ]
    },
    {
     "data": {
      "application/vnd.jupyter.widget-view+json": {
       "model_id": "fd741395134f42e6924a9578d567f938",
       "version_major": 2,
       "version_minor": 0
      },
      "text/plain": [
       "📁 Traversing directories for ds000117 : 0 entities [00:00, ? entities/s]"
      ]
     },
     "metadata": {},
     "output_type": "display_data"
    },
    {
     "name": "stdout",
     "output_type": "stream",
     "text": [
      "📥 Retrieving up to 58 files (5 concurrent downloads). \n",
      "✅ Finished downloading ds000117.\n",
      " \n",
      "🧠 Please enjoy your brains.\n",
      " \n",
      "\n",
      "👋 Hello! This is openneuro-py 2024.2.0. Great to see you! 🤗\n",
      "\n",
      "   👉 Please report problems 🤯 and bugs 🪲 at\n",
      "      https://github.com/hoechenberger/openneuro-py/issues\n",
      "\n",
      "🌍 Preparing to download ds000117 …\n"
     ]
    },
    {
     "data": {
      "application/vnd.jupyter.widget-view+json": {
       "model_id": "c07aac5366d2432487f26f024d3900be",
       "version_major": 2,
       "version_minor": 0
      },
      "text/plain": [
       "📁 Traversing directories for ds000117 : 0 entities [00:00, ? entities/s]"
      ]
     },
     "metadata": {},
     "output_type": "display_data"
    },
    {
     "name": "stderr",
     "output_type": "stream",
     "text": [
      "log_error - https://openneuro.org/crn/graphql: 502 Server Error: Bad Gateway for url: https://openneuro.org/crn/graphql\n"
     ]
    },
    {
     "name": "stdout",
     "output_type": "stream",
     "text": [
      "  Request timed out while fetching metadata, retrying …\n",
      "📥 Retrieving up to 2653 files (5 concurrent downloads). \n",
      "✅ Finished downloading ds000117.\n",
      " \n",
      "🧠 Please enjoy your brains.\n",
      " \n"
     ]
    },
    {
     "ename": "NameError",
     "evalue": "name 'wd' is not defined",
     "output_type": "error",
     "traceback": [
      "\u001b[31m---------------------------------------------------------------------------\u001b[39m",
      "\u001b[31mNameError\u001b[39m                                 Traceback (most recent call last)",
      "\u001b[36mCell\u001b[39m\u001b[36m \u001b[39m\u001b[32mIn[2]\u001b[39m\u001b[32m, line 18\u001b[39m\n\u001b[32m     16\u001b[39m \u001b[38;5;66;03m# If want to save diskspace by removing stuff not used below\u001b[39;00m\n\u001b[32m     17\u001b[39m \u001b[38;5;28;01mfor\u001b[39;00m sub \u001b[38;5;129;01min\u001b[39;00m \u001b[38;5;28mrange\u001b[39m(\u001b[32m1\u001b[39m,\u001b[32m17\u001b[39m):      \n\u001b[32m---> \u001b[39m\u001b[32m18\u001b[39m     pth = os.path.join(\u001b[43mwd\u001b[49m, \u001b[33m\"\u001b[39m\u001b[33mds000117\u001b[39m\u001b[33m\"\u001b[39m, \u001b[33mf\u001b[39m\u001b[33m\"\u001b[39m\u001b[33msub-\u001b[39m\u001b[38;5;132;01m{\u001b[39;00msub\u001b[38;5;132;01m:\u001b[39;00m\u001b[33m02d\u001b[39m\u001b[38;5;132;01m}\u001b[39;00m\u001b[33m\"\u001b[39m, \u001b[33m\"\u001b[39m\u001b[33mses-mri\u001b[39m\u001b[33m\"\u001b[39m)\n\u001b[32m     19\u001b[39m     \u001b[38;5;28;01mfor\u001b[39;00m rfile \u001b[38;5;129;01min\u001b[39;00m glob.glob(os.path.join(pth, \u001b[33m\"\u001b[39m\u001b[33manat\u001b[39m\u001b[33m\"\u001b[39m, \u001b[33m\"\u001b[39m\u001b[33m*FLASH*\u001b[39m\u001b[33m\"\u001b[39m)):\n\u001b[32m     20\u001b[39m         \u001b[38;5;28mprint\u001b[39m(\u001b[33mf\u001b[39m\u001b[33m\"\u001b[39m\u001b[33mRemoving \u001b[39m\u001b[38;5;132;01m{\u001b[39;00mrfile\u001b[38;5;132;01m}\u001b[39;00m\u001b[33m\"\u001b[39m)\n",
      "\u001b[31mNameError\u001b[39m: name 'wd' is not defined"
     ]
    },
    {
     "name": "stdout",
     "output_type": "stream",
     "text": [
      "🔄 Request timed out while downloading /home/mohamed/Documents/ISN2025/Notebooks/ds000117/sub-06/ses-mri/func/sub-06_ses-mri_task-facerecognition_run-06_events.tsv, retrying in 0.5 sec …\n",
      "🔄 Request timed out while downloading /home/mohamed/Documents/ISN2025/Notebooks/ds000117/sub-05/ses-mri/func/sub-05_ses-mri_task-facerecognition_run-07_bold.json, retrying in 0.5 sec …\n",
      "🔄 Request timed out while downloading /home/mohamed/Documents/ISN2025/Notebooks/ds000117/sub-02/ses-mri/func/sub-02_ses-mri_task-facerecognition_run-07_events.tsv, retrying in 0.5 sec …\n",
      "🔄 Request timed out while downloading /home/mohamed/Documents/ISN2025/Notebooks/ds000117/sub-07/ses-mri/func/sub-07_ses-mri_task-facerecognition_run-08_events.tsv, retrying in 0.5 sec …\n",
      "🔄 Request timed out while downloading /home/mohamed/Documents/ISN2025/Notebooks/ds000117/sub-10/ses-mri/func/sub-10_ses-mri_task-facerecognition_run-08_bold.nii.gz, retrying in 0.5 sec …\n",
      "🔄 Request timed out while downloading /home/mohamed/Documents/ISN2025/Notebooks/ds000117/sub-04/ses-mri/func/sub-04_ses-mri_task-facerecognition_run-07_bold.nii.gz, retrying in 0.5 sec …\n",
      "🔄 Request timed out while downloading /home/mohamed/Documents/ISN2025/Notebooks/ds000117/sub-04/ses-mri/func/sub-04_ses-mri_task-facerecognition_run-07_events.tsv, retrying in 0.5 sec …\n",
      "🔄 Request timed out while downloading /home/mohamed/Documents/ISN2025/Notebooks/ds000117/sub-10/ses-mri/func/sub-10_ses-mri_task-facerecognition_run-08_events.tsv, retrying in 0.5 sec …\n",
      "🔄 Request timed out while downloading /home/mohamed/Documents/ISN2025/Notebooks/ds000117/sub-10/ses-mri/func/sub-10_ses-mri_task-facerecognition_run-09_bold.json, retrying in 0.5 sec …\n",
      "🔄 Request timed out while downloading /home/mohamed/Documents/ISN2025/Notebooks/ds000117/sub-11/ses-mri/func/sub-11_ses-mri_task-facerecognition_run-08_events.tsv, retrying in 0.5 sec …\n",
      "🔄 Request timed out while downloading /home/mohamed/Documents/ISN2025/Notebooks/ds000117/sub-06/ses-mri/func/sub-06_ses-mri_task-facerecognition_run-07_bold.nii.gz, retrying in 0.5 sec …\n",
      "🔄 Request timed out while downloading /home/mohamed/Documents/ISN2025/Notebooks/ds000117/sub-15/ses-mri/func/sub-15_ses-mri_task-facerecognition_run-07_events.tsv, retrying in 0.5 sec …\n",
      "🔄 Request timed out while downloading /home/mohamed/Documents/ISN2025/Notebooks/ds000117/sub-11/ses-mri/func/sub-11_ses-mri_task-facerecognition_run-09_bold.json, retrying in 0.5 sec …\n",
      "🔄 Request timed out while downloading /home/mohamed/Documents/ISN2025/Notebooks/ds000117/sub-16/ses-mri/func/derivatives/freesurfer/sub-01/ses-mri/anat/label/.lh.BA.thresh.annot.f3h5wZ, retrying in 0.5 sec …\n",
      "🔄 Request timed out while downloading /home/mohamed/Documents/ISN2025/Notebooks/ds000117/sub-09/ses-mri/func/sub-09_ses-mri_task-facerecognition_run-07_events.tsv, retrying in 0.5 sec …\n",
      "🔄 Request timed out while downloading /home/mohamed/Documents/ISN2025/Notebooks/ds000117/sub-01/ses-mri/func/sub-01_ses-mri_task-facerecognition_run-08_bold.json, retrying in 0.5 sec …\n",
      "🔄 Request timed out while downloading /home/mohamed/Documents/ISN2025/Notebooks/ds000117/sub-08/ses-mri/func/sub-08_ses-mri_task-facerecognition_run-09_bold.json, retrying in 0.5 sec …\n",
      "🔄 Request timed out while downloading /home/mohamed/Documents/ISN2025/Notebooks/ds000117/sub-15/ses-mri/func/sub-15_ses-mri_task-facerecognition_run-08_bold.json, retrying in 0.5 sec …\n",
      "🔄 Request timed out while downloading /home/mohamed/Documents/ISN2025/Notebooks/ds000117/sub-06/ses-mri/func/sub-06_ses-mri_task-facerecognition_run-07_events.tsv, retrying in 0.5 sec …\n",
      "🔄 Request timed out while downloading /home/mohamed/Documents/ISN2025/Notebooks/ds000117/sub-12/ses-mri/func/sub-12_ses-mri_task-facerecognition_run-08_bold.nii.gz, retrying in 0.5 sec …\n",
      "🔄 Request timed out while downloading /home/mohamed/Documents/ISN2025/Notebooks/ds000117/sub-04/ses-mri/func/sub-04_ses-mri_task-facerecognition_run-08_bold.json, retrying in 0.5 sec …\n",
      "🔄 Request timed out while downloading /home/mohamed/Documents/ISN2025/Notebooks/ds000117/sub-04/ses-mri/func/sub-04_ses-mri_task-facerecognition_run-08_bold.nii.gz, retrying in 0.5 sec …\n",
      "🔄 Request timed out while downloading /home/mohamed/Documents/ISN2025/Notebooks/ds000117/sub-07/ses-mri/func/sub-07_ses-mri_task-facerecognition_run-09_bold.json, retrying in 0.5 sec …\n",
      "🔄 Request timed out while downloading /home/mohamed/Documents/ISN2025/Notebooks/ds000117/sub-06/ses-mri/func/sub-06_ses-mri_task-facerecognition_run-08_bold.json, retrying in 0.5 sec …\n"
     ]
    },
    {
     "data": {
      "application/vnd.jupyter.widget-view+json": {
       "model_id": "1e612c73c9a64ae099311e8bd62fa5b5",
       "version_major": 2,
       "version_minor": 0
      },
      "text/plain": [
       "participants.json:   0%|          | 0.00/316 [00:00<?, ?B/s]"
      ]
     },
     "metadata": {},
     "output_type": "display_data"
    },
    {
     "data": {
      "application/vnd.jupyter.widget-view+json": {
       "model_id": "50d5e4282e784ca4a126fee6b5a0689a",
       "version_major": 2,
       "version_minor": 0
      },
      "text/plain": [
       "README:   0%|          | 0.00/5.81k [00:00<?, ?B/s]"
      ]
     },
     "metadata": {},
     "output_type": "display_data"
    },
    {
     "data": {
      "application/vnd.jupyter.widget-view+json": {
       "model_id": "b8753cfa56cb429c98fd9e5e7f79d0b9",
       "version_major": 2,
       "version_minor": 0
      },
      "text/plain": [
       "README:   0%|          | 0.00/5.81k [00:00<?, ?B/s]"
      ]
     },
     "metadata": {},
     "output_type": "display_data"
    },
    {
     "data": {
      "application/vnd.jupyter.widget-view+json": {
       "model_id": "dfd81ff9cb214d8abc0384e3c2fce91b",
       "version_major": 2,
       "version_minor": 0
      },
      "text/plain": [
       "README:   0%|          | 0.00/5.81k [00:00<?, ?B/s]"
      ]
     },
     "metadata": {},
     "output_type": "display_data"
    },
    {
     "data": {
      "application/vnd.jupyter.widget-view+json": {
       "model_id": "6ddabb24e7784826b0da2fd499474ade",
       "version_major": 2,
       "version_minor": 0
      },
      "text/plain": [
       "participants.tsv:   0%|          | 0.00/333 [00:00<?, ?B/s]"
      ]
     },
     "metadata": {},
     "output_type": "display_data"
    },
    {
     "data": {
      "application/vnd.jupyter.widget-view+json": {
       "model_id": "7caa108b61e74aaa9d98c6ca7e890d1c",
       "version_major": 2,
       "version_minor": 0
      },
      "text/plain": [
       "dataset_description.json:   0%|          | 0.00/1.08k [00:00<?, ?B/s]"
      ]
     },
     "metadata": {},
     "output_type": "display_data"
    },
    {
     "data": {
      "application/vnd.jupyter.widget-view+json": {
       "model_id": "3153570f9353469c9d00c5db988e6f0c",
       "version_major": 2,
       "version_minor": 0
      },
      "text/plain": [
       "participants.json:   0%|          | 0.00/316 [00:00<?, ?B/s]"
      ]
     },
     "metadata": {},
     "output_type": "display_data"
    },
    {
     "data": {
      "application/vnd.jupyter.widget-view+json": {
       "model_id": "91592525992e48fcbab35cb15a984ea8",
       "version_major": 2,
       "version_minor": 0
      },
      "text/plain": [
       "CHANGES:   0%|          | 0.00/1.92k [00:00<?, ?B/s]"
      ]
     },
     "metadata": {},
     "output_type": "display_data"
    },
    {
     "data": {
      "application/vnd.jupyter.widget-view+json": {
       "model_id": "db9428f437224e84aa68cd183469147a",
       "version_major": 2,
       "version_minor": 0
      },
      "text/plain": [
       "CHANGES:   0%|          | 0.00/1.92k [00:00<?, ?B/s]"
      ]
     },
     "metadata": {},
     "output_type": "display_data"
    },
    {
     "data": {
      "application/vnd.jupyter.widget-view+json": {
       "model_id": "9a1f339bb1db4914a4616b7f370ec847",
       "version_major": 2,
       "version_minor": 0
      },
      "text/plain": [
       "participants.tsv:   0%|          | 0.00/333 [00:00<?, ?B/s]"
      ]
     },
     "metadata": {},
     "output_type": "display_data"
    },
    {
     "data": {
      "application/vnd.jupyter.widget-view+json": {
       "model_id": "c067c12cab724678ac66ae81ad87e647",
       "version_major": 2,
       "version_minor": 0
      },
      "text/plain": [
       "participants.tsv:   0%|          | 0.00/333 [00:00<?, ?B/s]"
      ]
     },
     "metadata": {},
     "output_type": "display_data"
    },
    {
     "data": {
      "application/vnd.jupyter.widget-view+json": {
       "model_id": "fb970848042649869d2e37c1ef37d673",
       "version_major": 2,
       "version_minor": 0
      },
      "text/plain": [
       "CHANGES:   0%|          | 0.00/1.92k [00:00<?, ?B/s]"
      ]
     },
     "metadata": {},
     "output_type": "display_data"
    },
    {
     "data": {
      "application/vnd.jupyter.widget-view+json": {
       "model_id": "8b12fc6d96cf45e5b575cab2b51ae125",
       "version_major": 2,
       "version_minor": 0
      },
      "text/plain": [
       "CHANGES:   0%|          | 0.00/1.92k [00:00<?, ?B/s]"
      ]
     },
     "metadata": {},
     "output_type": "display_data"
    },
    {
     "data": {
      "application/vnd.jupyter.widget-view+json": {
       "model_id": "de9c81e153234e538eedb689f3f971f0",
       "version_major": 2,
       "version_minor": 0
      },
      "text/plain": [
       "participants.tsv:   0%|          | 0.00/333 [00:00<?, ?B/s]"
      ]
     },
     "metadata": {},
     "output_type": "display_data"
    },
    {
     "data": {
      "application/vnd.jupyter.widget-view+json": {
       "model_id": "c966bae34a2e4783a2ada472447c824b",
       "version_major": 2,
       "version_minor": 0
      },
      "text/plain": [
       "CHANGES:   0%|          | 0.00/1.92k [00:00<?, ?B/s]"
      ]
     },
     "metadata": {},
     "output_type": "display_data"
    },
    {
     "data": {
      "application/vnd.jupyter.widget-view+json": {
       "model_id": "eb9b3fd818bc4a8fb438390f4dd68bee",
       "version_major": 2,
       "version_minor": 0
      },
      "text/plain": [
       "README:   0%|          | 0.00/5.81k [00:00<?, ?B/s]"
      ]
     },
     "metadata": {},
     "output_type": "display_data"
    },
    {
     "data": {
      "application/vnd.jupyter.widget-view+json": {
       "model_id": "44f2bf6bb7754e1d8d02f00037235ccf",
       "version_major": 2,
       "version_minor": 0
      },
      "text/plain": [
       "dataset_description.json:   0%|          | 0.00/1.08k [00:00<?, ?B/s]"
      ]
     },
     "metadata": {},
     "output_type": "display_data"
    },
    {
     "data": {
      "application/vnd.jupyter.widget-view+json": {
       "model_id": "863d3304de6e4357917d5b3da36fec30",
       "version_major": 2,
       "version_minor": 0
      },
      "text/plain": [
       "CHANGES:   0%|          | 0.00/1.92k [00:00<?, ?B/s]"
      ]
     },
     "metadata": {},
     "output_type": "display_data"
    },
    {
     "data": {
      "application/vnd.jupyter.widget-view+json": {
       "model_id": "60df69cedbac49b2aca6e4dd1c140b77",
       "version_major": 2,
       "version_minor": 0
      },
      "text/plain": [
       "CHANGES:   0%|          | 0.00/1.92k [00:00<?, ?B/s]"
      ]
     },
     "metadata": {},
     "output_type": "display_data"
    },
    {
     "data": {
      "application/vnd.jupyter.widget-view+json": {
       "model_id": "fca8858f7f5b43e2bcafef4f842c97f6",
       "version_major": 2,
       "version_minor": 0
      },
      "text/plain": [
       "participants.json:   0%|          | 0.00/316 [00:00<?, ?B/s]"
      ]
     },
     "metadata": {},
     "output_type": "display_data"
    },
    {
     "data": {
      "application/vnd.jupyter.widget-view+json": {
       "model_id": "fd9f2117cfc04e81a287a6cc9a268306",
       "version_major": 2,
       "version_minor": 0
      },
      "text/plain": [
       "participants.tsv:   0%|          | 0.00/333 [00:00<?, ?B/s]"
      ]
     },
     "metadata": {},
     "output_type": "display_data"
    },
    {
     "data": {
      "application/vnd.jupyter.widget-view+json": {
       "model_id": "05177b4f441f42a5b7764d136f3dbdaf",
       "version_major": 2,
       "version_minor": 0
      },
      "text/plain": [
       "participants.tsv:   0%|          | 0.00/333 [00:00<?, ?B/s]"
      ]
     },
     "metadata": {},
     "output_type": "display_data"
    },
    {
     "data": {
      "application/vnd.jupyter.widget-view+json": {
       "model_id": "9c6782817a4a40249813afb7761c2c50",
       "version_major": 2,
       "version_minor": 0
      },
      "text/plain": [
       "participants.tsv:   0%|          | 0.00/333 [00:00<?, ?B/s]"
      ]
     },
     "metadata": {},
     "output_type": "display_data"
    },
    {
     "data": {
      "application/vnd.jupyter.widget-view+json": {
       "model_id": "42fa291a3a564817b02b486a7396f360",
       "version_major": 2,
       "version_minor": 0
      },
      "text/plain": [
       "CHANGES:   0%|          | 0.00/1.92k [00:00<?, ?B/s]"
      ]
     },
     "metadata": {},
     "output_type": "display_data"
    },
    {
     "data": {
      "application/vnd.jupyter.widget-view+json": {
       "model_id": "7201d0300127401985edf5d400bb4970",
       "version_major": 2,
       "version_minor": 0
      },
      "text/plain": [
       "README:   0%|          | 0.00/5.81k [00:00<?, ?B/s]"
      ]
     },
     "metadata": {},
     "output_type": "display_data"
    },
    {
     "data": {
      "application/vnd.jupyter.widget-view+json": {
       "model_id": "d1d0e771f2384bc6998fed869efaa375",
       "version_major": 2,
       "version_minor": 0
      },
      "text/plain": [
       "CHANGES:   0%|          | 0.00/1.92k [00:00<?, ?B/s]"
      ]
     },
     "metadata": {},
     "output_type": "display_data"
    },
    {
     "data": {
      "application/vnd.jupyter.widget-view+json": {
       "model_id": "fa389344aca04974a93235873cf25e1f",
       "version_major": 2,
       "version_minor": 0
      },
      "text/plain": [
       "participants.json:   0%|          | 0.00/316 [00:00<?, ?B/s]"
      ]
     },
     "metadata": {},
     "output_type": "display_data"
    },
    {
     "data": {
      "application/vnd.jupyter.widget-view+json": {
       "model_id": "710657241f8f4c408e479cbeb7107194",
       "version_major": 2,
       "version_minor": 0
      },
      "text/plain": [
       "dataset_description.json:   0%|          | 0.00/1.08k [00:00<?, ?B/s]"
      ]
     },
     "metadata": {},
     "output_type": "display_data"
    },
    {
     "data": {
      "application/vnd.jupyter.widget-view+json": {
       "model_id": "15bad8a393764da58067def71dd4cd94",
       "version_major": 2,
       "version_minor": 0
      },
      "text/plain": [
       "dataset_description.json:   0%|          | 0.00/1.08k [00:00<?, ?B/s]"
      ]
     },
     "metadata": {},
     "output_type": "display_data"
    },
    {
     "data": {
      "application/vnd.jupyter.widget-view+json": {
       "model_id": "63becd047e964f72a7b53c47aa19f651",
       "version_major": 2,
       "version_minor": 0
      },
      "text/plain": [
       "CHANGES:   0%|          | 0.00/1.92k [00:00<?, ?B/s]"
      ]
     },
     "metadata": {},
     "output_type": "display_data"
    },
    {
     "data": {
      "application/vnd.jupyter.widget-view+json": {
       "model_id": "bbfd57996039493b9077fefa983e8388",
       "version_major": 2,
       "version_minor": 0
      },
      "text/plain": [
       "README:   0%|          | 0.00/5.81k [00:00<?, ?B/s]"
      ]
     },
     "metadata": {},
     "output_type": "display_data"
    },
    {
     "data": {
      "application/vnd.jupyter.widget-view+json": {
       "model_id": "e72166cbcb7f4572a9a281473f0658aa",
       "version_major": 2,
       "version_minor": 0
      },
      "text/plain": [
       "dataset_description.json:   0%|          | 0.00/1.08k [00:00<?, ?B/s]"
      ]
     },
     "metadata": {},
     "output_type": "display_data"
    },
    {
     "data": {
      "application/vnd.jupyter.widget-view+json": {
       "model_id": "8e072101fa554becbd4f5486b8feb3c2",
       "version_major": 2,
       "version_minor": 0
      },
      "text/plain": [
       "participants.json:   0%|          | 0.00/316 [00:00<?, ?B/s]"
      ]
     },
     "metadata": {},
     "output_type": "display_data"
    },
    {
     "data": {
      "application/vnd.jupyter.widget-view+json": {
       "model_id": "f37c981e5cfd4be09377f3c5df867fa7",
       "version_major": 2,
       "version_minor": 0
      },
      "text/plain": [
       "README:   0%|          | 0.00/5.81k [00:00<?, ?B/s]"
      ]
     },
     "metadata": {},
     "output_type": "display_data"
    },
    {
     "data": {
      "application/vnd.jupyter.widget-view+json": {
       "model_id": "a46c3e9079574c3495191ef9a9705bca",
       "version_major": 2,
       "version_minor": 0
      },
      "text/plain": [
       "participants.json:   0%|          | 0.00/316 [00:00<?, ?B/s]"
      ]
     },
     "metadata": {},
     "output_type": "display_data"
    },
    {
     "data": {
      "application/vnd.jupyter.widget-view+json": {
       "model_id": "796b681a6fbe4e9da34c7963d54a26ca",
       "version_major": 2,
       "version_minor": 0
      },
      "text/plain": [
       "participants.json:   0%|          | 0.00/316 [00:00<?, ?B/s]"
      ]
     },
     "metadata": {},
     "output_type": "display_data"
    },
    {
     "data": {
      "application/vnd.jupyter.widget-view+json": {
       "model_id": "b4e17058c9d149e4be7919570e8ec727",
       "version_major": 2,
       "version_minor": 0
      },
      "text/plain": [
       "README:   0%|          | 0.00/5.81k [00:00<?, ?B/s]"
      ]
     },
     "metadata": {},
     "output_type": "display_data"
    },
    {
     "data": {
      "application/vnd.jupyter.widget-view+json": {
       "model_id": "4aca6e4f4e1943c099016222bb94260d",
       "version_major": 2,
       "version_minor": 0
      },
      "text/plain": [
       "CHANGES:   0%|          | 0.00/1.92k [00:00<?, ?B/s]"
      ]
     },
     "metadata": {},
     "output_type": "display_data"
    },
    {
     "data": {
      "application/vnd.jupyter.widget-view+json": {
       "model_id": "ddc88a443a4b4abfbc64060cfc1715ce",
       "version_major": 2,
       "version_minor": 0
      },
      "text/plain": [
       "dataset_description.json:   0%|          | 0.00/1.08k [00:00<?, ?B/s]"
      ]
     },
     "metadata": {},
     "output_type": "display_data"
    },
    {
     "data": {
      "application/vnd.jupyter.widget-view+json": {
       "model_id": "404b9ea1139548798caead0a802b40eb",
       "version_major": 2,
       "version_minor": 0
      },
      "text/plain": [
       "README:   0%|          | 0.00/5.81k [00:00<?, ?B/s]"
      ]
     },
     "metadata": {},
     "output_type": "display_data"
    },
    {
     "data": {
      "application/vnd.jupyter.widget-view+json": {
       "model_id": "2a1fca836f754bcd94bc85a2e3f6c413",
       "version_major": 2,
       "version_minor": 0
      },
      "text/plain": [
       "participants.tsv:   0%|          | 0.00/333 [00:00<?, ?B/s]"
      ]
     },
     "metadata": {},
     "output_type": "display_data"
    },
    {
     "data": {
      "application/vnd.jupyter.widget-view+json": {
       "model_id": "7b4df9dd0b474f2c8025a0b1b902b77d",
       "version_major": 2,
       "version_minor": 0
      },
      "text/plain": [
       "participants.tsv:   0%|          | 0.00/333 [00:00<?, ?B/s]"
      ]
     },
     "metadata": {},
     "output_type": "display_data"
    },
    {
     "data": {
      "application/vnd.jupyter.widget-view+json": {
       "model_id": "43cd1bd7478e414abfc1434aa25e3400",
       "version_major": 2,
       "version_minor": 0
      },
      "text/plain": [
       "CHANGES:   0%|          | 0.00/1.92k [00:00<?, ?B/s]"
      ]
     },
     "metadata": {},
     "output_type": "display_data"
    },
    {
     "data": {
      "application/vnd.jupyter.widget-view+json": {
       "model_id": "b6ae5c783205406ebcb868f12bab9e39",
       "version_major": 2,
       "version_minor": 0
      },
      "text/plain": [
       "participants.tsv:   0%|          | 0.00/333 [00:00<?, ?B/s]"
      ]
     },
     "metadata": {},
     "output_type": "display_data"
    },
    {
     "data": {
      "application/vnd.jupyter.widget-view+json": {
       "model_id": "bec72754be804462829dcf8d1eed17ee",
       "version_major": 2,
       "version_minor": 0
      },
      "text/plain": [
       "CHANGES:   0%|          | 0.00/1.92k [00:00<?, ?B/s]"
      ]
     },
     "metadata": {},
     "output_type": "display_data"
    },
    {
     "data": {
      "application/vnd.jupyter.widget-view+json": {
       "model_id": "3f901bd0f7b147b78bddd4ff2385cb67",
       "version_major": 2,
       "version_minor": 0
      },
      "text/plain": [
       "CHANGES:   0%|          | 0.00/1.92k [00:00<?, ?B/s]"
      ]
     },
     "metadata": {},
     "output_type": "display_data"
    },
    {
     "data": {
      "application/vnd.jupyter.widget-view+json": {
       "model_id": "299fc3956cbb4c2ebd3e85704f9809d2",
       "version_major": 2,
       "version_minor": 0
      },
      "text/plain": [
       "CHANGES:   0%|          | 0.00/1.92k [00:00<?, ?B/s]"
      ]
     },
     "metadata": {},
     "output_type": "display_data"
    },
    {
     "data": {
      "application/vnd.jupyter.widget-view+json": {
       "model_id": "dd86930e08fe40abb2e66892e29ce760",
       "version_major": 2,
       "version_minor": 0
      },
      "text/plain": [
       "participants.tsv:   0%|          | 0.00/333 [00:00<?, ?B/s]"
      ]
     },
     "metadata": {},
     "output_type": "display_data"
    },
    {
     "data": {
      "application/vnd.jupyter.widget-view+json": {
       "model_id": "28229a3fa8ab4081a442b7441ff0d2dc",
       "version_major": 2,
       "version_minor": 0
      },
      "text/plain": [
       "sub-07_ses-mri_acq-mprage_T1w.json:   0%|          | 0.00/45.2k [00:00<?, ?B/s]"
      ]
     },
     "metadata": {},
     "output_type": "display_data"
    },
    {
     "data": {
      "application/vnd.jupyter.widget-view+json": {
       "model_id": "4e2b0e982c774ee78a0fdf77aab92ffc",
       "version_major": 2,
       "version_minor": 0
      },
      "text/plain": [
       "README:   0%|          | 0.00/5.81k [00:00<?, ?B/s]"
      ]
     },
     "metadata": {},
     "output_type": "display_data"
    },
    {
     "data": {
      "application/vnd.jupyter.widget-view+json": {
       "model_id": "b3566d518f53436f9510afd1da630bfa",
       "version_major": 2,
       "version_minor": 0
      },
      "text/plain": [
       "dataset_description.json:   0%|          | 0.00/1.08k [00:00<?, ?B/s]"
      ]
     },
     "metadata": {},
     "output_type": "display_data"
    },
    {
     "data": {
      "application/vnd.jupyter.widget-view+json": {
       "model_id": "eaa6010d5ff04ae4afc4d8d47f36b58e",
       "version_major": 2,
       "version_minor": 0
      },
      "text/plain": [
       "sub-08_ses-mri_run-1_echo-1_FLASH.nii.gz:   0%|          | 0.00/12.4M [00:00<?, ?B/s]"
      ]
     },
     "metadata": {},
     "output_type": "display_data"
    },
    {
     "data": {
      "application/vnd.jupyter.widget-view+json": {
       "model_id": "08850616d3f74794bb91ee71901b23a6",
       "version_major": 2,
       "version_minor": 0
      },
      "text/plain": [
       "dataset_description.json:   0%|          | 0.00/1.08k [00:00<?, ?B/s]"
      ]
     },
     "metadata": {},
     "output_type": "display_data"
    },
    {
     "data": {
      "application/vnd.jupyter.widget-view+json": {
       "model_id": "75298b9e72ab404bb9ed7ca2ea8cbd60",
       "version_major": 2,
       "version_minor": 0
      },
      "text/plain": [
       "sub-08_ses-mri_acq-mprage_T1w.nii.gz:   0%|          | 0.00/12.0M [00:00<?, ?B/s]"
      ]
     },
     "metadata": {},
     "output_type": "display_data"
    },
    {
     "data": {
      "application/vnd.jupyter.widget-view+json": {
       "model_id": "6be864399acd4c17bb069ff70e02921a",
       "version_major": 2,
       "version_minor": 0
      },
      "text/plain": [
       "participants.tsv:   0%|          | 0.00/333 [00:00<?, ?B/s]"
      ]
     },
     "metadata": {},
     "output_type": "display_data"
    },
    {
     "data": {
      "application/vnd.jupyter.widget-view+json": {
       "model_id": "3bdd0f58c6ef49d29d5ed90a02d3d709",
       "version_major": 2,
       "version_minor": 0
      },
      "text/plain": [
       "dataset_description.json:   0%|          | 0.00/1.08k [00:00<?, ?B/s]"
      ]
     },
     "metadata": {},
     "output_type": "display_data"
    },
    {
     "data": {
      "application/vnd.jupyter.widget-view+json": {
       "model_id": "8e903522577e4527b9687c2062585c0d",
       "version_major": 2,
       "version_minor": 0
      },
      "text/plain": [
       "sub-11_ses-mri_acq-mprage_T1w.json:   0%|          | 0.00/45.7k [00:00<?, ?B/s]"
      ]
     },
     "metadata": {},
     "output_type": "display_data"
    },
    {
     "data": {
      "application/vnd.jupyter.widget-view+json": {
       "model_id": "c2962f67ace949ea9d9e9f446cb35526",
       "version_major": 2,
       "version_minor": 0
      },
      "text/plain": [
       "README:   0%|          | 0.00/5.81k [00:00<?, ?B/s]"
      ]
     },
     "metadata": {},
     "output_type": "display_data"
    },
    {
     "data": {
      "application/vnd.jupyter.widget-view+json": {
       "model_id": "6486c41a83e6452592841efbec63824d",
       "version_major": 2,
       "version_minor": 0
      },
      "text/plain": [
       "dataset_description.json:   0%|          | 0.00/1.08k [00:00<?, ?B/s]"
      ]
     },
     "metadata": {},
     "output_type": "display_data"
    },
    {
     "data": {
      "application/vnd.jupyter.widget-view+json": {
       "model_id": "77e08c326ce344b9ac39cdc6d633dc10",
       "version_major": 2,
       "version_minor": 0
      },
      "text/plain": [
       "participants.tsv:   0%|          | 0.00/333 [00:00<?, ?B/s]"
      ]
     },
     "metadata": {},
     "output_type": "display_data"
    },
    {
     "data": {
      "application/vnd.jupyter.widget-view+json": {
       "model_id": "e911505a18e74ab2ae4b924fc063b4f7",
       "version_major": 2,
       "version_minor": 0
      },
      "text/plain": [
       "dataset_description.json:   0%|          | 0.00/1.08k [00:00<?, ?B/s]"
      ]
     },
     "metadata": {},
     "output_type": "display_data"
    },
    {
     "data": {
      "application/vnd.jupyter.widget-view+json": {
       "model_id": "c703e35fa9c44e2c9067e6120c92177f",
       "version_major": 2,
       "version_minor": 0
      },
      "text/plain": [
       "dataset_description.json:   0%|          | 0.00/1.08k [00:00<?, ?B/s]"
      ]
     },
     "metadata": {},
     "output_type": "display_data"
    },
    {
     "data": {
      "application/vnd.jupyter.widget-view+json": {
       "model_id": "89270e90b1154c038602fba74c5752e4",
       "version_major": 2,
       "version_minor": 0
      },
      "text/plain": [
       "README:   0%|          | 0.00/5.81k [00:00<?, ?B/s]"
      ]
     },
     "metadata": {},
     "output_type": "display_data"
    },
    {
     "data": {
      "application/vnd.jupyter.widget-view+json": {
       "model_id": "9a10659c175443b49068ac3a699671a7",
       "version_major": 2,
       "version_minor": 0
      },
      "text/plain": [
       "participants.tsv:   0%|          | 0.00/333 [00:00<?, ?B/s]"
      ]
     },
     "metadata": {},
     "output_type": "display_data"
    },
    {
     "data": {
      "application/vnd.jupyter.widget-view+json": {
       "model_id": "06e877447cf34f35a80735c4684cf7c5",
       "version_major": 2,
       "version_minor": 0
      },
      "text/plain": [
       "participants.json:   0%|          | 0.00/316 [00:00<?, ?B/s]"
      ]
     },
     "metadata": {},
     "output_type": "display_data"
    },
    {
     "data": {
      "application/vnd.jupyter.widget-view+json": {
       "model_id": "a859119277014bf5866f3d433e78e446",
       "version_major": 2,
       "version_minor": 0
      },
      "text/plain": [
       "dataset_description.json:   0%|          | 0.00/1.08k [00:00<?, ?B/s]"
      ]
     },
     "metadata": {},
     "output_type": "display_data"
    },
    {
     "data": {
      "application/vnd.jupyter.widget-view+json": {
       "model_id": "8b10d9d4c2514e959c0d974c694a82a1",
       "version_major": 2,
       "version_minor": 0
      },
      "text/plain": [
       "README:   0%|          | 0.00/5.81k [00:00<?, ?B/s]"
      ]
     },
     "metadata": {},
     "output_type": "display_data"
    },
    {
     "data": {
      "application/vnd.jupyter.widget-view+json": {
       "model_id": "2abb17f361384d81844ee41e0efe7446",
       "version_major": 2,
       "version_minor": 0
      },
      "text/plain": [
       "participants.json:   0%|          | 0.00/316 [00:00<?, ?B/s]"
      ]
     },
     "metadata": {},
     "output_type": "display_data"
    },
    {
     "data": {
      "application/vnd.jupyter.widget-view+json": {
       "model_id": "8617169e998c46ce8bfcd0355f310883",
       "version_major": 2,
       "version_minor": 0
      },
      "text/plain": [
       "participants.tsv:   0%|          | 0.00/333 [00:00<?, ?B/s]"
      ]
     },
     "metadata": {},
     "output_type": "display_data"
    },
    {
     "data": {
      "application/vnd.jupyter.widget-view+json": {
       "model_id": "0b8fbd7ee326467092695b57066e96c4",
       "version_major": 2,
       "version_minor": 0
      },
      "text/plain": [
       "sub-10_ses-mri_acq-mprage_T1w.json:   0%|          | 0.00/45.0k [00:00<?, ?B/s]"
      ]
     },
     "metadata": {},
     "output_type": "display_data"
    },
    {
     "data": {
      "application/vnd.jupyter.widget-view+json": {
       "model_id": "b0bef316b5314b728ef7af696526ec87",
       "version_major": 2,
       "version_minor": 0
      },
      "text/plain": [
       "sub-12_ses-mri_acq-mprage_T1w.json:   0%|          | 0.00/45.2k [00:00<?, ?B/s]"
      ]
     },
     "metadata": {},
     "output_type": "display_data"
    },
    {
     "data": {
      "application/vnd.jupyter.widget-view+json": {
       "model_id": "cadb71044b954cca9d562746306e5f68",
       "version_major": 2,
       "version_minor": 0
      },
      "text/plain": [
       "dataset_description.json:   0%|          | 0.00/1.08k [00:00<?, ?B/s]"
      ]
     },
     "metadata": {},
     "output_type": "display_data"
    },
    {
     "data": {
      "application/vnd.jupyter.widget-view+json": {
       "model_id": "ddaeadfa50c943c5986db3834dd944da",
       "version_major": 2,
       "version_minor": 0
      },
      "text/plain": [
       "sub-07_ses-mri_acq-mprage_T1w.nii.gz:   0%|          | 0.00/13.2M [00:00<?, ?B/s]"
      ]
     },
     "metadata": {},
     "output_type": "display_data"
    },
    {
     "data": {
      "application/vnd.jupyter.widget-view+json": {
       "model_id": "fa0a45aa042b42208c1112ca98b19da2",
       "version_major": 2,
       "version_minor": 0
      },
      "text/plain": [
       "README:   0%|          | 0.00/5.81k [00:00<?, ?B/s]"
      ]
     },
     "metadata": {},
     "output_type": "display_data"
    },
    {
     "data": {
      "application/vnd.jupyter.widget-view+json": {
       "model_id": "b74741aa01b0449e960c89d53c4f33dd",
       "version_major": 2,
       "version_minor": 0
      },
      "text/plain": [
       "participants.json:   0%|          | 0.00/316 [00:00<?, ?B/s]"
      ]
     },
     "metadata": {},
     "output_type": "display_data"
    },
    {
     "data": {
      "application/vnd.jupyter.widget-view+json": {
       "model_id": "6af4f2416dfd471b9f10d0094388447d",
       "version_major": 2,
       "version_minor": 0
      },
      "text/plain": [
       "participants.json:   0%|          | 0.00/316 [00:00<?, ?B/s]"
      ]
     },
     "metadata": {},
     "output_type": "display_data"
    },
    {
     "data": {
      "application/vnd.jupyter.widget-view+json": {
       "model_id": "8188aaf9801d4c0388ec146c3e4f39c0",
       "version_major": 2,
       "version_minor": 0
      },
      "text/plain": [
       "sub-07_ses-mri_run-1_echo-1_FLASH.nii.gz:   0%|          | 0.00/13.3M [00:00<?, ?B/s]"
      ]
     },
     "metadata": {},
     "output_type": "display_data"
    },
    {
     "data": {
      "application/vnd.jupyter.widget-view+json": {
       "model_id": "1aa857633afc4888acebf4c08eea8e57",
       "version_major": 2,
       "version_minor": 0
      },
      "text/plain": [
       "participants.json:   0%|          | 0.00/316 [00:00<?, ?B/s]"
      ]
     },
     "metadata": {},
     "output_type": "display_data"
    },
    {
     "data": {
      "application/vnd.jupyter.widget-view+json": {
       "model_id": "81aaef75a0134e38864bfaa66ad79480",
       "version_major": 2,
       "version_minor": 0
      },
      "text/plain": [
       "sub-10_ses-mri_run-1_echo-2_FLASH.nii.gz:   0%|          | 0.00/13.4M [00:00<?, ?B/s]"
      ]
     },
     "metadata": {},
     "output_type": "display_data"
    },
    {
     "data": {
      "application/vnd.jupyter.widget-view+json": {
       "model_id": "9590800436dd4d57a74ad875364cdb53",
       "version_major": 2,
       "version_minor": 0
      },
      "text/plain": [
       "participants.json:   0%|          | 0.00/316 [00:00<?, ?B/s]"
      ]
     },
     "metadata": {},
     "output_type": "display_data"
    },
    {
     "data": {
      "application/vnd.jupyter.widget-view+json": {
       "model_id": "098688a6806d4617be7b7f84af39e336",
       "version_major": 2,
       "version_minor": 0
      },
      "text/plain": [
       "sub-08_ses-mri_run-1_echo-3_FLASH.nii.gz:   0%|          | 0.00/12.4M [00:00<?, ?B/s]"
      ]
     },
     "metadata": {},
     "output_type": "display_data"
    },
    {
     "data": {
      "application/vnd.jupyter.widget-view+json": {
       "model_id": "63dcb6263754474e9992c1e2b33c5331",
       "version_major": 2,
       "version_minor": 0
      },
      "text/plain": [
       "sub-10_ses-mri_acq-mprage_T1w.nii.gz:   0%|          | 0.00/13.4M [00:00<?, ?B/s]"
      ]
     },
     "metadata": {},
     "output_type": "display_data"
    },
    {
     "data": {
      "application/vnd.jupyter.widget-view+json": {
       "model_id": "6ff9fe2b49bc4d5cb041be8ecf47e403",
       "version_major": 2,
       "version_minor": 0
      },
      "text/plain": [
       "sub-08_ses-mri_acq-mprage_T1w.json:   0%|          | 0.00/45.3k [00:00<?, ?B/s]"
      ]
     },
     "metadata": {},
     "output_type": "display_data"
    },
    {
     "data": {
      "application/vnd.jupyter.widget-view+json": {
       "model_id": "53649316faba4f77af9746b5d45bbe77",
       "version_major": 2,
       "version_minor": 0
      },
      "text/plain": [
       "sub-13_ses-mri_acq-mprage_T1w.json:   0%|          | 0.00/45.0k [00:00<?, ?B/s]"
      ]
     },
     "metadata": {},
     "output_type": "display_data"
    },
    {
     "data": {
      "application/vnd.jupyter.widget-view+json": {
       "model_id": "8181d38c2e134b3b81d8490edf4c5ed3",
       "version_major": 2,
       "version_minor": 0
      },
      "text/plain": [
       "dataset_description.json:   0%|          | 0.00/1.08k [00:00<?, ?B/s]"
      ]
     },
     "metadata": {},
     "output_type": "display_data"
    },
    {
     "data": {
      "application/vnd.jupyter.widget-view+json": {
       "model_id": "1e2410368e50400c8b2e660a3d04c0b2",
       "version_major": 2,
       "version_minor": 0
      },
      "text/plain": [
       "sub-11_ses-mri_run-1_echo-1_FLASH.nii.gz:   0%|          | 0.00/12.6M [00:00<?, ?B/s]"
      ]
     },
     "metadata": {},
     "output_type": "display_data"
    },
    {
     "data": {
      "application/vnd.jupyter.widget-view+json": {
       "model_id": "1e51e987c23a4afb8b46016def7064c6",
       "version_major": 2,
       "version_minor": 0
      },
      "text/plain": [
       "README:   0%|          | 0.00/5.81k [00:00<?, ?B/s]"
      ]
     },
     "metadata": {},
     "output_type": "display_data"
    },
    {
     "data": {
      "application/vnd.jupyter.widget-view+json": {
       "model_id": "b793d82bfe5f40989a0430a8399faec1",
       "version_major": 2,
       "version_minor": 0
      },
      "text/plain": [
       "participants.json:   0%|          | 0.00/316 [00:00<?, ?B/s]"
      ]
     },
     "metadata": {},
     "output_type": "display_data"
    },
    {
     "data": {
      "application/vnd.jupyter.widget-view+json": {
       "model_id": "6f14690443b6471b8e097da7555aa8cb",
       "version_major": 2,
       "version_minor": 0
      },
      "text/plain": [
       "sub-12_ses-mri_acq-mprage_T1w.nii.gz:   0%|          | 0.00/13.3M [00:00<?, ?B/s]"
      ]
     },
     "metadata": {},
     "output_type": "display_data"
    },
    {
     "data": {
      "application/vnd.jupyter.widget-view+json": {
       "model_id": "71b286d5190143bcb47204cf80c54c49",
       "version_major": 2,
       "version_minor": 0
      },
      "text/plain": [
       "sub-01_ses-mri_acq-mprage_T1w.json:   0%|          | 0.00/44.8k [00:00<?, ?B/s]"
      ]
     },
     "metadata": {},
     "output_type": "display_data"
    },
    {
     "data": {
      "application/vnd.jupyter.widget-view+json": {
       "model_id": "6303626f58174f4e8fcd65edf36ce4b7",
       "version_major": 2,
       "version_minor": 0
      },
      "text/plain": [
       "sub-05_ses-mri_acq-mprage_T1w.nii.gz:   0%|          | 0.00/12.7M [00:00<?, ?B/s]"
      ]
     },
     "metadata": {},
     "output_type": "display_data"
    },
    {
     "data": {
      "application/vnd.jupyter.widget-view+json": {
       "model_id": "51d4c0df94b54ea38b4799b1dda12933",
       "version_major": 2,
       "version_minor": 0
      },
      "text/plain": [
       "sub-03_ses-mri_acq-mprage_T1w.json:   0%|          | 0.00/44.9k [00:00<?, ?B/s]"
      ]
     },
     "metadata": {},
     "output_type": "display_data"
    },
    {
     "data": {
      "application/vnd.jupyter.widget-view+json": {
       "model_id": "621e5c7eae0a43d29e673df907fded94",
       "version_major": 2,
       "version_minor": 0
      },
      "text/plain": [
       "sub-15_ses-mri_acq-mprage_T1w.json:   0%|          | 0.00/45.5k [00:00<?, ?B/s]"
      ]
     },
     "metadata": {},
     "output_type": "display_data"
    },
    {
     "data": {
      "application/vnd.jupyter.widget-view+json": {
       "model_id": "299839e40ec84739b3f7f79b59bfab6d",
       "version_major": 2,
       "version_minor": 0
      },
      "text/plain": [
       "participants.json:   0%|          | 0.00/316 [00:00<?, ?B/s]"
      ]
     },
     "metadata": {},
     "output_type": "display_data"
    },
    {
     "data": {
      "application/vnd.jupyter.widget-view+json": {
       "model_id": "80e607394f2a4165903bdd4151cfe747",
       "version_major": 2,
       "version_minor": 0
      },
      "text/plain": [
       "sub-09_ses-mri_acq-mprage_T1w.json:   0%|          | 0.00/44.9k [00:00<?, ?B/s]"
      ]
     },
     "metadata": {},
     "output_type": "display_data"
    },
    {
     "data": {
      "application/vnd.jupyter.widget-view+json": {
       "model_id": "7e031a90eb4a4810b164d493f4e68077",
       "version_major": 2,
       "version_minor": 0
      },
      "text/plain": [
       "sub-02_ses-mri_run-1_echo-3_FLASH.nii.gz:   0%|          | 0.00/12.4M [00:00<?, ?B/s]"
      ]
     },
     "metadata": {},
     "output_type": "display_data"
    },
    {
     "data": {
      "application/vnd.jupyter.widget-view+json": {
       "model_id": "aec4ed8ca5254202b04aac9ccb68d899",
       "version_major": 2,
       "version_minor": 0
      },
      "text/plain": [
       "sub-12_ses-mri_run-1_echo-1_FLASH.nii.gz:   0%|          | 0.00/13.4M [00:00<?, ?B/s]"
      ]
     },
     "metadata": {},
     "output_type": "display_data"
    },
    {
     "data": {
      "application/vnd.jupyter.widget-view+json": {
       "model_id": "f7efbc72472a44a7af50cc3d3f3e91df",
       "version_major": 2,
       "version_minor": 0
      },
      "text/plain": [
       "sub-11_ses-mri_run-1_echo-2_FLASH.nii.gz:   0%|          | 0.00/12.6M [00:00<?, ?B/s]"
      ]
     },
     "metadata": {},
     "output_type": "display_data"
    },
    {
     "data": {
      "application/vnd.jupyter.widget-view+json": {
       "model_id": "a523babcfabb46ff8b2c2e93ea3809a9",
       "version_major": 2,
       "version_minor": 0
      },
      "text/plain": [
       "sub-03_ses-mri_run-1_echo-1_FLASH.nii.gz:   0%|          | 0.00/13.7M [00:00<?, ?B/s]"
      ]
     },
     "metadata": {},
     "output_type": "display_data"
    },
    {
     "data": {
      "application/vnd.jupyter.widget-view+json": {
       "model_id": "35755973348b402982d4a487b6b01337",
       "version_major": 2,
       "version_minor": 0
      },
      "text/plain": [
       "sub-15_ses-mri_run-1_echo-1_FLASH.nii.gz:   0%|          | 0.00/13.1M [00:00<?, ?B/s]"
      ]
     },
     "metadata": {},
     "output_type": "display_data"
    },
    {
     "data": {
      "application/vnd.jupyter.widget-view+json": {
       "model_id": "366268ab70d64721bfd97fcd0b8b4311",
       "version_major": 2,
       "version_minor": 0
      },
      "text/plain": [
       "sub-07_ses-mri_run-1_echo-2_FLASH.nii.gz:   0%|          | 0.00/13.3M [00:00<?, ?B/s]"
      ]
     },
     "metadata": {},
     "output_type": "display_data"
    },
    {
     "data": {
      "application/vnd.jupyter.widget-view+json": {
       "model_id": "7ef07edf228b42b8a95091a786f2a922",
       "version_major": 2,
       "version_minor": 0
      },
      "text/plain": [
       "sub-04_ses-mri_acq-mprage_T1w.json:   0%|          | 0.00/44.8k [00:00<?, ?B/s]"
      ]
     },
     "metadata": {},
     "output_type": "display_data"
    },
    {
     "data": {
      "application/vnd.jupyter.widget-view+json": {
       "model_id": "c61984850da347d9a4f852df9233677b",
       "version_major": 2,
       "version_minor": 0
      },
      "text/plain": [
       "sub-12_ses-mri_run-1_echo-2_FLASH.nii.gz:   0%|          | 0.00/13.4M [00:00<?, ?B/s]"
      ]
     },
     "metadata": {},
     "output_type": "display_data"
    },
    {
     "data": {
      "application/vnd.jupyter.widget-view+json": {
       "model_id": "2c55a0627534496ea9d3d1ab11f0d09d",
       "version_major": 2,
       "version_minor": 0
      },
      "text/plain": [
       "sub-03_ses-mri_acq-mprage_T1w.nii.gz:   0%|          | 0.00/13.3M [00:00<?, ?B/s]"
      ]
     },
     "metadata": {},
     "output_type": "display_data"
    },
    {
     "data": {
      "application/vnd.jupyter.widget-view+json": {
       "model_id": "dbb9c8e3c3ee4682b3022e19c0ef300c",
       "version_major": 2,
       "version_minor": 0
      },
      "text/plain": [
       "sub-04_ses-mri_acq-mprage_T1w.nii.gz:   0%|          | 0.00/13.2M [00:00<?, ?B/s]"
      ]
     },
     "metadata": {},
     "output_type": "display_data"
    },
    {
     "data": {
      "application/vnd.jupyter.widget-view+json": {
       "model_id": "c404f7b64b3249d5854bf3302e2ece87",
       "version_major": 2,
       "version_minor": 0
      },
      "text/plain": [
       "sub-13_ses-mri_acq-mprage_T1w.nii.gz:   0%|          | 0.00/12.7M [00:00<?, ?B/s]"
      ]
     },
     "metadata": {},
     "output_type": "display_data"
    },
    {
     "data": {
      "application/vnd.jupyter.widget-view+json": {
       "model_id": "105c855500384d9c9769a674dba0434e",
       "version_major": 2,
       "version_minor": 0
      },
      "text/plain": [
       "sub-10_ses-mri_run-1_echo-3_FLASH.nii.gz:   0%|          | 0.00/13.4M [00:00<?, ?B/s]"
      ]
     },
     "metadata": {},
     "output_type": "display_data"
    },
    {
     "data": {
      "application/vnd.jupyter.widget-view+json": {
       "model_id": "8f9f36f3c94f4d4c8faebb396e68a6b5",
       "version_major": 2,
       "version_minor": 0
      },
      "text/plain": [
       "sub-15_ses-mri_run-1_echo-2_FLASH.nii.gz:   0%|          | 0.00/13.1M [00:00<?, ?B/s]"
      ]
     },
     "metadata": {},
     "output_type": "display_data"
    },
    {
     "data": {
      "application/vnd.jupyter.widget-view+json": {
       "model_id": "5656a46602ea44b1b7b49b0358e97456",
       "version_major": 2,
       "version_minor": 0
      },
      "text/plain": [
       "sub-06_ses-mri_acq-mprage_T1w.nii.gz:   0%|          | 0.00/14.0M [00:00<?, ?B/s]"
      ]
     },
     "metadata": {},
     "output_type": "display_data"
    },
    {
     "data": {
      "application/vnd.jupyter.widget-view+json": {
       "model_id": "dbb33fc71ef8459d9a67eca7fa386c52",
       "version_major": 2,
       "version_minor": 0
      },
      "text/plain": [
       "sub-06_ses-mri_run-1_echo-1_FLASH.nii.gz:   0%|          | 0.00/14.1M [00:00<?, ?B/s]"
      ]
     },
     "metadata": {},
     "output_type": "display_data"
    },
    {
     "data": {
      "application/vnd.jupyter.widget-view+json": {
       "model_id": "61335702e3494f3cbfd0341f5566f300",
       "version_major": 2,
       "version_minor": 0
      },
      "text/plain": [
       "sub-14_ses-mri_run-1_echo-2_FLASH.nii.gz:   0%|          | 0.00/12.7M [00:00<?, ?B/s]"
      ]
     },
     "metadata": {},
     "output_type": "display_data"
    },
    {
     "data": {
      "application/vnd.jupyter.widget-view+json": {
       "model_id": "90eabad8edd7488996b83797ab3c7357",
       "version_major": 2,
       "version_minor": 0
      },
      "text/plain": [
       "sub-03_ses-mri_run-1_echo-2_FLASH.nii.gz:   0%|          | 0.00/13.7M [00:00<?, ?B/s]"
      ]
     },
     "metadata": {},
     "output_type": "display_data"
    },
    {
     "data": {
      "application/vnd.jupyter.widget-view+json": {
       "model_id": "f3803bd274d74827ba2b50bb465777bc",
       "version_major": 2,
       "version_minor": 0
      },
      "text/plain": [
       "sub-05_ses-mri_acq-mprage_T1w.json:   0%|          | 0.00/44.4k [00:00<?, ?B/s]"
      ]
     },
     "metadata": {},
     "output_type": "display_data"
    },
    {
     "data": {
      "application/vnd.jupyter.widget-view+json": {
       "model_id": "6379edeee36a4bcea4915d114a7bc87e",
       "version_major": 2,
       "version_minor": 0
      },
      "text/plain": [
       "sub-11_ses-mri_acq-mprage_T1w.nii.gz:   0%|          | 0.00/12.3M [00:00<?, ?B/s]"
      ]
     },
     "metadata": {},
     "output_type": "display_data"
    },
    {
     "data": {
      "application/vnd.jupyter.widget-view+json": {
       "model_id": "7293d2f2340b4c5592fd141b9bd94beb",
       "version_major": 2,
       "version_minor": 0
      },
      "text/plain": [
       "sub-13_ses-mri_run-1_echo-1_FLASH.nii.gz:   0%|          | 0.00/13.0M [00:00<?, ?B/s]"
      ]
     },
     "metadata": {},
     "output_type": "display_data"
    },
    {
     "data": {
      "application/vnd.jupyter.widget-view+json": {
       "model_id": "573dad14e423437a9e22aa8e321ff12f",
       "version_major": 2,
       "version_minor": 0
      },
      "text/plain": [
       "sub-12_ses-mri_run-1_echo-3_FLASH.nii.gz:   0%|          | 0.00/13.4M [00:00<?, ?B/s]"
      ]
     },
     "metadata": {},
     "output_type": "display_data"
    },
    {
     "data": {
      "application/vnd.jupyter.widget-view+json": {
       "model_id": "dbc0b84757834c26a0baedf0dec9d439",
       "version_major": 2,
       "version_minor": 0
      },
      "text/plain": [
       "sub-11_ses-mri_run-1_echo-3_FLASH.nii.gz:   0%|          | 0.00/12.5M [00:00<?, ?B/s]"
      ]
     },
     "metadata": {},
     "output_type": "display_data"
    },
    {
     "data": {
      "application/vnd.jupyter.widget-view+json": {
       "model_id": "0043fe6998c4424081abba2d2d7b9115",
       "version_major": 2,
       "version_minor": 0
      },
      "text/plain": [
       "sub-02_ses-mri_run-1_echo-1_FLASH.nii.gz:   0%|          | 0.00/12.5M [00:00<?, ?B/s]"
      ]
     },
     "metadata": {},
     "output_type": "display_data"
    },
    {
     "data": {
      "application/vnd.jupyter.widget-view+json": {
       "model_id": "d9a35dc379804148b7a3082eacf8df79",
       "version_major": 2,
       "version_minor": 0
      },
      "text/plain": [
       "sub-01_ses-mri_acq-mprage_T1w.nii.gz:   0%|          | 0.00/12.5M [00:00<?, ?B/s]"
      ]
     },
     "metadata": {},
     "output_type": "display_data"
    },
    {
     "data": {
      "application/vnd.jupyter.widget-view+json": {
       "model_id": "55cb268344da424cb23f98a23de1d697",
       "version_major": 2,
       "version_minor": 0
      },
      "text/plain": [
       "sub-14_ses-mri_run-1_echo-1_FLASH.nii.gz:   0%|          | 0.00/12.8M [00:00<?, ?B/s]"
      ]
     },
     "metadata": {},
     "output_type": "display_data"
    },
    {
     "data": {
      "application/vnd.jupyter.widget-view+json": {
       "model_id": "c81bb2f0101d444d8ec734bc4f0cccb2",
       "version_major": 2,
       "version_minor": 0
      },
      "text/plain": [
       "sub-09_ses-mri_acq-mprage_T1w.nii.gz:   0%|          | 0.00/12.4M [00:00<?, ?B/s]"
      ]
     },
     "metadata": {},
     "output_type": "display_data"
    },
    {
     "data": {
      "application/vnd.jupyter.widget-view+json": {
       "model_id": "e0b82080183b49a084c1df8815f3f388",
       "version_major": 2,
       "version_minor": 0
      },
      "text/plain": [
       "sub-03_ses-mri_run-1_echo-3_FLASH.nii.gz:   0%|          | 0.00/13.7M [00:00<?, ?B/s]"
      ]
     },
     "metadata": {},
     "output_type": "display_data"
    },
    {
     "data": {
      "application/vnd.jupyter.widget-view+json": {
       "model_id": "ee260789a09d4e60a7ac95bb147cc3a3",
       "version_major": 2,
       "version_minor": 0
      },
      "text/plain": [
       "sub-13_ses-mri_run-1_echo-2_FLASH.nii.gz:   0%|          | 0.00/12.9M [00:00<?, ?B/s]"
      ]
     },
     "metadata": {},
     "output_type": "display_data"
    },
    {
     "data": {
      "application/vnd.jupyter.widget-view+json": {
       "model_id": "e5ef4d0cc8354d0f852d29c06514583f",
       "version_major": 2,
       "version_minor": 0
      },
      "text/plain": [
       "sub-05_ses-mri_run-1_echo-1_FLASH.nii.gz:   0%|          | 0.00/13.0M [00:00<?, ?B/s]"
      ]
     },
     "metadata": {},
     "output_type": "display_data"
    },
    {
     "data": {
      "application/vnd.jupyter.widget-view+json": {
       "model_id": "892b48240c394d73a117bcfe83932c1e",
       "version_major": 2,
       "version_minor": 0
      },
      "text/plain": [
       "sub-10_ses-mri_run-1_echo-1_FLASH.nii.gz:   0%|          | 0.00/13.4M [00:00<?, ?B/s]"
      ]
     },
     "metadata": {},
     "output_type": "display_data"
    },
    {
     "data": {
      "application/vnd.jupyter.widget-view+json": {
       "model_id": "38f5ba2cdfcb45cda79c105d3c733dcc",
       "version_major": 2,
       "version_minor": 0
      },
      "text/plain": [
       "sub-07_ses-mri_run-1_echo-4_FLASH.nii.gz:   0%|          | 0.00/13.2M [00:00<?, ?B/s]"
      ]
     },
     "metadata": {},
     "output_type": "display_data"
    },
    {
     "data": {
      "application/vnd.jupyter.widget-view+json": {
       "model_id": "74f5ddc896544241a0d8dfb809466d3a",
       "version_major": 2,
       "version_minor": 0
      },
      "text/plain": [
       "sub-11_ses-mri_run-1_echo-4_FLASH.nii.gz:   0%|          | 0.00/12.5M [00:00<?, ?B/s]"
      ]
     },
     "metadata": {},
     "output_type": "display_data"
    },
    {
     "data": {
      "application/vnd.jupyter.widget-view+json": {
       "model_id": "05f57343e09a4b87b22e4acffbbf1bad",
       "version_major": 2,
       "version_minor": 0
      },
      "text/plain": [
       "sub-14_ses-mri_run-1_echo-3_FLASH.nii.gz:   0%|          | 0.00/12.7M [00:00<?, ?B/s]"
      ]
     },
     "metadata": {},
     "output_type": "display_data"
    },
    {
     "data": {
      "application/vnd.jupyter.widget-view+json": {
       "model_id": "d6c59dac70164e78a39dd9fb1fddd050",
       "version_major": 2,
       "version_minor": 0
      },
      "text/plain": [
       "sub-01_ses-mri_run-1_echo-3_FLASH.nii.gz:   0%|          | 0.00/12.7M [00:00<?, ?B/s]"
      ]
     },
     "metadata": {},
     "output_type": "display_data"
    },
    {
     "data": {
      "application/vnd.jupyter.widget-view+json": {
       "model_id": "73eac4252db0465495948effb5e652f1",
       "version_major": 2,
       "version_minor": 0
      },
      "text/plain": [
       "sub-02_ses-mri_acq-mprage_T1w.nii.gz:   0%|          | 0.00/12.2M [00:00<?, ?B/s]"
      ]
     },
     "metadata": {},
     "output_type": "display_data"
    },
    {
     "data": {
      "application/vnd.jupyter.widget-view+json": {
       "model_id": "0e3f47fc69154f09b8aa60dee95415c8",
       "version_major": 2,
       "version_minor": 0
      },
      "text/plain": [
       "sub-08_ses-mri_run-1_echo-2_FLASH.nii.gz:   0%|          | 0.00/12.4M [00:00<?, ?B/s]"
      ]
     },
     "metadata": {},
     "output_type": "display_data"
    },
    {
     "data": {
      "application/vnd.jupyter.widget-view+json": {
       "model_id": "990bc0db1e514655a2a3cee9e2ff400f",
       "version_major": 2,
       "version_minor": 0
      },
      "text/plain": [
       "sub-01_ses-mri_run-1_echo-1_FLASH.nii.gz:   0%|          | 0.00/12.7M [00:00<?, ?B/s]"
      ]
     },
     "metadata": {},
     "output_type": "display_data"
    },
    {
     "data": {
      "application/vnd.jupyter.widget-view+json": {
       "model_id": "c14993fd7c1b44cbb0573e4113574d31",
       "version_major": 2,
       "version_minor": 0
      },
      "text/plain": [
       "sub-05_ses-mri_run-1_echo-3_FLASH.nii.gz:   0%|          | 0.00/12.9M [00:00<?, ?B/s]"
      ]
     },
     "metadata": {},
     "output_type": "display_data"
    },
    {
     "data": {
      "application/vnd.jupyter.widget-view+json": {
       "model_id": "e7dd9487484d420eae44d9890162fc43",
       "version_major": 2,
       "version_minor": 0
      },
      "text/plain": [
       "sub-09_ses-mri_run-1_echo-2_FLASH.nii.gz:   0%|          | 0.00/12.7M [00:00<?, ?B/s]"
      ]
     },
     "metadata": {},
     "output_type": "display_data"
    },
    {
     "data": {
      "application/vnd.jupyter.widget-view+json": {
       "model_id": "3e49ccadcbdd4d448e4d9aec48b3e60f",
       "version_major": 2,
       "version_minor": 0
      },
      "text/plain": [
       "sub-07_ses-mri_run-1_echo-3_FLASH.nii.gz:   0%|          | 0.00/13.2M [00:00<?, ?B/s]"
      ]
     },
     "metadata": {},
     "output_type": "display_data"
    },
    {
     "data": {
      "application/vnd.jupyter.widget-view+json": {
       "model_id": "997b6582b0ca43d3bbea15734af8b450",
       "version_major": 2,
       "version_minor": 0
      },
      "text/plain": [
       "sub-05_ses-mri_run-1_echo-2_FLASH.nii.gz:   0%|          | 0.00/13.0M [00:00<?, ?B/s]"
      ]
     },
     "metadata": {},
     "output_type": "display_data"
    },
    {
     "data": {
      "application/vnd.jupyter.widget-view+json": {
       "model_id": "3efdafe43b2442b9a1128a15bdfb00a6",
       "version_major": 2,
       "version_minor": 0
      },
      "text/plain": [
       "sub-06_ses-mri_run-1_echo-3_FLASH.nii.gz:   0%|          | 0.00/14.0M [00:00<?, ?B/s]"
      ]
     },
     "metadata": {},
     "output_type": "display_data"
    },
    {
     "data": {
      "application/vnd.jupyter.widget-view+json": {
       "model_id": "51b545f960d54364a82008da01d1d1d9",
       "version_major": 2,
       "version_minor": 0
      },
      "text/plain": [
       "sub-02_ses-mri_run-1_echo-2_FLASH.nii.gz:   0%|          | 0.00/12.5M [00:00<?, ?B/s]"
      ]
     },
     "metadata": {},
     "output_type": "display_data"
    },
    {
     "data": {
      "application/vnd.jupyter.widget-view+json": {
       "model_id": "61367af94192423783990c69332d0949",
       "version_major": 2,
       "version_minor": 0
      },
      "text/plain": [
       "sub-04_ses-mri_run-1_echo-3_FLASH.nii.gz:   0%|          | 0.00/13.3M [00:00<?, ?B/s]"
      ]
     },
     "metadata": {},
     "output_type": "display_data"
    },
    {
     "data": {
      "application/vnd.jupyter.widget-view+json": {
       "model_id": "88d44e6c079d4cfcab5a4ebc1c974810",
       "version_major": 2,
       "version_minor": 0
      },
      "text/plain": [
       "sub-09_ses-mri_run-1_echo-1_FLASH.nii.gz:   0%|          | 0.00/12.7M [00:00<?, ?B/s]"
      ]
     },
     "metadata": {},
     "output_type": "display_data"
    },
    {
     "data": {
      "application/vnd.jupyter.widget-view+json": {
       "model_id": "24657f067cbe4d6797be77b457ef159f",
       "version_major": 2,
       "version_minor": 0
      },
      "text/plain": [
       "sub-15_ses-mri_run-1_echo-3_FLASH.nii.gz:   0%|          | 0.00/13.0M [00:00<?, ?B/s]"
      ]
     },
     "metadata": {},
     "output_type": "display_data"
    },
    {
     "data": {
      "application/vnd.jupyter.widget-view+json": {
       "model_id": "9d2d7c1827a34baead9f05fedfb92fcc",
       "version_major": 2,
       "version_minor": 0
      },
      "text/plain": [
       "sub-04_ses-mri_run-1_echo-1_FLASH.nii.gz:   0%|          | 0.00/13.3M [00:00<?, ?B/s]"
      ]
     },
     "metadata": {},
     "output_type": "display_data"
    },
    {
     "data": {
      "application/vnd.jupyter.widget-view+json": {
       "model_id": "82643859ea0a453cbda9a2aac12d9c0a",
       "version_major": 2,
       "version_minor": 0
      },
      "text/plain": [
       "sub-04_ses-mri_run-1_echo-2_FLASH.nii.gz:   0%|          | 0.00/13.3M [00:00<?, ?B/s]"
      ]
     },
     "metadata": {},
     "output_type": "display_data"
    },
    {
     "data": {
      "application/vnd.jupyter.widget-view+json": {
       "model_id": "82c37bd6056f48039fbc2ca262d26b06",
       "version_major": 2,
       "version_minor": 0
      },
      "text/plain": [
       "sub-04_ses-mri_run-1_echo-7_FLASH.nii.gz:   0%|          | 0.00/13.1M [00:00<?, ?B/s]"
      ]
     },
     "metadata": {},
     "output_type": "display_data"
    },
    {
     "data": {
      "application/vnd.jupyter.widget-view+json": {
       "model_id": "4021efd933244c798bbb2115628588b4",
       "version_major": 2,
       "version_minor": 0
      },
      "text/plain": [
       "sub-01_ses-mri_run-1_echo-6_FLASH.nii.gz:   0%|          | 0.00/12.6M [00:00<?, ?B/s]"
      ]
     },
     "metadata": {},
     "output_type": "display_data"
    },
    {
     "data": {
      "application/vnd.jupyter.widget-view+json": {
       "model_id": "00865cb5d3474ccd833ea39a566df480",
       "version_major": 2,
       "version_minor": 0
      },
      "text/plain": [
       "sub-01_ses-mri_run-1_echo-2_FLASH.nii.gz:   0%|          | 0.00/12.8M [00:00<?, ?B/s]"
      ]
     },
     "metadata": {},
     "output_type": "display_data"
    },
    {
     "data": {
      "application/vnd.jupyter.widget-view+json": {
       "model_id": "f44ada87075949808ed0f05c02d8b7af",
       "version_major": 2,
       "version_minor": 0
      },
      "text/plain": [
       "sub-13_ses-mri_run-1_echo-4_FLASH.nii.gz:   0%|          | 0.00/12.9M [00:00<?, ?B/s]"
      ]
     },
     "metadata": {},
     "output_type": "display_data"
    },
    {
     "data": {
      "application/vnd.jupyter.widget-view+json": {
       "model_id": "bf3f81bfa7494eeaa51c8113fae3c9b4",
       "version_major": 2,
       "version_minor": 0
      },
      "text/plain": [
       "sub-06_ses-mri_acq-mprage_T1w.json:   0%|          | 0.00/45.8k [00:00<?, ?B/s]"
      ]
     },
     "metadata": {},
     "output_type": "display_data"
    },
    {
     "data": {
      "application/vnd.jupyter.widget-view+json": {
       "model_id": "1f0617948db14909b1719a5e7c2d0960",
       "version_major": 2,
       "version_minor": 0
      },
      "text/plain": [
       "sub-14_ses-mri_acq-mprage_T1w.json:   0%|          | 0.00/42.1k [00:00<?, ?B/s]"
      ]
     },
     "metadata": {},
     "output_type": "display_data"
    },
    {
     "data": {
      "application/vnd.jupyter.widget-view+json": {
       "model_id": "8eda35c7bdbb42798d9fd0dd384e5c0b",
       "version_major": 2,
       "version_minor": 0
      },
      "text/plain": [
       "sub-15_ses-mri_run-1_echo-4_FLASH.nii.gz:   0%|          | 0.00/13.0M [00:00<?, ?B/s]"
      ]
     },
     "metadata": {},
     "output_type": "display_data"
    },
    {
     "data": {
      "application/vnd.jupyter.widget-view+json": {
       "model_id": "eb90ca09e94e438dae628425662f67b6",
       "version_major": 2,
       "version_minor": 0
      },
      "text/plain": [
       "sub-08_ses-mri_run-1_echo-4_FLASH.nii.gz:   0%|          | 0.00/12.4M [00:00<?, ?B/s]"
      ]
     },
     "metadata": {},
     "output_type": "display_data"
    },
    {
     "data": {
      "application/vnd.jupyter.widget-view+json": {
       "model_id": "d34fcfae82ee491b992ee8ddab509bf1",
       "version_major": 2,
       "version_minor": 0
      },
      "text/plain": [
       "sub-09_ses-mri_run-1_echo-5_FLASH.nii.gz:   0%|          | 0.00/12.5M [00:00<?, ?B/s]"
      ]
     },
     "metadata": {},
     "output_type": "display_data"
    },
    {
     "name": "stdout",
     "output_type": "stream",
     "text": [
      "🔄 Request timed out while downloading /home/mohamed/Documents/ISN2025/Notebooks/ds000117/sub-13/ses-mri/anat/sub-13_ses-mri_run-1_echo-3_FLASH.nii.gz, retrying in 0.5 sec …\n",
      "🔄 Request timed out while downloading /home/mohamed/Documents/ISN2025/Notebooks/ds000117/sub-10/ses-mri/anat/sub-10_ses-mri_run-1_echo-4_FLASH.nii.gz, retrying in 0.5 sec …\n",
      "🔄 Request timed out while downloading /home/mohamed/Documents/ISN2025/Notebooks/ds000117/sub-15/ses-mri/anat/sub-15_ses-mri_acq-mprage_T1w.nii.gz, retrying in 0.5 sec …\n",
      "🔄 Request timed out while downloading /home/mohamed/Documents/ISN2025/Notebooks/ds000117/sub-06/ses-mri/anat/sub-06_ses-mri_run-1_echo-2_FLASH.nii.gz, retrying in 0.5 sec …\n",
      "🔄 Request timed out while downloading /home/mohamed/Documents/ISN2025/Notebooks/ds000117/sub-12/ses-mri/anat/sub-12_ses-mri_run-1_echo-4_FLASH.nii.gz, retrying in 0.5 sec …\n"
     ]
    },
    {
     "data": {
      "application/vnd.jupyter.widget-view+json": {
       "model_id": "c0b4e72a073445eda617afa844af7919",
       "version_major": 2,
       "version_minor": 0
      },
      "text/plain": [
       "sub-02_ses-mri_acq-mprage_T1w.json:   0%|          | 0.00/45.0k [00:00<?, ?B/s]"
      ]
     },
     "metadata": {},
     "output_type": "display_data"
    },
    {
     "name": "stdout",
     "output_type": "stream",
     "text": [
      "🔄 Request timed out while downloading /home/mohamed/Documents/ISN2025/Notebooks/ds000117/sub-11/ses-mri/anat/sub-11_ses-mri_run-1_echo-2_FLASH.nii.gz, retrying in 0.5 sec …\n",
      "🔄 Request timed out while downloading /home/mohamed/Documents/ISN2025/Notebooks/ds000117/sub-12/ses-mri/anat/sub-12_ses-mri_run-1_echo-2_FLASH.nii.gz, retrying in 0.5 sec …\n",
      "🔄 Request timed out while downloading /home/mohamed/Documents/ISN2025/Notebooks/ds000117/sub-05/ses-mri/anat/sub-05_ses-mri_run-1_echo-4_FLASH.nii.gz, retrying in 0.5 sec …\n",
      "🔄 Request timed out while downloading /home/mohamed/Documents/ISN2025/Notebooks/ds000117/sub-03/ses-mri/anat/sub-03_ses-mri_run-1_echo-7_FLASH.nii.gz, retrying in 0.5 sec …\n"
     ]
    },
    {
     "data": {
      "application/vnd.jupyter.widget-view+json": {
       "model_id": "3a711a77e4944edba983cee0dcaacf3e",
       "version_major": 2,
       "version_minor": 0
      },
      "text/plain": [
       "sub-14_ses-mri_acq-mprage_T1w.nii.gz:   0%|          | 0.00/12.5M [00:00<?, ?B/s]"
      ]
     },
     "metadata": {},
     "output_type": "display_data"
    },
    {
     "data": {
      "application/vnd.jupyter.widget-view+json": {
       "model_id": "46a2e644dc2a40f1b57a69273d426679",
       "version_major": 2,
       "version_minor": 0
      },
      "text/plain": [
       "sub-09_ses-mri_run-1_echo-3_FLASH.nii.gz:   0%|          | 0.00/12.6M [00:00<?, ?B/s]"
      ]
     },
     "metadata": {},
     "output_type": "display_data"
    },
    {
     "name": "stdout",
     "output_type": "stream",
     "text": [
      "🔄 Request timed out while downloading /home/mohamed/Documents/ISN2025/Notebooks/ds000117/sub-16/ses-mri/func/derivatives/freesurfer/sub-02/ses-mri/anat/label/lh.BA.thresh.annot, retrying in 0.5 sec …\n",
      "🔄 Request timed out while downloading /home/mohamed/Documents/ISN2025/Notebooks/ds000117/sub-01/ses-mri/anat/sub-01_ses-mri_run-1_echo-6_FLASH.nii.gz, retrying in 0.5 sec …\n",
      "🔄 Request timed out while downloading /home/mohamed/Documents/ISN2025/Notebooks/ds000117/sub-05/ses-mri/anat/sub-05_ses-mri_acq-mprage_T1w.nii.gz, retrying in 0.5 sec …\n",
      "🔄 Request timed out while downloading /home/mohamed/Documents/ISN2025/Notebooks/ds000117/sub-14/ses-mri/anat/sub-14_ses-mri_acq-mprage_T1w.json, retrying in 0.5 sec …\n"
     ]
    },
    {
     "data": {
      "application/vnd.jupyter.widget-view+json": {
       "model_id": "750b840339114e5e9d728157cbd3120f",
       "version_major": 2,
       "version_minor": 0
      },
      "text/plain": [
       "sub-12_ses-mri_run-1_echo-5_FLASH.nii.gz:   0%|          | 0.00/13.3M [00:00<?, ?B/s]"
      ]
     },
     "metadata": {},
     "output_type": "display_data"
    },
    {
     "data": {
      "application/vnd.jupyter.widget-view+json": {
       "model_id": "badcc4dfcc9b417d83d4a9f80551dc44",
       "version_major": 2,
       "version_minor": 0
      },
      "text/plain": [
       "sub-06_ses-mri_run-1_echo-5_FLASH.nii.gz:   0%|          | 0.00/13.9M [00:00<?, ?B/s]"
      ]
     },
     "metadata": {},
     "output_type": "display_data"
    },
    {
     "data": {
      "application/vnd.jupyter.widget-view+json": {
       "model_id": "6552bcb0917748959ff49c1f7caed9ed",
       "version_major": 2,
       "version_minor": 0
      },
      "text/plain": [
       "sub-11_ses-mri_run-1_echo-6_FLASH.nii.gz:   0%|          | 0.00/12.4M [00:00<?, ?B/s]"
      ]
     },
     "metadata": {},
     "output_type": "display_data"
    },
    {
     "data": {
      "application/vnd.jupyter.widget-view+json": {
       "model_id": "5ad2ef4faaa04edcaf4b2fd0dced67db",
       "version_major": 2,
       "version_minor": 0
      },
      "text/plain": [
       "sub-10_ses-mri_run-1_echo-5_FLASH.nii.gz:   0%|          | 0.00/13.2M [00:00<?, ?B/s]"
      ]
     },
     "metadata": {},
     "output_type": "display_data"
    },
    {
     "data": {
      "application/vnd.jupyter.widget-view+json": {
       "model_id": "82603d174c734c4a8c46a7574ce4c93f",
       "version_major": 2,
       "version_minor": 0
      },
      "text/plain": [
       "sub-06_ses-mri_run-1_echo-4_FLASH.nii.gz:   0%|          | 0.00/14.0M [00:00<?, ?B/s]"
      ]
     },
     "metadata": {},
     "output_type": "display_data"
    },
    {
     "data": {
      "application/vnd.jupyter.widget-view+json": {
       "model_id": "08357a8769cc4660a2fadd1dad2b71b7",
       "version_major": 2,
       "version_minor": 0
      },
      "text/plain": [
       "sub-13_ses-mri_run-1_echo-5_FLASH.nii.gz:   0%|          | 0.00/12.8M [00:00<?, ?B/s]"
      ]
     },
     "metadata": {},
     "output_type": "display_data"
    },
    {
     "data": {
      "application/vnd.jupyter.widget-view+json": {
       "model_id": "32306f43d0c441869e56c099092690ca",
       "version_major": 2,
       "version_minor": 0
      },
      "text/plain": [
       "sub-12_ses-mri_run-1_echo-7_FLASH.nii.gz:   0%|          | 0.00/13.2M [00:00<?, ?B/s]"
      ]
     },
     "metadata": {},
     "output_type": "display_data"
    },
    {
     "data": {
      "application/vnd.jupyter.widget-view+json": {
       "model_id": "60b890025b3a4837b6b46569a0d117a2",
       "version_major": 2,
       "version_minor": 0
      },
      "text/plain": [
       "sub-15_ses-mri_run-1_echo-5_FLASH.nii.gz:   0%|          | 0.00/12.9M [00:00<?, ?B/s]"
      ]
     },
     "metadata": {},
     "output_type": "display_data"
    },
    {
     "data": {
      "application/vnd.jupyter.widget-view+json": {
       "model_id": "df72e4f937aa492693ab19cf28ded527",
       "version_major": 2,
       "version_minor": 0
      },
      "text/plain": [
       "sub-03_ses-mri_run-1_echo-5_FLASH.nii.gz:   0%|          | 0.00/13.5M [00:00<?, ?B/s]"
      ]
     },
     "metadata": {},
     "output_type": "display_data"
    },
    {
     "data": {
      "application/vnd.jupyter.widget-view+json": {
       "model_id": "93df7b6e1d594f129c235114d0168e97",
       "version_major": 2,
       "version_minor": 0
      },
      "text/plain": [
       "sub-05_ses-mri_run-1_echo-7_FLASH.nii.gz:   0%|          | 0.00/12.7M [00:00<?, ?B/s]"
      ]
     },
     "metadata": {},
     "output_type": "display_data"
    },
    {
     "data": {
      "application/vnd.jupyter.widget-view+json": {
       "model_id": "41225dacfe904454a97f3b92809b7e4e",
       "version_major": 2,
       "version_minor": 0
      },
      "text/plain": [
       "sub-02_ses-mri_run-1_echo-5_FLASH.nii.gz:   0%|          | 0.00/12.3M [00:00<?, ?B/s]"
      ]
     },
     "metadata": {},
     "output_type": "display_data"
    },
    {
     "data": {
      "application/vnd.jupyter.widget-view+json": {
       "model_id": "eb29d4e033f74c1ca067b8db914cc34f",
       "version_major": 2,
       "version_minor": 0
      },
      "text/plain": [
       "sub-01_ses-mri_run-1_echo-5_FLASH.nii.gz:   0%|          | 0.00/12.6M [00:00<?, ?B/s]"
      ]
     },
     "metadata": {},
     "output_type": "display_data"
    },
    {
     "data": {
      "application/vnd.jupyter.widget-view+json": {
       "model_id": "0ac1f62ddf3448cebec915f3757ad159",
       "version_major": 2,
       "version_minor": 0
      },
      "text/plain": [
       "sub-14_ses-mri_run-1_echo-7_FLASH.nii.gz:   0%|          | 0.00/12.5M [00:00<?, ?B/s]"
      ]
     },
     "metadata": {},
     "output_type": "display_data"
    },
    {
     "data": {
      "application/vnd.jupyter.widget-view+json": {
       "model_id": "6cbc50e4eb914f3a8101cde964f6e015",
       "version_major": 2,
       "version_minor": 0
      },
      "text/plain": [
       "sub-05_ses-mri_run-1_echo-5_FLASH.nii.gz:   0%|          | 0.00/12.8M [00:00<?, ?B/s]"
      ]
     },
     "metadata": {},
     "output_type": "display_data"
    },
    {
     "data": {
      "application/vnd.jupyter.widget-view+json": {
       "model_id": "7547cd51b54c4157a92017a0e3710bb0",
       "version_major": 2,
       "version_minor": 0
      },
      "text/plain": [
       "sub-08_ses-mri_run-1_echo-7_FLASH.nii.gz:   0%|          | 0.00/12.2M [00:00<?, ?B/s]"
      ]
     },
     "metadata": {},
     "output_type": "display_data"
    },
    {
     "data": {
      "application/vnd.jupyter.widget-view+json": {
       "model_id": "2236bcf6101f48ebb3a15e983f5bd7a4",
       "version_major": 2,
       "version_minor": 0
      },
      "text/plain": [
       "sub-06_ses-mri_run-1_echo-6_FLASH.nii.gz:   0%|          | 0.00/13.8M [00:00<?, ?B/s]"
      ]
     },
     "metadata": {},
     "output_type": "display_data"
    },
    {
     "data": {
      "application/vnd.jupyter.widget-view+json": {
       "model_id": "963cf9b14c0c4ffeb8bed039a3213ea7",
       "version_major": 2,
       "version_minor": 0
      },
      "text/plain": [
       "sub-12_ses-mri_run-1_echo-6_FLASH.nii.gz:   0%|          | 0.00/13.2M [00:00<?, ?B/s]"
      ]
     },
     "metadata": {},
     "output_type": "display_data"
    },
    {
     "data": {
      "application/vnd.jupyter.widget-view+json": {
       "model_id": "7b3c4c9b66c14e97a8f3945e59abcb8e",
       "version_major": 2,
       "version_minor": 0
      },
      "text/plain": [
       "sub-08_ses-mri_run-1_echo-6_FLASH.nii.gz:   0%|          | 0.00/12.3M [00:00<?, ?B/s]"
      ]
     },
     "metadata": {},
     "output_type": "display_data"
    },
    {
     "name": "stderr",
     "output_type": "stream",
     "text": [
      "IOPub message rate exceeded.\n",
      "The Jupyter server will temporarily stop sending output\n",
      "to the client in order to avoid crashing it.\n",
      "To change this limit, set the config variable\n",
      "`--ServerApp.iopub_msg_rate_limit`.\n",
      "\n",
      "Current values:\n",
      "ServerApp.iopub_msg_rate_limit=1000.0 (msgs/sec)\n",
      "ServerApp.rate_limit_window=3.0 (secs)\n",
      "\n"
     ]
    },
    {
     "data": {
      "application/vnd.jupyter.widget-view+json": {
       "model_id": "9f90e932551441d786c58f592058c596",
       "version_major": 2,
       "version_minor": 0
      },
      "text/plain": [
       "sub-06_ses-mri_run-1_echo-7_FLASH.nii.gz:   0%|          | 0.00/13.7M [00:00<?, ?B/s]"
      ]
     },
     "metadata": {},
     "output_type": "display_data"
    },
    {
     "data": {
      "application/vnd.jupyter.widget-view+json": {
       "model_id": "0eb9fbe65d574ddebf9c9bd2ea2c2051",
       "version_major": 2,
       "version_minor": 0
      },
      "text/plain": [
       "sub-12_ses-mri_run-2_echo-2_FLASH.nii.gz:   0%|          | 0.00/13.5M [00:00<?, ?B/s]"
      ]
     },
     "metadata": {},
     "output_type": "display_data"
    },
    {
     "data": {
      "application/vnd.jupyter.widget-view+json": {
       "model_id": "24f242d4af9a47abbcc8fba09010f956",
       "version_major": 2,
       "version_minor": 0
      },
      "text/plain": [
       "sub-06_ses-mri_run-2_echo-1_FLASH.nii.gz:   0%|          | 0.00/13.8M [00:00<?, ?B/s]"
      ]
     },
     "metadata": {},
     "output_type": "display_data"
    },
    {
     "name": "stdout",
     "output_type": "stream",
     "text": [
      "🔄 Request timed out while downloading /home/mohamed/Documents/ISN2025/Notebooks/ds000117/sub-01/ses-mri/anat/sub-01_ses-mri_run-1_echo-4_FLASH.nii.gz, retrying in 0.5 sec …\n",
      "🔄 Request timed out while downloading /home/mohamed/Documents/ISN2025/Notebooks/ds000117/sub-16/ses-mri/func/derivatives/freesurfer/sub-05/ses-mri/anat/surf/lh.white, retrying in 0.5 sec …\n",
      "🔄 Request timed out while downloading /home/mohamed/Documents/ISN2025/Notebooks/ds000117/sub-01/ses-mri/anat/sub-01_ses-mri_run-2_echo-1_FLASH.nii.gz, retrying in 0.5 sec …\n"
     ]
    },
    {
     "data": {
      "application/vnd.jupyter.widget-view+json": {
       "model_id": "7443917a699e4eea9929c0375660c9d3",
       "version_major": 2,
       "version_minor": 0
      },
      "text/plain": [
       "sub-08_ses-mri_run-2_echo-1_FLASH.nii.gz:   0%|          | 0.00/12.5M [00:00<?, ?B/s]"
      ]
     },
     "metadata": {},
     "output_type": "display_data"
    },
    {
     "data": {
      "application/vnd.jupyter.widget-view+json": {
       "model_id": "28b2142c7b4242588d461de7e5486dd6",
       "version_major": 2,
       "version_minor": 0
      },
      "text/plain": [
       "sub-09_ses-mri_run-1_echo-4_FLASH.nii.gz:   0%|          | 0.00/12.6M [00:00<?, ?B/s]"
      ]
     },
     "metadata": {},
     "output_type": "display_data"
    },
    {
     "name": "stderr",
     "output_type": "stream",
     "text": [
      "IOPub message rate exceeded.\n",
      "The Jupyter server will temporarily stop sending output\n",
      "to the client in order to avoid crashing it.\n",
      "To change this limit, set the config variable\n",
      "`--ServerApp.iopub_msg_rate_limit`.\n",
      "\n",
      "Current values:\n",
      "ServerApp.iopub_msg_rate_limit=1000.0 (msgs/sec)\n",
      "ServerApp.rate_limit_window=3.0 (secs)\n",
      "\n"
     ]
    },
    {
     "data": {
      "application/vnd.jupyter.widget-view+json": {
       "model_id": "fa6c0273e5554fb494b64ab62dde73ca",
       "version_major": 2,
       "version_minor": 0
      },
      "text/plain": [
       "sub-10_ses-mri_run-1_echo-6_FLASH.nii.gz:   0%|          | 0.00/13.2M [00:00<?, ?B/s]"
      ]
     },
     "metadata": {},
     "output_type": "display_data"
    },
    {
     "data": {
      "application/vnd.jupyter.widget-view+json": {
       "model_id": "61061ee9a1644b7491b3d0d68d69a92a",
       "version_major": 2,
       "version_minor": 0
      },
      "text/plain": [
       "sub-11_ses-mri_run-2_echo-1_FLASH.nii.gz:   0%|          | 0.00/12.8M [00:00<?, ?B/s]"
      ]
     },
     "metadata": {},
     "output_type": "display_data"
    },
    {
     "data": {
      "application/vnd.jupyter.widget-view+json": {
       "model_id": "da850aaf9bd84743bff52c269065edc1",
       "version_major": 2,
       "version_minor": 0
      },
      "text/plain": [
       "sub-03_ses-mri_run-1_echo-6_FLASH.nii.gz:   0%|          | 0.00/13.5M [00:00<?, ?B/s]"
      ]
     },
     "metadata": {},
     "output_type": "display_data"
    },
    {
     "data": {
      "application/vnd.jupyter.widget-view+json": {
       "model_id": "f86d54672bc3486ea04608d263e0863b",
       "version_major": 2,
       "version_minor": 0
      },
      "text/plain": [
       "sub-14_ses-mri_run-1_echo-6_FLASH.nii.gz:   0%|          | 0.00/12.6M [00:00<?, ?B/s]"
      ]
     },
     "metadata": {},
     "output_type": "display_data"
    },
    {
     "name": "stdout",
     "output_type": "stream",
     "text": [
      "🔄 Request timed out while downloading /home/mohamed/Documents/ISN2025/Notebooks/ds000117/sub-16/ses-mri/func/derivatives/freesurfer/sub-07/ses-mri/anat/label/lh.aparc.a2009s.annot, retrying in 0.5 sec …\n",
      "🔄 Request timed out while downloading /home/mohamed/Documents/ISN2025/Notebooks/ds000117/sub-16/ses-mri/func/derivatives/freesurfer/sub-07/ses-mri/anat/label/lh.aparc.annot, retrying in 0.5 sec …\n"
     ]
    },
    {
     "data": {
      "application/vnd.jupyter.widget-view+json": {
       "model_id": "bf12b417479b4609a1dda17f18979286",
       "version_major": 2,
       "version_minor": 0
      },
      "text/plain": [
       "sub-08_ses-mri_run-1_echo-5_FLASH.nii.gz:   0%|          | 0.00/12.3M [00:00<?, ?B/s]"
      ]
     },
     "metadata": {},
     "output_type": "display_data"
    },
    {
     "name": "stdout",
     "output_type": "stream",
     "text": [
      "🔄 Request timed out while downloading /home/mohamed/Documents/ISN2025/Notebooks/ds000117/sub-03/ses-mri/anat/sub-03_ses-mri_run-1_echo-4_FLASH.nii.gz, retrying in 0.5 sec …\n",
      "🔄 Request timed out while downloading /home/mohamed/Documents/ISN2025/Notebooks/ds000117/sub-16/ses-mri/func/derivatives/freesurfer/sub-08/ses-mri/anat/label/lh.BA.thresh.annot, retrying in 0.5 sec …\n",
      "🔄 Request timed out while downloading /home/mohamed/Documents/ISN2025/Notebooks/ds000117/sub-16/ses-mri/func/derivatives/freesurfer/sub-08/ses-mri/anat/label/lh.aparc.DKTatlas40.annot, retrying in 0.5 sec …\n",
      "🔄 Request timed out while downloading /home/mohamed/Documents/ISN2025/Notebooks/ds000117/sub-16/ses-mri/func/derivatives/freesurfer/sub-08/ses-mri/anat/label/lh.aparc.a2009s.annot, retrying in 0.5 sec …\n"
     ]
    },
    {
     "data": {
      "application/vnd.jupyter.widget-view+json": {
       "model_id": "88e72868792243cda413de40ad8481f6",
       "version_major": 2,
       "version_minor": 0
      },
      "text/plain": [
       "sub-06_ses-mri_run-2_echo-3_FLASH.nii.gz:   0%|          | 0.00/14.0M [00:00<?, ?B/s]"
      ]
     },
     "metadata": {},
     "output_type": "display_data"
    },
    {
     "data": {
      "application/vnd.jupyter.widget-view+json": {
       "model_id": "e0c66be6d4704b88819861081040f547",
       "version_major": 2,
       "version_minor": 0
      },
      "text/plain": [
       "sub-12_ses-mri_run-2_echo-4_FLASH.nii.gz:   0%|          | 0.00/13.4M [00:00<?, ?B/s]"
      ]
     },
     "metadata": {},
     "output_type": "display_data"
    },
    {
     "data": {
      "application/vnd.jupyter.widget-view+json": {
       "model_id": "4475e0caec714823a4b187d9a174eea7",
       "version_major": 2,
       "version_minor": 0
      },
      "text/plain": [
       "sub-09_ses-mri_run-1_echo-7_FLASH.nii.gz:   0%|          | 0.00/12.4M [00:00<?, ?B/s]"
      ]
     },
     "metadata": {},
     "output_type": "display_data"
    },
    {
     "data": {
      "application/vnd.jupyter.widget-view+json": {
       "model_id": "8bbd3d339beb4f9b9272aa18aab2a42e",
       "version_major": 2,
       "version_minor": 0
      },
      "text/plain": [
       "sub-01_ses-mri_run-2_echo-4_FLASH.nii.gz:   0%|          | 0.00/12.7M [00:00<?, ?B/s]"
      ]
     },
     "metadata": {},
     "output_type": "display_data"
    },
    {
     "data": {
      "application/vnd.jupyter.widget-view+json": {
       "model_id": "2225dc3288c446b0a898eef2a65ca056",
       "version_major": 2,
       "version_minor": 0
      },
      "text/plain": [
       "sub-03_ses-mri_run-2_echo-1_FLASH.nii.gz:   0%|          | 0.00/14.1M [00:00<?, ?B/s]"
      ]
     },
     "metadata": {},
     "output_type": "display_data"
    },
    {
     "data": {
      "application/vnd.jupyter.widget-view+json": {
       "model_id": "4cca760260c540818fcd8a0cf38e7866",
       "version_major": 2,
       "version_minor": 0
      },
      "text/plain": [
       "sub-13_ses-mri_run-2_echo-1_FLASH.nii.gz:   0%|          | 0.00/13.2M [00:00<?, ?B/s]"
      ]
     },
     "metadata": {},
     "output_type": "display_data"
    },
    {
     "data": {
      "application/vnd.jupyter.widget-view+json": {
       "model_id": "b5b700a3eb7a401da85226789e464a90",
       "version_major": 2,
       "version_minor": 0
      },
      "text/plain": [
       "sub-02_ses-mri_run-1_echo-6_FLASH.nii.gz:   0%|          | 0.00/12.3M [00:00<?, ?B/s]"
      ]
     },
     "metadata": {},
     "output_type": "display_data"
    },
    {
     "data": {
      "application/vnd.jupyter.widget-view+json": {
       "model_id": "7feeb8dd37e6449ebc04f29a74351b98",
       "version_major": 2,
       "version_minor": 0
      },
      "text/plain": [
       "sub-01_ses-mri_run-2_echo-3_FLASH.nii.gz:   0%|          | 0.00/12.7M [00:00<?, ?B/s]"
      ]
     },
     "metadata": {},
     "output_type": "display_data"
    },
    {
     "data": {
      "application/vnd.jupyter.widget-view+json": {
       "model_id": "69f7f82f6fa141f7aed76b1a23507090",
       "version_major": 2,
       "version_minor": 0
      },
      "text/plain": [
       "sub-10_ses-mri_run-1_echo-7_FLASH.nii.gz:   0%|          | 0.00/13.1M [00:00<?, ?B/s]"
      ]
     },
     "metadata": {},
     "output_type": "display_data"
    },
    {
     "data": {
      "application/vnd.jupyter.widget-view+json": {
       "model_id": "661137fa5c42412781e32ceaf1a24e4a",
       "version_major": 2,
       "version_minor": 0
      },
      "text/plain": [
       "sub-05_ses-mri_run-1_echo-6_FLASH.nii.gz:   0%|          | 0.00/12.8M [00:00<?, ?B/s]"
      ]
     },
     "metadata": {},
     "output_type": "display_data"
    },
    {
     "data": {
      "application/vnd.jupyter.widget-view+json": {
       "model_id": "80870259d0b44d9da934e4c8c5e63e87",
       "version_major": 2,
       "version_minor": 0
      },
      "text/plain": [
       "sub-01_ses-mri_run-2_echo-6_FLASH.nii.gz:   0%|          | 0.00/12.4M [00:00<?, ?B/s]"
      ]
     },
     "metadata": {},
     "output_type": "display_data"
    },
    {
     "data": {
      "application/vnd.jupyter.widget-view+json": {
       "model_id": "e067875e4ac5489284125a061a5f89ee",
       "version_major": 2,
       "version_minor": 0
      },
      "text/plain": [
       "sub-09_ses-mri_run-1_echo-6_FLASH.nii.gz:   0%|          | 0.00/12.5M [00:00<?, ?B/s]"
      ]
     },
     "metadata": {},
     "output_type": "display_data"
    },
    {
     "data": {
      "application/vnd.jupyter.widget-view+json": {
       "model_id": "4874ae5a810a48529e9adb006b4795f1",
       "version_major": 2,
       "version_minor": 0
      },
      "text/plain": [
       "sub-03_ses-mri_run-2_echo-3_FLASH.nii.gz:   0%|          | 0.00/13.8M [00:00<?, ?B/s]"
      ]
     },
     "metadata": {},
     "output_type": "display_data"
    },
    {
     "name": "stderr",
     "output_type": "stream",
     "text": [
      "IOPub message rate exceeded.\n",
      "The Jupyter server will temporarily stop sending output\n",
      "to the client in order to avoid crashing it.\n",
      "To change this limit, set the config variable\n",
      "`--ServerApp.iopub_msg_rate_limit`.\n",
      "\n",
      "Current values:\n",
      "ServerApp.iopub_msg_rate_limit=1000.0 (msgs/sec)\n",
      "ServerApp.rate_limit_window=3.0 (secs)\n",
      "\n"
     ]
    },
    {
     "data": {
      "application/vnd.jupyter.widget-view+json": {
       "model_id": "45e867786bbf41a9888bee63582e063b",
       "version_major": 2,
       "version_minor": 0
      },
      "text/plain": [
       "sub-13_ses-mri_run-1_echo-6_FLASH.nii.gz:   0%|          | 0.00/12.8M [00:00<?, ?B/s]"
      ]
     },
     "metadata": {},
     "output_type": "display_data"
    },
    {
     "data": {
      "application/vnd.jupyter.widget-view+json": {
       "model_id": "743326b489cb421e813e9bf201826500",
       "version_major": 2,
       "version_minor": 0
      },
      "text/plain": [
       "sub-02_ses-mri_run-2_echo-1_FLASH.nii.gz:   0%|          | 0.00/12.7M [00:00<?, ?B/s]"
      ]
     },
     "metadata": {},
     "output_type": "display_data"
    },
    {
     "data": {
      "application/vnd.jupyter.widget-view+json": {
       "model_id": "2d3b46c9d4b8452499997ef1ecef9825",
       "version_major": 2,
       "version_minor": 0
      },
      "text/plain": [
       "sub-13_ses-mri_run-1_echo-7_FLASH.nii.gz:   0%|          | 0.00/12.8M [00:00<?, ?B/s]"
      ]
     },
     "metadata": {},
     "output_type": "display_data"
    },
    {
     "data": {
      "application/vnd.jupyter.widget-view+json": {
       "model_id": "5852bcd33fc5420ca072a548cece9d95",
       "version_major": 2,
       "version_minor": 0
      },
      "text/plain": [
       "sub-08_ses-mri_run-2_echo-3_FLASH.nii.gz:   0%|          | 0.00/12.3M [00:00<?, ?B/s]"
      ]
     },
     "metadata": {},
     "output_type": "display_data"
    },
    {
     "data": {
      "application/vnd.jupyter.widget-view+json": {
       "model_id": "78841d6d4e9a41f29e85420ec59c3197",
       "version_major": 2,
       "version_minor": 0
      },
      "text/plain": [
       "sub-11_ses-mri_run-1_echo-5_FLASH.nii.gz:   0%|          | 0.00/12.4M [00:00<?, ?B/s]"
      ]
     },
     "metadata": {},
     "output_type": "display_data"
    },
    {
     "data": {
      "application/vnd.jupyter.widget-view+json": {
       "model_id": "3bdae5f73071492c9825370244e8fc11",
       "version_major": 2,
       "version_minor": 0
      },
      "text/plain": [
       "sub-05_ses-mri_run-2_echo-1_FLASH.nii.gz:   0%|          | 0.00/13.4M [00:00<?, ?B/s]"
      ]
     },
     "metadata": {},
     "output_type": "display_data"
    },
    {
     "data": {
      "application/vnd.jupyter.widget-view+json": {
       "model_id": "c8acc47c6f5d486089dffd5a3358831e",
       "version_major": 2,
       "version_minor": 0
      },
      "text/plain": [
       "sub-12_ses-mri_run-2_echo-3_FLASH.nii.gz:   0%|          | 0.00/13.4M [00:00<?, ?B/s]"
      ]
     },
     "metadata": {},
     "output_type": "display_data"
    },
    {
     "data": {
      "application/vnd.jupyter.widget-view+json": {
       "model_id": "c58263616eeb4af6bdb320f7d1d67d1e",
       "version_major": 2,
       "version_minor": 0
      },
      "text/plain": [
       "sub-06_ses-mri_run-2_echo-4_FLASH.nii.gz:   0%|          | 0.00/14.0M [00:00<?, ?B/s]"
      ]
     },
     "metadata": {},
     "output_type": "display_data"
    },
    {
     "data": {
      "application/vnd.jupyter.widget-view+json": {
       "model_id": "2ae1682776a943aea322157af0f4c274",
       "version_major": 2,
       "version_minor": 0
      },
      "text/plain": [
       "sub-06_ses-mri_run-2_echo-5_FLASH.nii.gz:   0%|          | 0.00/13.9M [00:00<?, ?B/s]"
      ]
     },
     "metadata": {},
     "output_type": "display_data"
    },
    {
     "data": {
      "application/vnd.jupyter.widget-view+json": {
       "model_id": "86e7ccef86d9412bb045d917ca8d1495",
       "version_major": 2,
       "version_minor": 0
      },
      "text/plain": [
       "sub-11_ses-mri_run-1_echo-7_FLASH.nii.gz:   0%|          | 0.00/12.3M [00:00<?, ?B/s]"
      ]
     },
     "metadata": {},
     "output_type": "display_data"
    },
    {
     "data": {
      "application/vnd.jupyter.widget-view+json": {
       "model_id": "4635ff65d78a4e7eb1712bf722d824d9",
       "version_major": 2,
       "version_minor": 0
      },
      "text/plain": [
       "sub-08_ses-mri_run-2_echo-4_FLASH.nii.gz:   0%|          | 0.00/12.2M [00:00<?, ?B/s]"
      ]
     },
     "metadata": {},
     "output_type": "display_data"
    },
    {
     "data": {
      "application/vnd.jupyter.widget-view+json": {
       "model_id": "6dbbc77dc7ae412b87be2ced45d3555e",
       "version_major": 2,
       "version_minor": 0
      },
      "text/plain": [
       "sub-07_ses-mri_run-1_echo-6_FLASH.nii.gz:   0%|          | 0.00/13.0M [00:00<?, ?B/s]"
      ]
     },
     "metadata": {},
     "output_type": "display_data"
    },
    {
     "data": {
      "application/vnd.jupyter.widget-view+json": {
       "model_id": "fa153bdbaf80473e8d194cf706efae9e",
       "version_major": 2,
       "version_minor": 0
      },
      "text/plain": [
       "sub-08_ses-mri_run-2_echo-2_FLASH.nii.gz:   0%|          | 0.00/12.3M [00:00<?, ?B/s]"
      ]
     },
     "metadata": {},
     "output_type": "display_data"
    },
    {
     "data": {
      "application/vnd.jupyter.widget-view+json": {
       "model_id": "ba4a4011e3394797a8699ce96b649eae",
       "version_major": 2,
       "version_minor": 0
      },
      "text/plain": [
       "sub-03_ses-mri_run-2_echo-5_FLASH.nii.gz:   0%|          | 0.00/13.6M [00:00<?, ?B/s]"
      ]
     },
     "metadata": {},
     "output_type": "display_data"
    },
    {
     "data": {
      "application/vnd.jupyter.widget-view+json": {
       "model_id": "e18fbb202d46461681b078a2cd3186ae",
       "version_major": 2,
       "version_minor": 0
      },
      "text/plain": [
       "sub-03_ses-mri_run-2_echo-6_FLASH.nii.gz:   0%|          | 0.00/13.4M [00:00<?, ?B/s]"
      ]
     },
     "metadata": {},
     "output_type": "display_data"
    },
    {
     "data": {
      "application/vnd.jupyter.widget-view+json": {
       "model_id": "764aef0900194457b9f05a09b1429443",
       "version_major": 2,
       "version_minor": 0
      },
      "text/plain": [
       "sub-14_ses-mri_run-1_echo-4_FLASH.nii.gz:   0%|          | 0.00/12.7M [00:00<?, ?B/s]"
      ]
     },
     "metadata": {},
     "output_type": "display_data"
    },
    {
     "data": {
      "application/vnd.jupyter.widget-view+json": {
       "model_id": "781f755d572a485c9b2d10e95edb423f",
       "version_major": 2,
       "version_minor": 0
      },
      "text/plain": [
       "sub-10_ses-mri_run-2_echo-1_FLASH.nii.gz:   0%|          | 0.00/13.6M [00:00<?, ?B/s]"
      ]
     },
     "metadata": {},
     "output_type": "display_data"
    },
    {
     "data": {
      "application/vnd.jupyter.widget-view+json": {
       "model_id": "aaf53b7d59804d1691fee6ea1d9aa5ae",
       "version_major": 2,
       "version_minor": 0
      },
      "text/plain": [
       "sub-10_ses-mri_run-2_echo-2_FLASH.nii.gz:   0%|          | 0.00/13.3M [00:00<?, ?B/s]"
      ]
     },
     "metadata": {},
     "output_type": "display_data"
    },
    {
     "data": {
      "application/vnd.jupyter.widget-view+json": {
       "model_id": "35b2f112443745dfaaf5bf91891ad30d",
       "version_major": 2,
       "version_minor": 0
      },
      "text/plain": [
       "sub-01_ses-mri_run-2_echo-5_FLASH.nii.gz:   0%|          | 0.00/12.6M [00:00<?, ?B/s]"
      ]
     },
     "metadata": {},
     "output_type": "display_data"
    },
    {
     "data": {
      "application/vnd.jupyter.widget-view+json": {
       "model_id": "a1b44bfb312e41eb9b50b88f82aba9d5",
       "version_major": 2,
       "version_minor": 0
      },
      "text/plain": [
       "sub-13_ses-mri_run-2_echo-2_FLASH.nii.gz:   0%|          | 0.00/12.9M [00:00<?, ?B/s]"
      ]
     },
     "metadata": {},
     "output_type": "display_data"
    },
    {
     "data": {
      "application/vnd.jupyter.widget-view+json": {
       "model_id": "ba8b6664ba7d4f63ab0f3c7f10c09beb",
       "version_major": 2,
       "version_minor": 0
      },
      "text/plain": [
       "sub-09_ses-mri_run-2_echo-1_FLASH.nii.gz:   0%|          | 0.00/12.9M [00:00<?, ?B/s]"
      ]
     },
     "metadata": {},
     "output_type": "display_data"
    },
    {
     "data": {
      "application/vnd.jupyter.widget-view+json": {
       "model_id": "061f68744c984be59c27fc38fcc0080a",
       "version_major": 2,
       "version_minor": 0
      },
      "text/plain": [
       "sub-08_ses-mri_run-2_echo-5_FLASH.nii.gz:   0%|          | 0.00/12.1M [00:00<?, ?B/s]"
      ]
     },
     "metadata": {},
     "output_type": "display_data"
    },
    {
     "data": {
      "application/vnd.jupyter.widget-view+json": {
       "model_id": "f019faaadcef433f87a2622e8c18fff1",
       "version_major": 2,
       "version_minor": 0
      },
      "text/plain": [
       "sub-08_ses-mri_run-2_echo-6_FLASH.nii.gz:   0%|          | 0.00/12.0M [00:00<?, ?B/s]"
      ]
     },
     "metadata": {},
     "output_type": "display_data"
    },
    {
     "data": {
      "application/vnd.jupyter.widget-view+json": {
       "model_id": "4c8b5d3c0d7540dcb9105e3a3b754c30",
       "version_major": 2,
       "version_minor": 0
      },
      "text/plain": [
       "sub-08_ses-mri_run-2_echo-7_FLASH.nii.gz:   0%|          | 0.00/11.9M [00:00<?, ?B/s]"
      ]
     },
     "metadata": {},
     "output_type": "display_data"
    },
    {
     "data": {
      "application/vnd.jupyter.widget-view+json": {
       "model_id": "05f86edb760d42aeaed059a4f28a59ac",
       "version_major": 2,
       "version_minor": 0
      },
      "text/plain": [
       "sub-10_ses-mri_run-2_echo-3_FLASH.nii.gz:   0%|          | 0.00/13.2M [00:00<?, ?B/s]"
      ]
     },
     "metadata": {},
     "output_type": "display_data"
    },
    {
     "data": {
      "application/vnd.jupyter.widget-view+json": {
       "model_id": "b74d17f72152405aaad6a7b0bb51877f",
       "version_major": 2,
       "version_minor": 0
      },
      "text/plain": [
       "sub-05_ses-mri_run-2_echo-2_FLASH.nii.gz:   0%|          | 0.00/13.0M [00:00<?, ?B/s]"
      ]
     },
     "metadata": {},
     "output_type": "display_data"
    },
    {
     "data": {
      "application/vnd.jupyter.widget-view+json": {
       "model_id": "e0ae9a641c764aeebb79e20979024712",
       "version_major": 2,
       "version_minor": 0
      },
      "text/plain": [
       "sub-07_ses-mri_run-1_echo-7_FLASH.nii.gz:   0%|          | 0.00/13.0M [00:00<?, ?B/s]"
      ]
     },
     "metadata": {},
     "output_type": "display_data"
    },
    {
     "data": {
      "application/vnd.jupyter.widget-view+json": {
       "model_id": "796dbb7c2e2e4f378e28cb6d05496ac8",
       "version_major": 2,
       "version_minor": 0
      },
      "text/plain": [
       "sub-09_ses-mri_run-2_echo-3_FLASH.nii.gz:   0%|          | 0.00/12.6M [00:00<?, ?B/s]"
      ]
     },
     "metadata": {},
     "output_type": "display_data"
    },
    {
     "data": {
      "application/vnd.jupyter.widget-view+json": {
       "model_id": "915f07723ddd41b1b2aeb3ca006b7f83",
       "version_major": 2,
       "version_minor": 0
      },
      "text/plain": [
       "sub-13_ses-mri_run-2_echo-3_FLASH.nii.gz:   0%|          | 0.00/12.9M [00:00<?, ?B/s]"
      ]
     },
     "metadata": {},
     "output_type": "display_data"
    },
    {
     "data": {
      "application/vnd.jupyter.widget-view+json": {
       "model_id": "2f4b8c360eb74eb1a310c5209e4dcaf5",
       "version_major": 2,
       "version_minor": 0
      },
      "text/plain": [
       "sub-01_ses-mri_run-2_echo-7_FLASH.nii.gz:   0%|          | 0.00/12.4M [00:00<?, ?B/s]"
      ]
     },
     "metadata": {},
     "output_type": "display_data"
    },
    {
     "data": {
      "application/vnd.jupyter.widget-view+json": {
       "model_id": "8bdd7b1adb9842ebb09ccc80e9bd6b57",
       "version_major": 2,
       "version_minor": 0
      },
      "text/plain": [
       "sub-11_ses-mri_run-2_echo-2_FLASH.nii.gz:   0%|          | 0.00/12.6M [00:00<?, ?B/s]"
      ]
     },
     "metadata": {},
     "output_type": "display_data"
    },
    {
     "data": {
      "application/vnd.jupyter.widget-view+json": {
       "model_id": "e79e2f7eea6648c7abb719819c0aa8aa",
       "version_major": 2,
       "version_minor": 0
      },
      "text/plain": [
       "sub-02_ses-mri_run-1_echo-4_FLASH.nii.gz:   0%|          | 0.00/12.4M [00:00<?, ?B/s]"
      ]
     },
     "metadata": {},
     "output_type": "display_data"
    },
    {
     "data": {
      "application/vnd.jupyter.widget-view+json": {
       "model_id": "ebd3a49259f14a85a316745cceb18c23",
       "version_major": 2,
       "version_minor": 0
      },
      "text/plain": [
       "sub-10_ses-mri_run-2_echo-5_FLASH.nii.gz:   0%|          | 0.00/13.1M [00:00<?, ?B/s]"
      ]
     },
     "metadata": {},
     "output_type": "display_data"
    },
    {
     "data": {
      "application/vnd.jupyter.widget-view+json": {
       "model_id": "f571b2dc3720485186119ed9403f5214",
       "version_major": 2,
       "version_minor": 0
      },
      "text/plain": [
       "sub-09_ses-mri_run-2_echo-2_FLASH.nii.gz:   0%|          | 0.00/12.6M [00:00<?, ?B/s]"
      ]
     },
     "metadata": {},
     "output_type": "display_data"
    },
    {
     "data": {
      "application/vnd.jupyter.widget-view+json": {
       "model_id": "840f496122c04219916f30317245533c",
       "version_major": 2,
       "version_minor": 0
      },
      "text/plain": [
       "sub-13_ses-mri_run-2_echo-4_FLASH.nii.gz:   0%|          | 0.00/12.9M [00:00<?, ?B/s]"
      ]
     },
     "metadata": {},
     "output_type": "display_data"
    },
    {
     "data": {
      "application/vnd.jupyter.widget-view+json": {
       "model_id": "4e501dd0c9f24600b3cf92e2dd2c0ca5",
       "version_major": 2,
       "version_minor": 0
      },
      "text/plain": [
       "sub-08_ses-mri_magnitude1.json:   0%|          | 0.00/3.08k [00:00<?, ?B/s]"
      ]
     },
     "metadata": {},
     "output_type": "display_data"
    },
    {
     "data": {
      "application/vnd.jupyter.widget-view+json": {
       "model_id": "a521aa0fe86842c0879af4c7729fa8c2",
       "version_major": 2,
       "version_minor": 0
      },
      "text/plain": [
       "sub-08_ses-mri_magnitude2.json:   0%|          | 0.00/3.08k [00:00<?, ?B/s]"
      ]
     },
     "metadata": {},
     "output_type": "display_data"
    },
    {
     "data": {
      "application/vnd.jupyter.widget-view+json": {
       "model_id": "b01378ba413747459290feed3eee72ed",
       "version_major": 2,
       "version_minor": 0
      },
      "text/plain": [
       "sub-08_ses-mri_magnitude2.nii:   0%|          | 0.00/264k [00:00<?, ?B/s]"
      ]
     },
     "metadata": {},
     "output_type": "display_data"
    },
    {
     "data": {
      "application/vnd.jupyter.widget-view+json": {
       "model_id": "30a853faec924ff4a52fd13ed19c4a4d",
       "version_major": 2,
       "version_minor": 0
      },
      "text/plain": [
       "sub-14_ses-mri_run-2_echo-1_FLASH.nii.gz:   0%|          | 0.00/13.0M [00:00<?, ?B/s]"
      ]
     },
     "metadata": {},
     "output_type": "display_data"
    },
    {
     "data": {
      "application/vnd.jupyter.widget-view+json": {
       "model_id": "c4f84488d7814e30a83e348fd8866b79",
       "version_major": 2,
       "version_minor": 0
      },
      "text/plain": [
       "sub-04_ses-mri_run-2_echo-1_FLASH.nii.gz:   0%|          | 0.00/13.8M [00:00<?, ?B/s]"
      ]
     },
     "metadata": {},
     "output_type": "display_data"
    },
    {
     "data": {
      "application/vnd.jupyter.widget-view+json": {
       "model_id": "01e7d5ec850f49d7a69ba8a341272b2d",
       "version_major": 2,
       "version_minor": 0
      },
      "text/plain": [
       "sub-11_ses-mri_run-2_echo-5_FLASH.nii.gz:   0%|          | 0.00/12.4M [00:00<?, ?B/s]"
      ]
     },
     "metadata": {},
     "output_type": "display_data"
    },
    {
     "data": {
      "application/vnd.jupyter.widget-view+json": {
       "model_id": "89ea0835285b4b0cb87d84f0517319aa",
       "version_major": 2,
       "version_minor": 0
      },
      "text/plain": [
       "sub-04_ses-mri_run-1_echo-5_FLASH.nii.gz:   0%|          | 0.00/13.2M [00:00<?, ?B/s]"
      ]
     },
     "metadata": {},
     "output_type": "display_data"
    },
    {
     "data": {
      "application/vnd.jupyter.widget-view+json": {
       "model_id": "ca17aab6a8d34653b8ae6f3b5d14be28",
       "version_major": 2,
       "version_minor": 0
      },
      "text/plain": [
       "sub-08_ses-mri_magnitude1.nii:   0%|          | 0.00/264k [00:00<?, ?B/s]"
      ]
     },
     "metadata": {},
     "output_type": "display_data"
    },
    {
     "data": {
      "application/vnd.jupyter.widget-view+json": {
       "model_id": "bece08bcecc24f61a21ee240ecaab7fc",
       "version_major": 2,
       "version_minor": 0
      },
      "text/plain": [
       "sub-11_ses-mri_run-2_echo-6_FLASH.nii.gz:   0%|          | 0.00/12.2M [00:00<?, ?B/s]"
      ]
     },
     "metadata": {},
     "output_type": "display_data"
    },
    {
     "data": {
      "application/vnd.jupyter.widget-view+json": {
       "model_id": "9225ccd41d0e4fc58884c4a50ffd9fb2",
       "version_major": 2,
       "version_minor": 0
      },
      "text/plain": [
       "sub-15_ses-mri_run-1_echo-7_FLASH.nii.gz:   0%|          | 0.00/12.8M [00:00<?, ?B/s]"
      ]
     },
     "metadata": {},
     "output_type": "display_data"
    },
    {
     "data": {
      "application/vnd.jupyter.widget-view+json": {
       "model_id": "47591fb6e0824ce0bbdab3d04afcd497",
       "version_major": 2,
       "version_minor": 0
      },
      "text/plain": [
       "sub-10_ses-mri_run-2_echo-4_FLASH.nii.gz:   0%|          | 0.00/13.2M [00:00<?, ?B/s]"
      ]
     },
     "metadata": {},
     "output_type": "display_data"
    },
    {
     "data": {
      "application/vnd.jupyter.widget-view+json": {
       "model_id": "1e63f987e78043df96a6e56cbf900ee3",
       "version_major": 2,
       "version_minor": 0
      },
      "text/plain": [
       "sub-07_ses-mri_run-2_echo-1_FLASH.nii.gz:   0%|          | 0.00/13.6M [00:00<?, ?B/s]"
      ]
     },
     "metadata": {},
     "output_type": "display_data"
    },
    {
     "data": {
      "application/vnd.jupyter.widget-view+json": {
       "model_id": "bf40a3175b4b4d83a23ffd139bb23938",
       "version_major": 2,
       "version_minor": 0
      },
      "text/plain": [
       "sub-08_ses-mri_phasediff.json:   0%|          | 0.00/20.9k [00:00<?, ?B/s]"
      ]
     },
     "metadata": {},
     "output_type": "display_data"
    },
    {
     "data": {
      "application/vnd.jupyter.widget-view+json": {
       "model_id": "51e9fd5579464a62962066ce01c1905d",
       "version_major": 2,
       "version_minor": 0
      },
      "text/plain": [
       "sub-08_ses-mri_phasediff.nii:   0%|          | 0.00/264k [00:00<?, ?B/s]"
      ]
     },
     "metadata": {},
     "output_type": "display_data"
    },
    {
     "data": {
      "application/vnd.jupyter.widget-view+json": {
       "model_id": "888bdbb1fab5414ab59e26fc01cac343",
       "version_major": 2,
       "version_minor": 0
      },
      "text/plain": [
       "sub-09_ses-mri_run-2_echo-5_FLASH.nii.gz:   0%|          | 0.00/12.5M [00:00<?, ?B/s]"
      ]
     },
     "metadata": {},
     "output_type": "display_data"
    },
    {
     "data": {
      "application/vnd.jupyter.widget-view+json": {
       "model_id": "b56490a4707a46fdb62f997f59fece62",
       "version_major": 2,
       "version_minor": 0
      },
      "text/plain": [
       "sub-07_ses-mri_run-1_echo-5_FLASH.nii.gz:   0%|          | 0.00/13.1M [00:00<?, ?B/s]"
      ]
     },
     "metadata": {},
     "output_type": "display_data"
    },
    {
     "data": {
      "application/vnd.jupyter.widget-view+json": {
       "model_id": "c543a73aea26494c90e11f1c78553593",
       "version_major": 2,
       "version_minor": 0
      },
      "text/plain": [
       "sub-01_ses-mri_dwi.bval:   0%|          | 0.00/324 [00:00<?, ?B/s]"
      ]
     },
     "metadata": {},
     "output_type": "display_data"
    },
    {
     "data": {
      "application/vnd.jupyter.widget-view+json": {
       "model_id": "bae0562c3e85476fa1f11efc93e779ce",
       "version_major": 2,
       "version_minor": 0
      },
      "text/plain": [
       "sub-08_ses-mri_task-facerecognition_run-01_bold.json:   0%|          | 0.00/21.7k [00:00<?, ?B/s]"
      ]
     },
     "metadata": {},
     "output_type": "display_data"
    },
    {
     "data": {
      "application/vnd.jupyter.widget-view+json": {
       "model_id": "d1f5dc267f934dae94e8992a590dfd6c",
       "version_major": 2,
       "version_minor": 0
      },
      "text/plain": [
       "sub-10_ses-mri_run-2_echo-6_FLASH.nii.gz:   0%|          | 0.00/12.9M [00:00<?, ?B/s]"
      ]
     },
     "metadata": {},
     "output_type": "display_data"
    },
    {
     "data": {
      "application/vnd.jupyter.widget-view+json": {
       "model_id": "c44eb7d4ae794f8ca54b058a5d0cbb2b",
       "version_major": 2,
       "version_minor": 0
      },
      "text/plain": [
       "sub-13_ses-mri_run-2_echo-6_FLASH.nii.gz:   0%|          | 0.00/12.6M [00:00<?, ?B/s]"
      ]
     },
     "metadata": {},
     "output_type": "display_data"
    },
    {
     "data": {
      "application/vnd.jupyter.widget-view+json": {
       "model_id": "63995373f3e349fe8ae78271e3b86bf0",
       "version_major": 2,
       "version_minor": 0
      },
      "text/plain": [
       "sub-12_ses-mri_run-2_echo-5_FLASH.nii.gz:   0%|          | 0.00/13.3M [00:00<?, ?B/s]"
      ]
     },
     "metadata": {},
     "output_type": "display_data"
    },
    {
     "name": "stdout",
     "output_type": "stream",
     "text": [
      "🔄 Request timed out while downloading /home/mohamed/Documents/ISN2025/Notebooks/ds000117/sub-16/ses-mri/func/derivatives/meg_derivatives/sub-03/ses-meg/meg/sub-03_ses-meg_task-facerecognition_run-04_proc-sss_meg.fif, retrying in 0.5 sec …\n",
      "🔄 Request timed out while downloading /home/mohamed/Documents/ISN2025/Notebooks/ds000117/sub-16/ses-mri/func/derivatives/meg_derivatives/sub-03/ses-meg/meg/sub-03_ses-meg_task-facerecognition_run-05_proc-sss_log.txt, retrying in 0.5 sec …\n",
      "🔄 Request timed out while downloading /home/mohamed/Documents/ISN2025/Notebooks/ds000117/sub-01/ses-mri/dwi/sub-01_ses-mri_dwi.bvec, retrying in 0.5 sec …\n"
     ]
    },
    {
     "data": {
      "application/vnd.jupyter.widget-view+json": {
       "model_id": "cd3b65ea610c4a039cc97af48fd93e5e",
       "version_major": 2,
       "version_minor": 0
      },
      "text/plain": [
       "sub-14_ses-mri_run-2_echo-2_FLASH.nii.gz:   0%|          | 0.00/12.7M [00:00<?, ?B/s]"
      ]
     },
     "metadata": {},
     "output_type": "display_data"
    },
    {
     "data": {
      "application/vnd.jupyter.widget-view+json": {
       "model_id": "3bdc8aadc4fa481bb853332610f34e4b",
       "version_major": 2,
       "version_minor": 0
      },
      "text/plain": [
       "sub-11_ses-mri_run-2_echo-3_FLASH.nii.gz:   0%|          | 0.00/12.5M [00:00<?, ?B/s]"
      ]
     },
     "metadata": {},
     "output_type": "display_data"
    },
    {
     "data": {
      "application/vnd.jupyter.widget-view+json": {
       "model_id": "e2fa1cbf51494d0e9d763e2fdddedcea",
       "version_major": 2,
       "version_minor": 0
      },
      "text/plain": [
       "sub-12_ses-mri_run-2_echo-6_FLASH.nii.gz:   0%|          | 0.00/13.1M [00:00<?, ?B/s]"
      ]
     },
     "metadata": {},
     "output_type": "display_data"
    },
    {
     "data": {
      "application/vnd.jupyter.widget-view+json": {
       "model_id": "06d36092df364f4f8183db634d75bca8",
       "version_major": 2,
       "version_minor": 0
      },
      "text/plain": [
       "sub-05_ses-mri_run-2_echo-3_FLASH.nii.gz:   0%|          | 0.00/12.9M [00:00<?, ?B/s]"
      ]
     },
     "metadata": {},
     "output_type": "display_data"
    },
    {
     "data": {
      "application/vnd.jupyter.widget-view+json": {
       "model_id": "53c67907094648ef806846f8cd93296c",
       "version_major": 2,
       "version_minor": 0
      },
      "text/plain": [
       "sub-07_ses-mri_run-2_echo-3_FLASH.nii.gz:   0%|          | 0.00/13.2M [00:00<?, ?B/s]"
      ]
     },
     "metadata": {},
     "output_type": "display_data"
    },
    {
     "data": {
      "application/vnd.jupyter.widget-view+json": {
       "model_id": "f36d8a8f145245b78e36536d5c77fd02",
       "version_major": 2,
       "version_minor": 0
      },
      "text/plain": [
       "sub-07_ses-mri_run-2_echo-2_FLASH.nii.gz:   0%|          | 0.00/13.3M [00:00<?, ?B/s]"
      ]
     },
     "metadata": {},
     "output_type": "display_data"
    },
    {
     "data": {
      "application/vnd.jupyter.widget-view+json": {
       "model_id": "7c5d9146fd364def9de3f5c3d0e7127f",
       "version_major": 2,
       "version_minor": 0
      },
      "text/plain": [
       "sub-08_ses-mri_task-facerecognition_run-01_bold.nii.gz:   0%|          | 0.00/34.0M [00:00<?, ?B/s]"
      ]
     },
     "metadata": {},
     "output_type": "display_data"
    },
    {
     "data": {
      "application/vnd.jupyter.widget-view+json": {
       "model_id": "a2b257859fa9428abd6d5203f9bc444f",
       "version_major": 2,
       "version_minor": 0
      },
      "text/plain": [
       "sub-06_ses-mri_run-2_echo-2_FLASH.nii.gz:   0%|          | 0.00/14.1M [00:00<?, ?B/s]"
      ]
     },
     "metadata": {},
     "output_type": "display_data"
    },
    {
     "data": {
      "application/vnd.jupyter.widget-view+json": {
       "model_id": "ef261df7466743808673740018b9b36a",
       "version_major": 2,
       "version_minor": 0
      },
      "text/plain": [
       "sub-04_ses-mri_run-1_echo-4_FLASH.nii.gz:   0%|          | 0.00/13.2M [00:00<?, ?B/s]"
      ]
     },
     "metadata": {},
     "output_type": "display_data"
    },
    {
     "data": {
      "application/vnd.jupyter.widget-view+json": {
       "model_id": "f41c28c6c8554334bbd1741eedcee61f",
       "version_major": 2,
       "version_minor": 0
      },
      "text/plain": [
       "sub-14_ses-mri_run-1_echo-5_FLASH.nii.gz:   0%|          | 0.00/12.6M [00:00<?, ?B/s]"
      ]
     },
     "metadata": {},
     "output_type": "display_data"
    },
    {
     "data": {
      "application/vnd.jupyter.widget-view+json": {
       "model_id": "7a7541cae52a4292a3621fa954684287",
       "version_major": 2,
       "version_minor": 0
      },
      "text/plain": [
       "sub-09_ses-mri_run-2_echo-4_FLASH.nii.gz:   0%|          | 0.00/12.6M [00:00<?, ?B/s]"
      ]
     },
     "metadata": {},
     "output_type": "display_data"
    },
    {
     "data": {
      "application/vnd.jupyter.widget-view+json": {
       "model_id": "172b977c61ba490ebff4ead2a8dd63a9",
       "version_major": 2,
       "version_minor": 0
      },
      "text/plain": [
       "sub-03_ses-mri_run-2_echo-4_FLASH.nii.gz:   0%|          | 0.00/13.7M [00:00<?, ?B/s]"
      ]
     },
     "metadata": {},
     "output_type": "display_data"
    },
    {
     "data": {
      "application/vnd.jupyter.widget-view+json": {
       "model_id": "8c237a8c1a3c491f856bfd4a3bf8bdd4",
       "version_major": 2,
       "version_minor": 0
      },
      "text/plain": [
       "sub-13_ses-mri_run-2_echo-5_FLASH.nii.gz:   0%|          | 0.00/12.8M [00:00<?, ?B/s]"
      ]
     },
     "metadata": {},
     "output_type": "display_data"
    },
    {
     "data": {
      "application/vnd.jupyter.widget-view+json": {
       "model_id": "aa5318a99bd4418786eef9102bb75ea1",
       "version_major": 2,
       "version_minor": 0
      },
      "text/plain": [
       "sub-15_ses-mri_run-1_echo-6_FLASH.nii.gz:   0%|          | 0.00/12.9M [00:00<?, ?B/s]"
      ]
     },
     "metadata": {},
     "output_type": "display_data"
    },
    {
     "data": {
      "application/vnd.jupyter.widget-view+json": {
       "model_id": "16fbe03f4c14405783ce130489aaddc9",
       "version_major": 2,
       "version_minor": 0
      },
      "text/plain": [
       "sub-07_ses-mri_run-2_echo-6_FLASH.nii.gz:   0%|          | 0.00/12.9M [00:00<?, ?B/s]"
      ]
     },
     "metadata": {},
     "output_type": "display_data"
    },
    {
     "name": "stdout",
     "output_type": "stream",
     "text": [
      "🔄 Request timed out while downloading /home/mohamed/Documents/ISN2025/Notebooks/ds000117/sub-01/ses-mri/dwi/sub-01_ses-mri_dwi.json, retrying in 0.5 sec …\n"
     ]
    },
    {
     "data": {
      "application/vnd.jupyter.widget-view+json": {
       "model_id": "14b13729d9ba4793afe72e3020b5341c",
       "version_major": 2,
       "version_minor": 0
      },
      "text/plain": [
       "sub-02_ses-mri_run-2_echo-2_FLASH.nii.gz:   0%|          | 0.00/12.4M [00:00<?, ?B/s]"
      ]
     },
     "metadata": {},
     "output_type": "display_data"
    },
    {
     "data": {
      "application/vnd.jupyter.widget-view+json": {
       "model_id": "28edf57302a84243a7afe95108421790",
       "version_major": 2,
       "version_minor": 0
      },
      "text/plain": [
       "sub-07_ses-mri_run-2_echo-4_FLASH.nii.gz:   0%|          | 0.00/13.2M [00:00<?, ?B/s]"
      ]
     },
     "metadata": {},
     "output_type": "display_data"
    },
    {
     "data": {
      "application/vnd.jupyter.widget-view+json": {
       "model_id": "c572a9ba3b7c41ad8484b9bfc16b05ab",
       "version_major": 2,
       "version_minor": 0
      },
      "text/plain": [
       "sub-08_ses-mri_task-facerecognition_run-01_events.tsv:   0%|          | 0.00/4.57k [00:00<?, ?B/s]"
      ]
     },
     "metadata": {},
     "output_type": "display_data"
    },
    {
     "data": {
      "application/vnd.jupyter.widget-view+json": {
       "model_id": "9619f54bb63b4a3a9d37766912a26d63",
       "version_major": 2,
       "version_minor": 0
      },
      "text/plain": [
       "sub-01_ses-mri_dwi.nii.gz:   0%|          | 0.00/43.8M [00:00<?, ?B/s]"
      ]
     },
     "metadata": {},
     "output_type": "display_data"
    },
    {
     "name": "stderr",
     "output_type": "stream",
     "text": [
      "IOPub message rate exceeded.\n",
      "The Jupyter server will temporarily stop sending output\n",
      "to the client in order to avoid crashing it.\n",
      "To change this limit, set the config variable\n",
      "`--ServerApp.iopub_msg_rate_limit`.\n",
      "\n",
      "Current values:\n",
      "ServerApp.iopub_msg_rate_limit=1000.0 (msgs/sec)\n",
      "ServerApp.rate_limit_window=3.0 (secs)\n",
      "\n"
     ]
    },
    {
     "data": {
      "application/vnd.jupyter.widget-view+json": {
       "model_id": "b479c78351244e989ff7094ef4514490",
       "version_major": 2,
       "version_minor": 0
      },
      "text/plain": [
       "sub-10_ses-mri_run-2_echo-7_FLASH.nii.gz:   0%|          | 0.00/12.9M [00:00<?, ?B/s]"
      ]
     },
     "metadata": {},
     "output_type": "display_data"
    },
    {
     "name": "stderr",
     "output_type": "stream",
     "text": [
      "IOPub message rate exceeded.\n",
      "The Jupyter server will temporarily stop sending output\n",
      "to the client in order to avoid crashing it.\n",
      "To change this limit, set the config variable\n",
      "`--ServerApp.iopub_msg_rate_limit`.\n",
      "\n",
      "Current values:\n",
      "ServerApp.iopub_msg_rate_limit=1000.0 (msgs/sec)\n",
      "ServerApp.rate_limit_window=3.0 (secs)\n",
      "\n"
     ]
    },
    {
     "name": "stdout",
     "output_type": "stream",
     "text": [
      "🔄 Request timed out while downloading /home/mohamed/Documents/ISN2025/Notebooks/ds000117/sub-16/ses-mri/func/derivatives/meg_derivatives/sub-04/ses-meg/meg/sub-04_ses-meg_task-facerecognition_run-05_proc-sss_meg.fif, retrying in 0.5 sec …\n",
      "🔄 Request timed out while downloading /home/mohamed/Documents/ISN2025/Notebooks/ds000117/sub-16/ses-mri/func/derivatives/meg_derivatives/sub-04/ses-meg/meg/sub-04_ses-meg_task-facerecognition_run-06_proc-sss_log.txt, retrying in 0.5 sec …\n",
      "🔄 Request timed out while downloading /home/mohamed/Documents/ISN2025/Notebooks/ds000117/sub-16/ses-mri/func/derivatives/meg_derivatives/sub-04/ses-meg/meg/sub-04_ses-meg_task-facerecognition_run-06_proc-sss_meg.fif, retrying in 0.5 sec …\n",
      "🔄 Request timed out while downloading /home/mohamed/Documents/ISN2025/Notebooks/ds000117/sub-08/ses-mri/func/sub-08_ses-mri_task-facerecognition_run-02_bold.json, retrying in 0.5 sec …\n"
     ]
    },
    {
     "data": {
      "application/vnd.jupyter.widget-view+json": {
       "model_id": "81d60f182c59419fb4af53e7c55bd0dc",
       "version_major": 2,
       "version_minor": 0
      },
      "text/plain": [
       "sub-08_ses-mri_task-facerecognition_run-02_events.tsv:   0%|          | 0.00/4.66k [00:00<?, ?B/s]"
      ]
     },
     "metadata": {},
     "output_type": "display_data"
    },
    {
     "data": {
      "application/vnd.jupyter.widget-view+json": {
       "model_id": "531a7cdb1c9a4e0aba9725057ddc4450",
       "version_major": 2,
       "version_minor": 0
      },
      "text/plain": [
       "sub-10_ses-mri_magnitude1.nii:   0%|          | 0.00/264k [00:00<?, ?B/s]"
      ]
     },
     "metadata": {},
     "output_type": "display_data"
    },
    {
     "data": {
      "application/vnd.jupyter.widget-view+json": {
       "model_id": "06035d9dedc149e09c5e726eeefb56a4",
       "version_major": 2,
       "version_minor": 0
      },
      "text/plain": [
       "sub-04_ses-mri_run-2_echo-4_FLASH.nii.gz:   0%|          | 0.00/13.4M [00:00<?, ?B/s]"
      ]
     },
     "metadata": {},
     "output_type": "display_data"
    },
    {
     "data": {
      "application/vnd.jupyter.widget-view+json": {
       "model_id": "e24ed770ed70438aa34b26391c9e4490",
       "version_major": 2,
       "version_minor": 0
      },
      "text/plain": [
       "sub-11_ses-mri_run-2_echo-4_FLASH.nii.gz:   0%|          | 0.00/12.5M [00:00<?, ?B/s]"
      ]
     },
     "metadata": {},
     "output_type": "display_data"
    },
    {
     "data": {
      "application/vnd.jupyter.widget-view+json": {
       "model_id": "1de40d047da54c67860cfc5544126fc7",
       "version_major": 2,
       "version_minor": 0
      },
      "text/plain": [
       "sub-15_ses-mri_run-2_echo-1_FLASH.nii.gz:   0%|          | 0.00/13.3M [00:00<?, ?B/s]"
      ]
     },
     "metadata": {},
     "output_type": "display_data"
    },
    {
     "data": {
      "application/vnd.jupyter.widget-view+json": {
       "model_id": "62485e36487f4b5292bafa266f027b55",
       "version_major": 2,
       "version_minor": 0
      },
      "text/plain": [
       "sub-09_ses-mri_run-2_echo-6_FLASH.nii.gz:   0%|          | 0.00/12.3M [00:00<?, ?B/s]"
      ]
     },
     "metadata": {},
     "output_type": "display_data"
    },
    {
     "data": {
      "application/vnd.jupyter.widget-view+json": {
       "model_id": "ccaac77e368042f1aa475b559b81a8e0",
       "version_major": 2,
       "version_minor": 0
      },
      "text/plain": [
       "sub-04_ses-mri_run-1_echo-6_FLASH.nii.gz:   0%|          | 0.00/13.1M [00:00<?, ?B/s]"
      ]
     },
     "metadata": {},
     "output_type": "display_data"
    },
    {
     "data": {
      "application/vnd.jupyter.widget-view+json": {
       "model_id": "6da02c3529b44360a2ce0273984af2b8",
       "version_major": 2,
       "version_minor": 0
      },
      "text/plain": [
       "sub-04_ses-mri_run-2_echo-3_FLASH.nii.gz:   0%|          | 0.00/13.4M [00:00<?, ?B/s]"
      ]
     },
     "metadata": {},
     "output_type": "display_data"
    },
    {
     "data": {
      "application/vnd.jupyter.widget-view+json": {
       "model_id": "284c006bb4974d73b5dec72ab4aba82d",
       "version_major": 2,
       "version_minor": 0
      },
      "text/plain": [
       "sub-03_ses-mri_dwi.bval:   0%|          | 0.00/324 [00:00<?, ?B/s]"
      ]
     },
     "metadata": {},
     "output_type": "display_data"
    },
    {
     "data": {
      "application/vnd.jupyter.widget-view+json": {
       "model_id": "14073ccf65264769bf03e0e3bed600e7",
       "version_major": 2,
       "version_minor": 0
      },
      "text/plain": [
       "sub-08_ses-mri_task-facerecognition_run-03_bold.json:   0%|          | 0.00/21.7k [00:00<?, ?B/s]"
      ]
     },
     "metadata": {},
     "output_type": "display_data"
    },
    {
     "data": {
      "application/vnd.jupyter.widget-view+json": {
       "model_id": "1dcd9b9c0414460d85f81c1b3393869f",
       "version_major": 2,
       "version_minor": 0
      },
      "text/plain": [
       "sub-04_ses-mri_run-2_echo-5_FLASH.nii.gz:   0%|          | 0.00/13.3M [00:00<?, ?B/s]"
      ]
     },
     "metadata": {},
     "output_type": "display_data"
    },
    {
     "data": {
      "application/vnd.jupyter.widget-view+json": {
       "model_id": "7e80d968f1a74883b5d57769b58b403a",
       "version_major": 2,
       "version_minor": 0
      },
      "text/plain": [
       "sub-08_ses-mri_task-facerecognition_run-02_bold.nii.gz:   0%|          | 0.00/33.9M [00:00<?, ?B/s]"
      ]
     },
     "metadata": {},
     "output_type": "display_data"
    },
    {
     "data": {
      "application/vnd.jupyter.widget-view+json": {
       "model_id": "d928e7d6e3da4d97b55ad0f8e8330b86",
       "version_major": 2,
       "version_minor": 0
      },
      "text/plain": [
       "sub-09_ses-mri_run-2_echo-7_FLASH.nii.gz:   0%|          | 0.00/12.2M [00:00<?, ?B/s]"
      ]
     },
     "metadata": {},
     "output_type": "display_data"
    },
    {
     "data": {
      "application/vnd.jupyter.widget-view+json": {
       "model_id": "718474a6398a4642aa3317953e74510e",
       "version_major": 2,
       "version_minor": 0
      },
      "text/plain": [
       "sub-13_ses-mri_run-2_echo-7_FLASH.nii.gz:   0%|          | 0.00/12.5M [00:00<?, ?B/s]"
      ]
     },
     "metadata": {},
     "output_type": "display_data"
    },
    {
     "data": {
      "application/vnd.jupyter.widget-view+json": {
       "model_id": "f102d7fab58641aba7eda291199c1e28",
       "version_major": 2,
       "version_minor": 0
      },
      "text/plain": [
       "sub-03_ses-mri_dwi.json:   0%|          | 0.00/620 [00:00<?, ?B/s]"
      ]
     },
     "metadata": {},
     "output_type": "display_data"
    },
    {
     "name": "stderr",
     "output_type": "stream",
     "text": [
      "IOPub message rate exceeded.\n",
      "The Jupyter server will temporarily stop sending output\n",
      "to the client in order to avoid crashing it.\n",
      "To change this limit, set the config variable\n",
      "`--ServerApp.iopub_msg_rate_limit`.\n",
      "\n",
      "Current values:\n",
      "ServerApp.iopub_msg_rate_limit=1000.0 (msgs/sec)\n",
      "ServerApp.rate_limit_window=3.0 (secs)\n",
      "\n"
     ]
    },
    {
     "data": {
      "application/vnd.jupyter.widget-view+json": {
       "model_id": "77007dace6b346d6b201f932535e8337",
       "version_major": 2,
       "version_minor": 0
      },
      "text/plain": [
       "sub-10_ses-mri_magnitude2.nii:   0%|          | 0.00/264k [00:00<?, ?B/s]"
      ]
     },
     "metadata": {},
     "output_type": "display_data"
    },
    {
     "data": {
      "application/vnd.jupyter.widget-view+json": {
       "model_id": "d2f507f69a314c8889fc6e611815f94b",
       "version_major": 2,
       "version_minor": 0
      },
      "text/plain": [
       "sub-14_ses-mri_run-2_echo-3_FLASH.nii.gz:   0%|          | 0.00/12.7M [00:00<?, ?B/s]"
      ]
     },
     "metadata": {},
     "output_type": "display_data"
    },
    {
     "data": {
      "application/vnd.jupyter.widget-view+json": {
       "model_id": "be3c4385b02742afb0c4de5509edb44c",
       "version_major": 2,
       "version_minor": 0
      },
      "text/plain": [
       "sub-03_ses-mri_run-2_echo-7_FLASH.nii.gz:   0%|          | 0.00/13.3M [00:00<?, ?B/s]"
      ]
     },
     "metadata": {},
     "output_type": "display_data"
    },
    {
     "data": {
      "application/vnd.jupyter.widget-view+json": {
       "model_id": "35272b8241034d8691dfae30fa8774e4",
       "version_major": 2,
       "version_minor": 0
      },
      "text/plain": [
       "sub-06_ses-mri_run-2_echo-7_FLASH.nii.gz:   0%|          | 0.00/13.6M [00:00<?, ?B/s]"
      ]
     },
     "metadata": {},
     "output_type": "display_data"
    },
    {
     "data": {
      "application/vnd.jupyter.widget-view+json": {
       "model_id": "1bddd6fedd724c099eda8a63da5ab81f",
       "version_major": 2,
       "version_minor": 0
      },
      "text/plain": [
       "sub-01_ses-mri_magnitude1.nii:   0%|          | 0.00/264k [00:00<?, ?B/s]"
      ]
     },
     "metadata": {},
     "output_type": "display_data"
    },
    {
     "data": {
      "application/vnd.jupyter.widget-view+json": {
       "model_id": "0c7d340e6ddf4040b5a2654abe937468",
       "version_major": 2,
       "version_minor": 0
      },
      "text/plain": [
       "sub-12_ses-mri_dwi.bval:   0%|          | 0.00/324 [00:00<?, ?B/s]"
      ]
     },
     "metadata": {},
     "output_type": "display_data"
    },
    {
     "data": {
      "application/vnd.jupyter.widget-view+json": {
       "model_id": "2f3298cb9ba44bbca41b794e34bfba02",
       "version_major": 2,
       "version_minor": 0
      },
      "text/plain": [
       "sub-08_ses-mri_task-facerecognition_run-04_events.tsv:   0%|          | 0.00/4.61k [00:00<?, ?B/s]"
      ]
     },
     "metadata": {},
     "output_type": "display_data"
    },
    {
     "data": {
      "application/vnd.jupyter.widget-view+json": {
       "model_id": "eeedcd313c714aa3a3a3d62c4f973063",
       "version_major": 2,
       "version_minor": 0
      },
      "text/plain": [
       "sub-13_ses-mri_dwi.bval:   0%|          | 0.00/324 [00:00<?, ?B/s]"
      ]
     },
     "metadata": {},
     "output_type": "display_data"
    },
    {
     "data": {
      "application/vnd.jupyter.widget-view+json": {
       "model_id": "cf4629fca7604d47ae7b1e00eb991a87",
       "version_major": 2,
       "version_minor": 0
      },
      "text/plain": [
       "sub-13_ses-mri_dwi.json:   0%|          | 0.00/620 [00:00<?, ?B/s]"
      ]
     },
     "metadata": {},
     "output_type": "display_data"
    },
    {
     "data": {
      "application/vnd.jupyter.widget-view+json": {
       "model_id": "07626cafbd5d41a8b357769b0fb019f1",
       "version_major": 2,
       "version_minor": 0
      },
      "text/plain": [
       "sub-08_ses-mri_task-facerecognition_run-04_bold.json:   0%|          | 0.00/21.7k [00:00<?, ?B/s]"
      ]
     },
     "metadata": {},
     "output_type": "display_data"
    },
    {
     "data": {
      "application/vnd.jupyter.widget-view+json": {
       "model_id": "b8623fa63c54493fac43ad6ace40c722",
       "version_major": 2,
       "version_minor": 0
      },
      "text/plain": [
       "sub-12_ses-mri_dwi.bvec:   0%|          | 0.00/3.28k [00:00<?, ?B/s]"
      ]
     },
     "metadata": {},
     "output_type": "display_data"
    },
    {
     "data": {
      "application/vnd.jupyter.widget-view+json": {
       "model_id": "576d52b3d4fa4c608cdf9c5e33db9f66",
       "version_major": 2,
       "version_minor": 0
      },
      "text/plain": [
       "sub-13_ses-mri_dwi.bvec:   0%|          | 0.00/3.27k [00:00<?, ?B/s]"
      ]
     },
     "metadata": {},
     "output_type": "display_data"
    },
    {
     "data": {
      "application/vnd.jupyter.widget-view+json": {
       "model_id": "5b692ab147064bbfb1bd247d6529908a",
       "version_major": 2,
       "version_minor": 0
      },
      "text/plain": [
       "sub-12_ses-mri_dwi.json:   0%|          | 0.00/622 [00:00<?, ?B/s]"
      ]
     },
     "metadata": {},
     "output_type": "display_data"
    },
    {
     "data": {
      "application/vnd.jupyter.widget-view+json": {
       "model_id": "9aaa77c1232640549c0fb6941c8d3041",
       "version_major": 2,
       "version_minor": 0
      },
      "text/plain": [
       "sub-08_ses-mri_task-facerecognition_run-04_bold.nii.gz:   0%|          | 0.00/34.1M [00:00<?, ?B/s]"
      ]
     },
     "metadata": {},
     "output_type": "display_data"
    },
    {
     "data": {
      "application/vnd.jupyter.widget-view+json": {
       "model_id": "6517b5f4fb064044aae0bf8dc0be2644",
       "version_major": 2,
       "version_minor": 0
      },
      "text/plain": [
       "sub-12_ses-mri_dwi.nii.gz:   0%|          | 0.00/43.6M [00:00<?, ?B/s]"
      ]
     },
     "metadata": {},
     "output_type": "display_data"
    },
    {
     "data": {
      "application/vnd.jupyter.widget-view+json": {
       "model_id": "213ed3db9ef34ee086d9278c2d910d18",
       "version_major": 2,
       "version_minor": 0
      },
      "text/plain": [
       "sub-14_ses-mri_run-2_echo-5_FLASH.nii.gz:   0%|          | 0.00/12.6M [00:00<?, ?B/s]"
      ]
     },
     "metadata": {},
     "output_type": "display_data"
    },
    {
     "data": {
      "application/vnd.jupyter.widget-view+json": {
       "model_id": "ffaaeb5faa5d4b85a5108361019dfde3",
       "version_major": 2,
       "version_minor": 0
      },
      "text/plain": [
       "sub-14_ses-mri_run-2_echo-4_FLASH.nii.gz:   0%|          | 0.00/12.7M [00:00<?, ?B/s]"
      ]
     },
     "metadata": {},
     "output_type": "display_data"
    },
    {
     "data": {
      "application/vnd.jupyter.widget-view+json": {
       "model_id": "8f9fd13c534a41fa911bf3d04764c2f1",
       "version_major": 2,
       "version_minor": 0
      },
      "text/plain": [
       "sub-10_ses-mri_phasediff.json:   0%|          | 0.00/20.2k [00:00<?, ?B/s]"
      ]
     },
     "metadata": {},
     "output_type": "display_data"
    },
    {
     "data": {
      "application/vnd.jupyter.widget-view+json": {
       "model_id": "5924196d11324e8f9296615de9cf1125",
       "version_major": 2,
       "version_minor": 0
      },
      "text/plain": [
       "sub-15_ses-mri_run-2_echo-2_FLASH.nii.gz:   0%|          | 0.00/13.1M [00:00<?, ?B/s]"
      ]
     },
     "metadata": {},
     "output_type": "display_data"
    },
    {
     "name": "stdout",
     "output_type": "stream",
     "text": [
      "🔄 Request timed out while downloading /home/mohamed/Documents/ISN2025/Notebooks/ds000117/sub-16/ses-mri/func/derivatives/meg_derivatives/sub-06/ses-meg/meg/sub-06_ses-meg_task-facerecognition_run-06_proc-sss_meg.fif, retrying in 0.5 sec …\n",
      "🔄 Request timed out while downloading /home/mohamed/Documents/ISN2025/Notebooks/ds000117/sub-16/ses-mri/func/derivatives/meg_derivatives/sub-07/ses-meg/meg/sub-07_ses-meg_task-facerecognition_run-01_proc-sss_log.txt, retrying in 0.5 sec …\n",
      "🔄 Request timed out while downloading /home/mohamed/Documents/ISN2025/Notebooks/ds000117/sub-13/ses-mri/dwi/sub-13_ses-mri_dwi.nii.gz, retrying in 0.5 sec …\n",
      "🔄 Request timed out while downloading /home/mohamed/Documents/ISN2025/Notebooks/ds000117/sub-16/ses-mri/func/derivatives/meg_derivatives/sub-07/ses-meg/meg/sub-07_ses-meg_task-facerecognition_run-01_proc-sss_meg.fif, retrying in 0.5 sec …\n"
     ]
    },
    {
     "data": {
      "application/vnd.jupyter.widget-view+json": {
       "model_id": "e04da7c426f74d71b1a00e24787170ad",
       "version_major": 2,
       "version_minor": 0
      },
      "text/plain": [
       "sub-09_ses-mri_dwi.bval:   0%|          | 0.00/324 [00:00<?, ?B/s]"
      ]
     },
     "metadata": {},
     "output_type": "display_data"
    },
    {
     "data": {
      "application/vnd.jupyter.widget-view+json": {
       "model_id": "0f1e1d090cd1491f96636276c3bbd29e",
       "version_major": 2,
       "version_minor": 0
      },
      "text/plain": [
       "sub-11_ses-mri_magnitude1.json:   0%|          | 0.00/3.04k [00:00<?, ?B/s]"
      ]
     },
     "metadata": {},
     "output_type": "display_data"
    },
    {
     "data": {
      "application/vnd.jupyter.widget-view+json": {
       "model_id": "9d9293e233da4b76a7207a32c098bb35",
       "version_major": 2,
       "version_minor": 0
      },
      "text/plain": [
       "sub-12_ses-mri_magnitude1.json:   0%|          | 0.00/3.07k [00:00<?, ?B/s]"
      ]
     },
     "metadata": {},
     "output_type": "display_data"
    },
    {
     "data": {
      "application/vnd.jupyter.widget-view+json": {
       "model_id": "8513ff38d5834f00b1c10e42a25fca3d",
       "version_major": 2,
       "version_minor": 0
      },
      "text/plain": [
       "sub-13_ses-mri_magnitude1.json:   0%|          | 0.00/3.08k [00:00<?, ?B/s]"
      ]
     },
     "metadata": {},
     "output_type": "display_data"
    },
    {
     "data": {
      "application/vnd.jupyter.widget-view+json": {
       "model_id": "0092b50ed5bc42629dffa040a2223fdf",
       "version_major": 2,
       "version_minor": 0
      },
      "text/plain": [
       "sub-10_ses-mri_task-facerecognition_run-01_bold.json:   0%|          | 0.00/21.7k [00:00<?, ?B/s]"
      ]
     },
     "metadata": {},
     "output_type": "display_data"
    },
    {
     "data": {
      "application/vnd.jupyter.widget-view+json": {
       "model_id": "e1685d0f514a43a1b0afc2c73e23b6c7",
       "version_major": 2,
       "version_minor": 0
      },
      "text/plain": [
       "sub-01_ses-mri_magnitude2.json:   0%|          | 0.00/3.04k [00:00<?, ?B/s]"
      ]
     },
     "metadata": {},
     "output_type": "display_data"
    },
    {
     "data": {
      "application/vnd.jupyter.widget-view+json": {
       "model_id": "96dde885eca843b79d0d25737ee930e5",
       "version_major": 2,
       "version_minor": 0
      },
      "text/plain": [
       "sub-01_ses-mri_magnitude1.json:   0%|          | 0.00/3.07k [00:00<?, ?B/s]"
      ]
     },
     "metadata": {},
     "output_type": "display_data"
    },
    {
     "data": {
      "application/vnd.jupyter.widget-view+json": {
       "model_id": "67d324fb60a74ca997da5dd1816b5fcf",
       "version_major": 2,
       "version_minor": 0
      },
      "text/plain": [
       "sub-10_ses-mri_phasediff.nii:   0%|          | 0.00/264k [00:00<?, ?B/s]"
      ]
     },
     "metadata": {},
     "output_type": "display_data"
    },
    {
     "data": {
      "application/vnd.jupyter.widget-view+json": {
       "model_id": "6e3c7ecf44c247e8afde456f24f4f17f",
       "version_major": 2,
       "version_minor": 0
      },
      "text/plain": [
       "sub-06_ses-mri_dwi.bvec:   0%|          | 0.00/3.28k [00:00<?, ?B/s]"
      ]
     },
     "metadata": {},
     "output_type": "display_data"
    },
    {
     "data": {
      "application/vnd.jupyter.widget-view+json": {
       "model_id": "5a06d52bcdad475e8001785c1161f8cd",
       "version_major": 2,
       "version_minor": 0
      },
      "text/plain": [
       "sub-04_ses-mri_run-2_echo-6_FLASH.nii.gz:   0%|          | 0.00/13.1M [00:00<?, ?B/s]"
      ]
     },
     "metadata": {},
     "output_type": "display_data"
    },
    {
     "data": {
      "application/vnd.jupyter.widget-view+json": {
       "model_id": "efa782b4e8f14e5f9a732f607b77e5b9",
       "version_major": 2,
       "version_minor": 0
      },
      "text/plain": [
       "sub-13_ses-mri_magnitude1.nii:   0%|          | 0.00/264k [00:00<?, ?B/s]"
      ]
     },
     "metadata": {},
     "output_type": "display_data"
    },
    {
     "data": {
      "application/vnd.jupyter.widget-view+json": {
       "model_id": "c2c0def307ad4ebd8776c444175e125a",
       "version_major": 2,
       "version_minor": 0
      },
      "text/plain": [
       "sub-07_ses-mri_run-2_echo-5_FLASH.nii.gz:   0%|          | 0.00/13.1M [00:00<?, ?B/s]"
      ]
     },
     "metadata": {},
     "output_type": "display_data"
    },
    {
     "data": {
      "application/vnd.jupyter.widget-view+json": {
       "model_id": "635b998c0e1343ea9df7548e16c63486",
       "version_major": 2,
       "version_minor": 0
      },
      "text/plain": [
       "sub-13_ses-mri_magnitude2.json:   0%|          | 0.00/3.08k [00:00<?, ?B/s]"
      ]
     },
     "metadata": {},
     "output_type": "display_data"
    },
    {
     "data": {
      "application/vnd.jupyter.widget-view+json": {
       "model_id": "da3159c1a7dd4f3a8ceab57145a50d8a",
       "version_major": 2,
       "version_minor": 0
      },
      "text/plain": [
       "sub-01_ses-mri_phasediff.json:   0%|          | 0.00/21.0k [00:00<?, ?B/s]"
      ]
     },
     "metadata": {},
     "output_type": "display_data"
    },
    {
     "data": {
      "application/vnd.jupyter.widget-view+json": {
       "model_id": "263ad96ab3174d89b770df8b98ee5cbf",
       "version_major": 2,
       "version_minor": 0
      },
      "text/plain": [
       "sub-06_ses-mri_dwi.json:   0%|          | 0.00/624 [00:00<?, ?B/s]"
      ]
     },
     "metadata": {},
     "output_type": "display_data"
    },
    {
     "data": {
      "application/vnd.jupyter.widget-view+json": {
       "model_id": "67979f17a3394e1baa6910f623f43c0b",
       "version_major": 2,
       "version_minor": 0
      },
      "text/plain": [
       "sub-11_ses-mri_magnitude2.json:   0%|          | 0.00/3.05k [00:00<?, ?B/s]"
      ]
     },
     "metadata": {},
     "output_type": "display_data"
    },
    {
     "data": {
      "application/vnd.jupyter.widget-view+json": {
       "model_id": "6ba5363c73544b0f8b04d7496f34876f",
       "version_major": 2,
       "version_minor": 0
      },
      "text/plain": [
       "sub-01_ses-mri_magnitude2.nii:   0%|          | 0.00/264k [00:00<?, ?B/s]"
      ]
     },
     "metadata": {},
     "output_type": "display_data"
    },
    {
     "data": {
      "application/vnd.jupyter.widget-view+json": {
       "model_id": "c6168bfe26394d228c2d090af477a564",
       "version_major": 2,
       "version_minor": 0
      },
      "text/plain": [
       "sub-12_ses-mri_magnitude1.nii:   0%|          | 0.00/264k [00:00<?, ?B/s]"
      ]
     },
     "metadata": {},
     "output_type": "display_data"
    },
    {
     "data": {
      "application/vnd.jupyter.widget-view+json": {
       "model_id": "d91ff7f67cf34d8481550fa6a5bc66b0",
       "version_major": 2,
       "version_minor": 0
      },
      "text/plain": [
       "sub-13_ses-mri_magnitude2.nii:   0%|          | 0.00/264k [00:00<?, ?B/s]"
      ]
     },
     "metadata": {},
     "output_type": "display_data"
    },
    {
     "data": {
      "application/vnd.jupyter.widget-view+json": {
       "model_id": "f8e8fb9e114c4988a7467331084992da",
       "version_major": 2,
       "version_minor": 0
      },
      "text/plain": [
       "sub-10_ses-mri_task-facerecognition_run-01_bold.nii.gz:   0%|          | 0.00/34.6M [00:00<?, ?B/s]"
      ]
     },
     "metadata": {},
     "output_type": "display_data"
    },
    {
     "data": {
      "application/vnd.jupyter.widget-view+json": {
       "model_id": "14e2e6b74fd24160975acf37ebe304ac",
       "version_major": 2,
       "version_minor": 0
      },
      "text/plain": [
       "sub-09_ses-mri_dwi.json:   0%|          | 0.00/620 [00:00<?, ?B/s]"
      ]
     },
     "metadata": {},
     "output_type": "display_data"
    },
    {
     "data": {
      "application/vnd.jupyter.widget-view+json": {
       "model_id": "9901a4c9b9294e01bdf4f0292cf31de8",
       "version_major": 2,
       "version_minor": 0
      },
      "text/plain": [
       "sub-13_ses-mri_phasediff.json:   0%|          | 0.00/19.6k [00:00<?, ?B/s]"
      ]
     },
     "metadata": {},
     "output_type": "display_data"
    },
    {
     "data": {
      "application/vnd.jupyter.widget-view+json": {
       "model_id": "2e5dfb792e1a4081acbd39f26551f941",
       "version_major": 2,
       "version_minor": 0
      },
      "text/plain": [
       "sub-07_ses-mri_run-2_echo-7_FLASH.nii.gz:   0%|          | 0.00/12.8M [00:00<?, ?B/s]"
      ]
     },
     "metadata": {},
     "output_type": "display_data"
    },
    {
     "data": {
      "application/vnd.jupyter.widget-view+json": {
       "model_id": "56c8dec6a8844f2d84062fd5ce340585",
       "version_major": 2,
       "version_minor": 0
      },
      "text/plain": [
       "sub-13_ses-mri_task-facerecognition_run-01_bold.json:   0%|          | 0.00/21.7k [00:00<?, ?B/s]"
      ]
     },
     "metadata": {},
     "output_type": "display_data"
    },
    {
     "data": {
      "application/vnd.jupyter.widget-view+json": {
       "model_id": "adcd1ff7b9a4475e923dc0c110bfc7d0",
       "version_major": 2,
       "version_minor": 0
      },
      "text/plain": [
       "sub-10_ses-mri_task-facerecognition_run-01_events.tsv:   0%|          | 0.00/4.66k [00:00<?, ?B/s]"
      ]
     },
     "metadata": {},
     "output_type": "display_data"
    },
    {
     "data": {
      "application/vnd.jupyter.widget-view+json": {
       "model_id": "3698f29a46594736afd60882c8154bb5",
       "version_major": 2,
       "version_minor": 0
      },
      "text/plain": [
       "sub-04_ses-mri_run-2_echo-2_FLASH.nii.gz:   0%|          | 0.00/13.4M [00:00<?, ?B/s]"
      ]
     },
     "metadata": {},
     "output_type": "display_data"
    },
    {
     "data": {
      "application/vnd.jupyter.widget-view+json": {
       "model_id": "1b448f2bd8834ce8b13c010057aa3cf1",
       "version_major": 2,
       "version_minor": 0
      },
      "text/plain": [
       "sub-11_ses-mri_magnitude2.nii:   0%|          | 0.00/264k [00:00<?, ?B/s]"
      ]
     },
     "metadata": {},
     "output_type": "display_data"
    },
    {
     "data": {
      "application/vnd.jupyter.widget-view+json": {
       "model_id": "c7526e87690447949cb710bef28853db",
       "version_major": 2,
       "version_minor": 0
      },
      "text/plain": [
       "sub-06_ses-mri_dwi.bval:   0%|          | 0.00/324 [00:00<?, ?B/s]"
      ]
     },
     "metadata": {},
     "output_type": "display_data"
    },
    {
     "data": {
      "application/vnd.jupyter.widget-view+json": {
       "model_id": "01282e2a241047c8b371c10ea9912542",
       "version_major": 2,
       "version_minor": 0
      },
      "text/plain": [
       "sub-13_ses-mri_phasediff.nii:   0%|          | 0.00/264k [00:00<?, ?B/s]"
      ]
     },
     "metadata": {},
     "output_type": "display_data"
    },
    {
     "data": {
      "application/vnd.jupyter.widget-view+json": {
       "model_id": "3825b4eb5a1a4741aeecdb5c0ffdbe6b",
       "version_major": 2,
       "version_minor": 0
      },
      "text/plain": [
       "sub-01_ses-mri_phasediff.nii:   0%|          | 0.00/264k [00:00<?, ?B/s]"
      ]
     },
     "metadata": {},
     "output_type": "display_data"
    },
    {
     "data": {
      "application/vnd.jupyter.widget-view+json": {
       "model_id": "5829c16e31284efea0f627a702f30fd8",
       "version_major": 2,
       "version_minor": 0
      },
      "text/plain": [
       "sub-09_ses-mri_dwi.bvec:   0%|          | 0.00/3.28k [00:00<?, ?B/s]"
      ]
     },
     "metadata": {},
     "output_type": "display_data"
    },
    {
     "data": {
      "application/vnd.jupyter.widget-view+json": {
       "model_id": "cfe51bf00e67416d849bf3c08ebceb51",
       "version_major": 2,
       "version_minor": 0
      },
      "text/plain": [
       "sub-13_ses-mri_task-facerecognition_run-01_bold.nii.gz:   0%|          | 0.00/33.7M [00:00<?, ?B/s]"
      ]
     },
     "metadata": {},
     "output_type": "display_data"
    },
    {
     "data": {
      "application/vnd.jupyter.widget-view+json": {
       "model_id": "10662ec172044c6dbcc8b52db1812ab0",
       "version_major": 2,
       "version_minor": 0
      },
      "text/plain": [
       "sub-04_ses-mri_run-2_echo-7_FLASH.nii.gz:   0%|          | 0.00/13.0M [00:00<?, ?B/s]"
      ]
     },
     "metadata": {},
     "output_type": "display_data"
    },
    {
     "data": {
      "application/vnd.jupyter.widget-view+json": {
       "model_id": "8894231fddcf43edae57295fcbf2b6c7",
       "version_major": 2,
       "version_minor": 0
      },
      "text/plain": [
       "sub-02_ses-mri_run-2_echo-4_FLASH.nii.gz:   0%|          | 0.00/12.4M [00:00<?, ?B/s]"
      ]
     },
     "metadata": {},
     "output_type": "display_data"
    },
    {
     "data": {
      "application/vnd.jupyter.widget-view+json": {
       "model_id": "74e401aa551a4678bdf859262d1022f9",
       "version_major": 2,
       "version_minor": 0
      },
      "text/plain": [
       "sub-04_ses-mri_dwi.bval:   0%|          | 0.00/324 [00:00<?, ?B/s]"
      ]
     },
     "metadata": {},
     "output_type": "display_data"
    },
    {
     "data": {
      "application/vnd.jupyter.widget-view+json": {
       "model_id": "26fd5c90980944adb2a247dbd0a7a0ea",
       "version_major": 2,
       "version_minor": 0
      },
      "text/plain": [
       "sub-01_ses-mri_task-facerecognition_run-01_bold.json:   0%|          | 0.00/21.6k [00:00<?, ?B/s]"
      ]
     },
     "metadata": {},
     "output_type": "display_data"
    },
    {
     "data": {
      "application/vnd.jupyter.widget-view+json": {
       "model_id": "c07bed559566411594e702ddf15b9d50",
       "version_major": 2,
       "version_minor": 0
      },
      "text/plain": [
       "sub-10_ses-mri_task-facerecognition_run-02_bold.json:   0%|          | 0.00/21.7k [00:00<?, ?B/s]"
      ]
     },
     "metadata": {},
     "output_type": "display_data"
    },
    {
     "data": {
      "application/vnd.jupyter.widget-view+json": {
       "model_id": "2e8f17ec7d994564b675ff97e2ab4ff1",
       "version_major": 2,
       "version_minor": 0
      },
      "text/plain": [
       "sub-12_ses-mri_magnitude2.nii:   0%|          | 0.00/264k [00:00<?, ?B/s]"
      ]
     },
     "metadata": {},
     "output_type": "display_data"
    },
    {
     "data": {
      "application/vnd.jupyter.widget-view+json": {
       "model_id": "876de9d27cb549dca46e7d004f83f742",
       "version_major": 2,
       "version_minor": 0
      },
      "text/plain": [
       "sub-06_ses-mri_dwi.nii.gz:   0%|          | 0.00/43.7M [00:00<?, ?B/s]"
      ]
     },
     "metadata": {},
     "output_type": "display_data"
    },
    {
     "data": {
      "application/vnd.jupyter.widget-view+json": {
       "model_id": "ee6a5278fa534bffa7d9ad93ae0ba446",
       "version_major": 2,
       "version_minor": 0
      },
      "text/plain": [
       "sub-13_ses-mri_task-facerecognition_run-02_bold.json:   0%|          | 0.00/21.7k [00:00<?, ?B/s]"
      ]
     },
     "metadata": {},
     "output_type": "display_data"
    },
    {
     "data": {
      "application/vnd.jupyter.widget-view+json": {
       "model_id": "6d522c997309482f90f476026a812055",
       "version_major": 2,
       "version_minor": 0
      },
      "text/plain": [
       "sub-04_ses-mri_dwi.json:   0%|          | 0.00/619 [00:00<?, ?B/s]"
      ]
     },
     "metadata": {},
     "output_type": "display_data"
    },
    {
     "data": {
      "application/vnd.jupyter.widget-view+json": {
       "model_id": "12b8ef4e0d7442d18d8eddbfbaa268e3",
       "version_major": 2,
       "version_minor": 0
      },
      "text/plain": [
       "sub-09_ses-mri_dwi.nii.gz:   0%|          | 0.00/44.6M [00:00<?, ?B/s]"
      ]
     },
     "metadata": {},
     "output_type": "display_data"
    },
    {
     "data": {
      "application/vnd.jupyter.widget-view+json": {
       "model_id": "fa361a8c60fc4d01a80ba09e8d2eac91",
       "version_major": 2,
       "version_minor": 0
      },
      "text/plain": [
       "sub-01_ses-mri_task-facerecognition_run-01_bold.nii.gz:   0%|          | 0.00/35.3M [00:00<?, ?B/s]"
      ]
     },
     "metadata": {},
     "output_type": "display_data"
    },
    {
     "data": {
      "application/vnd.jupyter.widget-view+json": {
       "model_id": "b1a28039a5bd42728c6517b1863dec32",
       "version_major": 2,
       "version_minor": 0
      },
      "text/plain": [
       "sub-13_ses-mri_task-facerecognition_run-01_events.tsv:   0%|          | 0.00/4.72k [00:00<?, ?B/s]"
      ]
     },
     "metadata": {},
     "output_type": "display_data"
    },
    {
     "data": {
      "application/vnd.jupyter.widget-view+json": {
       "model_id": "26338481818842b892b269e0045f5fb2",
       "version_major": 2,
       "version_minor": 0
      },
      "text/plain": [
       "sub-01_ses-mri_task-facerecognition_run-01_events.tsv:   0%|          | 0.00/4.80k [00:00<?, ?B/s]"
      ]
     },
     "metadata": {},
     "output_type": "display_data"
    },
    {
     "data": {
      "application/vnd.jupyter.widget-view+json": {
       "model_id": "0c126edd7b0b49cb81a686de2809e0f5",
       "version_major": 2,
       "version_minor": 0
      },
      "text/plain": [
       "sub-11_ses-mri_magnitude1.nii:   0%|          | 0.00/264k [00:00<?, ?B/s]"
      ]
     },
     "metadata": {},
     "output_type": "display_data"
    },
    {
     "data": {
      "application/vnd.jupyter.widget-view+json": {
       "model_id": "d101f607c6eb46758e3e9be3eb5af4de",
       "version_major": 2,
       "version_minor": 0
      },
      "text/plain": [
       "sub-13_ses-mri_task-facerecognition_run-02_bold.nii.gz:   0%|          | 0.00/33.7M [00:00<?, ?B/s]"
      ]
     },
     "metadata": {},
     "output_type": "display_data"
    },
    {
     "data": {
      "application/vnd.jupyter.widget-view+json": {
       "model_id": "81f05e3cae3948b18a583cafb17ec941",
       "version_major": 2,
       "version_minor": 0
      },
      "text/plain": [
       "sub-04_ses-mri_dwi.bvec:   0%|          | 0.00/3.28k [00:00<?, ?B/s]"
      ]
     },
     "metadata": {},
     "output_type": "display_data"
    },
    {
     "data": {
      "application/vnd.jupyter.widget-view+json": {
       "model_id": "3f36748ec9bd4203acfead70fce4d4aa",
       "version_major": 2,
       "version_minor": 0
      },
      "text/plain": [
       "sub-10_ses-mri_task-facerecognition_run-03_bold.json:   0%|          | 0.00/21.7k [00:00<?, ?B/s]"
      ]
     },
     "metadata": {},
     "output_type": "display_data"
    },
    {
     "data": {
      "application/vnd.jupyter.widget-view+json": {
       "model_id": "1ee093d1cdb84b1c8e65452a2e2e0827",
       "version_major": 2,
       "version_minor": 0
      },
      "text/plain": [
       "sub-05_ses-mri_run-2_echo-4_FLASH.nii.gz:   0%|          | 0.00/12.9M [00:00<?, ?B/s]"
      ]
     },
     "metadata": {},
     "output_type": "display_data"
    },
    {
     "name": "stdout",
     "output_type": "stream",
     "text": [
      "🔄 Request timed out while downloading /home/mohamed/Documents/ISN2025/Notebooks/ds000117/sub-13/ses-mri/func/sub-13_ses-mri_task-facerecognition_run-03_bold.json, retrying in 0.5 sec …\n"
     ]
    },
    {
     "data": {
      "application/vnd.jupyter.widget-view+json": {
       "model_id": "5098ddbeeed04dd08485445062c723ee",
       "version_major": 2,
       "version_minor": 0
      },
      "text/plain": [
       "sub-13_ses-mri_task-facerecognition_run-02_events.tsv:   0%|          | 0.00/4.84k [00:00<?, ?B/s]"
      ]
     },
     "metadata": {},
     "output_type": "display_data"
    },
    {
     "name": "stdout",
     "output_type": "stream",
     "text": [
      "🔄 Request timed out while downloading /home/mohamed/Documents/ISN2025/Notebooks/ds000117/sub-01/ses-mri/func/sub-01_ses-mri_task-facerecognition_run-02_bold.nii.gz, retrying in 0.5 sec …\n",
      "🔄 Request timed out while downloading /home/mohamed/Documents/ISN2025/Notebooks/ds000117/sub-16/ses-mri/func/derivatives/meg_derivatives/sub-09/ses-meg/meg/sub-09_ses-meg_task-facerecognition_run-02_proc-sss_log.txt, retrying in 0.5 sec …\n",
      "🔄 Request timed out while downloading /home/mohamed/Documents/ISN2025/Notebooks/ds000117/sub-16/ses-mri/func/derivatives/meg_derivatives/sub-09/ses-meg/meg/sub-09_ses-meg_task-facerecognition_run-02_proc-sss_meg.fif, retrying in 0.5 sec …\n"
     ]
    },
    {
     "data": {
      "application/vnd.jupyter.widget-view+json": {
       "model_id": "590171a0e508492da6cf2e468f546828",
       "version_major": 2,
       "version_minor": 0
      },
      "text/plain": [
       "sub-01_ses-mri_task-facerecognition_run-02_bold.json:   0%|          | 0.00/21.6k [00:00<?, ?B/s]"
      ]
     },
     "metadata": {},
     "output_type": "display_data"
    },
    {
     "data": {
      "application/vnd.jupyter.widget-view+json": {
       "model_id": "3ec0213f31c04d109915ea048df25e01",
       "version_major": 2,
       "version_minor": 0
      },
      "text/plain": [
       "sub-09_ses-mri_magnitude1.json:   0%|          | 0.00/3.07k [00:00<?, ?B/s]"
      ]
     },
     "metadata": {},
     "output_type": "display_data"
    },
    {
     "data": {
      "application/vnd.jupyter.widget-view+json": {
       "model_id": "846f60cc038449b5ba020427c1b2505e",
       "version_major": 2,
       "version_minor": 0
      },
      "text/plain": [
       "sub-11_ses-mri_phasediff.json:   0%|          | 0.00/19.5k [00:00<?, ?B/s]"
      ]
     },
     "metadata": {},
     "output_type": "display_data"
    },
    {
     "data": {
      "application/vnd.jupyter.widget-view+json": {
       "model_id": "efd9b90ffbad4ae3812bfb36d82737d6",
       "version_major": 2,
       "version_minor": 0
      },
      "text/plain": [
       "sub-12_ses-mri_magnitude2.json:   0%|          | 0.00/3.07k [00:00<?, ?B/s]"
      ]
     },
     "metadata": {},
     "output_type": "display_data"
    },
    {
     "data": {
      "application/vnd.jupyter.widget-view+json": {
       "model_id": "554f0ac74b01434ba2d2498a5323991e",
       "version_major": 2,
       "version_minor": 0
      },
      "text/plain": [
       "sub-09_ses-mri_magnitude1.nii:   0%|          | 0.00/264k [00:00<?, ?B/s]"
      ]
     },
     "metadata": {},
     "output_type": "display_data"
    },
    {
     "data": {
      "application/vnd.jupyter.widget-view+json": {
       "model_id": "c4243616de734cdb9fd4eceb0aca1e0d",
       "version_major": 2,
       "version_minor": 0
      },
      "text/plain": [
       "sub-05_ses-mri_run-2_echo-5_FLASH.nii.gz:   0%|          | 0.00/12.8M [00:00<?, ?B/s]"
      ]
     },
     "metadata": {},
     "output_type": "display_data"
    },
    {
     "data": {
      "application/vnd.jupyter.widget-view+json": {
       "model_id": "b0cc063978db4d6cb5f0afda8dc9b38d",
       "version_major": 2,
       "version_minor": 0
      },
      "text/plain": [
       "sub-10_ses-mri_task-facerecognition_run-02_bold.nii.gz:   0%|          | 0.00/34.6M [00:00<?, ?B/s]"
      ]
     },
     "metadata": {},
     "output_type": "display_data"
    },
    {
     "data": {
      "application/vnd.jupyter.widget-view+json": {
       "model_id": "24d93a519bd74a039145dfca3b4e2db8",
       "version_major": 2,
       "version_minor": 0
      },
      "text/plain": [
       "sub-06_ses-mri_magnitude1.json:   0%|          | 0.00/3.08k [00:00<?, ?B/s]"
      ]
     },
     "metadata": {},
     "output_type": "display_data"
    },
    {
     "data": {
      "application/vnd.jupyter.widget-view+json": {
       "model_id": "d4f0a37d676744eb91c8e67959f75bdb",
       "version_major": 2,
       "version_minor": 0
      },
      "text/plain": [
       "sub-11_ses-mri_phasediff.nii:   0%|          | 0.00/264k [00:00<?, ?B/s]"
      ]
     },
     "metadata": {},
     "output_type": "display_data"
    },
    {
     "data": {
      "application/vnd.jupyter.widget-view+json": {
       "model_id": "151e5fd839b44a2c8e8d590181869a5c",
       "version_major": 2,
       "version_minor": 0
      },
      "text/plain": [
       "sub-12_ses-mri_phasediff.json:   0%|          | 0.00/21.6k [00:00<?, ?B/s]"
      ]
     },
     "metadata": {},
     "output_type": "display_data"
    },
    {
     "data": {
      "application/vnd.jupyter.widget-view+json": {
       "model_id": "634cb8b0d8e845d6bf2a9ec6e485685b",
       "version_major": 2,
       "version_minor": 0
      },
      "text/plain": [
       "sub-04_ses-mri_magnitude1.nii:   0%|          | 0.00/264k [00:00<?, ?B/s]"
      ]
     },
     "metadata": {},
     "output_type": "display_data"
    },
    {
     "data": {
      "application/vnd.jupyter.widget-view+json": {
       "model_id": "52d8e3a2755e42e1bf6009df03afb006",
       "version_major": 2,
       "version_minor": 0
      },
      "text/plain": [
       "sub-13_ses-mri_task-facerecognition_run-03_events.tsv:   0%|          | 0.00/4.84k [00:00<?, ?B/s]"
      ]
     },
     "metadata": {},
     "output_type": "display_data"
    },
    {
     "data": {
      "application/vnd.jupyter.widget-view+json": {
       "model_id": "cee18b7d42ae49fda910968cadc1b776",
       "version_major": 2,
       "version_minor": 0
      },
      "text/plain": [
       "sub-05_ses-mri_run-2_echo-6_FLASH.nii.gz:   0%|          | 0.00/12.7M [00:00<?, ?B/s]"
      ]
     },
     "metadata": {},
     "output_type": "display_data"
    },
    {
     "data": {
      "application/vnd.jupyter.widget-view+json": {
       "model_id": "e9acac8acfef455ca17eec78503e16e9",
       "version_major": 2,
       "version_minor": 0
      },
      "text/plain": [
       "sub-14_ses-mri_run-2_echo-6_FLASH.nii.gz:   0%|          | 0.00/12.4M [00:00<?, ?B/s]"
      ]
     },
     "metadata": {},
     "output_type": "display_data"
    },
    {
     "data": {
      "application/vnd.jupyter.widget-view+json": {
       "model_id": "34fb5cd93714442e9301e447aea2322f",
       "version_major": 2,
       "version_minor": 0
      },
      "text/plain": [
       "sub-04_ses-mri_dwi.nii.gz:   0%|          | 0.00/44.4M [00:00<?, ?B/s]"
      ]
     },
     "metadata": {},
     "output_type": "display_data"
    },
    {
     "data": {
      "application/vnd.jupyter.widget-view+json": {
       "model_id": "85eb18bee4ff4c1bbfa5312b7e0ea35d",
       "version_major": 2,
       "version_minor": 0
      },
      "text/plain": [
       "sub-12_ses-mri_phasediff.nii:   0%|          | 0.00/264k [00:00<?, ?B/s]"
      ]
     },
     "metadata": {},
     "output_type": "display_data"
    },
    {
     "data": {
      "application/vnd.jupyter.widget-view+json": {
       "model_id": "15cc1c42eb1e493d9eb3c819e1913dc5",
       "version_major": 2,
       "version_minor": 0
      },
      "text/plain": [
       "sub-13_ses-mri_task-facerecognition_run-03_bold.nii.gz:   0%|          | 0.00/33.8M [00:00<?, ?B/s]"
      ]
     },
     "metadata": {},
     "output_type": "display_data"
    },
    {
     "data": {
      "application/vnd.jupyter.widget-view+json": {
       "model_id": "7ace3491783f4992926f6005defd3076",
       "version_major": 2,
       "version_minor": 0
      },
      "text/plain": [
       "sub-05_ses-mri_run-2_echo-7_FLASH.nii.gz:   0%|          | 0.00/12.6M [00:00<?, ?B/s]"
      ]
     },
     "metadata": {},
     "output_type": "display_data"
    },
    {
     "data": {
      "application/vnd.jupyter.widget-view+json": {
       "model_id": "55091bdc5abc42dca05038b2d2a0358d",
       "version_major": 2,
       "version_minor": 0
      },
      "text/plain": [
       "sub-01_ses-mri_task-facerecognition_run-02_events.tsv:   0%|          | 0.00/4.74k [00:00<?, ?B/s]"
      ]
     },
     "metadata": {},
     "output_type": "display_data"
    },
    {
     "data": {
      "application/vnd.jupyter.widget-view+json": {
       "model_id": "67db52051ce74cb58ce8f507f7d59004",
       "version_major": 2,
       "version_minor": 0
      },
      "text/plain": [
       "sub-04_ses-mri_phasediff.json:   0%|          | 0.00/21.5k [00:00<?, ?B/s]"
      ]
     },
     "metadata": {},
     "output_type": "display_data"
    },
    {
     "data": {
      "application/vnd.jupyter.widget-view+json": {
       "model_id": "3f449736e6ef4af39479d148a9f4bac7",
       "version_major": 2,
       "version_minor": 0
      },
      "text/plain": [
       "sub-13_ses-mri_task-facerecognition_run-04_bold.json:   0%|          | 0.00/21.7k [00:00<?, ?B/s]"
      ]
     },
     "metadata": {},
     "output_type": "display_data"
    },
    {
     "data": {
      "application/vnd.jupyter.widget-view+json": {
       "model_id": "f5c026be806d423981018024094c0b44",
       "version_major": 2,
       "version_minor": 0
      },
      "text/plain": [
       "sub-01_ses-mri_task-facerecognition_run-03_bold.json:   0%|          | 0.00/21.6k [00:00<?, ?B/s]"
      ]
     },
     "metadata": {},
     "output_type": "display_data"
    },
    {
     "data": {
      "application/vnd.jupyter.widget-view+json": {
       "model_id": "3f464afaf0b344f8b89da6a2ffc5ef0d",
       "version_major": 2,
       "version_minor": 0
      },
      "text/plain": [
       "sub-05_ses-mri_dwi.bvec:   0%|          | 0.00/3.28k [00:00<?, ?B/s]"
      ]
     },
     "metadata": {},
     "output_type": "display_data"
    },
    {
     "data": {
      "application/vnd.jupyter.widget-view+json": {
       "model_id": "3ada4ba4def745ecab508f29e83b3873",
       "version_major": 2,
       "version_minor": 0
      },
      "text/plain": [
       "sub-09_ses-mri_magnitude2.nii:   0%|          | 0.00/264k [00:00<?, ?B/s]"
      ]
     },
     "metadata": {},
     "output_type": "display_data"
    },
    {
     "data": {
      "application/vnd.jupyter.widget-view+json": {
       "model_id": "2906ed6859eb4ed3ae79640b4731e38e",
       "version_major": 2,
       "version_minor": 0
      },
      "text/plain": [
       "sub-11_ses-mri_task-facerecognition_run-01_bold.json:   0%|          | 0.00/21.6k [00:00<?, ?B/s]"
      ]
     },
     "metadata": {},
     "output_type": "display_data"
    },
    {
     "data": {
      "application/vnd.jupyter.widget-view+json": {
       "model_id": "6e0fdc733f2e4306a6c2c702bdd030b0",
       "version_major": 2,
       "version_minor": 0
      },
      "text/plain": [
       "sub-07_ses-mri_magnitude1.json:   0%|          | 0.00/3.10k [00:00<?, ?B/s]"
      ]
     },
     "metadata": {},
     "output_type": "display_data"
    },
    {
     "data": {
      "application/vnd.jupyter.widget-view+json": {
       "model_id": "98a8dac02ab34b88a2f76158ab24f78c",
       "version_major": 2,
       "version_minor": 0
      },
      "text/plain": [
       "sub-06_ses-mri_magnitude1.nii:   0%|          | 0.00/264k [00:00<?, ?B/s]"
      ]
     },
     "metadata": {},
     "output_type": "display_data"
    },
    {
     "data": {
      "application/vnd.jupyter.widget-view+json": {
       "model_id": "60a57e5dd1554e3caa506d3d71f858bf",
       "version_major": 2,
       "version_minor": 0
      },
      "text/plain": [
       "sub-12_ses-mri_task-facerecognition_run-01_bold.json:   0%|          | 0.00/21.7k [00:00<?, ?B/s]"
      ]
     },
     "metadata": {},
     "output_type": "display_data"
    },
    {
     "data": {
      "application/vnd.jupyter.widget-view+json": {
       "model_id": "c8db858ee81347a8baedf71c03d50af4",
       "version_major": 2,
       "version_minor": 0
      },
      "text/plain": [
       "sub-12_ses-mri_task-facerecognition_run-01_bold.nii.gz:   0%|          | 0.00/34.0M [00:00<?, ?B/s]"
      ]
     },
     "metadata": {},
     "output_type": "display_data"
    },
    {
     "data": {
      "application/vnd.jupyter.widget-view+json": {
       "model_id": "ea4227371ef2433597ea8a5f5afd0a45",
       "version_major": 2,
       "version_minor": 0
      },
      "text/plain": [
       "sub-13_ses-mri_task-facerecognition_run-04_bold.nii.gz:   0%|          | 0.00/33.8M [00:00<?, ?B/s]"
      ]
     },
     "metadata": {},
     "output_type": "display_data"
    },
    {
     "data": {
      "application/vnd.jupyter.widget-view+json": {
       "model_id": "9314312d39984892bb3db32032d16198",
       "version_major": 2,
       "version_minor": 0
      },
      "text/plain": [
       "sub-04_ses-mri_magnitude1.json:   0%|          | 0.00/3.04k [00:00<?, ?B/s]"
      ]
     },
     "metadata": {},
     "output_type": "display_data"
    },
    {
     "data": {
      "application/vnd.jupyter.widget-view+json": {
       "model_id": "686ee363e16043f09ed44ee411ab7e8d",
       "version_major": 2,
       "version_minor": 0
      },
      "text/plain": [
       "sub-02_ses-mri_run-2_echo-6_FLASH.nii.gz:   0%|          | 0.00/12.1M [00:00<?, ?B/s]"
      ]
     },
     "metadata": {},
     "output_type": "display_data"
    },
    {
     "data": {
      "application/vnd.jupyter.widget-view+json": {
       "model_id": "5adfa55ca1fb4556ba3849ba50ad9abf",
       "version_major": 2,
       "version_minor": 0
      },
      "text/plain": [
       "sub-01_ses-mri_task-facerecognition_run-03_bold.nii.gz:   0%|          | 0.00/35.4M [00:00<?, ?B/s]"
      ]
     },
     "metadata": {},
     "output_type": "display_data"
    },
    {
     "data": {
      "application/vnd.jupyter.widget-view+json": {
       "model_id": "6f305eae6c46401498edd13f3c4df8e5",
       "version_major": 2,
       "version_minor": 0
      },
      "text/plain": [
       "sub-13_ses-mri_task-facerecognition_run-04_events.tsv:   0%|          | 0.00/4.72k [00:00<?, ?B/s]"
      ]
     },
     "metadata": {},
     "output_type": "display_data"
    },
    {
     "data": {
      "application/vnd.jupyter.widget-view+json": {
       "model_id": "3346e36e7bd4422d930ed48b9fbe48ef",
       "version_major": 2,
       "version_minor": 0
      },
      "text/plain": [
       "sub-09_ses-mri_phasediff.json:   0%|          | 0.00/20.1k [00:00<?, ?B/s]"
      ]
     },
     "metadata": {},
     "output_type": "display_data"
    },
    {
     "data": {
      "application/vnd.jupyter.widget-view+json": {
       "model_id": "ea27862161f84737b069403165431150",
       "version_major": 2,
       "version_minor": 0
      },
      "text/plain": [
       "sub-05_ses-mri_dwi.bval:   0%|          | 0.00/324 [00:00<?, ?B/s]"
      ]
     },
     "metadata": {},
     "output_type": "display_data"
    },
    {
     "data": {
      "application/vnd.jupyter.widget-view+json": {
       "model_id": "57020afbdc93423ebba63a4072a0e8da",
       "version_major": 2,
       "version_minor": 0
      },
      "text/plain": [
       "sub-07_ses-mri_magnitude2.json:   0%|          | 0.00/3.10k [00:00<?, ?B/s]"
      ]
     },
     "metadata": {},
     "output_type": "display_data"
    },
    {
     "data": {
      "application/vnd.jupyter.widget-view+json": {
       "model_id": "464585aa267243b2b57b20d28482f780",
       "version_major": 2,
       "version_minor": 0
      },
      "text/plain": [
       "sub-01_ses-mri_task-facerecognition_run-03_events.tsv:   0%|          | 0.00/4.77k [00:00<?, ?B/s]"
      ]
     },
     "metadata": {},
     "output_type": "display_data"
    },
    {
     "data": {
      "application/vnd.jupyter.widget-view+json": {
       "model_id": "1625774d5f7b4e35b5e515738b838b3c",
       "version_major": 2,
       "version_minor": 0
      },
      "text/plain": [
       "sub-12_ses-mri_task-facerecognition_run-01_events.tsv:   0%|          | 0.00/4.62k [00:00<?, ?B/s]"
      ]
     },
     "metadata": {},
     "output_type": "display_data"
    },
    {
     "data": {
      "application/vnd.jupyter.widget-view+json": {
       "model_id": "8aef629a84a74e198f97fd5c9807774a",
       "version_major": 2,
       "version_minor": 0
      },
      "text/plain": [
       "sub-04_ses-mri_magnitude2.nii:   0%|          | 0.00/264k [00:00<?, ?B/s]"
      ]
     },
     "metadata": {},
     "output_type": "display_data"
    },
    {
     "data": {
      "application/vnd.jupyter.widget-view+json": {
       "model_id": "2cb47887d1f6444aa9a626dc2fc2d9a0",
       "version_major": 2,
       "version_minor": 0
      },
      "text/plain": [
       "sub-11_ses-mri_task-facerecognition_run-01_events.tsv:   0%|          | 0.00/4.63k [00:00<?, ?B/s]"
      ]
     },
     "metadata": {},
     "output_type": "display_data"
    },
    {
     "data": {
      "application/vnd.jupyter.widget-view+json": {
       "model_id": "3100cdb3e2354325a0845b809c805a43",
       "version_major": 2,
       "version_minor": 0
      },
      "text/plain": [
       "sub-12_ses-mri_task-facerecognition_run-02_bold.nii.gz:   0%|          | 0.00/34.0M [00:00<?, ?B/s]"
      ]
     },
     "metadata": {},
     "output_type": "display_data"
    },
    {
     "data": {
      "application/vnd.jupyter.widget-view+json": {
       "model_id": "3d5fb721c2f24852be63e5d7c6324c0c",
       "version_major": 2,
       "version_minor": 0
      },
      "text/plain": [
       "sub-11_ses-mri_task-facerecognition_run-01_bold.nii.gz:   0%|          | 0.00/33.3M [00:00<?, ?B/s]"
      ]
     },
     "metadata": {},
     "output_type": "display_data"
    },
    {
     "name": "stderr",
     "output_type": "stream",
     "text": [
      "IOPub message rate exceeded.\n",
      "The Jupyter server will temporarily stop sending output\n",
      "to the client in order to avoid crashing it.\n",
      "To change this limit, set the config variable\n",
      "`--ServerApp.iopub_msg_rate_limit`.\n",
      "\n",
      "Current values:\n",
      "ServerApp.iopub_msg_rate_limit=1000.0 (msgs/sec)\n",
      "ServerApp.rate_limit_window=3.0 (secs)\n",
      "\n"
     ]
    },
    {
     "data": {
      "application/vnd.jupyter.widget-view+json": {
       "model_id": "d46a742b21eb4c2f94db2f93889131fc",
       "version_major": 2,
       "version_minor": 0
      },
      "text/plain": [
       "sub-09_ses-mri_task-facerecognition_run-01_bold.json:   0%|          | 0.00/21.6k [00:00<?, ?B/s]"
      ]
     },
     "metadata": {},
     "output_type": "display_data"
    },
    {
     "data": {
      "application/vnd.jupyter.widget-view+json": {
       "model_id": "e9542037351b4eab928c99d8fb61a335",
       "version_major": 2,
       "version_minor": 0
      },
      "text/plain": [
       "sub-05_ses-mri_dwi.json:   0%|          | 0.00/621 [00:00<?, ?B/s]"
      ]
     },
     "metadata": {},
     "output_type": "display_data"
    },
    {
     "data": {
      "application/vnd.jupyter.widget-view+json": {
       "model_id": "906eb95dbece464a8311e975b76c03e5",
       "version_major": 2,
       "version_minor": 0
      },
      "text/plain": [
       "sub-07_ses-mri_magnitude2.nii:   0%|          | 0.00/264k [00:00<?, ?B/s]"
      ]
     },
     "metadata": {},
     "output_type": "display_data"
    },
    {
     "data": {
      "application/vnd.jupyter.widget-view+json": {
       "model_id": "f3008c147d284af7a39e4ebcd94e91d6",
       "version_major": 2,
       "version_minor": 0
      },
      "text/plain": [
       "sub-12_ses-mri_task-facerecognition_run-02_events.tsv:   0%|          | 0.00/4.74k [00:00<?, ?B/s]"
      ]
     },
     "metadata": {},
     "output_type": "display_data"
    },
    {
     "data": {
      "application/vnd.jupyter.widget-view+json": {
       "model_id": "9e5f0cec8f234c048088540bdd9f2c83",
       "version_major": 2,
       "version_minor": 0
      },
      "text/plain": [
       "sub-01_ses-mri_task-facerecognition_run-04_bold.json:   0%|          | 0.00/21.6k [00:00<?, ?B/s]"
      ]
     },
     "metadata": {},
     "output_type": "display_data"
    },
    {
     "data": {
      "application/vnd.jupyter.widget-view+json": {
       "model_id": "d11358e4a5984115b2e461716c3e8274",
       "version_major": 2,
       "version_minor": 0
      },
      "text/plain": [
       "sub-11_ses-mri_task-facerecognition_run-02_bold.nii.gz:   0%|          | 0.00/33.4M [00:00<?, ?B/s]"
      ]
     },
     "metadata": {},
     "output_type": "display_data"
    },
    {
     "data": {
      "application/vnd.jupyter.widget-view+json": {
       "model_id": "3e1c3fceb5e840759f93549a8f74df0b",
       "version_major": 2,
       "version_minor": 0
      },
      "text/plain": [
       "sub-07_ses-mri_magnitude1.nii:   0%|          | 0.00/264k [00:00<?, ?B/s]"
      ]
     },
     "metadata": {},
     "output_type": "display_data"
    },
    {
     "data": {
      "application/vnd.jupyter.widget-view+json": {
       "model_id": "e65ab864ce2e42618cbd603ff3006704",
       "version_major": 2,
       "version_minor": 0
      },
      "text/plain": [
       "sub-09_ses-mri_task-facerecognition_run-01_bold.nii.gz:   0%|          | 0.00/34.4M [00:00<?, ?B/s]"
      ]
     },
     "metadata": {},
     "output_type": "display_data"
    },
    {
     "name": "stdout",
     "output_type": "stream",
     "text": [
      "🔄 Request timed out while downloading /home/mohamed/Documents/ISN2025/Notebooks/ds000117/sub-06/ses-mri/fmap/sub-06_ses-mri_magnitude2.nii, retrying in 0.5 sec …\n",
      "🔄 Request timed out while downloading /home/mohamed/Documents/ISN2025/Notebooks/ds000117/sub-16/ses-mri/func/derivatives/meg_derivatives/sub-10/ses-meg/meg/sub-10_ses-meg_task-facerecognition_run-05_proc-sss_meg.fif, retrying in 0.5 sec …\n"
     ]
    },
    {
     "data": {
      "application/vnd.jupyter.widget-view+json": {
       "model_id": "d96889a6353744d7876b4cb4d7b686f6",
       "version_major": 2,
       "version_minor": 0
      },
      "text/plain": [
       "sub-13_ses-mri_task-facerecognition_run-06_bold.json:   0%|          | 0.00/21.7k [00:00<?, ?B/s]"
      ]
     },
     "metadata": {},
     "output_type": "display_data"
    },
    {
     "data": {
      "application/vnd.jupyter.widget-view+json": {
       "model_id": "086d2e259d664d48b812fe6e50f8ae2e",
       "version_major": 2,
       "version_minor": 0
      },
      "text/plain": [
       "sub-04_ses-mri_task-facerecognition_run-01_bold.json:   0%|          | 0.00/21.6k [00:00<?, ?B/s]"
      ]
     },
     "metadata": {},
     "output_type": "display_data"
    },
    {
     "data": {
      "application/vnd.jupyter.widget-view+json": {
       "model_id": "f98bbbe2430a450b89efb662d19d79d8",
       "version_major": 2,
       "version_minor": 0
      },
      "text/plain": [
       "sub-05_ses-mri_magnitude1.json:   0%|          | 0.00/3.05k [00:00<?, ?B/s]"
      ]
     },
     "metadata": {},
     "output_type": "display_data"
    },
    {
     "data": {
      "application/vnd.jupyter.widget-view+json": {
       "model_id": "7c7bb70638c247f68d6770b299eb7005",
       "version_major": 2,
       "version_minor": 0
      },
      "text/plain": [
       "sub-09_ses-mri_task-facerecognition_run-01_events.tsv:   0%|          | 0.00/4.79k [00:00<?, ?B/s]"
      ]
     },
     "metadata": {},
     "output_type": "display_data"
    },
    {
     "data": {
      "application/vnd.jupyter.widget-view+json": {
       "model_id": "8d5a7df5d0e94b7d80a9d2fea0109c3e",
       "version_major": 2,
       "version_minor": 0
      },
      "text/plain": [
       "sub-07_ses-mri_phasediff.json:   0%|          | 0.00/21.6k [00:00<?, ?B/s]"
      ]
     },
     "metadata": {},
     "output_type": "display_data"
    },
    {
     "data": {
      "application/vnd.jupyter.widget-view+json": {
       "model_id": "05b78bac8f7f40ee94acda5c1c563798",
       "version_major": 2,
       "version_minor": 0
      },
      "text/plain": [
       "sub-12_ses-mri_task-facerecognition_run-02_bold.json:   0%|          | 0.00/21.7k [00:00<?, ?B/s]"
      ]
     },
     "metadata": {},
     "output_type": "display_data"
    },
    {
     "data": {
      "application/vnd.jupyter.widget-view+json": {
       "model_id": "4f414f711b4b4f5299cf8b0b9453cd4c",
       "version_major": 2,
       "version_minor": 0
      },
      "text/plain": [
       "sub-03_ses-mri_dwi.bvec:   0%|          | 0.00/3.28k [00:00<?, ?B/s]"
      ]
     },
     "metadata": {},
     "output_type": "display_data"
    },
    {
     "data": {
      "application/vnd.jupyter.widget-view+json": {
       "model_id": "747766503c584a2291457a954754b375",
       "version_major": 2,
       "version_minor": 0
      },
      "text/plain": [
       "sub-07_ses-mri_phasediff.nii:   0%|          | 0.00/264k [00:00<?, ?B/s]"
      ]
     },
     "metadata": {},
     "output_type": "display_data"
    },
    {
     "data": {
      "application/vnd.jupyter.widget-view+json": {
       "model_id": "715f7447b3a84aa4b40b75ffb6404628",
       "version_major": 2,
       "version_minor": 0
      },
      "text/plain": [
       "sub-09_ses-mri_phasediff.nii:   0%|          | 0.00/264k [00:00<?, ?B/s]"
      ]
     },
     "metadata": {},
     "output_type": "display_data"
    },
    {
     "data": {
      "application/vnd.jupyter.widget-view+json": {
       "model_id": "50e33db5b5b14044a84dd36307b8951d",
       "version_major": 2,
       "version_minor": 0
      },
      "text/plain": [
       "sub-11_ses-mri_task-facerecognition_run-02_bold.json:   0%|          | 0.00/21.6k [00:00<?, ?B/s]"
      ]
     },
     "metadata": {},
     "output_type": "display_data"
    },
    {
     "data": {
      "application/vnd.jupyter.widget-view+json": {
       "model_id": "d4519b7ce7a84f079c961d95255c220c",
       "version_major": 2,
       "version_minor": 0
      },
      "text/plain": [
       "sub-15_ses-mri_run-2_echo-3_FLASH.nii.gz:   0%|          | 0.00/13.0M [00:00<?, ?B/s]"
      ]
     },
     "metadata": {},
     "output_type": "display_data"
    },
    {
     "data": {
      "application/vnd.jupyter.widget-view+json": {
       "model_id": "8e87783692994f39a8ec8b5fc7808b01",
       "version_major": 2,
       "version_minor": 0
      },
      "text/plain": [
       "sub-01_ses-mri_task-facerecognition_run-04_bold.nii.gz:   0%|          | 0.00/35.5M [00:00<?, ?B/s]"
      ]
     },
     "metadata": {},
     "output_type": "display_data"
    },
    {
     "data": {
      "application/vnd.jupyter.widget-view+json": {
       "model_id": "ff10fea2a0464172978008d319818126",
       "version_major": 2,
       "version_minor": 0
      },
      "text/plain": [
       "sub-04_ses-mri_task-facerecognition_run-01_bold.nii.gz:   0%|          | 0.00/34.2M [00:00<?, ?B/s]"
      ]
     },
     "metadata": {},
     "output_type": "display_data"
    },
    {
     "data": {
      "application/vnd.jupyter.widget-view+json": {
       "model_id": "db949fb737244a52966f7e2da4b19003",
       "version_major": 2,
       "version_minor": 0
      },
      "text/plain": [
       "sub-05_ses-mri_dwi.nii.gz:   0%|          | 0.00/43.2M [00:00<?, ?B/s]"
      ]
     },
     "metadata": {},
     "output_type": "display_data"
    },
    {
     "data": {
      "application/vnd.jupyter.widget-view+json": {
       "model_id": "d700674cddea43b39fcd6dfe5094fb06",
       "version_major": 2,
       "version_minor": 0
      },
      "text/plain": [
       "sub-03_ses-mri_dwi.nii.gz:   0%|          | 0.00/44.3M [00:00<?, ?B/s]"
      ]
     },
     "metadata": {},
     "output_type": "display_data"
    },
    {
     "data": {
      "application/vnd.jupyter.widget-view+json": {
       "model_id": "8e2a8fd70cf44a3794cd03f2330f55cd",
       "version_major": 2,
       "version_minor": 0
      },
      "text/plain": [
       "sub-06_ses-mri_magnitude2.json:   0%|          | 0.00/3.04k [00:00<?, ?B/s]"
      ]
     },
     "metadata": {},
     "output_type": "display_data"
    },
    {
     "data": {
      "application/vnd.jupyter.widget-view+json": {
       "model_id": "3c5d7016cc33435c9d74688f1e7562ac",
       "version_major": 2,
       "version_minor": 0
      },
      "text/plain": [
       "sub-07_ses-mri_task-facerecognition_run-01_bold.json:   0%|          | 0.00/21.7k [00:00<?, ?B/s]"
      ]
     },
     "metadata": {},
     "output_type": "display_data"
    },
    {
     "data": {
      "application/vnd.jupyter.widget-view+json": {
       "model_id": "bbafb751a7614e4c8bfde221bca1aca2",
       "version_major": 2,
       "version_minor": 0
      },
      "text/plain": [
       "sub-02_ses-mri_run-2_echo-3_FLASH.nii.gz:   0%|          | 0.00/12.4M [00:00<?, ?B/s]"
      ]
     },
     "metadata": {},
     "output_type": "display_data"
    },
    {
     "data": {
      "application/vnd.jupyter.widget-view+json": {
       "model_id": "e7cfcd107e7c4c7b8f3b8d83b562d31e",
       "version_major": 2,
       "version_minor": 0
      },
      "text/plain": [
       "sub-09_ses-mri_task-facerecognition_run-02_bold.json:   0%|          | 0.00/21.6k [00:00<?, ?B/s]"
      ]
     },
     "metadata": {},
     "output_type": "display_data"
    },
    {
     "data": {
      "application/vnd.jupyter.widget-view+json": {
       "model_id": "d2354390ef964a4284cb0bcaf31588ec",
       "version_major": 2,
       "version_minor": 0
      },
      "text/plain": [
       "sub-03_ses-mri_magnitude1.nii:   0%|          | 0.00/264k [00:00<?, ?B/s]"
      ]
     },
     "metadata": {},
     "output_type": "display_data"
    },
    {
     "data": {
      "application/vnd.jupyter.widget-view+json": {
       "model_id": "9190e3edb5f446f0abb2cadb315a4ba2",
       "version_major": 2,
       "version_minor": 0
      },
      "text/plain": [
       "sub-07_ses-mri_task-facerecognition_run-01_events.tsv:   0%|          | 0.00/4.61k [00:00<?, ?B/s]"
      ]
     },
     "metadata": {},
     "output_type": "display_data"
    },
    {
     "data": {
      "application/vnd.jupyter.widget-view+json": {
       "model_id": "f7c8a984360149978cc8d0ac4cbf06d3",
       "version_major": 2,
       "version_minor": 0
      },
      "text/plain": [
       "sub-13_ses-mri_task-facerecognition_run-05_bold.nii.gz:   0%|          | 0.00/33.8M [00:00<?, ?B/s]"
      ]
     },
     "metadata": {},
     "output_type": "display_data"
    },
    {
     "data": {
      "application/vnd.jupyter.widget-view+json": {
       "model_id": "b40789a3f2384271859c8979fd1b0bdd",
       "version_major": 2,
       "version_minor": 0
      },
      "text/plain": [
       "sub-12_ses-mri_task-facerecognition_run-03_bold.json:   0%|          | 0.00/21.7k [00:00<?, ?B/s]"
      ]
     },
     "metadata": {},
     "output_type": "display_data"
    },
    {
     "data": {
      "application/vnd.jupyter.widget-view+json": {
       "model_id": "c57e4a73fdcf40dba707b7a72e9a90cd",
       "version_major": 2,
       "version_minor": 0
      },
      "text/plain": [
       "sub-05_ses-mri_magnitude1.nii:   0%|          | 0.00/264k [00:00<?, ?B/s]"
      ]
     },
     "metadata": {},
     "output_type": "display_data"
    },
    {
     "data": {
      "application/vnd.jupyter.widget-view+json": {
       "model_id": "b44ff861e6894832ad423a46f49d50be",
       "version_major": 2,
       "version_minor": 0
      },
      "text/plain": [
       "sub-04_ses-mri_phasediff.nii:   0%|          | 0.00/264k [00:00<?, ?B/s]"
      ]
     },
     "metadata": {},
     "output_type": "display_data"
    },
    {
     "data": {
      "application/vnd.jupyter.widget-view+json": {
       "model_id": "fe3690f22c2747ea94a3f7cc0c3460da",
       "version_major": 2,
       "version_minor": 0
      },
      "text/plain": [
       "sub-02_ses-mri_run-2_echo-5_FLASH.nii.gz:   0%|          | 0.00/12.3M [00:00<?, ?B/s]"
      ]
     },
     "metadata": {},
     "output_type": "display_data"
    },
    {
     "data": {
      "application/vnd.jupyter.widget-view+json": {
       "model_id": "00f8ceb871e14576a8c660c2f13e2839",
       "version_major": 2,
       "version_minor": 0
      },
      "text/plain": [
       "sub-11_ses-mri_task-facerecognition_run-03_bold.json:   0%|          | 0.00/21.6k [00:00<?, ?B/s]"
      ]
     },
     "metadata": {},
     "output_type": "display_data"
    },
    {
     "data": {
      "application/vnd.jupyter.widget-view+json": {
       "model_id": "bf6c71995e554b58a10c27546ea22109",
       "version_major": 2,
       "version_minor": 0
      },
      "text/plain": [
       "sub-06_ses-mri_phasediff.json:   0%|          | 0.00/21.0k [00:00<?, ?B/s]"
      ]
     },
     "metadata": {},
     "output_type": "display_data"
    },
    {
     "data": {
      "application/vnd.jupyter.widget-view+json": {
       "model_id": "91b0469b5dc44e99bae79ec586eede71",
       "version_major": 2,
       "version_minor": 0
      },
      "text/plain": [
       "sub-07_ses-mri_task-facerecognition_run-01_bold.nii.gz:   0%|          | 0.00/33.7M [00:00<?, ?B/s]"
      ]
     },
     "metadata": {},
     "output_type": "display_data"
    },
    {
     "data": {
      "application/vnd.jupyter.widget-view+json": {
       "model_id": "610861b753ad45d3b407ff303da24cfa",
       "version_major": 2,
       "version_minor": 0
      },
      "text/plain": [
       "sub-09_ses-mri_task-facerecognition_run-02_events.tsv:   0%|          | 0.00/4.61k [00:00<?, ?B/s]"
      ]
     },
     "metadata": {},
     "output_type": "display_data"
    },
    {
     "data": {
      "application/vnd.jupyter.widget-view+json": {
       "model_id": "bc6948c2190d448689115e8cd077b9e4",
       "version_major": 2,
       "version_minor": 0
      },
      "text/plain": [
       "sub-07_ses-mri_task-facerecognition_run-02_bold.json:   0%|          | 0.00/21.7k [00:00<?, ?B/s]"
      ]
     },
     "metadata": {},
     "output_type": "display_data"
    },
    {
     "data": {
      "application/vnd.jupyter.widget-view+json": {
       "model_id": "ecb4ae41b2824ee38b81799c73806daf",
       "version_major": 2,
       "version_minor": 0
      },
      "text/plain": [
       "sub-03_ses-mri_magnitude2.json:   0%|          | 0.00/3.07k [00:00<?, ?B/s]"
      ]
     },
     "metadata": {},
     "output_type": "display_data"
    },
    {
     "data": {
      "application/vnd.jupyter.widget-view+json": {
       "model_id": "0f30ed894f8b406ead06694377109909",
       "version_major": 2,
       "version_minor": 0
      },
      "text/plain": [
       "sub-06_ses-mri_phasediff.nii:   0%|          | 0.00/264k [00:00<?, ?B/s]"
      ]
     },
     "metadata": {},
     "output_type": "display_data"
    },
    {
     "data": {
      "application/vnd.jupyter.widget-view+json": {
       "model_id": "32ed0b8b83a940439bc5dfe28c818492",
       "version_major": 2,
       "version_minor": 0
      },
      "text/plain": [
       "sub-07_ses-mri_task-facerecognition_run-02_bold.nii.gz:   0%|          | 0.00/33.6M [00:00<?, ?B/s]"
      ]
     },
     "metadata": {},
     "output_type": "display_data"
    },
    {
     "data": {
      "application/vnd.jupyter.widget-view+json": {
       "model_id": "a8a4a92dfb424ef08ede272a77322ea0",
       "version_major": 2,
       "version_minor": 0
      },
      "text/plain": [
       "sub-09_ses-mri_task-facerecognition_run-02_bold.nii.gz:   0%|          | 0.00/34.4M [00:00<?, ?B/s]"
      ]
     },
     "metadata": {},
     "output_type": "display_data"
    },
    {
     "data": {
      "application/vnd.jupyter.widget-view+json": {
       "model_id": "8407167f327240ee95cc18e9d2995ed1",
       "version_major": 2,
       "version_minor": 0
      },
      "text/plain": [
       "sub-09_ses-mri_task-facerecognition_run-03_bold.json:   0%|          | 0.00/21.6k [00:00<?, ?B/s]"
      ]
     },
     "metadata": {},
     "output_type": "display_data"
    },
    {
     "name": "stdout",
     "output_type": "stream",
     "text": [
      "🔄 Request timed out while downloading /home/mohamed/Documents/ISN2025/Notebooks/ds000117/sub-11/ses-mri/func/sub-11_ses-mri_task-facerecognition_run-02_events.tsv, retrying in 0.5 sec …\n",
      "🔄 Request timed out while downloading /home/mohamed/Documents/ISN2025/Notebooks/ds000117/sub-12/ses-mri/func/sub-12_ses-mri_task-facerecognition_run-03_bold.nii.gz, retrying in 0.5 sec …\n",
      "🔄 Request timed out while downloading /home/mohamed/Documents/ISN2025/Notebooks/ds000117/sub-16/ses-mri/func/derivatives/meg_derivatives/sub-12/ses-meg/meg/sub-12_ses-meg_task-facerecognition_run-02_proc-sss_log.txt, retrying in 0.5 sec …\n",
      "🔄 Request timed out while downloading /home/mohamed/Documents/ISN2025/Notebooks/ds000117/sub-03/ses-mri/fmap/sub-03_ses-mri_magnitude1.json, retrying in 0.5 sec …\n"
     ]
    },
    {
     "data": {
      "application/vnd.jupyter.widget-view+json": {
       "model_id": "04e1391954f74031a354a00dcc35513e",
       "version_major": 2,
       "version_minor": 0
      },
      "text/plain": [
       "sub-06_ses-mri_task-facerecognition_run-01_bold.json:   0%|          | 0.00/21.6k [00:00<?, ?B/s]"
      ]
     },
     "metadata": {},
     "output_type": "display_data"
    },
    {
     "data": {
      "application/vnd.jupyter.widget-view+json": {
       "model_id": "3d4e3ad791174fb29c365afdfcc1928c",
       "version_major": 2,
       "version_minor": 0
      },
      "text/plain": [
       "sub-12_ses-mri_task-facerecognition_run-03_events.tsv:   0%|          | 0.00/4.85k [00:00<?, ?B/s]"
      ]
     },
     "metadata": {},
     "output_type": "display_data"
    },
    {
     "data": {
      "application/vnd.jupyter.widget-view+json": {
       "model_id": "ea8c016f097c41a3b9064135dfdfe25e",
       "version_major": 2,
       "version_minor": 0
      },
      "text/plain": [
       "sub-15_ses-mri_run-2_echo-4_FLASH.nii.gz:   0%|          | 0.00/13.0M [00:00<?, ?B/s]"
      ]
     },
     "metadata": {},
     "output_type": "display_data"
    },
    {
     "data": {
      "application/vnd.jupyter.widget-view+json": {
       "model_id": "be07e2663d394b7fae91e4acdd52813e",
       "version_major": 2,
       "version_minor": 0
      },
      "text/plain": [
       "sub-15_ses-mri_run-2_echo-6_FLASH.nii.gz:   0%|          | 0.00/12.7M [00:00<?, ?B/s]"
      ]
     },
     "metadata": {},
     "output_type": "display_data"
    },
    {
     "data": {
      "application/vnd.jupyter.widget-view+json": {
       "model_id": "0c8aa103d2b147fcbc031e59ab920a28",
       "version_major": 2,
       "version_minor": 0
      },
      "text/plain": [
       "sub-03_ses-mri_magnitude2.nii:   0%|          | 0.00/264k [00:00<?, ?B/s]"
      ]
     },
     "metadata": {},
     "output_type": "display_data"
    },
    {
     "data": {
      "application/vnd.jupyter.widget-view+json": {
       "model_id": "ae8d68c5028349dd9781c089c55301cb",
       "version_major": 2,
       "version_minor": 0
      },
      "text/plain": [
       "sub-05_ses-mri_magnitude2.json:   0%|          | 0.00/3.05k [00:00<?, ?B/s]"
      ]
     },
     "metadata": {},
     "output_type": "display_data"
    },
    {
     "data": {
      "application/vnd.jupyter.widget-view+json": {
       "model_id": "d9967f4e6b7a4d0a9eff57679b374f13",
       "version_major": 2,
       "version_minor": 0
      },
      "text/plain": [
       "sub-15_ses-mri_run-2_echo-5_FLASH.nii.gz:   0%|          | 0.00/12.9M [00:00<?, ?B/s]"
      ]
     },
     "metadata": {},
     "output_type": "display_data"
    },
    {
     "data": {
      "application/vnd.jupyter.widget-view+json": {
       "model_id": "46ba90d6225b4524ae2269fb63992135",
       "version_major": 2,
       "version_minor": 0
      },
      "text/plain": [
       "sub-07_ses-mri_task-facerecognition_run-02_events.tsv:   0%|          | 0.00/4.60k [00:00<?, ?B/s]"
      ]
     },
     "metadata": {},
     "output_type": "display_data"
    },
    {
     "data": {
      "application/vnd.jupyter.widget-view+json": {
       "model_id": "e665d0710a1d4db7b66783425889cc41",
       "version_major": 2,
       "version_minor": 0
      },
      "text/plain": [
       "sub-04_ses-mri_task-facerecognition_run-01_events.tsv:   0%|          | 0.00/4.66k [00:00<?, ?B/s]"
      ]
     },
     "metadata": {},
     "output_type": "display_data"
    },
    {
     "data": {
      "application/vnd.jupyter.widget-view+json": {
       "model_id": "703723f51516430fb2bd76f1748d5f0f",
       "version_major": 2,
       "version_minor": 0
      },
      "text/plain": [
       "sub-11_ses-mri_task-facerecognition_run-03_bold.nii.gz:   0%|          | 0.00/33.5M [00:00<?, ?B/s]"
      ]
     },
     "metadata": {},
     "output_type": "display_data"
    },
    {
     "data": {
      "application/vnd.jupyter.widget-view+json": {
       "model_id": "585283dab9924698bae7ac6e75f8659d",
       "version_major": 2,
       "version_minor": 0
      },
      "text/plain": [
       "sub-09_ses-mri_task-facerecognition_run-03_bold.nii.gz:   0%|          | 0.00/34.5M [00:00<?, ?B/s]"
      ]
     },
     "metadata": {},
     "output_type": "display_data"
    },
    {
     "data": {
      "application/vnd.jupyter.widget-view+json": {
       "model_id": "579742a0ab3f4823a655dab2ecc3c91c",
       "version_major": 2,
       "version_minor": 0
      },
      "text/plain": [
       "sub-14_ses-mri_run-2_echo-7_FLASH.nii.gz:   0%|          | 0.00/12.4M [00:00<?, ?B/s]"
      ]
     },
     "metadata": {},
     "output_type": "display_data"
    },
    {
     "data": {
      "application/vnd.jupyter.widget-view+json": {
       "model_id": "d40fccfa0b974c1a99e8151a524a7327",
       "version_major": 2,
       "version_minor": 0
      },
      "text/plain": [
       "sub-12_ses-mri_task-facerecognition_run-04_bold.json:   0%|          | 0.00/21.7k [00:00<?, ?B/s]"
      ]
     },
     "metadata": {},
     "output_type": "display_data"
    },
    {
     "data": {
      "application/vnd.jupyter.widget-view+json": {
       "model_id": "ec819f6576334ec9a2a474da38bd34f4",
       "version_major": 2,
       "version_minor": 0
      },
      "text/plain": [
       "sub-03_ses-mri_phasediff.json:   0%|          | 0.00/20.2k [00:00<?, ?B/s]"
      ]
     },
     "metadata": {},
     "output_type": "display_data"
    },
    {
     "data": {
      "application/vnd.jupyter.widget-view+json": {
       "model_id": "ab7980cfb1ec49ce8dd980d87a13ea65",
       "version_major": 2,
       "version_minor": 0
      },
      "text/plain": [
       "sub-04_ses-mri_task-facerecognition_run-02_bold.json:   0%|          | 0.00/21.6k [00:00<?, ?B/s]"
      ]
     },
     "metadata": {},
     "output_type": "display_data"
    },
    {
     "data": {
      "application/vnd.jupyter.widget-view+json": {
       "model_id": "6f9cf5f064cf4984a97c51d6e5faa503",
       "version_major": 2,
       "version_minor": 0
      },
      "text/plain": [
       "sub-05_ses-mri_magnitude2.nii:   0%|          | 0.00/264k [00:00<?, ?B/s]"
      ]
     },
     "metadata": {},
     "output_type": "display_data"
    },
    {
     "data": {
      "application/vnd.jupyter.widget-view+json": {
       "model_id": "075f3ac1c86e442fbf74289c72edcb1f",
       "version_major": 2,
       "version_minor": 0
      },
      "text/plain": [
       "sub-06_ses-mri_task-facerecognition_run-01_bold.nii.gz:   0%|          | 0.00/35.1M [00:00<?, ?B/s]"
      ]
     },
     "metadata": {},
     "output_type": "display_data"
    },
    {
     "data": {
      "application/vnd.jupyter.widget-view+json": {
       "model_id": "9cdc9b15ed17486c8f98b47f71f17710",
       "version_major": 2,
       "version_minor": 0
      },
      "text/plain": [
       "sub-07_ses-mri_task-facerecognition_run-03_bold.nii.gz:   0%|          | 0.00/33.6M [00:00<?, ?B/s]"
      ]
     },
     "metadata": {},
     "output_type": "display_data"
    },
    {
     "data": {
      "application/vnd.jupyter.widget-view+json": {
       "model_id": "49b96ba5d1ea4d7b9d95e988c5a2be7f",
       "version_major": 2,
       "version_minor": 0
      },
      "text/plain": [
       "sub-12_ses-mri_task-facerecognition_run-04_bold.nii.gz:   0%|          | 0.00/34.1M [00:00<?, ?B/s]"
      ]
     },
     "metadata": {},
     "output_type": "display_data"
    },
    {
     "data": {
      "application/vnd.jupyter.widget-view+json": {
       "model_id": "9cd8088f17df4aa39f69f3d3d6bd89b6",
       "version_major": 2,
       "version_minor": 0
      },
      "text/plain": [
       "sub-03_ses-mri_task-facerecognition_run-02_bold.json:   0%|          | 0.00/21.7k [00:00<?, ?B/s]"
      ]
     },
     "metadata": {},
     "output_type": "display_data"
    },
    {
     "data": {
      "application/vnd.jupyter.widget-view+json": {
       "model_id": "8ab2055a7113430e926d8da5aa797b26",
       "version_major": 2,
       "version_minor": 0
      },
      "text/plain": [
       "sub-04_ses-mri_task-facerecognition_run-02_events.tsv:   0%|          | 0.00/4.67k [00:00<?, ?B/s]"
      ]
     },
     "metadata": {},
     "output_type": "display_data"
    },
    {
     "data": {
      "application/vnd.jupyter.widget-view+json": {
       "model_id": "d1a1f49fab5345e69b293c7fc1ce9c9b",
       "version_major": 2,
       "version_minor": 0
      },
      "text/plain": [
       "sub-03_ses-mri_phasediff.nii:   0%|          | 0.00/264k [00:00<?, ?B/s]"
      ]
     },
     "metadata": {},
     "output_type": "display_data"
    },
    {
     "data": {
      "application/vnd.jupyter.widget-view+json": {
       "model_id": "21fc6bedd6334f9b9d63d10974c875e6",
       "version_major": 2,
       "version_minor": 0
      },
      "text/plain": [
       "sub-04_ses-mri_task-facerecognition_run-03_bold.json:   0%|          | 0.00/21.6k [00:00<?, ?B/s]"
      ]
     },
     "metadata": {},
     "output_type": "display_data"
    },
    {
     "data": {
      "application/vnd.jupyter.widget-view+json": {
       "model_id": "ee8e331aa5ce476a90783735190eefb7",
       "version_major": 2,
       "version_minor": 0
      },
      "text/plain": [
       "sub-03_ses-mri_task-facerecognition_run-01_bold.json:   0%|          | 0.00/21.7k [00:00<?, ?B/s]"
      ]
     },
     "metadata": {},
     "output_type": "display_data"
    },
    {
     "name": "stdout",
     "output_type": "stream",
     "text": [
      "🔄 Request timed out while downloading /home/mohamed/Documents/ISN2025/Notebooks/ds000117/sub-16/ses-mri/func/derivatives/meg_derivatives/sub-13/ses-meg/meg/sub-13_ses-meg_task-facerecognition_run-05_proc-sss_meg.fif, retrying in 0.5 sec …\n",
      "🔄 Request timed out while downloading /home/mohamed/Documents/ISN2025/Notebooks/ds000117/sub-04/ses-mri/func/sub-04_ses-mri_task-facerecognition_run-03_events.tsv, retrying in 0.5 sec …\n",
      "🔄 Request timed out while downloading /home/mohamed/Documents/ISN2025/Notebooks/ds000117/sub-16/ses-mri/func/derivatives/meg_derivatives/sub-13/ses-meg/meg/sub-13_ses-meg_task-facerecognition_run-06_proc-sss_log.txt, retrying in 0.5 sec …\n",
      "🔄 Request timed out while downloading /home/mohamed/Documents/ISN2025/Notebooks/ds000117/sub-16/ses-mri/func/derivatives/meg_derivatives/sub-13/ses-meg/meg/sub-13_ses-meg_task-facerecognition_run-06_proc-sss_meg.fif, retrying in 0.5 sec …\n"
     ]
    },
    {
     "data": {
      "application/vnd.jupyter.widget-view+json": {
       "model_id": "6aefb5e27c2444848b1af76761683dc7",
       "version_major": 2,
       "version_minor": 0
      },
      "text/plain": [
       "sub-02_ses-mri_run-2_echo-7_FLASH.nii.gz:   0%|          | 0.00/12.0M [00:00<?, ?B/s]"
      ]
     },
     "metadata": {},
     "output_type": "display_data"
    },
    {
     "data": {
      "application/vnd.jupyter.widget-view+json": {
       "model_id": "026ebc1353364bbaa67bcd75b46e63e3",
       "version_major": 2,
       "version_minor": 0
      },
      "text/plain": [
       "sub-04_ses-mri_task-facerecognition_run-03_bold.nii.gz:   0%|          | 0.00/34.3M [00:00<?, ?B/s]"
      ]
     },
     "metadata": {},
     "output_type": "display_data"
    },
    {
     "data": {
      "application/vnd.jupyter.widget-view+json": {
       "model_id": "baaef1455e5741c7b5e3cbb164845c13",
       "version_major": 2,
       "version_minor": 0
      },
      "text/plain": [
       "sub-03_ses-mri_task-facerecognition_run-01_events.tsv:   0%|          | 0.00/4.70k [00:00<?, ?B/s]"
      ]
     },
     "metadata": {},
     "output_type": "display_data"
    },
    {
     "data": {
      "application/vnd.jupyter.widget-view+json": {
       "model_id": "a52aa08b4bee4a6990ccbedd2c5dd7a1",
       "version_major": 2,
       "version_minor": 0
      },
      "text/plain": [
       "sub-05_ses-mri_phasediff.json:   0%|          | 0.00/21.5k [00:00<?, ?B/s]"
      ]
     },
     "metadata": {},
     "output_type": "display_data"
    },
    {
     "data": {
      "application/vnd.jupyter.widget-view+json": {
       "model_id": "b66fb01baf134634bf587b5d3babfdbe",
       "version_major": 2,
       "version_minor": 0
      },
      "text/plain": [
       "sub-10_ses-mri_task-facerecognition_run-02_events.tsv:   0%|          | 0.00/4.67k [00:00<?, ?B/s]"
      ]
     },
     "metadata": {},
     "output_type": "display_data"
    },
    {
     "data": {
      "application/vnd.jupyter.widget-view+json": {
       "model_id": "2c446ecc22074b44a77b4772383330be",
       "version_major": 2,
       "version_minor": 0
      },
      "text/plain": [
       "sub-03_ses-mri_task-facerecognition_run-01_bold.nii.gz:   0%|          | 0.00/34.8M [00:00<?, ?B/s]"
      ]
     },
     "metadata": {},
     "output_type": "display_data"
    },
    {
     "data": {
      "application/vnd.jupyter.widget-view+json": {
       "model_id": "4e2371cb90064c5b98c2b6d5307a8ba6",
       "version_major": 2,
       "version_minor": 0
      },
      "text/plain": [
       "sub-15_ses-mri_run-2_echo-7_FLASH.nii.gz:   0%|          | 0.00/12.7M [00:00<?, ?B/s]"
      ]
     },
     "metadata": {},
     "output_type": "display_data"
    },
    {
     "data": {
      "application/vnd.jupyter.widget-view+json": {
       "model_id": "0e6827d8f7be4ae5bd349059e772e8c9",
       "version_major": 2,
       "version_minor": 0
      },
      "text/plain": [
       "sub-04_ses-mri_task-facerecognition_run-02_bold.nii.gz:   0%|          | 0.00/34.2M [00:00<?, ?B/s]"
      ]
     },
     "metadata": {},
     "output_type": "display_data"
    },
    {
     "data": {
      "application/vnd.jupyter.widget-view+json": {
       "model_id": "493cd0bef94c4d80ba66e89ce4de2fc7",
       "version_major": 2,
       "version_minor": 0
      },
      "text/plain": [
       "sub-04_ses-mri_task-facerecognition_run-04_bold.json:   0%|          | 0.00/21.6k [00:00<?, ?B/s]"
      ]
     },
     "metadata": {},
     "output_type": "display_data"
    },
    {
     "data": {
      "application/vnd.jupyter.widget-view+json": {
       "model_id": "11ea475d756942ec9e032a4fd838873a",
       "version_major": 2,
       "version_minor": 0
      },
      "text/plain": [
       "sub-10_ses-mri_task-facerecognition_run-03_bold.nii.gz:   0%|          | 0.00/34.7M [00:00<?, ?B/s]"
      ]
     },
     "metadata": {},
     "output_type": "display_data"
    },
    {
     "data": {
      "application/vnd.jupyter.widget-view+json": {
       "model_id": "e1c98b02cb844fee936e50a74e423b09",
       "version_major": 2,
       "version_minor": 0
      },
      "text/plain": [
       "sub-02_ses-mri_dwi.bval:   0%|          | 0.00/324 [00:00<?, ?B/s]"
      ]
     },
     "metadata": {},
     "output_type": "display_data"
    },
    {
     "data": {
      "application/vnd.jupyter.widget-view+json": {
       "model_id": "1c69b6a0b4f54a9ea875584926ec0583",
       "version_major": 2,
       "version_minor": 0
      },
      "text/plain": [
       "sub-14_ses-mri_dwi.bval:   0%|          | 0.00/324 [00:00<?, ?B/s]"
      ]
     },
     "metadata": {},
     "output_type": "display_data"
    },
    {
     "data": {
      "application/vnd.jupyter.widget-view+json": {
       "model_id": "eef1130aa3a84a68a39503ab9d75e348",
       "version_major": 2,
       "version_minor": 0
      },
      "text/plain": [
       "sub-10_ses-mri_task-facerecognition_run-03_events.tsv:   0%|          | 0.00/4.66k [00:00<?, ?B/s]"
      ]
     },
     "metadata": {},
     "output_type": "display_data"
    },
    {
     "data": {
      "application/vnd.jupyter.widget-view+json": {
       "model_id": "524919592f114aaea95d369866c82a53",
       "version_major": 2,
       "version_minor": 0
      },
      "text/plain": [
       "sub-03_ses-mri_task-facerecognition_run-02_bold.nii.gz:   0%|          | 0.00/34.8M [00:00<?, ?B/s]"
      ]
     },
     "metadata": {},
     "output_type": "display_data"
    },
    {
     "data": {
      "application/vnd.jupyter.widget-view+json": {
       "model_id": "23fe417763bd4404bf498c1ce16b34d0",
       "version_major": 2,
       "version_minor": 0
      },
      "text/plain": [
       "sub-04_ses-mri_task-facerecognition_run-05_bold.json:   0%|          | 0.00/21.6k [00:00<?, ?B/s]"
      ]
     },
     "metadata": {},
     "output_type": "display_data"
    },
    {
     "data": {
      "application/vnd.jupyter.widget-view+json": {
       "model_id": "a7f6dbbfe53c4d9386d850b5f85c2dfe",
       "version_major": 2,
       "version_minor": 0
      },
      "text/plain": [
       "sub-14_ses-mri_dwi.bvec:   0%|          | 0.00/3.27k [00:00<?, ?B/s]"
      ]
     },
     "metadata": {},
     "output_type": "display_data"
    },
    {
     "data": {
      "application/vnd.jupyter.widget-view+json": {
       "model_id": "cf70d5dc2e174813ba1d802e7d27fdba",
       "version_major": 2,
       "version_minor": 0
      },
      "text/plain": [
       "sub-02_ses-mri_dwi.bvec:   0%|          | 0.00/3.28k [00:00<?, ?B/s]"
      ]
     },
     "metadata": {},
     "output_type": "display_data"
    },
    {
     "data": {
      "application/vnd.jupyter.widget-view+json": {
       "model_id": "4c08450725d64920af18279586835fb2",
       "version_major": 2,
       "version_minor": 0
      },
      "text/plain": [
       "sub-10_ses-mri_task-facerecognition_run-04_bold.nii.gz:   0%|          | 0.00/34.8M [00:00<?, ?B/s]"
      ]
     },
     "metadata": {},
     "output_type": "display_data"
    },
    {
     "data": {
      "application/vnd.jupyter.widget-view+json": {
       "model_id": "6338c37564274c3daf66168f071bb8f3",
       "version_major": 2,
       "version_minor": 0
      },
      "text/plain": [
       "sub-02_ses-mri_dwi.json:   0%|          | 0.00/627 [00:00<?, ?B/s]"
      ]
     },
     "metadata": {},
     "output_type": "display_data"
    },
    {
     "data": {
      "application/vnd.jupyter.widget-view+json": {
       "model_id": "d7223a6c2edd4fe8ba67f1214571ce6d",
       "version_major": 2,
       "version_minor": 0
      },
      "text/plain": [
       "sub-05_ses-mri_task-facerecognition_run-01_bold.json:   0%|          | 0.00/21.6k [00:00<?, ?B/s]"
      ]
     },
     "metadata": {},
     "output_type": "display_data"
    },
    {
     "data": {
      "application/vnd.jupyter.widget-view+json": {
       "model_id": "6a03e6abb99b4d4bba37a57f6a71ca2f",
       "version_major": 2,
       "version_minor": 0
      },
      "text/plain": [
       "sub-14_ses-mri_dwi.json:   0%|          | 0.00/628 [00:00<?, ?B/s]"
      ]
     },
     "metadata": {},
     "output_type": "display_data"
    },
    {
     "data": {
      "application/vnd.jupyter.widget-view+json": {
       "model_id": "50af286c49a44f69b76aa160c17c21f5",
       "version_major": 2,
       "version_minor": 0
      },
      "text/plain": [
       "sub-04_ses-mri_task-facerecognition_run-04_bold.nii.gz:   0%|          | 0.00/34.4M [00:00<?, ?B/s]"
      ]
     },
     "metadata": {},
     "output_type": "display_data"
    },
    {
     "data": {
      "application/vnd.jupyter.widget-view+json": {
       "model_id": "b836948c31b04b308be363828caca0a6",
       "version_major": 2,
       "version_minor": 0
      },
      "text/plain": [
       "sub-08_ses-mri_task-facerecognition_run-05_bold.json:   0%|          | 0.00/21.7k [00:00<?, ?B/s]"
      ]
     },
     "metadata": {},
     "output_type": "display_data"
    },
    {
     "data": {
      "application/vnd.jupyter.widget-view+json": {
       "model_id": "e7a73b48dfd84b80a964b8643eac827a",
       "version_major": 2,
       "version_minor": 0
      },
      "text/plain": [
       "sub-06_ses-mri_task-facerecognition_run-02_bold.json:   0%|          | 0.00/21.6k [00:00<?, ?B/s]"
      ]
     },
     "metadata": {},
     "output_type": "display_data"
    },
    {
     "data": {
      "application/vnd.jupyter.widget-view+json": {
       "model_id": "3f4395e767c2464098f1e8e7208e2590",
       "version_major": 2,
       "version_minor": 0
      },
      "text/plain": [
       "sub-02_ses-mri_dwi.nii.gz:   0%|          | 0.00/43.1M [00:00<?, ?B/s]"
      ]
     },
     "metadata": {},
     "output_type": "display_data"
    },
    {
     "data": {
      "application/vnd.jupyter.widget-view+json": {
       "model_id": "1dc1353152be406abb917e1260f58cf1",
       "version_major": 2,
       "version_minor": 0
      },
      "text/plain": [
       "sub-14_ses-mri_dwi.nii.gz:   0%|          | 0.00/42.7M [00:00<?, ?B/s]"
      ]
     },
     "metadata": {},
     "output_type": "display_data"
    },
    {
     "data": {
      "application/vnd.jupyter.widget-view+json": {
       "model_id": "f51d22fa3d624abe804bf2e0ae2e3b64",
       "version_major": 2,
       "version_minor": 0
      },
      "text/plain": [
       "sub-07_ses-mri_task-facerecognition_run-03_bold.json:   0%|          | 0.00/21.7k [00:00<?, ?B/s]"
      ]
     },
     "metadata": {},
     "output_type": "display_data"
    },
    {
     "data": {
      "application/vnd.jupyter.widget-view+json": {
       "model_id": "b6620766fb9a4ce68ce00f9b1de66669",
       "version_major": 2,
       "version_minor": 0
      },
      "text/plain": [
       "sub-05_ses-mri_task-facerecognition_run-01_events.tsv:   0%|          | 0.00/4.65k [00:00<?, ?B/s]"
      ]
     },
     "metadata": {},
     "output_type": "display_data"
    },
    {
     "data": {
      "application/vnd.jupyter.widget-view+json": {
       "model_id": "3e65c9d8800e467daacf0d396d160313",
       "version_major": 2,
       "version_minor": 0
      },
      "text/plain": [
       "sub-06_ses-mri_task-facerecognition_run-01_events.tsv:   0%|          | 0.00/4.61k [00:00<?, ?B/s]"
      ]
     },
     "metadata": {},
     "output_type": "display_data"
    },
    {
     "data": {
      "application/vnd.jupyter.widget-view+json": {
       "model_id": "918328e6491144408b745e59c9b0e9e8",
       "version_major": 2,
       "version_minor": 0
      },
      "text/plain": [
       "sub-08_ses-mri_task-facerecognition_run-05_bold.nii.gz:   0%|          | 0.00/34.1M [00:00<?, ?B/s]"
      ]
     },
     "metadata": {},
     "output_type": "display_data"
    },
    {
     "data": {
      "application/vnd.jupyter.widget-view+json": {
       "model_id": "d25abe89a02a40d8851ec4e03e3d6339",
       "version_major": 2,
       "version_minor": 0
      },
      "text/plain": [
       "sub-06_ses-mri_task-facerecognition_run-02_bold.nii.gz:   0%|          | 0.00/35.1M [00:00<?, ?B/s]"
      ]
     },
     "metadata": {},
     "output_type": "display_data"
    },
    {
     "data": {
      "application/vnd.jupyter.widget-view+json": {
       "model_id": "16ada4f90ccf46fcb8cd1e9be427a5d8",
       "version_major": 2,
       "version_minor": 0
      },
      "text/plain": [
       "sub-07_ses-mri_task-facerecognition_run-03_events.tsv:   0%|          | 0.00/4.65k [00:00<?, ?B/s]"
      ]
     },
     "metadata": {},
     "output_type": "display_data"
    },
    {
     "data": {
      "application/vnd.jupyter.widget-view+json": {
       "model_id": "df3bc654f916450b93ddd7a474e936bc",
       "version_major": 2,
       "version_minor": 0
      },
      "text/plain": [
       "sub-15_ses-mri_dwi.bval:   0%|          | 0.00/324 [00:00<?, ?B/s]"
      ]
     },
     "metadata": {},
     "output_type": "display_data"
    },
    {
     "data": {
      "application/vnd.jupyter.widget-view+json": {
       "model_id": "d3c98a0c0e434898a74d88e9427e12f1",
       "version_major": 2,
       "version_minor": 0
      },
      "text/plain": [
       "sub-05_ses-mri_phasediff.nii:   0%|          | 0.00/264k [00:00<?, ?B/s]"
      ]
     },
     "metadata": {},
     "output_type": "display_data"
    },
    {
     "data": {
      "application/vnd.jupyter.widget-view+json": {
       "model_id": "fe40da84e54a4e72a82e97d0955ac2d1",
       "version_major": 2,
       "version_minor": 0
      },
      "text/plain": [
       "sub-07_ses-mri_task-facerecognition_run-04_events.tsv:   0%|          | 0.00/4.71k [00:00<?, ?B/s]"
      ]
     },
     "metadata": {},
     "output_type": "display_data"
    },
    {
     "data": {
      "application/vnd.jupyter.widget-view+json": {
       "model_id": "4bb95fc12ade4785ace4ef39dca59f86",
       "version_major": 2,
       "version_minor": 0
      },
      "text/plain": [
       "sub-10_ses-mri_task-facerecognition_run-04_bold.json:   0%|          | 0.00/21.7k [00:00<?, ?B/s]"
      ]
     },
     "metadata": {},
     "output_type": "display_data"
    },
    {
     "data": {
      "application/vnd.jupyter.widget-view+json": {
       "model_id": "71a01b594f704e42b6191604d157b078",
       "version_major": 2,
       "version_minor": 0
      },
      "text/plain": [
       "sub-15_ses-mri_dwi.bvec:   0%|          | 0.00/3.29k [00:00<?, ?B/s]"
      ]
     },
     "metadata": {},
     "output_type": "display_data"
    },
    {
     "data": {
      "application/vnd.jupyter.widget-view+json": {
       "model_id": "c77edf77c36e4372b3903725ceec5f58",
       "version_major": 2,
       "version_minor": 0
      },
      "text/plain": [
       "sub-07_ses-mri_task-facerecognition_run-04_bold.json:   0%|          | 0.00/21.7k [00:00<?, ?B/s]"
      ]
     },
     "metadata": {},
     "output_type": "display_data"
    },
    {
     "data": {
      "application/vnd.jupyter.widget-view+json": {
       "model_id": "148d61cbc117441eb7999b68137ee3fb",
       "version_major": 2,
       "version_minor": 0
      },
      "text/plain": [
       "sub-10_ses-mri_task-facerecognition_run-04_events.tsv:   0%|          | 0.00/4.62k [00:00<?, ?B/s]"
      ]
     },
     "metadata": {},
     "output_type": "display_data"
    },
    {
     "data": {
      "application/vnd.jupyter.widget-view+json": {
       "model_id": "c1f201a2a7ff4affb3a024be4971e6a7",
       "version_major": 2,
       "version_minor": 0
      },
      "text/plain": [
       "sub-14_ses-mri_magnitude1.nii:   0%|          | 0.00/264k [00:00<?, ?B/s]"
      ]
     },
     "metadata": {},
     "output_type": "display_data"
    },
    {
     "data": {
      "application/vnd.jupyter.widget-view+json": {
       "model_id": "69d2496d3dc845a49a384f13e1e9ae4e",
       "version_major": 2,
       "version_minor": 0
      },
      "text/plain": [
       "sub-15_ses-mri_dwi.json:   0%|          | 0.00/628 [00:00<?, ?B/s]"
      ]
     },
     "metadata": {},
     "output_type": "display_data"
    },
    {
     "data": {
      "application/vnd.jupyter.widget-view+json": {
       "model_id": "68a88edd539a4e92ac23c18b6c0cb407",
       "version_major": 2,
       "version_minor": 0
      },
      "text/plain": [
       "sub-07_ses-mri_task-facerecognition_run-04_bold.nii.gz:   0%|          | 0.00/33.5M [00:00<?, ?B/s]"
      ]
     },
     "metadata": {},
     "output_type": "display_data"
    },
    {
     "data": {
      "application/vnd.jupyter.widget-view+json": {
       "model_id": "356742f25ef74ef696a2a81dbfc3a96d",
       "version_major": 2,
       "version_minor": 0
      },
      "text/plain": [
       "sub-10_ses-mri_task-facerecognition_run-05_bold.json:   0%|          | 0.00/21.7k [00:00<?, ?B/s]"
      ]
     },
     "metadata": {},
     "output_type": "display_data"
    },
    {
     "data": {
      "application/vnd.jupyter.widget-view+json": {
       "model_id": "ba2ede90e8a34e3495065c104dcdd57e",
       "version_major": 2,
       "version_minor": 0
      },
      "text/plain": [
       "sub-03_ses-mri_task-facerecognition_run-02_events.tsv:   0%|          | 0.00/4.61k [00:00<?, ?B/s]"
      ]
     },
     "metadata": {},
     "output_type": "display_data"
    },
    {
     "data": {
      "application/vnd.jupyter.widget-view+json": {
       "model_id": "6297c1e027464a07935dde5164a01b7c",
       "version_major": 2,
       "version_minor": 0
      },
      "text/plain": [
       "sub-15_ses-mri_dwi.nii.gz:   0%|          | 0.00/43.6M [00:00<?, ?B/s]"
      ]
     },
     "metadata": {},
     "output_type": "display_data"
    },
    {
     "data": {
      "application/vnd.jupyter.widget-view+json": {
       "model_id": "abad67d92cf64f99a5bb5a5893f6386b",
       "version_major": 2,
       "version_minor": 0
      },
      "text/plain": [
       "sub-05_ses-mri_task-facerecognition_run-01_bold.nii.gz:   0%|          | 0.00/33.7M [00:00<?, ?B/s]"
      ]
     },
     "metadata": {},
     "output_type": "display_data"
    },
    {
     "data": {
      "application/vnd.jupyter.widget-view+json": {
       "model_id": "ce2cd0a3c989460799c9c572b058b0f6",
       "version_major": 2,
       "version_minor": 0
      },
      "text/plain": [
       "sub-10_ses-mri_task-facerecognition_run-05_events.tsv:   0%|          | 0.00/4.66k [00:00<?, ?B/s]"
      ]
     },
     "metadata": {},
     "output_type": "display_data"
    },
    {
     "data": {
      "application/vnd.jupyter.widget-view+json": {
       "model_id": "5ab1fce7c9ff42458571c8e2d299b6a2",
       "version_major": 2,
       "version_minor": 0
      },
      "text/plain": [
       "sub-03_ses-mri_task-facerecognition_run-03_bold.nii.gz:   0%|          | 0.00/34.9M [00:00<?, ?B/s]"
      ]
     },
     "metadata": {},
     "output_type": "display_data"
    },
    {
     "data": {
      "application/vnd.jupyter.widget-view+json": {
       "model_id": "842cf415d0834ba8887783b109f32220",
       "version_major": 2,
       "version_minor": 0
      },
      "text/plain": [
       "sub-10_ses-mri_task-facerecognition_run-05_bold.nii.gz:   0%|          | 0.00/34.7M [00:00<?, ?B/s]"
      ]
     },
     "metadata": {},
     "output_type": "display_data"
    },
    {
     "data": {
      "application/vnd.jupyter.widget-view+json": {
       "model_id": "81ba4eaacd544de6b4b554341b4e25c4",
       "version_major": 2,
       "version_minor": 0
      },
      "text/plain": [
       "sub-05_ses-mri_task-facerecognition_run-02_bold.json:   0%|          | 0.00/21.6k [00:00<?, ?B/s]"
      ]
     },
     "metadata": {},
     "output_type": "display_data"
    },
    {
     "data": {
      "application/vnd.jupyter.widget-view+json": {
       "model_id": "72de32d3b3ea44c6873fb6e7a90f6a84",
       "version_major": 2,
       "version_minor": 0
      },
      "text/plain": [
       "sub-05_ses-mri_task-facerecognition_run-03_bold.json:   0%|          | 0.00/21.6k [00:00<?, ?B/s]"
      ]
     },
     "metadata": {},
     "output_type": "display_data"
    },
    {
     "data": {
      "application/vnd.jupyter.widget-view+json": {
       "model_id": "62a6db102a104b3aa7dc2bf83ac42a4a",
       "version_major": 2,
       "version_minor": 0
      },
      "text/plain": [
       "sub-12_ses-mri_task-facerecognition_run-04_events.tsv:   0%|          | 0.00/4.88k [00:00<?, ?B/s]"
      ]
     },
     "metadata": {},
     "output_type": "display_data"
    },
    {
     "data": {
      "application/vnd.jupyter.widget-view+json": {
       "model_id": "36d64434369d45f382e475b330a6a509",
       "version_major": 2,
       "version_minor": 0
      },
      "text/plain": [
       "sub-14_ses-mri_magnitude1.json:   0%|          | 0.00/3.05k [00:00<?, ?B/s]"
      ]
     },
     "metadata": {},
     "output_type": "display_data"
    },
    {
     "data": {
      "application/vnd.jupyter.widget-view+json": {
       "model_id": "0780d1c90c014d4e8c83d493ea43c9b6",
       "version_major": 2,
       "version_minor": 0
      },
      "text/plain": [
       "sub-05_ses-mri_task-facerecognition_run-02_events.tsv:   0%|          | 0.00/4.94k [00:00<?, ?B/s]"
      ]
     },
     "metadata": {},
     "output_type": "display_data"
    },
    {
     "data": {
      "application/vnd.jupyter.widget-view+json": {
       "model_id": "e768bc64817f448291e9e73ccb04a4fd",
       "version_major": 2,
       "version_minor": 0
      },
      "text/plain": [
       "sub-12_ses-mri_task-facerecognition_run-05_bold.json:   0%|          | 0.00/21.7k [00:00<?, ?B/s]"
      ]
     },
     "metadata": {},
     "output_type": "display_data"
    },
    {
     "data": {
      "application/vnd.jupyter.widget-view+json": {
       "model_id": "d5f473e464f54a4583a1b108afe88650",
       "version_major": 2,
       "version_minor": 0
      },
      "text/plain": [
       "sub-13_ses-mri_task-facerecognition_run-05_events.tsv:   0%|          | 0.00/4.79k [00:00<?, ?B/s]"
      ]
     },
     "metadata": {},
     "output_type": "display_data"
    },
    {
     "data": {
      "application/vnd.jupyter.widget-view+json": {
       "model_id": "755bdf3d1edb4e6d8c7b98e695b1a827",
       "version_major": 2,
       "version_minor": 0
      },
      "text/plain": [
       "sub-14_ses-mri_magnitude2.json:   0%|          | 0.00/3.05k [00:00<?, ?B/s]"
      ]
     },
     "metadata": {},
     "output_type": "display_data"
    },
    {
     "data": {
      "application/vnd.jupyter.widget-view+json": {
       "model_id": "c4fff4681e6e40268e833cf9379f8624",
       "version_major": 2,
       "version_minor": 0
      },
      "text/plain": [
       "sub-05_ses-mri_task-facerecognition_run-02_bold.nii.gz:   0%|          | 0.00/33.7M [00:00<?, ?B/s]"
      ]
     },
     "metadata": {},
     "output_type": "display_data"
    },
    {
     "data": {
      "application/vnd.jupyter.widget-view+json": {
       "model_id": "ecbe8a18202f4ee69fb346b3a51530c3",
       "version_major": 2,
       "version_minor": 0
      },
      "text/plain": [
       "sub-12_ses-mri_task-facerecognition_run-05_bold.nii.gz:   0%|          | 0.00/34.1M [00:00<?, ?B/s]"
      ]
     },
     "metadata": {},
     "output_type": "display_data"
    },
    {
     "data": {
      "application/vnd.jupyter.widget-view+json": {
       "model_id": "1d00dd72e675437ea8ab7914c42471a6",
       "version_major": 2,
       "version_minor": 0
      },
      "text/plain": [
       "sub-14_ses-mri_phasediff.json:   0%|          | 0.00/20.4k [00:00<?, ?B/s]"
      ]
     },
     "metadata": {},
     "output_type": "display_data"
    },
    {
     "data": {
      "application/vnd.jupyter.widget-view+json": {
       "model_id": "dc4e84d8314646d2917fb424f200e1fd",
       "version_major": 2,
       "version_minor": 0
      },
      "text/plain": [
       "sub-06_ses-mri_task-facerecognition_run-02_events.tsv:   0%|          | 0.00/4.84k [00:00<?, ?B/s]"
      ]
     },
     "metadata": {},
     "output_type": "display_data"
    },
    {
     "data": {
      "application/vnd.jupyter.widget-view+json": {
       "model_id": "f33e71b0e0b0491aaff0d4e70a2fdeb4",
       "version_major": 2,
       "version_minor": 0
      },
      "text/plain": [
       "sub-13_ses-mri_task-facerecognition_run-06_bold.nii.gz:   0%|          | 0.00/33.8M [00:00<?, ?B/s]"
      ]
     },
     "metadata": {},
     "output_type": "display_data"
    },
    {
     "name": "stdout",
     "output_type": "stream",
     "text": [
      "🔄 Request timed out while downloading /home/mohamed/Documents/ISN2025/Notebooks/ds000117/sub-16/ses-mri/func/stimuli/func/f024.bmp, retrying in 0.5 sec …\n",
      "🔄 Request timed out while downloading /home/mohamed/Documents/ISN2025/Notebooks/ds000117/sub-16/ses-mri/func/stimuli/func/f025.bmp, retrying in 0.5 sec …\n",
      "🔄 Request timed out while downloading /home/mohamed/Documents/ISN2025/Notebooks/ds000117/sub-14/ses-mri/fmap/sub-14_ses-mri_magnitude2.nii, retrying in 0.5 sec …\n",
      "🔄 Request timed out while downloading /home/mohamed/Documents/ISN2025/Notebooks/ds000117/sub-16/ses-mri/func/stimuli/func/f026.bmp, retrying in 0.5 sec …\n",
      "🔄 Request timed out while downloading /home/mohamed/Documents/ISN2025/Notebooks/ds000117/sub-15/ses-mri/fmap/sub-15_ses-mri_magnitude1.json, retrying in 0.5 sec …\n",
      "🔄 Request timed out while downloading /home/mohamed/Documents/ISN2025/Notebooks/ds000117/sub-16/ses-mri/func/stimuli/func/f027.bmp, retrying in 0.5 sec …\n"
     ]
    },
    {
     "data": {
      "application/vnd.jupyter.widget-view+json": {
       "model_id": "7b040ffb9ca945a4bdc57fbaab6305d3",
       "version_major": 2,
       "version_minor": 0
      },
      "text/plain": [
       "sub-02_ses-mri_magnitude1.json:   0%|          | 0.00/3.07k [00:00<?, ?B/s]"
      ]
     },
     "metadata": {},
     "output_type": "display_data"
    },
    {
     "data": {
      "application/vnd.jupyter.widget-view+json": {
       "model_id": "c11444ed21d54d0baf1ac7610a81621a",
       "version_major": 2,
       "version_minor": 0
      },
      "text/plain": [
       "sub-09_ses-mri_task-facerecognition_run-03_events.tsv:   0%|          | 0.00/4.80k [00:00<?, ?B/s]"
      ]
     },
     "metadata": {},
     "output_type": "display_data"
    },
    {
     "data": {
      "application/vnd.jupyter.widget-view+json": {
       "model_id": "a90c627ea4e34568bfaa01a12c1f26b0",
       "version_major": 2,
       "version_minor": 0
      },
      "text/plain": [
       "sub-06_ses-mri_task-facerecognition_run-03_bold.nii.gz:   0%|          | 0.00/35.2M [00:00<?, ?B/s]"
      ]
     },
     "metadata": {},
     "output_type": "display_data"
    },
    {
     "data": {
      "application/vnd.jupyter.widget-view+json": {
       "model_id": "34a49c513de148b18885ffffca7c1c66",
       "version_major": 2,
       "version_minor": 0
      },
      "text/plain": [
       "sub-08_ses-mri_task-facerecognition_run-06_bold.nii.gz:   0%|          | 0.00/34.2M [00:00<?, ?B/s]"
      ]
     },
     "metadata": {},
     "output_type": "display_data"
    },
    {
     "data": {
      "application/vnd.jupyter.widget-view+json": {
       "model_id": "2a0e4cc9699e42ff9f53f9ef9239d02f",
       "version_major": 2,
       "version_minor": 0
      },
      "text/plain": [
       "sub-14_ses-mri_phasediff.nii:   0%|          | 0.00/264k [00:00<?, ?B/s]"
      ]
     },
     "metadata": {},
     "output_type": "display_data"
    },
    {
     "data": {
      "application/vnd.jupyter.widget-view+json": {
       "model_id": "dd8ce38e99db4de1bde718c2bdf6cf90",
       "version_major": 2,
       "version_minor": 0
      },
      "text/plain": [
       "sub-15_ses-mri_magnitude1.nii:   0%|          | 0.00/264k [00:00<?, ?B/s]"
      ]
     },
     "metadata": {},
     "output_type": "display_data"
    },
    {
     "data": {
      "application/vnd.jupyter.widget-view+json": {
       "model_id": "c7b5a80a1df94b10b86e453ae73bfcf1",
       "version_major": 2,
       "version_minor": 0
      },
      "text/plain": [
       "sub-02_ses-mri_magnitude2.json:   0%|          | 0.00/3.07k [00:00<?, ?B/s]"
      ]
     },
     "metadata": {},
     "output_type": "display_data"
    },
    {
     "data": {
      "application/vnd.jupyter.widget-view+json": {
       "model_id": "14788a04121541e8953cf99814a70fbc",
       "version_major": 2,
       "version_minor": 0
      },
      "text/plain": [
       "sub-09_ses-mri_task-facerecognition_run-04_bold.json:   0%|          | 0.00/21.6k [00:00<?, ?B/s]"
      ]
     },
     "metadata": {},
     "output_type": "display_data"
    },
    {
     "data": {
      "application/vnd.jupyter.widget-view+json": {
       "model_id": "60ae2347de94442e8b522d135e4c2bed",
       "version_major": 2,
       "version_minor": 0
      },
      "text/plain": [
       "sub-02_ses-mri_magnitude1.nii:   0%|          | 0.00/264k [00:00<?, ?B/s]"
      ]
     },
     "metadata": {},
     "output_type": "display_data"
    },
    {
     "data": {
      "application/vnd.jupyter.widget-view+json": {
       "model_id": "b67766af84a1414ab82ef2772c913221",
       "version_major": 2,
       "version_minor": 0
      },
      "text/plain": [
       "sub-09_ses-mri_task-facerecognition_run-04_bold.nii.gz:   0%|          | 0.00/34.5M [00:00<?, ?B/s]"
      ]
     },
     "metadata": {},
     "output_type": "display_data"
    },
    {
     "data": {
      "application/vnd.jupyter.widget-view+json": {
       "model_id": "f094261ccfce4d3b99990b74096327af",
       "version_major": 2,
       "version_minor": 0
      },
      "text/plain": [
       "sub-15_ses-mri_magnitude2.json:   0%|          | 0.00/3.08k [00:00<?, ?B/s]"
      ]
     },
     "metadata": {},
     "output_type": "display_data"
    },
    {
     "data": {
      "application/vnd.jupyter.widget-view+json": {
       "model_id": "62b0c7ef0dc24c3096ee47bd472ae05e",
       "version_major": 2,
       "version_minor": 0
      },
      "text/plain": [
       "sub-14_ses-mri_task-facerecognition_run-01_bold.json:   0%|          | 0.00/21.6k [00:00<?, ?B/s]"
      ]
     },
     "metadata": {},
     "output_type": "display_data"
    },
    {
     "data": {
      "application/vnd.jupyter.widget-view+json": {
       "model_id": "0b72cd6124f74df0b1214a6fe465ee4d",
       "version_major": 2,
       "version_minor": 0
      },
      "text/plain": [
       "sub-12_ses-mri_task-facerecognition_run-05_events.tsv:   0%|          | 0.00/4.74k [00:00<?, ?B/s]"
      ]
     },
     "metadata": {},
     "output_type": "display_data"
    },
    {
     "data": {
      "application/vnd.jupyter.widget-view+json": {
       "model_id": "7f270cbfe3f84b80bc08291ff8db6d82",
       "version_major": 2,
       "version_minor": 0
      },
      "text/plain": [
       "sub-15_ses-mri_phasediff.json:   0%|          | 0.00/21.6k [00:00<?, ?B/s]"
      ]
     },
     "metadata": {},
     "output_type": "display_data"
    },
    {
     "data": {
      "application/vnd.jupyter.widget-view+json": {
       "model_id": "059adaea72174d5b92853c1df272c1f7",
       "version_major": 2,
       "version_minor": 0
      },
      "text/plain": [
       "sub-14_ses-mri_task-facerecognition_run-01_bold.nii.gz:   0%|          | 0.00/33.6M [00:00<?, ?B/s]"
      ]
     },
     "metadata": {},
     "output_type": "display_data"
    },
    {
     "data": {
      "application/vnd.jupyter.widget-view+json": {
       "model_id": "3c38390e487745888f4c82064d6c6f70",
       "version_major": 2,
       "version_minor": 0
      },
      "text/plain": [
       "sub-02_ses-mri_phasediff.json:   0%|          | 0.00/21.6k [00:00<?, ?B/s]"
      ]
     },
     "metadata": {},
     "output_type": "display_data"
    },
    {
     "data": {
      "application/vnd.jupyter.widget-view+json": {
       "model_id": "4dfed3d9d14648c5917aa5559f26d0d3",
       "version_major": 2,
       "version_minor": 0
      },
      "text/plain": [
       "sub-12_ses-mri_task-facerecognition_run-06_bold.json:   0%|          | 0.00/21.7k [00:00<?, ?B/s]"
      ]
     },
     "metadata": {},
     "output_type": "display_data"
    },
    {
     "data": {
      "application/vnd.jupyter.widget-view+json": {
       "model_id": "b26887b474e04861b262b62b55ac6948",
       "version_major": 2,
       "version_minor": 0
      },
      "text/plain": [
       "sub-15_ses-mri_magnitude2.nii:   0%|          | 0.00/264k [00:00<?, ?B/s]"
      ]
     },
     "metadata": {},
     "output_type": "display_data"
    },
    {
     "data": {
      "application/vnd.jupyter.widget-view+json": {
       "model_id": "53a7453fe6424a38a8bc5e758882a2b8",
       "version_major": 2,
       "version_minor": 0
      },
      "text/plain": [
       "sub-14_ses-mri_task-facerecognition_run-01_events.tsv:   0%|          | 0.00/4.67k [00:00<?, ?B/s]"
      ]
     },
     "metadata": {},
     "output_type": "display_data"
    },
    {
     "data": {
      "application/vnd.jupyter.widget-view+json": {
       "model_id": "8f699c64f203446b9401654ceb57756a",
       "version_major": 2,
       "version_minor": 0
      },
      "text/plain": [
       "sub-02_ses-mri_phasediff.nii:   0%|          | 0.00/264k [00:00<?, ?B/s]"
      ]
     },
     "metadata": {},
     "output_type": "display_data"
    },
    {
     "data": {
      "application/vnd.jupyter.widget-view+json": {
       "model_id": "99339e004f40445680a06e3293f4f127",
       "version_major": 2,
       "version_minor": 0
      },
      "text/plain": [
       "sub-02_ses-mri_magnitude2.nii:   0%|          | 0.00/264k [00:00<?, ?B/s]"
      ]
     },
     "metadata": {},
     "output_type": "display_data"
    },
    {
     "data": {
      "application/vnd.jupyter.widget-view+json": {
       "model_id": "de671749b7fa41d5bb5dcfbdc6975001",
       "version_major": 2,
       "version_minor": 0
      },
      "text/plain": [
       "sub-14_ses-mri_task-facerecognition_run-02_bold.json:   0%|          | 0.00/21.6k [00:00<?, ?B/s]"
      ]
     },
     "metadata": {},
     "output_type": "display_data"
    },
    {
     "data": {
      "application/vnd.jupyter.widget-view+json": {
       "model_id": "786256a558d345c6a7ef444387202391",
       "version_major": 2,
       "version_minor": 0
      },
      "text/plain": [
       "sub-14_ses-mri_task-facerecognition_run-02_events.tsv:   0%|          | 0.00/4.67k [00:00<?, ?B/s]"
      ]
     },
     "metadata": {},
     "output_type": "display_data"
    },
    {
     "data": {
      "application/vnd.jupyter.widget-view+json": {
       "model_id": "a34caf3dd088461bbd3d3f38a2fca497",
       "version_major": 2,
       "version_minor": 0
      },
      "text/plain": [
       "sub-12_ses-mri_task-facerecognition_run-06_bold.nii.gz:   0%|          | 0.00/34.1M [00:00<?, ?B/s]"
      ]
     },
     "metadata": {},
     "output_type": "display_data"
    },
    {
     "data": {
      "application/vnd.jupyter.widget-view+json": {
       "model_id": "43feadaa049742eda6bf5a563e36cfd3",
       "version_major": 2,
       "version_minor": 0
      },
      "text/plain": [
       "sub-14_ses-mri_task-facerecognition_run-02_bold.nii.gz:   0%|          | 0.00/33.6M [00:00<?, ?B/s]"
      ]
     },
     "metadata": {},
     "output_type": "display_data"
    },
    {
     "data": {
      "application/vnd.jupyter.widget-view+json": {
       "model_id": "16abd0c839fe42678ae03ac893cd86ba",
       "version_major": 2,
       "version_minor": 0
      },
      "text/plain": [
       "sub-14_ses-mri_task-facerecognition_run-03_bold.json:   0%|          | 0.00/21.6k [00:00<?, ?B/s]"
      ]
     },
     "metadata": {},
     "output_type": "display_data"
    },
    {
     "data": {
      "application/vnd.jupyter.widget-view+json": {
       "model_id": "9a645ea199704fc3a0f61131f28ba287",
       "version_major": 2,
       "version_minor": 0
      },
      "text/plain": [
       "sub-15_ses-mri_phasediff.nii:   0%|          | 0.00/264k [00:00<?, ?B/s]"
      ]
     },
     "metadata": {},
     "output_type": "display_data"
    },
    {
     "data": {
      "application/vnd.jupyter.widget-view+json": {
       "model_id": "a5a2391b90b4400188c5d75d9583db18",
       "version_major": 2,
       "version_minor": 0
      },
      "text/plain": [
       "sub-02_ses-mri_task-facerecognition_run-01_bold.json:   0%|          | 0.00/21.7k [00:00<?, ?B/s]"
      ]
     },
     "metadata": {},
     "output_type": "display_data"
    },
    {
     "data": {
      "application/vnd.jupyter.widget-view+json": {
       "model_id": "ed2ff6e160eb4ca1af6341ef81f30e9a",
       "version_major": 2,
       "version_minor": 0
      },
      "text/plain": [
       "sub-02_ses-mri_task-facerecognition_run-01_bold.nii.gz:   0%|          | 0.00/34.7M [00:00<?, ?B/s]"
      ]
     },
     "metadata": {},
     "output_type": "display_data"
    },
    {
     "data": {
      "application/vnd.jupyter.widget-view+json": {
       "model_id": "5efb950079b24bafb9c984ad3c7a7400",
       "version_major": 2,
       "version_minor": 0
      },
      "text/plain": [
       "sub-01_ses-mri_task-facerecognition_run-04_events.tsv:   0%|          | 0.00/4.74k [00:00<?, ?B/s]"
      ]
     },
     "metadata": {},
     "output_type": "display_data"
    },
    {
     "data": {
      "application/vnd.jupyter.widget-view+json": {
       "model_id": "96021a551f3642cca3cecd1c597f6a89",
       "version_major": 2,
       "version_minor": 0
      },
      "text/plain": [
       "sub-11_ses-mri_task-facerecognition_run-03_events.tsv:   0%|          | 0.00/4.84k [00:00<?, ?B/s]"
      ]
     },
     "metadata": {},
     "output_type": "display_data"
    },
    {
     "data": {
      "application/vnd.jupyter.widget-view+json": {
       "model_id": "ef38e2c65c1446ed8b999ea6dcded814",
       "version_major": 2,
       "version_minor": 0
      },
      "text/plain": [
       "sub-05_ses-mri_task-facerecognition_run-03_bold.nii.gz:   0%|          | 0.00/33.8M [00:00<?, ?B/s]"
      ]
     },
     "metadata": {},
     "output_type": "display_data"
    },
    {
     "data": {
      "application/vnd.jupyter.widget-view+json": {
       "model_id": "4e2740708b60430e8fe3cb8c2fff207b",
       "version_major": 2,
       "version_minor": 0
      },
      "text/plain": [
       "sub-06_ses-mri_task-facerecognition_run-03_bold.json:   0%|          | 0.00/21.6k [00:00<?, ?B/s]"
      ]
     },
     "metadata": {},
     "output_type": "display_data"
    },
    {
     "data": {
      "application/vnd.jupyter.widget-view+json": {
       "model_id": "c210225f5faf4739acea7ed4a1d848e2",
       "version_major": 2,
       "version_minor": 0
      },
      "text/plain": [
       "sub-14_ses-mri_task-facerecognition_run-03_bold.nii.gz:   0%|          | 0.00/33.6M [00:00<?, ?B/s]"
      ]
     },
     "metadata": {},
     "output_type": "display_data"
    },
    {
     "data": {
      "application/vnd.jupyter.widget-view+json": {
       "model_id": "d1a4a8edeaa3458c9f820819f4f61ba4",
       "version_major": 2,
       "version_minor": 0
      },
      "text/plain": [
       "sub-11_ses-mri_task-facerecognition_run-04_bold.json:   0%|          | 0.00/21.6k [00:00<?, ?B/s]"
      ]
     },
     "metadata": {},
     "output_type": "display_data"
    },
    {
     "data": {
      "application/vnd.jupyter.widget-view+json": {
       "model_id": "98fcf347bf644c27bb6f26fc1073170b",
       "version_major": 2,
       "version_minor": 0
      },
      "text/plain": [
       "sub-02_ses-mri_task-facerecognition_run-02_bold.json:   0%|          | 0.00/21.7k [00:00<?, ?B/s]"
      ]
     },
     "metadata": {},
     "output_type": "display_data"
    },
    {
     "data": {
      "application/vnd.jupyter.widget-view+json": {
       "model_id": "6ae5bc6f92fa4c379f4a6f160a01bf87",
       "version_major": 2,
       "version_minor": 0
      },
      "text/plain": [
       "sub-01_ses-mri_task-facerecognition_run-05_events.tsv:   0%|          | 0.00/4.84k [00:00<?, ?B/s]"
      ]
     },
     "metadata": {},
     "output_type": "display_data"
    },
    {
     "data": {
      "application/vnd.jupyter.widget-view+json": {
       "model_id": "a1fc2611b411437c86f0a9cdf3c00017",
       "version_major": 2,
       "version_minor": 0
      },
      "text/plain": [
       "sub-15_ses-mri_task-facerecognition_run-01_bold.json:   0%|          | 0.00/21.7k [00:00<?, ?B/s]"
      ]
     },
     "metadata": {},
     "output_type": "display_data"
    },
    {
     "data": {
      "application/vnd.jupyter.widget-view+json": {
       "model_id": "262e23be47cb495f877c7184f8706fac",
       "version_major": 2,
       "version_minor": 0
      },
      "text/plain": [
       "sub-02_ses-mri_task-facerecognition_run-01_events.tsv:   0%|          | 0.00/4.60k [00:00<?, ?B/s]"
      ]
     },
     "metadata": {},
     "output_type": "display_data"
    },
    {
     "data": {
      "application/vnd.jupyter.widget-view+json": {
       "model_id": "5695708ab7ac4efab118ad8ca28afa39",
       "version_major": 2,
       "version_minor": 0
      },
      "text/plain": [
       "sub-01_ses-mri_task-facerecognition_run-05_bold.json:   0%|          | 0.00/21.6k [00:00<?, ?B/s]"
      ]
     },
     "metadata": {},
     "output_type": "display_data"
    },
    {
     "data": {
      "application/vnd.jupyter.widget-view+json": {
       "model_id": "65836fb5d63c49628b52a20956cd7926",
       "version_major": 2,
       "version_minor": 0
      },
      "text/plain": [
       "sub-15_ses-mri_task-facerecognition_run-01_bold.nii.gz:   0%|          | 0.00/39.1M [00:00<?, ?B/s]"
      ]
     },
     "metadata": {},
     "output_type": "display_data"
    },
    {
     "data": {
      "application/vnd.jupyter.widget-view+json": {
       "model_id": "1a4d561e35ea4a0695730a0c7a18019f",
       "version_major": 2,
       "version_minor": 0
      },
      "text/plain": [
       "sub-13_ses-mri_task-facerecognition_run-06_events.tsv:   0%|          | 0.00/4.90k [00:00<?, ?B/s]"
      ]
     },
     "metadata": {},
     "output_type": "display_data"
    },
    {
     "data": {
      "application/vnd.jupyter.widget-view+json": {
       "model_id": "61297bbe54fc41da94138a670e51c6b3",
       "version_major": 2,
       "version_minor": 0
      },
      "text/plain": [
       "sub-06_ses-mri_task-facerecognition_run-03_events.tsv:   0%|          | 0.00/4.81k [00:00<?, ?B/s]"
      ]
     },
     "metadata": {},
     "output_type": "display_data"
    },
    {
     "data": {
      "application/vnd.jupyter.widget-view+json": {
       "model_id": "b1bc6652469d4e72be934f41a74ea2fb",
       "version_major": 2,
       "version_minor": 0
      },
      "text/plain": [
       "sub-01_ses-mri_task-facerecognition_run-06_bold.json:   0%|          | 0.00/21.6k [00:00<?, ?B/s]"
      ]
     },
     "metadata": {},
     "output_type": "display_data"
    },
    {
     "data": {
      "application/vnd.jupyter.widget-view+json": {
       "model_id": "0616db840b084b778f9c283c7f502624",
       "version_major": 2,
       "version_minor": 0
      },
      "text/plain": [
       "sub-02_ses-mri_task-facerecognition_run-02_bold.nii.gz:   0%|          | 0.00/34.8M [00:00<?, ?B/s]"
      ]
     },
     "metadata": {},
     "output_type": "display_data"
    },
    {
     "data": {
      "application/vnd.jupyter.widget-view+json": {
       "model_id": "e1ce1f0174cd45ea83ddf93d78bd95df",
       "version_major": 2,
       "version_minor": 0
      },
      "text/plain": [
       "sub-13_ses-mri_task-facerecognition_run-07_bold.json:   0%|          | 0.00/21.7k [00:00<?, ?B/s]"
      ]
     },
     "metadata": {},
     "output_type": "display_data"
    },
    {
     "data": {
      "application/vnd.jupyter.widget-view+json": {
       "model_id": "30368270e613432f93b037892c481811",
       "version_major": 2,
       "version_minor": 0
      },
      "text/plain": [
       "sub-14_ses-mri_task-facerecognition_run-03_events.tsv:   0%|          | 0.00/4.66k [00:00<?, ?B/s]"
      ]
     },
     "metadata": {},
     "output_type": "display_data"
    },
    {
     "data": {
      "application/vnd.jupyter.widget-view+json": {
       "model_id": "b4cc33652ac3459295e609c760bea5c6",
       "version_major": 2,
       "version_minor": 0
      },
      "text/plain": [
       "sub-01_ses-mri_task-facerecognition_run-05_bold.nii.gz:   0%|          | 0.00/35.5M [00:00<?, ?B/s]"
      ]
     },
     "metadata": {},
     "output_type": "display_data"
    },
    {
     "data": {
      "application/vnd.jupyter.widget-view+json": {
       "model_id": "9273dc47a2ec4f33b8ccc1e15c411e59",
       "version_major": 2,
       "version_minor": 0
      },
      "text/plain": [
       "sub-06_ses-mri_task-facerecognition_run-04_bold.json:   0%|          | 0.00/21.6k [00:00<?, ?B/s]"
      ]
     },
     "metadata": {},
     "output_type": "display_data"
    },
    {
     "data": {
      "application/vnd.jupyter.widget-view+json": {
       "model_id": "c732e278637f47d8a4cafd1fbd070f14",
       "version_major": 2,
       "version_minor": 0
      },
      "text/plain": [
       "sub-02_ses-mri_task-facerecognition_run-02_events.tsv:   0%|          | 0.00/4.57k [00:00<?, ?B/s]"
      ]
     },
     "metadata": {},
     "output_type": "display_data"
    },
    {
     "data": {
      "application/vnd.jupyter.widget-view+json": {
       "model_id": "7c5a95e4a0f7498c817653887886d20b",
       "version_major": 2,
       "version_minor": 0
      },
      "text/plain": [
       "sub-14_ses-mri_task-facerecognition_run-04_bold.json:   0%|          | 0.00/21.6k [00:00<?, ?B/s]"
      ]
     },
     "metadata": {},
     "output_type": "display_data"
    },
    {
     "data": {
      "application/vnd.jupyter.widget-view+json": {
       "model_id": "cb120feb3ba549d0a5c4ef57aae41df6",
       "version_major": 2,
       "version_minor": 0
      },
      "text/plain": [
       "sub-13_ses-mri_task-facerecognition_run-07_bold.nii.gz:   0%|          | 0.00/33.9M [00:00<?, ?B/s]"
      ]
     },
     "metadata": {},
     "output_type": "display_data"
    },
    {
     "data": {
      "application/vnd.jupyter.widget-view+json": {
       "model_id": "241897eb571e4f22b7c3b67e25217357",
       "version_major": 2,
       "version_minor": 0
      },
      "text/plain": [
       "sub-11_ses-mri_task-facerecognition_run-04_events.tsv:   0%|          | 0.00/4.62k [00:00<?, ?B/s]"
      ]
     },
     "metadata": {},
     "output_type": "display_data"
    },
    {
     "data": {
      "application/vnd.jupyter.widget-view+json": {
       "model_id": "59b383c6d5ec475385a020f441106e16",
       "version_major": 2,
       "version_minor": 0
      },
      "text/plain": [
       "sub-02_ses-mri_task-facerecognition_run-03_bold.nii.gz:   0%|          | 0.00/34.8M [00:00<?, ?B/s]"
      ]
     },
     "metadata": {},
     "output_type": "display_data"
    },
    {
     "data": {
      "application/vnd.jupyter.widget-view+json": {
       "model_id": "7b35a5bc50fb4cafa8aadb828d5bf219",
       "version_major": 2,
       "version_minor": 0
      },
      "text/plain": [
       "sub-06_ses-mri_task-facerecognition_run-04_bold.nii.gz:   0%|          | 0.00/35.2M [00:00<?, ?B/s]"
      ]
     },
     "metadata": {},
     "output_type": "display_data"
    },
    {
     "name": "stdout",
     "output_type": "stream",
     "text": [
      "🔄 Request timed out while downloading /home/mohamed/Documents/ISN2025/Notebooks/ds000117/sub-16/ses-mri/func/stimuli/func/f073.bmp, retrying in 0.5 sec …\n"
     ]
    },
    {
     "data": {
      "application/vnd.jupyter.widget-view+json": {
       "model_id": "b64aaadd3add4617af0eaeec907a1219",
       "version_major": 2,
       "version_minor": 0
      },
      "text/plain": [
       "sub-14_ses-mri_task-facerecognition_run-04_bold.nii.gz:   0%|          | 0.00/33.6M [00:00<?, ?B/s]"
      ]
     },
     "metadata": {},
     "output_type": "display_data"
    },
    {
     "data": {
      "application/vnd.jupyter.widget-view+json": {
       "model_id": "c38a0762552745dcb38f30219f95fd5c",
       "version_major": 2,
       "version_minor": 0
      },
      "text/plain": [
       "sub-11_ses-mri_task-facerecognition_run-05_bold.json:   0%|          | 0.00/21.6k [00:00<?, ?B/s]"
      ]
     },
     "metadata": {},
     "output_type": "display_data"
    },
    {
     "name": "stdout",
     "output_type": "stream",
     "text": [
      "🔄 Request timed out while downloading /home/mohamed/Documents/ISN2025/Notebooks/ds000117/sub-11/ses-mri/func/sub-11_ses-mri_task-facerecognition_run-04_bold.nii.gz, retrying in 0.5 sec …\n"
     ]
    },
    {
     "data": {
      "application/vnd.jupyter.widget-view+json": {
       "model_id": "8ffe43cd88834f24a21e87a659c74d36",
       "version_major": 2,
       "version_minor": 0
      },
      "text/plain": [
       "sub-05_ses-mri_task-facerecognition_run-03_events.tsv:   0%|          | 0.00/4.90k [00:00<?, ?B/s]"
      ]
     },
     "metadata": {},
     "output_type": "display_data"
    },
    {
     "data": {
      "application/vnd.jupyter.widget-view+json": {
       "model_id": "369ad255e05949c3afe16e46e4c79f3a",
       "version_major": 2,
       "version_minor": 0
      },
      "text/plain": [
       "sub-11_ses-mri_task-facerecognition_run-05_bold.nii.gz:   0%|          | 0.00/33.5M [00:00<?, ?B/s]"
      ]
     },
     "metadata": {},
     "output_type": "display_data"
    },
    {
     "data": {
      "application/vnd.jupyter.widget-view+json": {
       "model_id": "575ef9ee27d546a083f595ff066a41fa",
       "version_major": 2,
       "version_minor": 0
      },
      "text/plain": [
       "sub-05_ses-mri_task-facerecognition_run-04_events.tsv:   0%|          | 0.00/4.57k [00:00<?, ?B/s]"
      ]
     },
     "metadata": {},
     "output_type": "display_data"
    },
    {
     "data": {
      "application/vnd.jupyter.widget-view+json": {
       "model_id": "ba1b9d4d45b341498d55c3eedf061eb7",
       "version_major": 2,
       "version_minor": 0
      },
      "text/plain": [
       "sub-11_ses-mri_task-facerecognition_run-06_bold.json:   0%|          | 0.00/21.6k [00:00<?, ?B/s]"
      ]
     },
     "metadata": {},
     "output_type": "display_data"
    },
    {
     "data": {
      "application/vnd.jupyter.widget-view+json": {
       "model_id": "5bb42940a69142b6a5d5843db143539c",
       "version_major": 2,
       "version_minor": 0
      },
      "text/plain": [
       "sub-11_ses-mri_task-facerecognition_run-05_events.tsv:   0%|          | 0.00/4.71k [00:00<?, ?B/s]"
      ]
     },
     "metadata": {},
     "output_type": "display_data"
    },
    {
     "data": {
      "application/vnd.jupyter.widget-view+json": {
       "model_id": "b139eb60b9494808805563824ee36d02",
       "version_major": 2,
       "version_minor": 0
      },
      "text/plain": [
       "sub-15_ses-mri_task-facerecognition_run-01_events.tsv:   0%|          | 0.00/4.61k [00:00<?, ?B/s]"
      ]
     },
     "metadata": {},
     "output_type": "display_data"
    },
    {
     "data": {
      "application/vnd.jupyter.widget-view+json": {
       "model_id": "138709991ce14f5f9cbee10a3963b835",
       "version_major": 2,
       "version_minor": 0
      },
      "text/plain": [
       "sub-05_ses-mri_task-facerecognition_run-04_bold.json:   0%|          | 0.00/21.6k [00:00<?, ?B/s]"
      ]
     },
     "metadata": {},
     "output_type": "display_data"
    },
    {
     "data": {
      "application/vnd.jupyter.widget-view+json": {
       "model_id": "df4ba79b9cfc49cea230c8d01172e898",
       "version_major": 2,
       "version_minor": 0
      },
      "text/plain": [
       "sub-11_ses-mri_task-facerecognition_run-06_bold.nii.gz:   0%|          | 0.00/33.5M [00:00<?, ?B/s]"
      ]
     },
     "metadata": {},
     "output_type": "display_data"
    },
    {
     "data": {
      "application/vnd.jupyter.widget-view+json": {
       "model_id": "783e4deea2a84e40b23c00f7dc672f1b",
       "version_major": 2,
       "version_minor": 0
      },
      "text/plain": [
       "sub-15_ses-mri_task-facerecognition_run-02_bold.json:   0%|          | 0.00/21.8k [00:00<?, ?B/s]"
      ]
     },
     "metadata": {},
     "output_type": "display_data"
    },
    {
     "data": {
      "application/vnd.jupyter.widget-view+json": {
       "model_id": "ed903fa2ed444cf1a1ee4472840a0e15",
       "version_major": 2,
       "version_minor": 0
      },
      "text/plain": [
       "sub-05_ses-mri_task-facerecognition_run-04_bold.nii.gz:   0%|          | 0.00/33.9M [00:00<?, ?B/s]"
      ]
     },
     "metadata": {},
     "output_type": "display_data"
    },
    {
     "data": {
      "application/vnd.jupyter.widget-view+json": {
       "model_id": "2c18d4eff8574d6b9470374746ef0c00",
       "version_major": 2,
       "version_minor": 0
      },
      "text/plain": [
       "sub-15_ses-mri_task-facerecognition_run-02_bold.nii.gz:   0%|          | 0.00/34.7M [00:00<?, ?B/s]"
      ]
     },
     "metadata": {},
     "output_type": "display_data"
    },
    {
     "data": {
      "application/vnd.jupyter.widget-view+json": {
       "model_id": "3980fb62f8954c4887e40fa12466ab1d",
       "version_major": 2,
       "version_minor": 0
      },
      "text/plain": [
       "sub-10_ses-mri_task-facerecognition_run-06_bold.json:   0%|          | 0.00/21.7k [00:00<?, ?B/s]"
      ]
     },
     "metadata": {},
     "output_type": "display_data"
    },
    {
     "data": {
      "application/vnd.jupyter.widget-view+json": {
       "model_id": "0d5bde6c6ad0416b9b21332c1f82b602",
       "version_major": 2,
       "version_minor": 0
      },
      "text/plain": [
       "sub-10_ses-mri_task-facerecognition_run-06_bold.nii.gz:   0%|          | 0.00/34.7M [00:00<?, ?B/s]"
      ]
     },
     "metadata": {},
     "output_type": "display_data"
    },
    {
     "data": {
      "application/vnd.jupyter.widget-view+json": {
       "model_id": "1c6075b9ee764805bf897580a11e31c4",
       "version_major": 2,
       "version_minor": 0
      },
      "text/plain": [
       "sub-05_ses-mri_task-facerecognition_run-05_bold.json:   0%|          | 0.00/21.6k [00:00<?, ?B/s]"
      ]
     },
     "metadata": {},
     "output_type": "display_data"
    },
    {
     "data": {
      "application/vnd.jupyter.widget-view+json": {
       "model_id": "36f4e34ed8a7497684ed5b491223f11c",
       "version_major": 2,
       "version_minor": 0
      },
      "text/plain": [
       "sub-05_ses-mri_task-facerecognition_run-05_bold.nii.gz:   0%|          | 0.00/33.9M [00:00<?, ?B/s]"
      ]
     },
     "metadata": {},
     "output_type": "display_data"
    },
    {
     "data": {
      "application/vnd.jupyter.widget-view+json": {
       "model_id": "c5e7e7743dd04cbf9cb85be2125dc4ed",
       "version_major": 2,
       "version_minor": 0
      },
      "text/plain": [
       "sub-13_ses-mri_task-facerecognition_run-07_events.tsv:   0%|          | 0.00/4.66k [00:00<?, ?B/s]"
      ]
     },
     "metadata": {},
     "output_type": "display_data"
    },
    {
     "data": {
      "application/vnd.jupyter.widget-view+json": {
       "model_id": "d9fb67e31b5242879d26f0ef46deda1c",
       "version_major": 2,
       "version_minor": 0
      },
      "text/plain": [
       "sub-02_ses-mri_task-facerecognition_run-03_bold.json:   0%|          | 0.00/21.7k [00:00<?, ?B/s]"
      ]
     },
     "metadata": {},
     "output_type": "display_data"
    },
    {
     "data": {
      "application/vnd.jupyter.widget-view+json": {
       "model_id": "0cdf8a99d4d6439db59b17335d1d854f",
       "version_major": 2,
       "version_minor": 0
      },
      "text/plain": [
       "sub-13_ses-mri_task-facerecognition_run-08_bold.nii.gz:   0%|          | 0.00/33.9M [00:00<?, ?B/s]"
      ]
     },
     "metadata": {},
     "output_type": "display_data"
    },
    {
     "name": "stderr",
     "output_type": "stream",
     "text": [
      "IOPub message rate exceeded.\n",
      "The Jupyter server will temporarily stop sending output\n",
      "to the client in order to avoid crashing it.\n",
      "To change this limit, set the config variable\n",
      "`--ServerApp.iopub_msg_rate_limit`.\n",
      "\n",
      "Current values:\n",
      "ServerApp.iopub_msg_rate_limit=1000.0 (msgs/sec)\n",
      "ServerApp.rate_limit_window=3.0 (secs)\n",
      "\n"
     ]
    },
    {
     "data": {
      "application/vnd.jupyter.widget-view+json": {
       "model_id": "7fe55ce3fa7f45ccb25989cfd206fd96",
       "version_major": 2,
       "version_minor": 0
      },
      "text/plain": [
       "sub-02_ses-mri_task-facerecognition_run-04_bold.nii.gz:   0%|          | 0.00/34.9M [00:00<?, ?B/s]"
      ]
     },
     "metadata": {},
     "output_type": "display_data"
    },
    {
     "data": {
      "application/vnd.jupyter.widget-view+json": {
       "model_id": "9e080625d82a42ffa9025ce2fc3f93ab",
       "version_major": 2,
       "version_minor": 0
      },
      "text/plain": [
       "sub-07_ses-mri_task-facerecognition_run-05_bold.json:   0%|          | 0.00/21.7k [00:00<?, ?B/s]"
      ]
     },
     "metadata": {},
     "output_type": "display_data"
    },
    {
     "data": {
      "application/vnd.jupyter.widget-view+json": {
       "model_id": "bece4b6156c046d7a55805f53b378571",
       "version_major": 2,
       "version_minor": 0
      },
      "text/plain": [
       "sub-07_ses-mri_task-facerecognition_run-05_bold.nii.gz:   0%|          | 0.00/33.6M [00:00<?, ?B/s]"
      ]
     },
     "metadata": {},
     "output_type": "display_data"
    },
    {
     "data": {
      "application/vnd.jupyter.widget-view+json": {
       "model_id": "9d7baba2954e483b9cd27584b8e33a12",
       "version_major": 2,
       "version_minor": 0
      },
      "text/plain": [
       "sub-15_ses-mri_task-facerecognition_run-03_bold.json:   0%|          | 0.00/21.8k [00:00<?, ?B/s]"
      ]
     },
     "metadata": {},
     "output_type": "display_data"
    },
    {
     "data": {
      "application/vnd.jupyter.widget-view+json": {
       "model_id": "a87ae28574844c4d93000966ce07b74a",
       "version_major": 2,
       "version_minor": 0
      },
      "text/plain": [
       "sub-15_ses-mri_task-facerecognition_run-02_events.tsv:   0%|          | 0.00/4.71k [00:00<?, ?B/s]"
      ]
     },
     "metadata": {},
     "output_type": "display_data"
    },
    {
     "data": {
      "application/vnd.jupyter.widget-view+json": {
       "model_id": "f9aae9a8b85f4ffeb4fe229f81247124",
       "version_major": 2,
       "version_minor": 0
      },
      "text/plain": [
       "sub-15_ses-mri_task-facerecognition_run-03_events.tsv:   0%|          | 0.00/4.62k [00:00<?, ?B/s]"
      ]
     },
     "metadata": {},
     "output_type": "display_data"
    },
    {
     "data": {
      "application/vnd.jupyter.widget-view+json": {
       "model_id": "df786d6428a04951a17992702a0c6fd3",
       "version_major": 2,
       "version_minor": 0
      },
      "text/plain": [
       "sub-15_ses-mri_task-facerecognition_run-03_bold.nii.gz:   0%|          | 0.00/34.8M [00:00<?, ?B/s]"
      ]
     },
     "metadata": {},
     "output_type": "display_data"
    },
    {
     "data": {
      "application/vnd.jupyter.widget-view+json": {
       "model_id": "6e3e76d5c1e8470c82ec87328a0d908e",
       "version_major": 2,
       "version_minor": 0
      },
      "text/plain": [
       "sub-15_ses-mri_task-facerecognition_run-04_bold.nii.gz:   0%|          | 0.00/34.9M [00:00<?, ?B/s]"
      ]
     },
     "metadata": {},
     "output_type": "display_data"
    },
    {
     "data": {
      "application/vnd.jupyter.widget-view+json": {
       "model_id": "b14e833edf22451bb1e5b70b3097ed61",
       "version_major": 2,
       "version_minor": 0
      },
      "text/plain": [
       "sub-09_ses-mri_task-facerecognition_run-05_bold.nii.gz:   0%|          | 0.00/34.6M [00:00<?, ?B/s]"
      ]
     },
     "metadata": {},
     "output_type": "display_data"
    },
    {
     "data": {
      "application/vnd.jupyter.widget-view+json": {
       "model_id": "e6160939a44b4dd4925d218686c9cb71",
       "version_major": 2,
       "version_minor": 0
      },
      "text/plain": [
       "sub-04_ses-mri_task-facerecognition_run-04_events.tsv:   0%|          | 0.00/4.79k [00:00<?, ?B/s]"
      ]
     },
     "metadata": {},
     "output_type": "display_data"
    },
    {
     "data": {
      "application/vnd.jupyter.widget-view+json": {
       "model_id": "1cc16f0a0dba467f9dc3ff84556b6ebc",
       "version_major": 2,
       "version_minor": 0
      },
      "text/plain": [
       "sub-11_ses-mri_task-facerecognition_run-06_events.tsv:   0%|          | 0.00/4.76k [00:00<?, ?B/s]"
      ]
     },
     "metadata": {},
     "output_type": "display_data"
    },
    {
     "data": {
      "application/vnd.jupyter.widget-view+json": {
       "model_id": "561b3f5c5d6b48a1a026087aa9192648",
       "version_major": 2,
       "version_minor": 0
      },
      "text/plain": [
       "sub-04_ses-mri_task-facerecognition_run-05_bold.nii.gz:   0%|          | 0.00/34.4M [00:00<?, ?B/s]"
      ]
     },
     "metadata": {},
     "output_type": "display_data"
    },
    {
     "data": {
      "application/vnd.jupyter.widget-view+json": {
       "model_id": "3aeef69f2c32457e9313cb55cf6011d0",
       "version_major": 2,
       "version_minor": 0
      },
      "text/plain": [
       "sub-11_ses-mri_task-facerecognition_run-07_bold.json:   0%|          | 0.00/21.6k [00:00<?, ?B/s]"
      ]
     },
     "metadata": {},
     "output_type": "display_data"
    },
    {
     "data": {
      "application/vnd.jupyter.widget-view+json": {
       "model_id": "a11d6589f2de4ea68c681fb6af7e5d89",
       "version_major": 2,
       "version_minor": 0
      },
      "text/plain": [
       "sub-11_ses-mri_task-facerecognition_run-07_bold.nii.gz:   0%|          | 0.00/33.6M [00:00<?, ?B/s]"
      ]
     },
     "metadata": {},
     "output_type": "display_data"
    },
    {
     "data": {
      "application/vnd.jupyter.widget-view+json": {
       "model_id": "f2ea0bd02dba40b1a3e6b3a002bedf4f",
       "version_major": 2,
       "version_minor": 0
      },
      "text/plain": [
       "sub-12_ses-mri_task-facerecognition_run-06_events.tsv:   0%|          | 0.00/4.61k [00:00<?, ?B/s]"
      ]
     },
     "metadata": {},
     "output_type": "display_data"
    },
    {
     "data": {
      "application/vnd.jupyter.widget-view+json": {
       "model_id": "ddf5afdff1714d3395b716c299c1f1db",
       "version_major": 2,
       "version_minor": 0
      },
      "text/plain": [
       "sub-12_ses-mri_task-facerecognition_run-07_events.tsv:   0%|          | 0.00/4.83k [00:00<?, ?B/s]"
      ]
     },
     "metadata": {},
     "output_type": "display_data"
    },
    {
     "data": {
      "application/vnd.jupyter.widget-view+json": {
       "model_id": "6b04bc4743ab4e25ae0187d2bfe8d0b8",
       "version_major": 2,
       "version_minor": 0
      },
      "text/plain": [
       "sub-12_ses-mri_task-facerecognition_run-07_bold.json:   0%|          | 0.00/21.7k [00:00<?, ?B/s]"
      ]
     },
     "metadata": {},
     "output_type": "display_data"
    },
    {
     "data": {
      "application/vnd.jupyter.widget-view+json": {
       "model_id": "5e385e693a764e348ef5a628f440acbc",
       "version_major": 2,
       "version_minor": 0
      },
      "text/plain": [
       "sub-08_ses-mri_task-facerecognition_run-05_events.tsv:   0%|          | 0.00/4.83k [00:00<?, ?B/s]"
      ]
     },
     "metadata": {},
     "output_type": "display_data"
    },
    {
     "data": {
      "application/vnd.jupyter.widget-view+json": {
       "model_id": "945a9a7a571b46088388852cd75e39f0",
       "version_major": 2,
       "version_minor": 0
      },
      "text/plain": [
       "sub-12_ses-mri_task-facerecognition_run-07_bold.nii.gz:   0%|          | 0.00/34.1M [00:00<?, ?B/s]"
      ]
     },
     "metadata": {},
     "output_type": "display_data"
    },
    {
     "data": {
      "application/vnd.jupyter.widget-view+json": {
       "model_id": "b3874d2323bf40a981486fd9394a4280",
       "version_major": 2,
       "version_minor": 0
      },
      "text/plain": [
       "sub-08_ses-mri_task-facerecognition_run-06_events.tsv:   0%|          | 0.00/4.61k [00:00<?, ?B/s]"
      ]
     },
     "metadata": {},
     "output_type": "display_data"
    },
    {
     "data": {
      "application/vnd.jupyter.widget-view+json": {
       "model_id": "6f0342e0c2c1432b83b221385ba6d2bb",
       "version_major": 2,
       "version_minor": 0
      },
      "text/plain": [
       "sub-08_ses-mri_task-facerecognition_run-06_bold.json:   0%|          | 0.00/21.7k [00:00<?, ?B/s]"
      ]
     },
     "metadata": {},
     "output_type": "display_data"
    },
    {
     "data": {
      "application/vnd.jupyter.widget-view+json": {
       "model_id": "8e816da61b4345b0b2a5fa9e5074d16d",
       "version_major": 2,
       "version_minor": 0
      },
      "text/plain": [
       "sub-08_ses-mri_task-facerecognition_run-07_bold.json:   0%|          | 0.00/21.7k [00:00<?, ?B/s]"
      ]
     },
     "metadata": {},
     "output_type": "display_data"
    },
    {
     "data": {
      "application/vnd.jupyter.widget-view+json": {
       "model_id": "5c18453a4eed4257bc61699569f08cf8",
       "version_major": 2,
       "version_minor": 0
      },
      "text/plain": [
       "sub-08_ses-mri_task-facerecognition_run-07_bold.nii.gz:   0%|          | 0.00/34.2M [00:00<?, ?B/s]"
      ]
     },
     "metadata": {},
     "output_type": "display_data"
    },
    {
     "name": "stderr",
     "output_type": "stream",
     "text": [
      "IOPub message rate exceeded.\n",
      "The Jupyter server will temporarily stop sending output\n",
      "to the client in order to avoid crashing it.\n",
      "To change this limit, set the config variable\n",
      "`--ServerApp.iopub_msg_rate_limit`.\n",
      "\n",
      "Current values:\n",
      "ServerApp.iopub_msg_rate_limit=1000.0 (msgs/sec)\n",
      "ServerApp.rate_limit_window=3.0 (secs)\n",
      "\n"
     ]
    },
    {
     "data": {
      "application/vnd.jupyter.widget-view+json": {
       "model_id": "19b6442d284e40d0869873797a550232",
       "version_major": 2,
       "version_minor": 0
      },
      "text/plain": [
       "sub-03_ses-mri_task-facerecognition_run-03_events.tsv:   0%|          | 0.00/4.82k [00:00<?, ?B/s]"
      ]
     },
     "metadata": {},
     "output_type": "display_data"
    },
    {
     "data": {
      "application/vnd.jupyter.widget-view+json": {
       "model_id": "67183da0bd5f4a28b4216918d83329f1",
       "version_major": 2,
       "version_minor": 0
      },
      "text/plain": [
       "sub-03_ses-mri_task-facerecognition_run-03_bold.json:   0%|          | 0.00/21.7k [00:00<?, ?B/s]"
      ]
     },
     "metadata": {},
     "output_type": "display_data"
    },
    {
     "data": {
      "application/vnd.jupyter.widget-view+json": {
       "model_id": "7bd15f7a84aa48f780d50932c05ee5a0",
       "version_major": 2,
       "version_minor": 0
      },
      "text/plain": [
       "sub-08_ses-mri_task-facerecognition_run-08_events.tsv:   0%|          | 0.00/4.57k [00:00<?, ?B/s]"
      ]
     },
     "metadata": {},
     "output_type": "display_data"
    },
    {
     "data": {
      "application/vnd.jupyter.widget-view+json": {
       "model_id": "0eae2be9bb9746e1b0e8927d0122ebc7",
       "version_major": 2,
       "version_minor": 0
      },
      "text/plain": [
       "sub-02_ses-mri_task-facerecognition_run-03_events.tsv:   0%|          | 0.00/4.61k [00:00<?, ?B/s]"
      ]
     },
     "metadata": {},
     "output_type": "display_data"
    },
    {
     "data": {
      "application/vnd.jupyter.widget-view+json": {
       "model_id": "ace12119998541b6828eef4e9acbeb7f",
       "version_major": 2,
       "version_minor": 0
      },
      "text/plain": [
       "sub-07_ses-mri_task-facerecognition_run-05_events.tsv:   0%|          | 0.00/4.62k [00:00<?, ?B/s]"
      ]
     },
     "metadata": {},
     "output_type": "display_data"
    },
    {
     "data": {
      "application/vnd.jupyter.widget-view+json": {
       "model_id": "5bd0c9f7bda04ab09eba6ff5ac225f24",
       "version_major": 2,
       "version_minor": 0
      },
      "text/plain": [
       "sub-02_ses-mri_task-facerecognition_run-05_bold.json:   0%|          | 0.00/21.7k [00:00<?, ?B/s]"
      ]
     },
     "metadata": {},
     "output_type": "display_data"
    },
    {
     "data": {
      "application/vnd.jupyter.widget-view+json": {
       "model_id": "09875cd85d9f4059965986462eaf443b",
       "version_major": 2,
       "version_minor": 0
      },
      "text/plain": [
       "sub-08_ses-mri_task-facerecognition_run-07_events.tsv:   0%|          | 0.00/4.71k [00:00<?, ?B/s]"
      ]
     },
     "metadata": {},
     "output_type": "display_data"
    },
    {
     "data": {
      "application/vnd.jupyter.widget-view+json": {
       "model_id": "9ff7625e1e084afdaa65b9fc760a4b61",
       "version_major": 2,
       "version_minor": 0
      },
      "text/plain": [
       "sub-07_ses-mri_task-facerecognition_run-06_bold.json:   0%|          | 0.00/21.7k [00:00<?, ?B/s]"
      ]
     },
     "metadata": {},
     "output_type": "display_data"
    },
    {
     "data": {
      "application/vnd.jupyter.widget-view+json": {
       "model_id": "ae593e66726443ebbf59b7937f089c92",
       "version_major": 2,
       "version_minor": 0
      },
      "text/plain": [
       "sub-03_ses-mri_task-facerecognition_run-04_bold.json:   0%|          | 0.00/21.7k [00:00<?, ?B/s]"
      ]
     },
     "metadata": {},
     "output_type": "display_data"
    },
    {
     "name": "stdout",
     "output_type": "stream",
     "text": [
      "🔄 Request timed out while downloading /home/mohamed/Documents/ISN2025/Notebooks/ds000117/sub-16/ses-mri/func/stimuli/func/u033.bmp, retrying in 0.5 sec …\n",
      "🔄 Request timed out while downloading /home/mohamed/Documents/ISN2025/Notebooks/ds000117/sub-13/ses-mri/func/sub-13_ses-mri_task-facerecognition_run-08_events.tsv, retrying in 0.5 sec …\n"
     ]
    },
    {
     "data": {
      "application/vnd.jupyter.widget-view+json": {
       "model_id": "17a72afcf35042f5b6a2b7b72913f71b",
       "version_major": 2,
       "version_minor": 0
      },
      "text/plain": [
       "sub-02_ses-mri_task-facerecognition_run-04_events.tsv:   0%|          | 0.00/4.78k [00:00<?, ?B/s]"
      ]
     },
     "metadata": {},
     "output_type": "display_data"
    },
    {
     "data": {
      "application/vnd.jupyter.widget-view+json": {
       "model_id": "77c4ad9220f843afaa60744bd55862b8",
       "version_major": 2,
       "version_minor": 0
      },
      "text/plain": [
       "sub-09_ses-mri_task-facerecognition_run-05_bold.json:   0%|          | 0.00/21.6k [00:00<?, ?B/s]"
      ]
     },
     "metadata": {},
     "output_type": "display_data"
    },
    {
     "data": {
      "application/vnd.jupyter.widget-view+json": {
       "model_id": "8d895908c67844f7b101fe04ae8c9b98",
       "version_major": 2,
       "version_minor": 0
      },
      "text/plain": [
       "sub-07_ses-mri_task-facerecognition_run-06_bold.nii.gz:   0%|          | 0.00/33.6M [00:00<?, ?B/s]"
      ]
     },
     "metadata": {},
     "output_type": "display_data"
    },
    {
     "name": "stdout",
     "output_type": "stream",
     "text": [
      "🔄 Request timed out while downloading /home/mohamed/Documents/ISN2025/Notebooks/ds000117/sub-01/ses-mri/func/sub-01_ses-mri_task-facerecognition_run-06_events.tsv, retrying in 0.5 sec …\n",
      "🔄 Request timed out while downloading /home/mohamed/Documents/ISN2025/Notebooks/ds000117/sub-16/ses-mri/func/stimuli/func/u042.bmp, retrying in 0.5 sec …\n",
      "🔄 Request timed out while downloading /home/mohamed/Documents/ISN2025/Notebooks/ds000117/sub-07/ses-mri/func/sub-07_ses-mri_task-facerecognition_run-07_bold.json, retrying in 0.5 sec …\n",
      "🔄 Request timed out while downloading /home/mohamed/Documents/ISN2025/Notebooks/ds000117/sub-16/ses-mri/func/stimuli/func/u044.bmp, retrying in 0.5 sec …\n",
      "🔄 Request timed out while downloading /home/mohamed/Documents/ISN2025/Notebooks/ds000117/sub-16/ses-mri/func/stimuli/func/u046.bmp, retrying in 0.5 sec …\n",
      "🔄 Request timed out while downloading /home/mohamed/Documents/ISN2025/Notebooks/ds000117/sub-09/ses-mri/func/sub-09_ses-mri_task-facerecognition_run-04_events.tsv, retrying in 0.5 sec …\n"
     ]
    },
    {
     "data": {
      "application/vnd.jupyter.widget-view+json": {
       "model_id": "906ee96e722648e5a69078e9000aee0e",
       "version_major": 2,
       "version_minor": 0
      },
      "text/plain": [
       "sub-01_ses-mri_task-facerecognition_run-06_bold.nii.gz:   0%|          | 0.00/35.3M [00:00<?, ?B/s]"
      ]
     },
     "metadata": {},
     "output_type": "display_data"
    },
    {
     "data": {
      "application/vnd.jupyter.widget-view+json": {
       "model_id": "222df046e518425c86e3320411018a88",
       "version_major": 2,
       "version_minor": 0
      },
      "text/plain": [
       "sub-14_ses-mri_task-facerecognition_run-05_bold.json:   0%|          | 0.00/21.6k [00:00<?, ?B/s]"
      ]
     },
     "metadata": {},
     "output_type": "display_data"
    },
    {
     "data": {
      "application/vnd.jupyter.widget-view+json": {
       "model_id": "df96a12fd1584afeb02ba5189c86e692",
       "version_major": 2,
       "version_minor": 0
      },
      "text/plain": [
       "sub-11_ses-mri_task-facerecognition_run-07_events.tsv:   0%|          | 0.00/4.68k [00:00<?, ?B/s]"
      ]
     },
     "metadata": {},
     "output_type": "display_data"
    },
    {
     "name": "stdout",
     "output_type": "stream",
     "text": [
      "🔄 Request timed out while downloading /home/mohamed/Documents/ISN2025/Notebooks/ds000117/sub-13/ses-mri/func/sub-13_ses-mri_task-facerecognition_run-09_bold.json, retrying in 0.5 sec …\n"
     ]
    },
    {
     "data": {
      "application/vnd.jupyter.widget-view+json": {
       "model_id": "a218006dca0d4a7a8b7006054e702a57",
       "version_major": 2,
       "version_minor": 0
      },
      "text/plain": [
       "sub-08_ses-mri_task-facerecognition_run-08_bold.nii.gz:   0%|          | 0.00/34.3M [00:00<?, ?B/s]"
      ]
     },
     "metadata": {},
     "output_type": "display_data"
    },
    {
     "data": {
      "application/vnd.jupyter.widget-view+json": {
       "model_id": "aa1b2e065cce4d4f8edcb61e7fd9f389",
       "version_major": 2,
       "version_minor": 0
      },
      "text/plain": [
       "sub-03_ses-mri_task-facerecognition_run-04_bold.nii.gz:   0%|          | 0.00/34.9M [00:00<?, ?B/s]"
      ]
     },
     "metadata": {},
     "output_type": "display_data"
    },
    {
     "data": {
      "application/vnd.jupyter.widget-view+json": {
       "model_id": "d77827fc463a4c1fbfd522ba74273250",
       "version_major": 2,
       "version_minor": 0
      },
      "text/plain": [
       "sub-09_ses-mri_task-facerecognition_run-05_events.tsv:   0%|          | 0.00/4.56k [00:00<?, ?B/s]"
      ]
     },
     "metadata": {},
     "output_type": "display_data"
    },
    {
     "data": {
      "application/vnd.jupyter.widget-view+json": {
       "model_id": "f75a98befafc47d1b5d290df48155d57",
       "version_major": 2,
       "version_minor": 0
      },
      "text/plain": [
       "sub-02_ses-mri_task-facerecognition_run-05_bold.nii.gz:   0%|          | 0.00/34.9M [00:00<?, ?B/s]"
      ]
     },
     "metadata": {},
     "output_type": "display_data"
    },
    {
     "data": {
      "application/vnd.jupyter.widget-view+json": {
       "model_id": "458d133a685940ecbd9a0c514c951790",
       "version_major": 2,
       "version_minor": 0
      },
      "text/plain": [
       "sub-11_ses-mri_task-facerecognition_run-08_bold.nii.gz:   0%|          | 0.00/33.6M [00:00<?, ?B/s]"
      ]
     },
     "metadata": {},
     "output_type": "display_data"
    },
    {
     "data": {
      "application/vnd.jupyter.widget-view+json": {
       "model_id": "3b42e01ecf844feca3fbdd1db223ccb3",
       "version_major": 2,
       "version_minor": 0
      },
      "text/plain": [
       "sub-01_ses-mri_task-facerecognition_run-07_bold.json:   0%|          | 0.00/21.6k [00:00<?, ?B/s]"
      ]
     },
     "metadata": {},
     "output_type": "display_data"
    },
    {
     "data": {
      "application/vnd.jupyter.widget-view+json": {
       "model_id": "ceb405668ce6422cb90a5a459c33f7ba",
       "version_major": 2,
       "version_minor": 0
      },
      "text/plain": [
       "sub-07_ses-mri_task-facerecognition_run-06_events.tsv:   0%|          | 0.00/4.65k [00:00<?, ?B/s]"
      ]
     },
     "metadata": {},
     "output_type": "display_data"
    },
    {
     "data": {
      "application/vnd.jupyter.widget-view+json": {
       "model_id": "88b8e21df8b5407ba409a4915a196ada",
       "version_major": 2,
       "version_minor": 0
      },
      "text/plain": [
       "sub-14_ses-mri_task-facerecognition_run-04_events.tsv:   0%|          | 0.00/4.62k [00:00<?, ?B/s]"
      ]
     },
     "metadata": {},
     "output_type": "display_data"
    },
    {
     "data": {
      "application/vnd.jupyter.widget-view+json": {
       "model_id": "fa576e1d39ff4c09a6eef3d83281a05b",
       "version_major": 2,
       "version_minor": 0
      },
      "text/plain": [
       "sub-13_ses-mri_task-facerecognition_run-08_bold.json:   0%|          | 0.00/21.7k [00:00<?, ?B/s]"
      ]
     },
     "metadata": {},
     "output_type": "display_data"
    },
    {
     "data": {
      "application/vnd.jupyter.widget-view+json": {
       "model_id": "741254e025244c129e777236d93e73f4",
       "version_major": 2,
       "version_minor": 0
      },
      "text/plain": [
       "sub-09_ses-mri_task-facerecognition_run-06_bold.json:   0%|          | 0.00/21.6k [00:00<?, ?B/s]"
      ]
     },
     "metadata": {},
     "output_type": "display_data"
    },
    {
     "data": {
      "application/vnd.jupyter.widget-view+json": {
       "model_id": "664902f68b30461aafc3393eca2c24f3",
       "version_major": 2,
       "version_minor": 0
      },
      "text/plain": [
       "sub-11_ses-mri_task-facerecognition_run-08_bold.json:   0%|          | 0.00/21.6k [00:00<?, ?B/s]"
      ]
     },
     "metadata": {},
     "output_type": "display_data"
    },
    {
     "data": {
      "application/vnd.jupyter.widget-view+json": {
       "model_id": "c7cd4e5f11594f2097375ac98adf2695",
       "version_major": 2,
       "version_minor": 0
      },
      "text/plain": [
       "sub-09_ses-mri_task-facerecognition_run-06_bold.nii.gz:   0%|          | 0.00/34.6M [00:00<?, ?B/s]"
      ]
     },
     "metadata": {},
     "output_type": "display_data"
    },
    {
     "data": {
      "application/vnd.jupyter.widget-view+json": {
       "model_id": "a9202e386b444264ada66b0ffed90ec6",
       "version_major": 2,
       "version_minor": 0
      },
      "text/plain": [
       "sub-07_ses-mri_task-facerecognition_run-07_bold.nii.gz:   0%|          | 0.00/33.6M [00:00<?, ?B/s]"
      ]
     },
     "metadata": {},
     "output_type": "display_data"
    },
    {
     "data": {
      "application/vnd.jupyter.widget-view+json": {
       "model_id": "cba9909be476408bb6226f7f084d2eab",
       "version_major": 2,
       "version_minor": 0
      },
      "text/plain": [
       "sub-01_ses-mri_task-facerecognition_run-07_events.tsv:   0%|          | 0.00/4.79k [00:00<?, ?B/s]"
      ]
     },
     "metadata": {},
     "output_type": "display_data"
    },
    {
     "data": {
      "application/vnd.jupyter.widget-view+json": {
       "model_id": "b7d75830e4754beb820dfa3794c659e6",
       "version_major": 2,
       "version_minor": 0
      },
      "text/plain": [
       "sub-14_ses-mri_task-facerecognition_run-05_bold.nii.gz:   0%|          | 0.00/33.6M [00:00<?, ?B/s]"
      ]
     },
     "metadata": {},
     "output_type": "display_data"
    },
    {
     "data": {
      "application/vnd.jupyter.widget-view+json": {
       "model_id": "bd6f27157619473a8b584f0ee55333ce",
       "version_major": 2,
       "version_minor": 0
      },
      "text/plain": [
       "sub-13_ses-mri_task-facerecognition_run-09_bold.nii.gz:   0%|          | 0.00/33.9M [00:00<?, ?B/s]"
      ]
     },
     "metadata": {},
     "output_type": "display_data"
    },
    {
     "data": {
      "application/vnd.jupyter.widget-view+json": {
       "model_id": "f7fd4a031a87421cb5e59e995352647d",
       "version_major": 2,
       "version_minor": 0
      },
      "text/plain": [
       "sub-09_ses-mri_task-facerecognition_run-07_bold.json:   0%|          | 0.00/21.6k [00:00<?, ?B/s]"
      ]
     },
     "metadata": {},
     "output_type": "display_data"
    },
    {
     "data": {
      "application/vnd.jupyter.widget-view+json": {
       "model_id": "145662b2d8d8473388e3cfb4a80297c3",
       "version_major": 2,
       "version_minor": 0
      },
      "text/plain": [
       "sub-01_ses-mri_task-facerecognition_run-07_bold.nii.gz:   0%|          | 0.00/35.4M [00:00<?, ?B/s]"
      ]
     },
     "metadata": {},
     "output_type": "display_data"
    },
    {
     "data": {
      "application/vnd.jupyter.widget-view+json": {
       "model_id": "0bdc9e26189240768c7cfd0ac842b85d",
       "version_major": 2,
       "version_minor": 0
      },
      "text/plain": [
       "sub-09_ses-mri_task-facerecognition_run-07_bold.nii.gz:   0%|          | 0.00/34.6M [00:00<?, ?B/s]"
      ]
     },
     "metadata": {},
     "output_type": "display_data"
    },
    {
     "data": {
      "application/vnd.jupyter.widget-view+json": {
       "model_id": "20954b1c39ef4c9a9257cf7a9b318d09",
       "version_major": 2,
       "version_minor": 0
      },
      "text/plain": [
       "sub-11_ses-mri_task-facerecognition_run-09_bold.nii.gz:   0%|          | 0.00/33.6M [00:00<?, ?B/s]"
      ]
     },
     "metadata": {},
     "output_type": "display_data"
    },
    {
     "data": {
      "application/vnd.jupyter.widget-view+json": {
       "model_id": "bef1979a94fc4a8f99d67ba8eae8c443",
       "version_major": 2,
       "version_minor": 0
      },
      "text/plain": [
       "sub-10_ses-mri_task-facerecognition_run-07_bold.json:   0%|          | 0.00/21.7k [00:00<?, ?B/s]"
      ]
     },
     "metadata": {},
     "output_type": "display_data"
    },
    {
     "data": {
      "application/vnd.jupyter.widget-view+json": {
       "model_id": "ac43ce68704646b0aedb18b731cc993e",
       "version_major": 2,
       "version_minor": 0
      },
      "text/plain": [
       "sub-10_ses-mri_task-facerecognition_run-07_bold.nii.gz:   0%|          | 0.00/34.8M [00:00<?, ?B/s]"
      ]
     },
     "metadata": {},
     "output_type": "display_data"
    },
    {
     "data": {
      "application/vnd.jupyter.widget-view+json": {
       "model_id": "51e18c61e10146c6a1ebfc326b609ca3",
       "version_major": 2,
       "version_minor": 0
      },
      "text/plain": [
       "sub-02_ses-mri_task-facerecognition_run-05_events.tsv:   0%|          | 0.00/4.84k [00:00<?, ?B/s]"
      ]
     },
     "metadata": {},
     "output_type": "display_data"
    },
    {
     "data": {
      "application/vnd.jupyter.widget-view+json": {
       "model_id": "4ef37deb148f4a479c78bf6e2eb9f588",
       "version_major": 2,
       "version_minor": 0
      },
      "text/plain": [
       "sub-02_ses-mri_task-facerecognition_run-06_bold.json:   0%|          | 0.00/21.7k [00:00<?, ?B/s]"
      ]
     },
     "metadata": {},
     "output_type": "display_data"
    },
    {
     "data": {
      "application/vnd.jupyter.widget-view+json": {
       "model_id": "7448a0c4e3534f60a0eeb929acd4faea",
       "version_major": 2,
       "version_minor": 0
      },
      "text/plain": [
       "sub-04_ses-mri_task-facerecognition_run-06_bold.nii.gz:   0%|          | 0.00/34.4M [00:00<?, ?B/s]"
      ]
     },
     "metadata": {},
     "output_type": "display_data"
    },
    {
     "data": {
      "application/vnd.jupyter.widget-view+json": {
       "model_id": "2e99c432577e40e6959507adee121aeb",
       "version_major": 2,
       "version_minor": 0
      },
      "text/plain": [
       "sub-02_ses-mri_task-facerecognition_run-06_events.tsv:   0%|          | 0.00/4.74k [00:00<?, ?B/s]"
      ]
     },
     "metadata": {},
     "output_type": "display_data"
    },
    {
     "data": {
      "application/vnd.jupyter.widget-view+json": {
       "model_id": "020d82c62cf24bfbbce9fd045e4a3c37",
       "version_major": 2,
       "version_minor": 0
      },
      "text/plain": [
       "sub-06_ses-mri_task-facerecognition_run-04_events.tsv:   0%|          | 0.00/4.89k [00:00<?, ?B/s]"
      ]
     },
     "metadata": {},
     "output_type": "display_data"
    },
    {
     "data": {
      "application/vnd.jupyter.widget-view+json": {
       "model_id": "c852ed9df6d84586b526225b724bdc4c",
       "version_major": 2,
       "version_minor": 0
      },
      "text/plain": [
       "sub-02_ses-mri_task-facerecognition_run-06_bold.nii.gz:   0%|          | 0.00/34.9M [00:00<?, ?B/s]"
      ]
     },
     "metadata": {},
     "output_type": "display_data"
    },
    {
     "data": {
      "application/vnd.jupyter.widget-view+json": {
       "model_id": "e1ad61982c5e414291d1df04f26f5b56",
       "version_major": 2,
       "version_minor": 0
      },
      "text/plain": [
       "sub-07_ses-mri_task-facerecognition_run-07_events.tsv:   0%|          | 0.00/4.66k [00:00<?, ?B/s]"
      ]
     },
     "metadata": {},
     "output_type": "display_data"
    },
    {
     "data": {
      "application/vnd.jupyter.widget-view+json": {
       "model_id": "d329b70008364f95a5e79f6e97efa0e2",
       "version_major": 2,
       "version_minor": 0
      },
      "text/plain": [
       "sub-06_ses-mri_task-facerecognition_run-05_bold.json:   0%|          | 0.00/21.6k [00:00<?, ?B/s]"
      ]
     },
     "metadata": {},
     "output_type": "display_data"
    },
    {
     "data": {
      "application/vnd.jupyter.widget-view+json": {
       "model_id": "0ecc9f462d234b74970578018b900ebf",
       "version_major": 2,
       "version_minor": 0
      },
      "text/plain": [
       "sub-07_ses-mri_task-facerecognition_run-08_bold.json:   0%|          | 0.00/21.7k [00:00<?, ?B/s]"
      ]
     },
     "metadata": {},
     "output_type": "display_data"
    },
    {
     "data": {
      "application/vnd.jupyter.widget-view+json": {
       "model_id": "f18601068f444459a2b8cd395bd3592c",
       "version_major": 2,
       "version_minor": 0
      },
      "text/plain": [
       "sub-08_ses-mri_task-facerecognition_run-08_bold.json:   0%|          | 0.00/21.8k [00:00<?, ?B/s]"
      ]
     },
     "metadata": {},
     "output_type": "display_data"
    },
    {
     "data": {
      "application/vnd.jupyter.widget-view+json": {
       "model_id": "7e33c3a7ad664266a75de3e1ca6c495b",
       "version_major": 2,
       "version_minor": 0
      },
      "text/plain": [
       "sub-06_ses-mri_task-facerecognition_run-05_bold.nii.gz:   0%|          | 0.00/35.3M [00:00<?, ?B/s]"
      ]
     },
     "metadata": {},
     "output_type": "display_data"
    },
    {
     "data": {
      "application/vnd.jupyter.widget-view+json": {
       "model_id": "742dac5ef57147acb522106ea3ac2822",
       "version_major": 2,
       "version_minor": 0
      },
      "text/plain": [
       "sub-05_ses-mri_task-facerecognition_run-05_events.tsv:   0%|          | 0.00/4.66k [00:00<?, ?B/s]"
      ]
     },
     "metadata": {},
     "output_type": "display_data"
    },
    {
     "data": {
      "application/vnd.jupyter.widget-view+json": {
       "model_id": "a380f725a8c140fe82acb281abdbadad",
       "version_major": 2,
       "version_minor": 0
      },
      "text/plain": [
       "sub-04_ses-mri_task-facerecognition_run-06_events.tsv:   0%|          | 0.00/4.89k [00:00<?, ?B/s]"
      ]
     },
     "metadata": {},
     "output_type": "display_data"
    },
    {
     "data": {
      "application/vnd.jupyter.widget-view+json": {
       "model_id": "01a1a441aaa7411290bce206862f7010",
       "version_major": 2,
       "version_minor": 0
      },
      "text/plain": [
       "sub-07_ses-mri_task-facerecognition_run-08_bold.nii.gz:   0%|          | 0.00/33.6M [00:00<?, ?B/s]"
      ]
     },
     "metadata": {},
     "output_type": "display_data"
    },
    {
     "data": {
      "application/vnd.jupyter.widget-view+json": {
       "model_id": "169bf1cef17645bf9f727ce3a49c1964",
       "version_major": 2,
       "version_minor": 0
      },
      "text/plain": [
       "sub-01_ses-mri_task-facerecognition_run-09_bold.nii.gz:   0%|          | 0.00/35.3M [00:00<?, ?B/s]"
      ]
     },
     "metadata": {},
     "output_type": "display_data"
    },
    {
     "data": {
      "application/vnd.jupyter.widget-view+json": {
       "model_id": "76849d267add4f1fb23b9e9a3c8640fc",
       "version_major": 2,
       "version_minor": 0
      },
      "text/plain": [
       "sub-04_ses-mri_task-facerecognition_run-07_bold.json:   0%|          | 0.00/21.6k [00:00<?, ?B/s]"
      ]
     },
     "metadata": {},
     "output_type": "display_data"
    },
    {
     "data": {
      "application/vnd.jupyter.widget-view+json": {
       "model_id": "977bc79336ba4488ab45efb6a64f7373",
       "version_major": 2,
       "version_minor": 0
      },
      "text/plain": [
       "sub-08_ses-mri_task-facerecognition_run-09_events.tsv:   0%|          | 0.00/4.63k [00:00<?, ?B/s]"
      ]
     },
     "metadata": {},
     "output_type": "display_data"
    },
    {
     "data": {
      "application/vnd.jupyter.widget-view+json": {
       "model_id": "7c820288350547d2b51eed34a9963e1d",
       "version_major": 2,
       "version_minor": 0
      },
      "text/plain": [
       "sub-09_ses-mri_task-facerecognition_run-06_events.tsv:   0%|          | 0.00/4.84k [00:00<?, ?B/s]"
      ]
     },
     "metadata": {},
     "output_type": "display_data"
    },
    {
     "data": {
      "application/vnd.jupyter.widget-view+json": {
       "model_id": "1ba81d3527334927a54df427527b2b2d",
       "version_major": 2,
       "version_minor": 0
      },
      "text/plain": [
       "sub-05_ses-mri_task-facerecognition_run-06_bold.json:   0%|          | 0.00/21.6k [00:00<?, ?B/s]"
      ]
     },
     "metadata": {},
     "output_type": "display_data"
    },
    {
     "name": "stdout",
     "output_type": "stream",
     "text": [
      "🔄 Request timed out while downloading /home/mohamed/Documents/ISN2025/Notebooks/ds000117/sub-16/ses-mri/func/stimuli/func/u117.bmp, retrying in 0.5 sec …\n",
      "🔄 Request timed out while downloading /home/mohamed/Documents/ISN2025/Notebooks/ds000117/sub-16/ses-mri/func/stimuli/func/u118.bmp, retrying in 0.5 sec …\n",
      "🔄 Request timed out while downloading /home/mohamed/Documents/ISN2025/Notebooks/ds000117/sub-04/ses-mri/func/sub-04_ses-mri_task-facerecognition_run-05_events.tsv, retrying in 0.5 sec …\n",
      "🔄 Request timed out while downloading /home/mohamed/Documents/ISN2025/Notebooks/ds000117/sub-08/ses-mri/func/sub-08_ses-mri_task-facerecognition_run-09_bold.nii.gz, retrying in 0.5 sec …\n"
     ]
    },
    {
     "data": {
      "application/vnd.jupyter.widget-view+json": {
       "model_id": "a8ef20faab374b6ab0c8ded83782e61e",
       "version_major": 2,
       "version_minor": 0
      },
      "text/plain": [
       "sub-03_ses-mri_task-facerecognition_run-04_events.tsv:   0%|          | 0.00/4.78k [00:00<?, ?B/s]"
      ]
     },
     "metadata": {},
     "output_type": "display_data"
    },
    {
     "data": {
      "application/vnd.jupyter.widget-view+json": {
       "model_id": "e5a2b3861b6b4395a6d59ba9691485c8",
       "version_major": 2,
       "version_minor": 0
      },
      "text/plain": [
       "sub-05_ses-mri_task-facerecognition_run-06_events.tsv:   0%|          | 0.00/4.79k [00:00<?, ?B/s]"
      ]
     },
     "metadata": {},
     "output_type": "display_data"
    },
    {
     "data": {
      "application/vnd.jupyter.widget-view+json": {
       "model_id": "533c44c927594ee795a4e576265c804d",
       "version_major": 2,
       "version_minor": 0
      },
      "text/plain": [
       "sub-04_ses-mri_task-facerecognition_run-06_bold.json:   0%|          | 0.00/21.6k [00:00<?, ?B/s]"
      ]
     },
     "metadata": {},
     "output_type": "display_data"
    },
    {
     "data": {
      "application/vnd.jupyter.widget-view+json": {
       "model_id": "ea0b3b664c09432ca7aa8c1ea684f2eb",
       "version_major": 2,
       "version_minor": 0
      },
      "text/plain": [
       "sub-08_ses-mri_task-facerecognition_run-09_bold.json:   0%|          | 0.00/21.8k [00:00<?, ?B/s]"
      ]
     },
     "metadata": {},
     "output_type": "display_data"
    },
    {
     "data": {
      "application/vnd.jupyter.widget-view+json": {
       "model_id": "b6a81d3e32014b37a4de611abc7997ab",
       "version_major": 2,
       "version_minor": 0
      },
      "text/plain": [
       "sub-09_ses-mri_task-facerecognition_run-08_bold.json:   0%|          | 0.00/21.6k [00:00<?, ?B/s]"
      ]
     },
     "metadata": {},
     "output_type": "display_data"
    },
    {
     "data": {
      "application/vnd.jupyter.widget-view+json": {
       "model_id": "2df925fad80d42a38cfb296ae69caafd",
       "version_major": 2,
       "version_minor": 0
      },
      "text/plain": [
       "sub-03_ses-mri_task-facerecognition_run-05_bold.json:   0%|          | 0.00/21.7k [00:00<?, ?B/s]"
      ]
     },
     "metadata": {},
     "output_type": "display_data"
    },
    {
     "data": {
      "application/vnd.jupyter.widget-view+json": {
       "model_id": "5c765cecacad4678bf375e8c541c68ce",
       "version_major": 2,
       "version_minor": 0
      },
      "text/plain": [
       "sub-05_ses-mri_task-facerecognition_run-06_bold.nii.gz:   0%|          | 0.00/34.0M [00:00<?, ?B/s]"
      ]
     },
     "metadata": {},
     "output_type": "display_data"
    },
    {
     "data": {
      "application/vnd.jupyter.widget-view+json": {
       "model_id": "96aca9bb85d3460faf568ee9fbb124eb",
       "version_major": 2,
       "version_minor": 0
      },
      "text/plain": [
       "sub-09_ses-mri_task-facerecognition_run-08_bold.nii.gz:   0%|          | 0.00/34.6M [00:00<?, ?B/s]"
      ]
     },
     "metadata": {},
     "output_type": "display_data"
    },
    {
     "data": {
      "application/vnd.jupyter.widget-view+json": {
       "model_id": "68b727a8c950429d98ef0f77155545a0",
       "version_major": 2,
       "version_minor": 0
      },
      "text/plain": [
       "sub-08_ses-mri_task-facerecognition_run-02_bold.json:   0%|          | 0.00/21.7k [00:00<?, ?B/s]"
      ]
     },
     "metadata": {},
     "output_type": "display_data"
    },
    {
     "data": {
      "application/vnd.jupyter.widget-view+json": {
       "model_id": "a6918bde26ee4799b2adc1c20e91a246",
       "version_major": 2,
       "version_minor": 0
      },
      "text/plain": [
       "sub-09_ses-mri_task-facerecognition_run-08_events.tsv:   0%|          | 0.00/4.56k [00:00<?, ?B/s]"
      ]
     },
     "metadata": {},
     "output_type": "display_data"
    },
    {
     "data": {
      "application/vnd.jupyter.widget-view+json": {
       "model_id": "0ecf8de8c0b144649c4f5704e92dcdf7",
       "version_major": 2,
       "version_minor": 0
      },
      "text/plain": [
       "sub-03_ses-mri_task-facerecognition_run-05_bold.nii.gz:   0%|          | 0.00/34.8M [00:00<?, ?B/s]"
      ]
     },
     "metadata": {},
     "output_type": "display_data"
    },
    {
     "data": {
      "application/vnd.jupyter.widget-view+json": {
       "model_id": "8d43bedb807845b5884a1123ddeec61f",
       "version_major": 2,
       "version_minor": 0
      },
      "text/plain": [
       "sub-08_ses-mri_task-facerecognition_run-09_bold.nii.gz:   0%|          | 0.00/34.3M [00:00<?, ?B/s]"
      ]
     },
     "metadata": {},
     "output_type": "display_data"
    },
    {
     "data": {
      "application/vnd.jupyter.widget-view+json": {
       "model_id": "6ede21bc14a3427589bcacfd546b61e2",
       "version_major": 2,
       "version_minor": 0
      },
      "text/plain": [
       "sub-09_ses-mri_task-facerecognition_run-09_bold.json:   0%|          | 0.00/21.6k [00:00<?, ?B/s]"
      ]
     },
     "metadata": {},
     "output_type": "display_data"
    },
    {
     "data": {
      "application/vnd.jupyter.widget-view+json": {
       "model_id": "e9b5dc242795473db680356bec45a296",
       "version_major": 2,
       "version_minor": 0
      },
      "text/plain": [
       "sub-15_ses-mri_task-facerecognition_run-04_bold.json:   0%|          | 0.00/21.8k [00:00<?, ?B/s]"
      ]
     },
     "metadata": {},
     "output_type": "display_data"
    },
    {
     "data": {
      "application/vnd.jupyter.widget-view+json": {
       "model_id": "fc42869f0b524093a736ceb8e36b37f0",
       "version_major": 2,
       "version_minor": 0
      },
      "text/plain": [
       "sub-11_ses-mri_task-facerecognition_run-09_events.tsv:   0%|          | 0.00/4.71k [00:00<?, ?B/s]"
      ]
     },
     "metadata": {},
     "output_type": "display_data"
    },
    {
     "data": {
      "application/vnd.jupyter.widget-view+json": {
       "model_id": "07532892e53543d785170b471de5bf73",
       "version_major": 2,
       "version_minor": 0
      },
      "text/plain": [
       "sub-15_ses-mri_task-facerecognition_run-04_events.tsv:   0%|          | 0.00/4.66k [00:00<?, ?B/s]"
      ]
     },
     "metadata": {},
     "output_type": "display_data"
    },
    {
     "data": {
      "application/vnd.jupyter.widget-view+json": {
       "model_id": "9dd7747aa5ca4cdeb693fef756fc72ab",
       "version_major": 2,
       "version_minor": 0
      },
      "text/plain": [
       "sub-04_ses-mri_task-facerecognition_run-08_events.tsv:   0%|          | 0.00/4.83k [00:00<?, ?B/s]"
      ]
     },
     "metadata": {},
     "output_type": "display_data"
    },
    {
     "data": {
      "application/vnd.jupyter.widget-view+json": {
       "model_id": "519c973a11a4410c8e2acae8c6ea8b15",
       "version_major": 2,
       "version_minor": 0
      },
      "text/plain": [
       "sub-09_ses-mri_task-facerecognition_run-09_bold.nii.gz:   0%|          | 0.00/34.6M [00:00<?, ?B/s]"
      ]
     },
     "metadata": {},
     "output_type": "display_data"
    },
    {
     "data": {
      "application/vnd.jupyter.widget-view+json": {
       "model_id": "a2291e10e0a1455ea683bd31f30164c1",
       "version_major": 2,
       "version_minor": 0
      },
      "text/plain": [
       "sub-15_ses-mri_task-facerecognition_run-05_bold.json:   0%|          | 0.00/21.7k [00:00<?, ?B/s]"
      ]
     },
     "metadata": {},
     "output_type": "display_data"
    },
    {
     "data": {
      "application/vnd.jupyter.widget-view+json": {
       "model_id": "dd8643a9c7dc46acb107750ae160c276",
       "version_major": 2,
       "version_minor": 0
      },
      "text/plain": [
       "sub-03_ses-mri_task-facerecognition_run-05_events.tsv:   0%|          | 0.00/4.85k [00:00<?, ?B/s]"
      ]
     },
     "metadata": {},
     "output_type": "display_data"
    },
    {
     "data": {
      "application/vnd.jupyter.widget-view+json": {
       "model_id": "90bea21654b64f53908bd4d7309debee",
       "version_major": 2,
       "version_minor": 0
      },
      "text/plain": [
       "sub-04_ses-mri_task-facerecognition_run-09_bold.nii.gz:   0%|          | 0.00/34.5M [00:00<?, ?B/s]"
      ]
     },
     "metadata": {},
     "output_type": "display_data"
    },
    {
     "data": {
      "application/vnd.jupyter.widget-view+json": {
       "model_id": "a004c9f7c7934553a1321d8a9f13beb8",
       "version_major": 2,
       "version_minor": 0
      },
      "text/plain": [
       "sub-03_ses-mri_task-facerecognition_run-06_bold.json:   0%|          | 0.00/21.7k [00:00<?, ?B/s]"
      ]
     },
     "metadata": {},
     "output_type": "display_data"
    },
    {
     "data": {
      "application/vnd.jupyter.widget-view+json": {
       "model_id": "bd1f71e5d83c47a38ecf11cc60ebfb53",
       "version_major": 2,
       "version_minor": 0
      },
      "text/plain": [
       "sub-13_ses-mri_task-facerecognition_run-09_events.tsv:   0%|          | 0.00/4.78k [00:00<?, ?B/s]"
      ]
     },
     "metadata": {},
     "output_type": "display_data"
    },
    {
     "data": {
      "application/vnd.jupyter.widget-view+json": {
       "model_id": "ca1fa8ca578042ca91099eb9c8148208",
       "version_major": 2,
       "version_minor": 0
      },
      "text/plain": [
       "sub-03_ses-mri_task-facerecognition_run-06_bold.nii.gz:   0%|          | 0.00/34.8M [00:00<?, ?B/s]"
      ]
     },
     "metadata": {},
     "output_type": "display_data"
    },
    {
     "data": {
      "application/vnd.jupyter.widget-view+json": {
       "model_id": "fce2aed8e0ef448d9f400fa546516c53",
       "version_major": 2,
       "version_minor": 0
      },
      "text/plain": [
       "sub-15_ses-mri_task-facerecognition_run-05_events.tsv:   0%|          | 0.00/4.72k [00:00<?, ?B/s]"
      ]
     },
     "metadata": {},
     "output_type": "display_data"
    },
    {
     "data": {
      "application/vnd.jupyter.widget-view+json": {
       "model_id": "d7d9a5cc77484abaa3373ffc82e7d6f9",
       "version_major": 2,
       "version_minor": 0
      },
      "text/plain": [
       "sub-11_ses-mri_task-facerecognition_run-08_events.tsv:   0%|          | 0.00/4.78k [00:00<?, ?B/s]"
      ]
     },
     "metadata": {},
     "output_type": "display_data"
    },
    {
     "data": {
      "application/vnd.jupyter.widget-view+json": {
       "model_id": "859aab2cdf314f88906d14df243e3b3b",
       "version_major": 2,
       "version_minor": 0
      },
      "text/plain": [
       "sub-12_ses-mri_task-facerecognition_run-08_bold.json:   0%|          | 0.00/21.8k [00:00<?, ?B/s]"
      ]
     },
     "metadata": {},
     "output_type": "display_data"
    },
    {
     "data": {
      "application/vnd.jupyter.widget-view+json": {
       "model_id": "4c2d6aa5728342799bb0d331ff06fadf",
       "version_major": 2,
       "version_minor": 0
      },
      "text/plain": [
       "sub-15_ses-mri_task-facerecognition_run-05_bold.nii.gz:   0%|          | 0.00/35.0M [00:00<?, ?B/s]"
      ]
     },
     "metadata": {},
     "output_type": "display_data"
    },
    {
     "data": {
      "application/vnd.jupyter.widget-view+json": {
       "model_id": "ab2fc1d7c4a0443f9d649fa85f2b2c4d",
       "version_major": 2,
       "version_minor": 0
      },
      "text/plain": [
       "sub-11_ses-mri_task-facerecognition_run-09_bold.json:   0%|          | 0.00/21.6k [00:00<?, ?B/s]"
      ]
     },
     "metadata": {},
     "output_type": "display_data"
    },
    {
     "data": {
      "application/vnd.jupyter.widget-view+json": {
       "model_id": "a15ae1f4b611443b81b0b3b23e75efc8",
       "version_major": 2,
       "version_minor": 0
      },
      "text/plain": [
       "Resuming sub-11_ses-mri_run-1_echo-2_FLASH.nii.gz:   0%|          | 50.6k/12.6M [00:00<?, ?B/s]"
      ]
     },
     "metadata": {},
     "output_type": "display_data"
    },
    {
     "data": {
      "application/vnd.jupyter.widget-view+json": {
       "model_id": "eaa5f2f7aaee45229d09055858cf8c9a",
       "version_major": 2,
       "version_minor": 0
      },
      "text/plain": [
       "sub-15_ses-mri_task-facerecognition_run-06_bold.nii.gz:   0%|          | 0.00/35.0M [00:00<?, ?B/s]"
      ]
     },
     "metadata": {},
     "output_type": "display_data"
    },
    {
     "data": {
      "application/vnd.jupyter.widget-view+json": {
       "model_id": "e93233d300464a7cb1a8e1b5a452d81c",
       "version_major": 2,
       "version_minor": 0
      },
      "text/plain": [
       "sub-11_ses-mri_task-facerecognition_run-02_events.tsv:   0%|          | 0.00/4.72k [00:00<?, ?B/s]"
      ]
     },
     "metadata": {},
     "output_type": "display_data"
    },
    {
     "data": {
      "application/vnd.jupyter.widget-view+json": {
       "model_id": "c7f3cbf470704b4c8e520bdbc0a246c5",
       "version_major": 2,
       "version_minor": 0
      },
      "text/plain": [
       "sub-05_ses-mri_task-facerecognition_run-07_bold.nii.gz:   0%|          | 0.00/34.0M [00:00<?, ?B/s]"
      ]
     },
     "metadata": {},
     "output_type": "display_data"
    },
    {
     "data": {
      "application/vnd.jupyter.widget-view+json": {
       "model_id": "21fdbeb6d87b4c769e1c9494e014f6c8",
       "version_major": 2,
       "version_minor": 0
      },
      "text/plain": [
       "sub-11_ses-mri_task-facerecognition_run-04_bold.nii.gz:   0%|          | 0.00/33.5M [00:00<?, ?B/s]"
      ]
     },
     "metadata": {},
     "output_type": "display_data"
    },
    {
     "data": {
      "application/vnd.jupyter.widget-view+json": {
       "model_id": "a5d91003d85243989c93967ee063cc6e",
       "version_major": 2,
       "version_minor": 0
      },
      "text/plain": [
       "sub-13_ses-mri_run-1_echo-3_FLASH.nii.gz:   0%|          | 0.00/12.9M [00:00<?, ?B/s]"
      ]
     },
     "metadata": {},
     "output_type": "display_data"
    },
    {
     "data": {
      "application/vnd.jupyter.widget-view+json": {
       "model_id": "4c19960561a94f0c8785500d17da0833",
       "version_major": 2,
       "version_minor": 0
      },
      "text/plain": [
       "sub-13_ses-mri_dwi.nii.gz:   0%|          | 0.00/43.6M [00:00<?, ?B/s]"
      ]
     },
     "metadata": {},
     "output_type": "display_data"
    },
    {
     "data": {
      "application/vnd.jupyter.widget-view+json": {
       "model_id": "3cc92012a37a4ed9b9eed73235c4079d",
       "version_major": 2,
       "version_minor": 0
      },
      "text/plain": [
       "sub-06_ses-mri_task-facerecognition_run-06_bold.json:   0%|          | 0.00/21.6k [00:00<?, ?B/s]"
      ]
     },
     "metadata": {},
     "output_type": "display_data"
    },
    {
     "data": {
      "application/vnd.jupyter.widget-view+json": {
       "model_id": "56b99d6b4a314464b64314835101df6c",
       "version_major": 2,
       "version_minor": 0
      },
      "text/plain": [
       "sub-06_ses-mri_task-facerecognition_run-05_events.tsv:   0%|          | 0.00/4.84k [00:00<?, ?B/s]"
      ]
     },
     "metadata": {},
     "output_type": "display_data"
    },
    {
     "data": {
      "application/vnd.jupyter.widget-view+json": {
       "model_id": "a86e9b7627d5463c86627c4717324e11",
       "version_major": 2,
       "version_minor": 0
      },
      "text/plain": [
       "sub-06_ses-mri_task-facerecognition_run-06_bold.nii.gz:   0%|          | 0.00/35.3M [00:00<?, ?B/s]"
      ]
     },
     "metadata": {},
     "output_type": "display_data"
    },
    {
     "data": {
      "application/vnd.jupyter.widget-view+json": {
       "model_id": "0337196dd68145e8afbe70aaee3e53f4",
       "version_major": 2,
       "version_minor": 0
      },
      "text/plain": [
       "sub-12_ses-mri_task-facerecognition_run-09_events.tsv:   0%|          | 0.00/4.93k [00:00<?, ?B/s]"
      ]
     },
     "metadata": {},
     "output_type": "display_data"
    },
    {
     "data": {
      "application/vnd.jupyter.widget-view+json": {
       "model_id": "33b6165ec6ee47bba0a31c908fa9c387",
       "version_major": 2,
       "version_minor": 0
      },
      "text/plain": [
       "sub-12_ses-mri_task-facerecognition_run-08_events.tsv:   0%|          | 0.00/4.73k [00:00<?, ?B/s]"
      ]
     },
     "metadata": {},
     "output_type": "display_data"
    },
    {
     "data": {
      "application/vnd.jupyter.widget-view+json": {
       "model_id": "fd09cdc0901a430ba6e45550dda06dee",
       "version_major": 2,
       "version_minor": 0
      },
      "text/plain": [
       "sub-12_ses-mri_task-facerecognition_run-09_bold.nii.gz:   0%|          | 0.00/34.1M [00:00<?, ?B/s]"
      ]
     },
     "metadata": {},
     "output_type": "display_data"
    },
    {
     "data": {
      "application/vnd.jupyter.widget-view+json": {
       "model_id": "f4f6da6ba0f3454c863f63468867362b",
       "version_major": 2,
       "version_minor": 0
      },
      "text/plain": [
       "sub-06_ses-mri_task-facerecognition_run-07_bold.json:   0%|          | 0.00/21.6k [00:00<?, ?B/s]"
      ]
     },
     "metadata": {},
     "output_type": "display_data"
    },
    {
     "data": {
      "application/vnd.jupyter.widget-view+json": {
       "model_id": "fdbfe64957d747f59697c0c824035481",
       "version_major": 2,
       "version_minor": 0
      },
      "text/plain": [
       "sub-02_ses-mri_task-facerecognition_run-07_bold.json:   0%|          | 0.00/21.7k [00:00<?, ?B/s]"
      ]
     },
     "metadata": {},
     "output_type": "display_data"
    },
    {
     "data": {
      "application/vnd.jupyter.widget-view+json": {
       "model_id": "9a33dc9284db4b3ebaf31fa89a8172fd",
       "version_major": 2,
       "version_minor": 0
      },
      "text/plain": [
       "sub-02_ses-mri_task-facerecognition_run-07_bold.nii.gz:   0%|          | 0.00/35.0M [00:00<?, ?B/s]"
      ]
     },
     "metadata": {},
     "output_type": "display_data"
    },
    {
     "data": {
      "application/vnd.jupyter.widget-view+json": {
       "model_id": "5ff1b4cbd5d4425aa1f041ccb853d8f7",
       "version_major": 2,
       "version_minor": 0
      },
      "text/plain": [
       "sub-15_ses-mri_task-facerecognition_run-06_bold.json:   0%|          | 0.00/21.7k [00:00<?, ?B/s]"
      ]
     },
     "metadata": {},
     "output_type": "display_data"
    },
    {
     "data": {
      "application/vnd.jupyter.widget-view+json": {
       "model_id": "021c7d22fe9e45c385ef12b35f68841d",
       "version_major": 2,
       "version_minor": 0
      },
      "text/plain": [
       "sub-06_ses-mri_task-facerecognition_run-08_bold.nii.gz:   0%|          | 0.00/35.3M [00:00<?, ?B/s]"
      ]
     },
     "metadata": {},
     "output_type": "display_data"
    },
    {
     "data": {
      "application/vnd.jupyter.widget-view+json": {
       "model_id": "db21145f091941a59c2ff657575bc59d",
       "version_major": 2,
       "version_minor": 0
      },
      "text/plain": [
       "sub-03_ses-mri_task-facerecognition_run-07_bold.json:   0%|          | 0.00/21.7k [00:00<?, ?B/s]"
      ]
     },
     "metadata": {},
     "output_type": "display_data"
    },
    {
     "data": {
      "application/vnd.jupyter.widget-view+json": {
       "model_id": "6223b04c73104605906fd09f8a38efeb",
       "version_major": 2,
       "version_minor": 0
      },
      "text/plain": [
       "sub-15_ses-mri_task-facerecognition_run-07_bold.json:   0%|          | 0.00/21.7k [00:00<?, ?B/s]"
      ]
     },
     "metadata": {},
     "output_type": "display_data"
    },
    {
     "data": {
      "application/vnd.jupyter.widget-view+json": {
       "model_id": "74082f6ae3184624aa02c380a9140659",
       "version_major": 2,
       "version_minor": 0
      },
      "text/plain": [
       "sub-10_ses-mri_task-facerecognition_run-06_events.tsv:   0%|          | 0.00/4.67k [00:00<?, ?B/s]"
      ]
     },
     "metadata": {},
     "output_type": "display_data"
    },
    {
     "data": {
      "application/vnd.jupyter.widget-view+json": {
       "model_id": "2bdc088ef3834da39bbfe21fa835a716",
       "version_major": 2,
       "version_minor": 0
      },
      "text/plain": [
       "sub-03_ses-mri_task-facerecognition_run-06_events.tsv:   0%|          | 0.00/4.87k [00:00<?, ?B/s]"
      ]
     },
     "metadata": {},
     "output_type": "display_data"
    },
    {
     "data": {
      "application/vnd.jupyter.widget-view+json": {
       "model_id": "11ca3f8f1856444f8ce9285c1fc1b5bd",
       "version_major": 2,
       "version_minor": 0
      },
      "text/plain": [
       "sub-15_ses-mri_task-facerecognition_run-07_bold.nii.gz:   0%|          | 0.00/34.9M [00:00<?, ?B/s]"
      ]
     },
     "metadata": {},
     "output_type": "display_data"
    },
    {
     "data": {
      "application/vnd.jupyter.widget-view+json": {
       "model_id": "973a9b7ac58e43718c3b33e04c9fc357",
       "version_major": 2,
       "version_minor": 0
      },
      "text/plain": [
       "sub-03_ses-mri_task-facerecognition_run-07_events.tsv:   0%|          | 0.00/4.75k [00:00<?, ?B/s]"
      ]
     },
     "metadata": {},
     "output_type": "display_data"
    },
    {
     "data": {
      "application/vnd.jupyter.widget-view+json": {
       "model_id": "bbe2124446d54c9db176993f2789461b",
       "version_major": 2,
       "version_minor": 0
      },
      "text/plain": [
       "sub-10_ses-mri_task-facerecognition_run-07_events.tsv:   0%|          | 0.00/4.72k [00:00<?, ?B/s]"
      ]
     },
     "metadata": {},
     "output_type": "display_data"
    },
    {
     "name": "stdout",
     "output_type": "stream",
     "text": [
      "🔄 Request timed out while downloading /home/mohamed/Documents/ISN2025/Notebooks/ds000117/sub-16/ses-mri/func/stimuli/meg/f084.bmp, retrying in 0.5 sec …\n"
     ]
    },
    {
     "data": {
      "application/vnd.jupyter.widget-view+json": {
       "model_id": "85c549013e764c29b4e6e14dd855e975",
       "version_major": 2,
       "version_minor": 0
      },
      "text/plain": [
       "sub-03_ses-mri_task-facerecognition_run-07_bold.nii.gz:   0%|          | 0.00/34.8M [00:00<?, ?B/s]"
      ]
     },
     "metadata": {},
     "output_type": "display_data"
    },
    {
     "data": {
      "application/vnd.jupyter.widget-view+json": {
       "model_id": "b4e7756b199c4c28850fd7946175f9d0",
       "version_major": 2,
       "version_minor": 0
      },
      "text/plain": [
       "sub-10_ses-mri_task-facerecognition_run-08_bold.json:   0%|          | 0.00/21.7k [00:00<?, ?B/s]"
      ]
     },
     "metadata": {},
     "output_type": "display_data"
    },
    {
     "data": {
      "application/vnd.jupyter.widget-view+json": {
       "model_id": "080833a4bd2f4c0e9f458d2569051fbc",
       "version_major": 2,
       "version_minor": 0
      },
      "text/plain": [
       "sub-05_ses-mri_task-facerecognition_run-07_events.tsv:   0%|          | 0.00/4.80k [00:00<?, ?B/s]"
      ]
     },
     "metadata": {},
     "output_type": "display_data"
    },
    {
     "data": {
      "application/vnd.jupyter.widget-view+json": {
       "model_id": "bfee307e3f5b4014805d417e87a42910",
       "version_major": 2,
       "version_minor": 0
      },
      "text/plain": [
       "sub-14_ses-mri_task-facerecognition_run-05_events.tsv:   0%|          | 0.00/4.62k [00:00<?, ?B/s]"
      ]
     },
     "metadata": {},
     "output_type": "display_data"
    },
    {
     "name": "stdout",
     "output_type": "stream",
     "text": [
      "🔄 Request timed out while downloading /home/mohamed/Documents/ISN2025/Notebooks/ds000117/sub-16/ses-mri/func/stimuli/meg/f098.bmp, retrying in 0.5 sec …\n"
     ]
    },
    {
     "data": {
      "application/vnd.jupyter.widget-view+json": {
       "model_id": "fced629b11be40e1be35681635ef799c",
       "version_major": 2,
       "version_minor": 0
      },
      "text/plain": [
       "sub-14_ses-mri_task-facerecognition_run-06_bold.nii.gz:   0%|          | 0.00/33.7M [00:00<?, ?B/s]"
      ]
     },
     "metadata": {},
     "output_type": "display_data"
    },
    {
     "data": {
      "application/vnd.jupyter.widget-view+json": {
       "model_id": "82a6987601a14c5c92a2d0094995c868",
       "version_major": 2,
       "version_minor": 0
      },
      "text/plain": [
       "sub-05_ses-mri_task-facerecognition_run-08_bold.json:   0%|          | 0.00/21.6k [00:00<?, ?B/s]"
      ]
     },
     "metadata": {},
     "output_type": "display_data"
    },
    {
     "data": {
      "application/vnd.jupyter.widget-view+json": {
       "model_id": "385888792010439382b65ef5a60cbd66",
       "version_major": 2,
       "version_minor": 0
      },
      "text/plain": [
       "sub-12_ses-mri_task-facerecognition_run-09_bold.json:   0%|          | 0.00/21.8k [00:00<?, ?B/s]"
      ]
     },
     "metadata": {},
     "output_type": "display_data"
    },
    {
     "data": {
      "application/vnd.jupyter.widget-view+json": {
       "model_id": "c02074739374414bb31b23b04bce9ff5",
       "version_major": 2,
       "version_minor": 0
      },
      "text/plain": [
       "sub-05_ses-mri_task-facerecognition_run-08_events.tsv:   0%|          | 0.00/4.78k [00:00<?, ?B/s]"
      ]
     },
     "metadata": {},
     "output_type": "display_data"
    },
    {
     "data": {
      "application/vnd.jupyter.widget-view+json": {
       "model_id": "d7e7e68bef0346eebfb27d60fb21f1b2",
       "version_major": 2,
       "version_minor": 0
      },
      "text/plain": [
       "sub-10_ses-mri_task-facerecognition_run-09_events.tsv:   0%|          | 0.00/4.16k [00:00<?, ?B/s]"
      ]
     },
     "metadata": {},
     "output_type": "display_data"
    },
    {
     "data": {
      "application/vnd.jupyter.widget-view+json": {
       "model_id": "9d5fa2bbec074141a03421363a14e839",
       "version_major": 2,
       "version_minor": 0
      },
      "text/plain": [
       "sub-10_ses-mri_task-facerecognition_run-09_bold.nii.gz:   0%|          | 0.00/28.4M [00:00<?, ?B/s]"
      ]
     },
     "metadata": {},
     "output_type": "display_data"
    },
    {
     "data": {
      "application/vnd.jupyter.widget-view+json": {
       "model_id": "95be3bdebc764f238935f1530b2c2828",
       "version_major": 2,
       "version_minor": 0
      },
      "text/plain": [
       "sub-02_ses-mri_task-facerecognition_run-09_bold.json:   0%|          | 0.00/21.7k [00:00<?, ?B/s]"
      ]
     },
     "metadata": {},
     "output_type": "display_data"
    },
    {
     "data": {
      "application/vnd.jupyter.widget-view+json": {
       "model_id": "7c3c583243ef4e1fbf7614c8d39a5173",
       "version_major": 2,
       "version_minor": 0
      },
      "text/plain": [
       "sub-05_ses-mri_task-facerecognition_run-09_bold.nii.gz:   0%|          | 0.00/34.1M [00:00<?, ?B/s]"
      ]
     },
     "metadata": {},
     "output_type": "display_data"
    },
    {
     "name": "stdout",
     "output_type": "stream",
     "text": [
      "🔄 Request timed out while downloading /home/mohamed/Documents/ISN2025/Notebooks/ds000117/sub-16/ses-mri/func/stimuli/meg/f128.bmp, retrying in 0.5 sec …\n",
      "🔄 Request timed out while downloading /home/mohamed/Documents/ISN2025/Notebooks/ds000117/sub-10/ses-mri/anat/sub-10_ses-mri_run-1_echo-4_FLASH.nii.gz, retrying in 1.0 sec …\n"
     ]
    },
    {
     "data": {
      "application/vnd.jupyter.widget-view+json": {
       "model_id": "bbf46400c40c44eeb9158f4dd262b8c1",
       "version_major": 2,
       "version_minor": 0
      },
      "text/plain": [
       "sub-03_ses-mri_task-facerecognition_run-08_bold.json:   0%|          | 0.00/21.7k [00:00<?, ?B/s]"
      ]
     },
     "metadata": {},
     "output_type": "display_data"
    },
    {
     "data": {
      "application/vnd.jupyter.widget-view+json": {
       "model_id": "36aae06dac724dd4801fe6af1e43e244",
       "version_major": 2,
       "version_minor": 0
      },
      "text/plain": [
       "sub-02_ses-mri_task-facerecognition_run-08_bold.json:   0%|          | 0.00/21.7k [00:00<?, ?B/s]"
      ]
     },
     "metadata": {},
     "output_type": "display_data"
    },
    {
     "data": {
      "application/vnd.jupyter.widget-view+json": {
       "model_id": "96b7cf4a87554c3d9dc3db3079e2a349",
       "version_major": 2,
       "version_minor": 0
      },
      "text/plain": [
       "sub-09_ses-mri_task-facerecognition_run-09_events.tsv:   0%|          | 0.00/4.62k [00:00<?, ?B/s]"
      ]
     },
     "metadata": {},
     "output_type": "display_data"
    },
    {
     "data": {
      "application/vnd.jupyter.widget-view+json": {
       "model_id": "b60a69980a8e4c49b66fd97941a421c3",
       "version_major": 2,
       "version_minor": 0
      },
      "text/plain": [
       "sub-04_ses-mri_task-facerecognition_run-09_bold.json:   0%|          | 0.00/21.6k [00:00<?, ?B/s]"
      ]
     },
     "metadata": {},
     "output_type": "display_data"
    },
    {
     "data": {
      "application/vnd.jupyter.widget-view+json": {
       "model_id": "872269e53e0f4b4e9e043d059ae2ea6d",
       "version_major": 2,
       "version_minor": 0
      },
      "text/plain": [
       "sub-04_ses-mri_task-facerecognition_run-09_events.tsv:   0%|          | 0.00/4.74k [00:00<?, ?B/s]"
      ]
     },
     "metadata": {},
     "output_type": "display_data"
    },
    {
     "data": {
      "application/vnd.jupyter.widget-view+json": {
       "model_id": "07f1289bdb884541846e3c98bbc54fe6",
       "version_major": 2,
       "version_minor": 0
      },
      "text/plain": [
       "sub-02_ses-mri_task-facerecognition_run-08_bold.nii.gz:   0%|          | 0.00/35.0M [00:00<?, ?B/s]"
      ]
     },
     "metadata": {},
     "output_type": "display_data"
    },
    {
     "data": {
      "application/vnd.jupyter.widget-view+json": {
       "model_id": "c86fe1159ddb4d29b4104b9ee046ba10",
       "version_major": 2,
       "version_minor": 0
      },
      "text/plain": [
       "sub-02_ses-mri_task-facerecognition_run-08_events.tsv:   0%|          | 0.00/4.88k [00:00<?, ?B/s]"
      ]
     },
     "metadata": {},
     "output_type": "display_data"
    },
    {
     "data": {
      "application/vnd.jupyter.widget-view+json": {
       "model_id": "89bf8baddbd745309c2c339a9acad352",
       "version_major": 2,
       "version_minor": 0
      },
      "text/plain": [
       "sub-03_ses-mri_task-facerecognition_run-08_bold.nii.gz:   0%|          | 0.00/34.8M [00:00<?, ?B/s]"
      ]
     },
     "metadata": {},
     "output_type": "display_data"
    },
    {
     "data": {
      "application/vnd.jupyter.widget-view+json": {
       "model_id": "c56d9e6830da44eaa3c5d731476ab543",
       "version_major": 2,
       "version_minor": 0
      },
      "text/plain": [
       "sub-10_ses-mri_task-facerecognition_run-08_bold.nii.gz:   0%|          | 0.00/34.8M [00:00<?, ?B/s]"
      ]
     },
     "metadata": {},
     "output_type": "display_data"
    },
    {
     "data": {
      "application/vnd.jupyter.widget-view+json": {
       "model_id": "e0d52bada98b4d8a8f239a922441c646",
       "version_major": 2,
       "version_minor": 0
      },
      "text/plain": [
       "sub-09_ses-mri_task-facerecognition_run-07_events.tsv:   0%|          | 0.00/4.79k [00:00<?, ?B/s]"
      ]
     },
     "metadata": {},
     "output_type": "display_data"
    },
    {
     "data": {
      "application/vnd.jupyter.widget-view+json": {
       "model_id": "91f1cdfb9fcb451a8aaf093408a2e4b1",
       "version_major": 2,
       "version_minor": 0
      },
      "text/plain": [
       "sub-04_ses-mri_task-facerecognition_run-07_events.tsv:   0%|          | 0.00/4.76k [00:00<?, ?B/s]"
      ]
     },
     "metadata": {},
     "output_type": "display_data"
    },
    {
     "data": {
      "application/vnd.jupyter.widget-view+json": {
       "model_id": "540930719be743f089714d3c27d0f7f8",
       "version_major": 2,
       "version_minor": 0
      },
      "text/plain": [
       "sub-04_ses-mri_task-facerecognition_run-07_bold.nii.gz:   0%|          | 0.00/34.5M [00:00<?, ?B/s]"
      ]
     },
     "metadata": {},
     "output_type": "display_data"
    },
    {
     "data": {
      "application/vnd.jupyter.widget-view+json": {
       "model_id": "a7571927cb454316b9f32af282106786",
       "version_major": 2,
       "version_minor": 0
      },
      "text/plain": [
       "sub-12_ses-mri_task-facerecognition_run-08_bold.nii.gz:   0%|          | 0.00/34.0M [00:00<?, ?B/s]"
      ]
     },
     "metadata": {},
     "output_type": "display_data"
    },
    {
     "data": {
      "application/vnd.jupyter.widget-view+json": {
       "model_id": "4def0f7f3a324bd38aa11c8593b0348e",
       "version_major": 2,
       "version_minor": 0
      },
      "text/plain": [
       "sub-02_ses-mri_task-facerecognition_run-09_bold.nii.gz:   0%|          | 0.00/35.0M [00:00<?, ?B/s]"
      ]
     },
     "metadata": {},
     "output_type": "display_data"
    },
    {
     "data": {
      "application/vnd.jupyter.widget-view+json": {
       "model_id": "ceb33383f20e4a0a84197cf14e448e91",
       "version_major": 2,
       "version_minor": 0
      },
      "text/plain": [
       "sub-09_ses-mri_task-facerecognition_run-04_events.tsv:   0%|          | 0.00/4.57k [00:00<?, ?B/s]"
      ]
     },
     "metadata": {},
     "output_type": "display_data"
    },
    {
     "data": {
      "application/vnd.jupyter.widget-view+json": {
       "model_id": "d5604c561b944e66ae8864796f5ae76b",
       "version_major": 2,
       "version_minor": 0
      },
      "text/plain": [
       "sub-04_ses-mri_task-facerecognition_run-08_bold.json:   0%|          | 0.00/21.6k [00:00<?, ?B/s]"
      ]
     },
     "metadata": {},
     "output_type": "display_data"
    },
    {
     "data": {
      "application/vnd.jupyter.widget-view+json": {
       "model_id": "9e761926d38f45df850da3356fd89b6f",
       "version_major": 2,
       "version_minor": 0
      },
      "text/plain": [
       "sub-04_ses-mri_task-facerecognition_run-08_bold.nii.gz:   0%|          | 0.00/34.5M [00:00<?, ?B/s]"
      ]
     },
     "metadata": {},
     "output_type": "display_data"
    },
    {
     "data": {
      "application/vnd.jupyter.widget-view+json": {
       "model_id": "092ebe9d5c7047ba846a9f092601830f",
       "version_major": 2,
       "version_minor": 0
      },
      "text/plain": [
       "sub-04_ses-mri_task-facerecognition_run-03_events.tsv:   0%|          | 0.00/4.79k [00:00<?, ?B/s]"
      ]
     },
     "metadata": {},
     "output_type": "display_data"
    },
    {
     "data": {
      "application/vnd.jupyter.widget-view+json": {
       "model_id": "f6e3074cc8124d71bf96f08a4f6fce8a",
       "version_major": 2,
       "version_minor": 0
      },
      "text/plain": [
       "sub-04_ses-mri_task-facerecognition_run-05_events.tsv:   0%|          | 0.00/4.84k [00:00<?, ?B/s]"
      ]
     },
     "metadata": {},
     "output_type": "display_data"
    },
    {
     "data": {
      "application/vnd.jupyter.widget-view+json": {
       "model_id": "fd368dbdd1aa42a1aba4142aa173bacc",
       "version_major": 2,
       "version_minor": 0
      },
      "text/plain": [
       "sub-05_ses-mri_task-facerecognition_run-08_bold.nii.gz:   0%|          | 0.00/34.0M [00:00<?, ?B/s]"
      ]
     },
     "metadata": {},
     "output_type": "display_data"
    },
    {
     "data": {
      "application/vnd.jupyter.widget-view+json": {
       "model_id": "1ca725f2207c405b856a29eb67067ca7",
       "version_major": 2,
       "version_minor": 0
      },
      "text/plain": [
       "sub-10_ses-mri_task-facerecognition_run-08_events.tsv:   0%|          | 0.00/4.57k [00:00<?, ?B/s]"
      ]
     },
     "metadata": {},
     "output_type": "display_data"
    },
    {
     "data": {
      "application/vnd.jupyter.widget-view+json": {
       "model_id": "c414f364d23f436b94ff1264bfc1a6ce",
       "version_major": 2,
       "version_minor": 0
      },
      "text/plain": [
       "sub-10_ses-mri_task-facerecognition_run-09_bold.json:   0%|          | 0.00/18.7k [00:00<?, ?B/s]"
      ]
     },
     "metadata": {},
     "output_type": "display_data"
    },
    {
     "data": {
      "application/vnd.jupyter.widget-view+json": {
       "model_id": "1d8b55b447f7404bb712efef024551bd",
       "version_major": 2,
       "version_minor": 0
      },
      "text/plain": [
       "sub-10_ses-mri_run-1_echo-4_FLASH.nii.gz:   0%|          | 0.00/13.3M [00:00<?, ?B/s]"
      ]
     },
     "metadata": {},
     "output_type": "display_data"
    },
    {
     "data": {
      "application/vnd.jupyter.widget-view+json": {
       "model_id": "b4478711333b4867961a1b7b00b09d3c",
       "version_major": 2,
       "version_minor": 0
      },
      "text/plain": [
       "sub-05_ses-mri_task-facerecognition_run-09_bold.json:   0%|          | 0.00/21.6k [00:00<?, ?B/s]"
      ]
     },
     "metadata": {},
     "output_type": "display_data"
    },
    {
     "data": {
      "application/vnd.jupyter.widget-view+json": {
       "model_id": "b97b5699af994effabdfd7909bd09239",
       "version_major": 2,
       "version_minor": 0
      },
      "text/plain": [
       "sub-05_ses-mri_task-facerecognition_run-09_events.tsv:   0%|          | 0.00/4.84k [00:00<?, ?B/s]"
      ]
     },
     "metadata": {},
     "output_type": "display_data"
    },
    {
     "data": {
      "application/vnd.jupyter.widget-view+json": {
       "model_id": "2c85bb3031714a4880f836a9ca2bcc26",
       "version_major": 2,
       "version_minor": 0
      },
      "text/plain": [
       "sub-15_ses-mri_task-facerecognition_run-06_events.tsv:   0%|          | 0.00/4.80k [00:00<?, ?B/s]"
      ]
     },
     "metadata": {},
     "output_type": "display_data"
    },
    {
     "data": {
      "application/vnd.jupyter.widget-view+json": {
       "model_id": "b39332c6c3604d45873500c60c0f4639",
       "version_major": 2,
       "version_minor": 0
      },
      "text/plain": [
       "sub-01_ses-mri_task-facerecognition_run-09_bold.json:   0%|          | 0.00/21.6k [00:00<?, ?B/s]"
      ]
     },
     "metadata": {},
     "output_type": "display_data"
    },
    {
     "data": {
      "application/vnd.jupyter.widget-view+json": {
       "model_id": "c615cd0bbdc84e40a343833c5a573c18",
       "version_major": 2,
       "version_minor": 0
      },
      "text/plain": [
       "sub-05_ses-mri_task-facerecognition_run-07_bold.json:   0%|          | 0.00/21.6k [00:00<?, ?B/s]"
      ]
     },
     "metadata": {},
     "output_type": "display_data"
    },
    {
     "data": {
      "application/vnd.jupyter.widget-view+json": {
       "model_id": "998be4aa92c54aca8ac7b5482560091c",
       "version_major": 2,
       "version_minor": 0
      },
      "text/plain": [
       "sub-01_ses-mri_task-facerecognition_run-08_bold.nii.gz:   0%|          | 0.00/35.4M [00:00<?, ?B/s]"
      ]
     },
     "metadata": {},
     "output_type": "display_data"
    },
    {
     "data": {
      "application/vnd.jupyter.widget-view+json": {
       "model_id": "7b5a1871c15d4eeebb09ac5528276f01",
       "version_major": 2,
       "version_minor": 0
      },
      "text/plain": [
       "Resuming sub-05_ses-mri_acq-mprage_T1w.nii.gz:   2%|1         | 221k/12.7M [00:00<?, ?B/s]"
      ]
     },
     "metadata": {},
     "output_type": "display_data"
    },
    {
     "data": {
      "application/vnd.jupyter.widget-view+json": {
       "model_id": "6702fe72bb3b477588230229b856f081",
       "version_major": 2,
       "version_minor": 0
      },
      "text/plain": [
       "sub-05_ses-mri_run-1_echo-4_FLASH.nii.gz:   0%|          | 0.00/12.9M [00:00<?, ?B/s]"
      ]
     },
     "metadata": {},
     "output_type": "display_data"
    },
    {
     "data": {
      "application/vnd.jupyter.widget-view+json": {
       "model_id": "af53631a0a4e4893ad0f11b3c16fd450",
       "version_major": 2,
       "version_minor": 0
      },
      "text/plain": [
       "sub-15_ses-mri_task-facerecognition_run-08_bold.nii.gz:   0%|          | 0.00/34.9M [00:00<?, ?B/s]"
      ]
     },
     "metadata": {},
     "output_type": "display_data"
    },
    {
     "data": {
      "application/vnd.jupyter.widget-view+json": {
       "model_id": "1ae9f134ca5f4aaaa921666b6a06461c",
       "version_major": 2,
       "version_minor": 0
      },
      "text/plain": [
       "sub-03_ses-mri_task-facerecognition_run-09_bold.nii.gz:   0%|          | 0.00/34.8M [00:00<?, ?B/s]"
      ]
     },
     "metadata": {},
     "output_type": "display_data"
    },
    {
     "data": {
      "application/vnd.jupyter.widget-view+json": {
       "model_id": "99fefabe4d2446138b5d20b9e4566aca",
       "version_major": 2,
       "version_minor": 0
      },
      "text/plain": [
       "sub-03_ses-mri_task-facerecognition_run-08_events.tsv:   0%|          | 0.00/4.79k [00:00<?, ?B/s]"
      ]
     },
     "metadata": {},
     "output_type": "display_data"
    },
    {
     "data": {
      "application/vnd.jupyter.widget-view+json": {
       "model_id": "5f84da5e1ea743778bade459c7b93fb1",
       "version_major": 2,
       "version_minor": 0
      },
      "text/plain": [
       "sub-03_ses-mri_task-facerecognition_run-09_events.tsv:   0%|          | 0.00/4.78k [00:00<?, ?B/s]"
      ]
     },
     "metadata": {},
     "output_type": "display_data"
    },
    {
     "data": {
      "application/vnd.jupyter.widget-view+json": {
       "model_id": "4f1779d0dec842688445d91ba7eb04e6",
       "version_major": 2,
       "version_minor": 0
      },
      "text/plain": [
       "sub-03_ses-mri_task-facerecognition_run-09_bold.json:   0%|          | 0.00/21.7k [00:00<?, ?B/s]"
      ]
     },
     "metadata": {},
     "output_type": "display_data"
    },
    {
     "data": {
      "application/vnd.jupyter.widget-view+json": {
       "model_id": "a785cda3e515452488378e8ac0a1512a",
       "version_major": 2,
       "version_minor": 0
      },
      "text/plain": [
       "sub-13_ses-mri_task-facerecognition_run-03_bold.json:   0%|          | 0.00/21.7k [00:00<?, ?B/s]"
      ]
     },
     "metadata": {},
     "output_type": "display_data"
    },
    {
     "data": {
      "application/vnd.jupyter.widget-view+json": {
       "model_id": "59832d50374d4c4c8c4e632a3e2b8374",
       "version_major": 2,
       "version_minor": 0
      },
      "text/plain": [
       "sub-01_ses-mri_task-facerecognition_run-08_events.tsv:   0%|          | 0.00/4.71k [00:00<?, ?B/s]"
      ]
     },
     "metadata": {},
     "output_type": "display_data"
    },
    {
     "data": {
      "application/vnd.jupyter.widget-view+json": {
       "model_id": "adc396ecf73f4c3883b68b8fc1c1c366",
       "version_major": 2,
       "version_minor": 0
      },
      "text/plain": [
       "sub-13_ses-mri_task-facerecognition_run-09_bold.json:   0%|          | 0.00/21.7k [00:00<?, ?B/s]"
      ]
     },
     "metadata": {},
     "output_type": "display_data"
    },
    {
     "data": {
      "application/vnd.jupyter.widget-view+json": {
       "model_id": "818f6eafe0ef4ba7b2f0cc180021ca70",
       "version_major": 2,
       "version_minor": 0
      },
      "text/plain": [
       "sub-13_ses-mri_task-facerecognition_run-08_events.tsv:   0%|          | 0.00/4.85k [00:00<?, ?B/s]"
      ]
     },
     "metadata": {},
     "output_type": "display_data"
    },
    {
     "data": {
      "application/vnd.jupyter.widget-view+json": {
       "model_id": "c4cb29d5aa894633b3158830caa95772",
       "version_major": 2,
       "version_minor": 0
      },
      "text/plain": [
       "sub-01_ses-mri_task-facerecognition_run-09_events.tsv:   0%|          | 0.00/4.61k [00:00<?, ?B/s]"
      ]
     },
     "metadata": {},
     "output_type": "display_data"
    },
    {
     "data": {
      "application/vnd.jupyter.widget-view+json": {
       "model_id": "d660b51dccd04d6981809325de396194",
       "version_major": 2,
       "version_minor": 0
      },
      "text/plain": [
       "sub-03_ses-mri_run-1_echo-7_FLASH.nii.gz:   0%|          | 0.00/13.4M [00:00<?, ?B/s]"
      ]
     },
     "metadata": {},
     "output_type": "display_data"
    },
    {
     "data": {
      "application/vnd.jupyter.widget-view+json": {
       "model_id": "470b00721b1647cc96ca94b9a8677fd8",
       "version_major": 2,
       "version_minor": 0
      },
      "text/plain": [
       "sub-14_ses-mri_task-facerecognition_run-06_bold.json:   0%|          | 0.00/21.6k [00:00<?, ?B/s]"
      ]
     },
     "metadata": {},
     "output_type": "display_data"
    },
    {
     "data": {
      "application/vnd.jupyter.widget-view+json": {
       "model_id": "7b3f56511bf34425a98fa7d49997c386",
       "version_major": 2,
       "version_minor": 0
      },
      "text/plain": [
       "sub-14_ses-mri_task-facerecognition_run-07_bold.json:   0%|          | 0.00/21.6k [00:00<?, ?B/s]"
      ]
     },
     "metadata": {},
     "output_type": "display_data"
    },
    {
     "data": {
      "application/vnd.jupyter.widget-view+json": {
       "model_id": "5311d7a1a4ed4d42b158771d307c05f2",
       "version_major": 2,
       "version_minor": 0
      },
      "text/plain": [
       "sub-14_ses-mri_task-facerecognition_run-07_bold.nii.gz:   0%|          | 0.00/33.7M [00:00<?, ?B/s]"
      ]
     },
     "metadata": {},
     "output_type": "display_data"
    },
    {
     "data": {
      "application/vnd.jupyter.widget-view+json": {
       "model_id": "942b8938a6cd4c858243da0d75d6ed60",
       "version_major": 2,
       "version_minor": 0
      },
      "text/plain": [
       "sub-02_ses-mri_task-facerecognition_run-09_events.tsv:   0%|          | 0.00/4.71k [00:00<?, ?B/s]"
      ]
     },
     "metadata": {},
     "output_type": "display_data"
    },
    {
     "data": {
      "application/vnd.jupyter.widget-view+json": {
       "model_id": "6069fe44c8484c648728083571c39ac5",
       "version_major": 2,
       "version_minor": 0
      },
      "text/plain": [
       "sub-02_ses-mri_task-facerecognition_run-07_events.tsv:   0%|          | 0.00/4.58k [00:00<?, ?B/s]"
      ]
     },
     "metadata": {},
     "output_type": "display_data"
    },
    {
     "name": "stdout",
     "output_type": "stream",
     "text": [
      "🔄 Request timed out while downloading /home/mohamed/Documents/ISN2025/Notebooks/ds000117/sub-01/ses-mri/dwi/sub-01_ses-mri_dwi.json, retrying in 1.0 sec …\n"
     ]
    },
    {
     "data": {
      "application/vnd.jupyter.widget-view+json": {
       "model_id": "0a5f1b6c3905405e8092d563f701c310",
       "version_major": 2,
       "version_minor": 0
      },
      "text/plain": [
       "sub-12_ses-mri_run-1_echo-4_FLASH.nii.gz:   0%|          | 0.00/13.4M [00:00<?, ?B/s]"
      ]
     },
     "metadata": {},
     "output_type": "display_data"
    },
    {
     "data": {
      "application/vnd.jupyter.widget-view+json": {
       "model_id": "45e240d2c9cc4ab9ac91b0b4b5cdcad4",
       "version_major": 2,
       "version_minor": 0
      },
      "text/plain": [
       "Resuming sub-12_ses-mri_run-1_echo-2_FLASH.nii.gz:   0%|          | 50.6k/13.4M [00:00<?, ?B/s]"
      ]
     },
     "metadata": {},
     "output_type": "display_data"
    },
    {
     "data": {
      "application/vnd.jupyter.widget-view+json": {
       "model_id": "c41b2300fe6849a8b9831eb21acf4199",
       "version_major": 2,
       "version_minor": 0
      },
      "text/plain": [
       "sub-07_ses-mri_task-facerecognition_run-09_events.tsv:   0%|          | 0.00/4.66k [00:00<?, ?B/s]"
      ]
     },
     "metadata": {},
     "output_type": "display_data"
    },
    {
     "data": {
      "application/vnd.jupyter.widget-view+json": {
       "model_id": "75c1de4574504346a86d4dd32556144f",
       "version_major": 2,
       "version_minor": 0
      },
      "text/plain": [
       "sub-15_ses-mri_task-facerecognition_run-08_events.tsv:   0%|          | 0.00/4.66k [00:00<?, ?B/s]"
      ]
     },
     "metadata": {},
     "output_type": "display_data"
    },
    {
     "data": {
      "application/vnd.jupyter.widget-view+json": {
       "model_id": "432c8b818cbf42468624dfff4f5390dd",
       "version_major": 2,
       "version_minor": 0
      },
      "text/plain": [
       "sub-07_ses-mri_task-facerecognition_run-09_bold.nii.gz:   0%|          | 0.00/33.6M [00:00<?, ?B/s]"
      ]
     },
     "metadata": {},
     "output_type": "display_data"
    },
    {
     "data": {
      "application/vnd.jupyter.widget-view+json": {
       "model_id": "21299f4e99464e63a8933706062726c7",
       "version_major": 2,
       "version_minor": 0
      },
      "text/plain": [
       "sub-01_ses-mri_task-facerecognition_run-08_bold.json:   0%|          | 0.00/21.6k [00:00<?, ?B/s]"
      ]
     },
     "metadata": {},
     "output_type": "display_data"
    },
    {
     "data": {
      "application/vnd.jupyter.widget-view+json": {
       "model_id": "823040462f694e58a54148c241a02b5f",
       "version_major": 2,
       "version_minor": 0
      },
      "text/plain": [
       "sub-15_ses-mri_task-facerecognition_run-09_bold.json:   0%|          | 0.00/21.7k [00:00<?, ?B/s]"
      ]
     },
     "metadata": {},
     "output_type": "display_data"
    },
    {
     "data": {
      "application/vnd.jupyter.widget-view+json": {
       "model_id": "cdb868dae8e441d39fd5456de2631dbd",
       "version_major": 2,
       "version_minor": 0
      },
      "text/plain": [
       "sub-01_ses-mri_run-1_echo-4_FLASH.nii.gz:   0%|          | 0.00/12.7M [00:00<?, ?B/s]"
      ]
     },
     "metadata": {},
     "output_type": "display_data"
    },
    {
     "data": {
      "application/vnd.jupyter.widget-view+json": {
       "model_id": "ce5e4670f20f42a9a9417dedb136ae86",
       "version_major": 2,
       "version_minor": 0
      },
      "text/plain": [
       "Resuming sub-01_ses-mri_run-1_echo-6_FLASH.nii.gz:   0%|          | 16.6k/12.6M [00:00<?, ?B/s]"
      ]
     },
     "metadata": {},
     "output_type": "display_data"
    },
    {
     "data": {
      "application/vnd.jupyter.widget-view+json": {
       "model_id": "0b23c1bfbcc848d9bec44e2b91bea278",
       "version_major": 2,
       "version_minor": 0
      },
      "text/plain": [
       "sub-15_ses-mri_task-facerecognition_run-09_bold.nii.gz:   0%|          | 0.00/34.9M [00:00<?, ?B/s]"
      ]
     },
     "metadata": {},
     "output_type": "display_data"
    },
    {
     "data": {
      "application/vnd.jupyter.widget-view+json": {
       "model_id": "2221bf1c11ce4c8db5ac786846a049cd",
       "version_major": 2,
       "version_minor": 0
      },
      "text/plain": [
       "sub-07_ses-mri_task-facerecognition_run-08_events.tsv:   0%|          | 0.00/4.84k [00:00<?, ?B/s]"
      ]
     },
     "metadata": {},
     "output_type": "display_data"
    },
    {
     "data": {
      "application/vnd.jupyter.widget-view+json": {
       "model_id": "48f00d81457e4332b009573297d25694",
       "version_major": 2,
       "version_minor": 0
      },
      "text/plain": [
       "sub-07_ses-mri_task-facerecognition_run-09_bold.json:   0%|          | 0.00/21.7k [00:00<?, ?B/s]"
      ]
     },
     "metadata": {},
     "output_type": "display_data"
    },
    {
     "data": {
      "application/vnd.jupyter.widget-view+json": {
       "model_id": "8a64cb7e9cd44fa58a8a99366e136edf",
       "version_major": 2,
       "version_minor": 0
      },
      "text/plain": [
       "sub-07_ses-mri_task-facerecognition_run-07_bold.json:   0%|          | 0.00/21.7k [00:00<?, ?B/s]"
      ]
     },
     "metadata": {},
     "output_type": "display_data"
    },
    {
     "data": {
      "application/vnd.jupyter.widget-view+json": {
       "model_id": "65687c5e71264b4c978f229b15dff935",
       "version_major": 2,
       "version_minor": 0
      },
      "text/plain": [
       "sub-06_ses-mri_task-facerecognition_run-08_events.tsv:   0%|          | 0.00/4.62k [00:00<?, ?B/s]"
      ]
     },
     "metadata": {},
     "output_type": "display_data"
    },
    {
     "data": {
      "application/vnd.jupyter.widget-view+json": {
       "model_id": "b3030d4772854e58886198ee27c4984a",
       "version_major": 2,
       "version_minor": 0
      },
      "text/plain": [
       "sub-06_ses-mri_task-facerecognition_run-09_bold.json:   0%|          | 0.00/21.6k [00:00<?, ?B/s]"
      ]
     },
     "metadata": {},
     "output_type": "display_data"
    },
    {
     "data": {
      "application/vnd.jupyter.widget-view+json": {
       "model_id": "672e99159f2b40c1b2ab66b5f2e3c794",
       "version_major": 2,
       "version_minor": 0
      },
      "text/plain": [
       "sub-12_ses-mri_task-facerecognition_run-03_bold.nii.gz:   0%|          | 0.00/34.0M [00:00<?, ?B/s]"
      ]
     },
     "metadata": {},
     "output_type": "display_data"
    },
    {
     "data": {
      "application/vnd.jupyter.widget-view+json": {
       "model_id": "5424eb0dc0d741c2a8fd02a5a45a72e4",
       "version_major": 2,
       "version_minor": 0
      },
      "text/plain": [
       "sub-12_ses-mri_run-2_echo-1_FLASH.nii.gz:   0%|          | 0.00/13.7M [00:00<?, ?B/s]"
      ]
     },
     "metadata": {},
     "output_type": "display_data"
    },
    {
     "data": {
      "application/vnd.jupyter.widget-view+json": {
       "model_id": "6436fa8c8a244fcbb1e01a92dd2cecae",
       "version_major": 2,
       "version_minor": 0
      },
      "text/plain": [
       "sub-06_ses-mri_task-facerecognition_run-09_events.tsv:   0%|          | 0.00/4.56k [00:00<?, ?B/s]"
      ]
     },
     "metadata": {},
     "output_type": "display_data"
    },
    {
     "data": {
      "application/vnd.jupyter.widget-view+json": {
       "model_id": "1fd1ca7d7d2d4d1aae3376c8d429f1f0",
       "version_major": 2,
       "version_minor": 0
      },
      "text/plain": [
       "sub-06_ses-mri_task-facerecognition_run-09_bold.nii.gz:   0%|          | 0.00/35.3M [00:00<?, ?B/s]"
      ]
     },
     "metadata": {},
     "output_type": "display_data"
    },
    {
     "data": {
      "application/vnd.jupyter.widget-view+json": {
       "model_id": "dd62d05bec7c417888da9834b0f47d7d",
       "version_major": 2,
       "version_minor": 0
      },
      "text/plain": [
       "sub-01_ses-mri_run-2_echo-1_FLASH.nii.gz:   0%|          | 0.00/13.0M [00:00<?, ?B/s]"
      ]
     },
     "metadata": {},
     "output_type": "display_data"
    },
    {
     "data": {
      "application/vnd.jupyter.widget-view+json": {
       "model_id": "b145a432a0394ec99e397978d14f34ae",
       "version_major": 2,
       "version_minor": 0
      },
      "text/plain": [
       "sub-01_ses-mri_dwi.bvec:   0%|          | 0.00/3.28k [00:00<?, ?B/s]"
      ]
     },
     "metadata": {},
     "output_type": "display_data"
    },
    {
     "data": {
      "application/vnd.jupyter.widget-view+json": {
       "model_id": "f62e4342e3f44513b2c7a9da256b1991",
       "version_major": 2,
       "version_minor": 0
      },
      "text/plain": [
       "sub-14_ses-mri_task-facerecognition_run-06_events.tsv:   0%|          | 0.00/4.66k [00:00<?, ?B/s]"
      ]
     },
     "metadata": {},
     "output_type": "display_data"
    },
    {
     "data": {
      "application/vnd.jupyter.widget-view+json": {
       "model_id": "b417ae0e747d4b5b8604769888bf4c02",
       "version_major": 2,
       "version_minor": 0
      },
      "text/plain": [
       "sub-01_ses-mri_task-facerecognition_run-06_events.tsv:   0%|          | 0.00/4.74k [00:00<?, ?B/s]"
      ]
     },
     "metadata": {},
     "output_type": "display_data"
    },
    {
     "data": {
      "application/vnd.jupyter.widget-view+json": {
       "model_id": "c656cc50bc47437a8a6247f1a43151e2",
       "version_major": 2,
       "version_minor": 0
      },
      "text/plain": [
       "sub-01_ses-mri_task-facerecognition_run-02_bold.nii.gz:   0%|          | 0.00/35.3M [00:00<?, ?B/s]"
      ]
     },
     "metadata": {},
     "output_type": "display_data"
    },
    {
     "data": {
      "application/vnd.jupyter.widget-view+json": {
       "model_id": "8fd6c642faca46beac79b164b756b5bf",
       "version_major": 2,
       "version_minor": 0
      },
      "text/plain": [
       "sub-01_ses-mri_dwi.json:   0%|          | 0.00/616 [00:00<?, ?B/s]"
      ]
     },
     "metadata": {},
     "output_type": "display_data"
    },
    {
     "data": {
      "application/vnd.jupyter.widget-view+json": {
       "model_id": "5ddc10821d5148d3bea0327f7e9c9ed0",
       "version_major": 2,
       "version_minor": 0
      },
      "text/plain": [
       "sub-06_ses-mri_task-facerecognition_run-06_events.tsv:   0%|          | 0.00/4.79k [00:00<?, ?B/s]"
      ]
     },
     "metadata": {},
     "output_type": "display_data"
    },
    {
     "data": {
      "application/vnd.jupyter.widget-view+json": {
       "model_id": "74205cad859e421c85d2e9ca92e9eac2",
       "version_major": 2,
       "version_minor": 0
      },
      "text/plain": [
       "sub-14_ses-mri_task-facerecognition_run-07_events.tsv:   0%|          | 0.00/4.66k [00:00<?, ?B/s]"
      ]
     },
     "metadata": {},
     "output_type": "display_data"
    },
    {
     "data": {
      "application/vnd.jupyter.widget-view+json": {
       "model_id": "1d94168a84334dac998e30168d93608a",
       "version_major": 2,
       "version_minor": 0
      },
      "text/plain": [
       "sub-06_ses-mri_task-facerecognition_run-07_events.tsv:   0%|          | 0.00/4.67k [00:00<?, ?B/s]"
      ]
     },
     "metadata": {},
     "output_type": "display_data"
    },
    {
     "data": {
      "application/vnd.jupyter.widget-view+json": {
       "model_id": "5ccd410019c648ba8fd890f7d15653d2",
       "version_major": 2,
       "version_minor": 0
      },
      "text/plain": [
       "sub-06_ses-mri_task-facerecognition_run-07_bold.nii.gz:   0%|          | 0.00/35.3M [00:00<?, ?B/s]"
      ]
     },
     "metadata": {},
     "output_type": "display_data"
    },
    {
     "data": {
      "application/vnd.jupyter.widget-view+json": {
       "model_id": "431162091bca4eb5a3e7c0745b1b2809",
       "version_major": 2,
       "version_minor": 0
      },
      "text/plain": [
       "sub-14_ses-mri_task-facerecognition_run-08_bold.nii.gz:   0%|          | 0.00/33.7M [00:00<?, ?B/s]"
      ]
     },
     "metadata": {},
     "output_type": "display_data"
    },
    {
     "data": {
      "application/vnd.jupyter.widget-view+json": {
       "model_id": "83da39219d6a4b5693707fe3b57a98a8",
       "version_major": 2,
       "version_minor": 0
      },
      "text/plain": [
       "sub-06_ses-mri_task-facerecognition_run-08_bold.json:   0%|          | 0.00/21.6k [00:00<?, ?B/s]"
      ]
     },
     "metadata": {},
     "output_type": "display_data"
    },
    {
     "data": {
      "application/vnd.jupyter.widget-view+json": {
       "model_id": "91cbd94f6ec04937a339cbef43457140",
       "version_major": 2,
       "version_minor": 0
      },
      "text/plain": [
       "sub-06_ses-mri_run-1_echo-2_FLASH.nii.gz:   0%|          | 0.00/14.1M [00:00<?, ?B/s]"
      ]
     },
     "metadata": {},
     "output_type": "display_data"
    },
    {
     "data": {
      "application/vnd.jupyter.widget-view+json": {
       "model_id": "91a5411cc48643a2826fccd5dc3ec991",
       "version_major": 2,
       "version_minor": 0
      },
      "text/plain": [
       "sub-06_ses-mri_magnitude2.nii:   0%|          | 0.00/264k [00:00<?, ?B/s]"
      ]
     },
     "metadata": {},
     "output_type": "display_data"
    },
    {
     "data": {
      "application/vnd.jupyter.widget-view+json": {
       "model_id": "edc65f6952b546a6a2c7976278dbbcd5",
       "version_major": 2,
       "version_minor": 0
      },
      "text/plain": [
       "sub-03_ses-mri_magnitude1.json:   0%|          | 0.00/3.07k [00:00<?, ?B/s]"
      ]
     },
     "metadata": {},
     "output_type": "display_data"
    },
    {
     "data": {
      "application/vnd.jupyter.widget-view+json": {
       "model_id": "8de2aa4e57684d12bd115fa18c0e6622",
       "version_major": 2,
       "version_minor": 0
      },
      "text/plain": [
       "sub-03_ses-mri_run-1_echo-4_FLASH.nii.gz:   0%|          | 0.00/13.6M [00:00<?, ?B/s]"
      ]
     },
     "metadata": {},
     "output_type": "display_data"
    },
    {
     "name": "stdout",
     "output_type": "stream",
     "text": [
      "🔄 Request timed out while downloading /home/mohamed/Documents/ISN2025/Notebooks/ds000117/sub-16/ses-mri/func/sub-01/ses-meg/meg/sub-01_ses-meg_task-facerecognition_run-02_events.tsv, retrying in 0.5 sec …\n"
     ]
    },
    {
     "data": {
      "application/vnd.jupyter.widget-view+json": {
       "model_id": "79a013636e6a4c86825d3f7dd8f81171",
       "version_major": 2,
       "version_minor": 0
      },
      "text/plain": [
       "sub-14_ses-mri_task-facerecognition_run-08_bold.json:   0%|          | 0.00/21.6k [00:00<?, ?B/s]"
      ]
     },
     "metadata": {},
     "output_type": "display_data"
    },
    {
     "data": {
      "application/vnd.jupyter.widget-view+json": {
       "model_id": "9ddac51ef8814302b28a8e982ea14886",
       "version_major": 2,
       "version_minor": 0
      },
      "text/plain": [
       "sub-14_ses-mri_task-facerecognition_run-08_events.tsv:   0%|          | 0.00/4.61k [00:00<?, ?B/s]"
      ]
     },
     "metadata": {},
     "output_type": "display_data"
    },
    {
     "data": {
      "application/vnd.jupyter.widget-view+json": {
       "model_id": "b8fab5c920d14aea8a86fb0ae9fbf887",
       "version_major": 2,
       "version_minor": 0
      },
      "text/plain": [
       "sub-14_ses-mri_task-facerecognition_run-09_bold.json:   0%|          | 0.00/21.6k [00:00<?, ?B/s]"
      ]
     },
     "metadata": {},
     "output_type": "display_data"
    },
    {
     "data": {
      "application/vnd.jupyter.widget-view+json": {
       "model_id": "38899b9fd61c447a8fa75d74fc47d6c0",
       "version_major": 2,
       "version_minor": 0
      },
      "text/plain": [
       "sub-15_ses-mri_task-facerecognition_run-09_events.tsv:   0%|          | 0.00/4.56k [00:00<?, ?B/s]"
      ]
     },
     "metadata": {},
     "output_type": "display_data"
    },
    {
     "data": {
      "application/vnd.jupyter.widget-view+json": {
       "model_id": "43bbd94920d84391b41fde22118b98a7",
       "version_major": 2,
       "version_minor": 0
      },
      "text/plain": [
       "sub-14_ses-mri_task-facerecognition_run-09_bold.nii.gz:   0%|          | 0.00/33.8M [00:00<?, ?B/s]"
      ]
     },
     "metadata": {},
     "output_type": "display_data"
    },
    {
     "data": {
      "application/vnd.jupyter.widget-view+json": {
       "model_id": "f4e808b90479483ba237bbfdd713662d",
       "version_major": 2,
       "version_minor": 0
      },
      "text/plain": [
       "sub-15_ses-mri_task-facerecognition_run-07_events.tsv:   0%|          | 0.00/4.66k [00:00<?, ?B/s]"
      ]
     },
     "metadata": {},
     "output_type": "display_data"
    },
    {
     "data": {
      "application/vnd.jupyter.widget-view+json": {
       "model_id": "4afb0594b33747c9bccdacc934eeef09",
       "version_major": 2,
       "version_minor": 0
      },
      "text/plain": [
       "sub-15_ses-mri_task-facerecognition_run-08_bold.json:   0%|          | 0.00/21.8k [00:00<?, ?B/s]"
      ]
     },
     "metadata": {},
     "output_type": "display_data"
    },
    {
     "data": {
      "application/vnd.jupyter.widget-view+json": {
       "model_id": "274163222312469c8acb720f2541e275",
       "version_major": 2,
       "version_minor": 0
      },
      "text/plain": [
       "sub-15_ses-mri_acq-mprage_T1w.nii.gz:   0%|          | 0.00/12.9M [00:00<?, ?B/s]"
      ]
     },
     "metadata": {},
     "output_type": "display_data"
    },
    {
     "data": {
      "application/vnd.jupyter.widget-view+json": {
       "model_id": "9308789eedec45a183ad7f023c6623ad",
       "version_major": 2,
       "version_minor": 0
      },
      "text/plain": [
       "sub-14_ses-mri_task-facerecognition_run-09_events.tsv:   0%|          | 0.00/4.67k [00:00<?, ?B/s]"
      ]
     },
     "metadata": {},
     "output_type": "display_data"
    },
    {
     "data": {
      "application/vnd.jupyter.widget-view+json": {
       "model_id": "4d1d309476194538b91492c222763a22",
       "version_major": 2,
       "version_minor": 0
      },
      "text/plain": [
       "sub-15_ses-mri_magnitude1.json:   0%|          | 0.00/3.08k [00:00<?, ?B/s]"
      ]
     },
     "metadata": {},
     "output_type": "display_data"
    },
    {
     "data": {
      "application/vnd.jupyter.widget-view+json": {
       "model_id": "40e531aeb1244e9f8fd4604d1f73bd70",
       "version_major": 2,
       "version_minor": 0
      },
      "text/plain": [
       "Resuming sub-14_ses-mri_acq-mprage_T1w.json:   0%|          | 0.00/42.1k [00:00<?, ?B/s]"
      ]
     },
     "metadata": {},
     "output_type": "display_data"
    },
    {
     "data": {
      "application/vnd.jupyter.widget-view+json": {
       "model_id": "ab63a3fe00e1400790ad25dbd3ff8cf0",
       "version_major": 2,
       "version_minor": 0
      },
      "text/plain": [
       "sub-14_ses-mri_magnitude2.nii:   0%|          | 0.00/264k [00:00<?, ?B/s]"
      ]
     },
     "metadata": {},
     "output_type": "display_data"
    },
    {
     "name": "stdout",
     "output_type": "stream",
     "text": [
      "🔄 Request timed out while downloading /home/mohamed/Documents/ISN2025/Notebooks/ds000117/sub-16/ses-mri/func/sub-05/ses-meg/meg/sub-05_ses-meg_task-facerecognition_run-01_meg.fif, retrying in 0.5 sec …\n",
      "🔄 Request timed out while downloading /home/mohamed/Documents/ISN2025/Notebooks/ds000117/sub-15/ses-mri/func/sub-15_ses-mri_task-facerecognition_run-05_bold.nii.gz, retrying in 0.5 sec …\n"
     ]
    },
    {
     "data": {
      "application/vnd.jupyter.widget-view+json": {
       "model_id": "5c180fed1a3749dcba8ddd444ab7007b",
       "version_major": 2,
       "version_minor": 0
      },
      "text/plain": [
       "Resuming sub-15_ses-mri_task-facerecognition_run-05_bold.nii.gz:  99%|#########9| 34.7M/35.0M [00:00<?, ?B/s]"
      ]
     },
     "metadata": {},
     "output_type": "display_data"
    },
    {
     "name": "stdout",
     "output_type": "stream",
     "text": [
      "🔄 Request timed out while downloading /home/mohamed/Documents/ISN2025/Notebooks/ds000117/sub-16/ses-mri/func/sub-09/ses-mri/anat/sub-09_ses-mri_run-1_echo-1_FLASH.nii.gz, retrying in 0.5 sec …\n",
      "🔄 Request timed out while downloading /home/mohamed/Documents/ISN2025/Notebooks/ds000117/sub-16/ses-mri/func/sub-09/ses-mri/anat/sub-09_ses-mri_run-1_echo-2_FLASH.nii.gz, retrying in 0.5 sec …\n",
      "🔄 Request timed out while downloading /home/mohamed/Documents/ISN2025/Notebooks/ds000117/sub-16/ses-mri/func/sub-09/ses-mri/anat/sub-09_ses-mri_run-1_echo-3_FLASH.nii.gz, retrying in 0.5 sec …\n",
      "🔄 Request timed out while downloading /home/mohamed/Documents/ISN2025/Notebooks/ds000117/sub-16/ses-mri/func/sub-11/ses-mri/func/sub-11_ses-mri_task-facerecognition_run-07_events.tsv, retrying in 0.5 sec …\n"
     ]
    }
   ],
   "source": [
    "import os, shutil, glob\n",
    "\n",
    "# if want to call from the command line instead\n",
    "#!openneuro-py download --dataset=ds000117 --include=sub-01/ses-mri, etc\n",
    "\n",
    "download_flag = True # set to True if want to download, because will take a while, eg if you re-run notebook by mistake \n",
    "\n",
    "if download_flag:\n",
    "    import openneuro as on\n",
    "    # could download func, fmap and each file in anat separately, without downloading dwi/FLASH, \n",
    "    # but will take longer to read remote repository each time, so quicker to download all for each subject and delete unwanted stuff later \n",
    "    \n",
    "    for sub in range(1,17):  \n",
    "        on.download(dataset=\"ds000117\", include=f\"sub-{sub:02d}/ses-mri\") # could add target-dir='data', but inserts ds000117 directory anyway?\n",
    "    \n",
    "    # If want to save diskspace by removing stuff not used below\n",
    "    for sub in range(1,17):      \n",
    "        pth = os.path.join(wd, \"ds000117\", f\"sub-{sub:02d}\", \"ses-mri\")\n",
    "        for rfile in glob.glob(os.path.join(pth, \"anat\", \"*FLASH*\")):\n",
    "            print(f\"Removing {rfile}\")\n",
    "            os.remove(rfile)\n",
    "        # if want to remove DWI data as well, though not very big\n",
    "        dwi_pth = os.path.join(pth, \"dwi\")\n",
    "        if os.path.isdir(dwi_pth):\n",
    "           shutil.rmtree(dwi_pth)"
   ]
  },
  {
   "cell_type": "code",
   "execution_count": null,
   "id": "c6f9148b-7194-4938-b7dc-03d22a430b17",
   "metadata": {},
   "outputs": [],
   "source": []
  }
 ],
 "metadata": {
  "kernelspec": {
   "display_name": "Python 3 (ipykernel)",
   "language": "python",
   "name": "python3"
  },
  "language_info": {
   "codemirror_mode": {
    "name": "ipython",
    "version": 3
   },
   "file_extension": ".py",
   "mimetype": "text/x-python",
   "name": "python",
   "nbconvert_exporter": "python",
   "pygments_lexer": "ipython3",
   "version": "3.11.10"
  }
 },
 "nbformat": 4,
 "nbformat_minor": 5
}
